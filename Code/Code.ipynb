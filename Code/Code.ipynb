{
 "cells": [
  {
   "cell_type": "code",
   "execution_count": 1,
   "id": "56692011",
   "metadata": {},
   "outputs": [],
   "source": [
    "import pandas as pd\n",
    "import matplotlib.pyplot as plt\n",
    "import seaborn as sns"
   ]
  },
  {
   "cell_type": "code",
   "execution_count": 2,
   "id": "81d27ee4",
   "metadata": {},
   "outputs": [],
   "source": [
    "filePath = '/Data/'"
   ]
  },
  {
   "cell_type": "code",
   "execution_count": 3,
   "id": "73838bef",
   "metadata": {},
   "outputs": [],
   "source": [
    "energy_data = pd.read_csv(f'{filePath}owid-energy-data.csv')"
   ]
  },
  {
   "cell_type": "code",
   "execution_count": 4,
   "id": "e8820113",
   "metadata": {},
   "outputs": [],
   "source": [
    "renewables_share = pd.read_csv(f'{filePath}Renewable_energy_share_of_electricity_capacity_and_generation(%).csv', encoding='latin1', skiprows=2)"
   ]
  },
  {
   "cell_type": "code",
   "execution_count": 5,
   "id": "cd5536f6",
   "metadata": {},
   "outputs": [],
   "source": [
    "renewables_consumption = pd.read_csv(f'{filePath}Renewable_energy_consumption.csv', skiprows=3)"
   ]
  },
  {
   "cell_type": "code",
   "execution_count": 6,
   "id": "0babd2bd",
   "metadata": {},
   "outputs": [
    {
     "name": "stdout",
     "output_type": "stream",
     "text": [
      "         country  year iso_code  population  gdp  biofuel_cons_change_pct  \\\n",
      "0  ASEAN (Ember)  2000      NaN         NaN  NaN                      NaN   \n",
      "1  ASEAN (Ember)  2001      NaN         NaN  NaN                      NaN   \n",
      "2  ASEAN (Ember)  2002      NaN         NaN  NaN                      NaN   \n",
      "3  ASEAN (Ember)  2003      NaN         NaN  NaN                      NaN   \n",
      "4  ASEAN (Ember)  2004      NaN         NaN  NaN                      NaN   \n",
      "\n",
      "   biofuel_cons_change_twh  biofuel_cons_per_capita  biofuel_consumption  \\\n",
      "0                      NaN                      NaN                  NaN   \n",
      "1                      NaN                      NaN                  NaN   \n",
      "2                      NaN                      NaN                  NaN   \n",
      "3                      NaN                      NaN                  NaN   \n",
      "4                      NaN                      NaN                  NaN   \n",
      "\n",
      "   biofuel_elec_per_capita  ...  solar_share_elec  solar_share_energy  \\\n",
      "0                      NaN  ...               0.0                 NaN   \n",
      "1                      NaN  ...               0.0                 NaN   \n",
      "2                      NaN  ...               0.0                 NaN   \n",
      "3                      NaN  ...               0.0                 NaN   \n",
      "4                      NaN  ...               0.0                 NaN   \n",
      "\n",
      "   wind_cons_change_pct  wind_cons_change_twh  wind_consumption  \\\n",
      "0                   NaN                   NaN               NaN   \n",
      "1                   NaN                   NaN               NaN   \n",
      "2                   NaN                   NaN               NaN   \n",
      "3                   NaN                   NaN               NaN   \n",
      "4                   NaN                   NaN               NaN   \n",
      "\n",
      "   wind_elec_per_capita  wind_electricity  wind_energy_per_capita  \\\n",
      "0                   NaN               0.0                     NaN   \n",
      "1                   NaN               0.0                     NaN   \n",
      "2                   NaN               0.0                     NaN   \n",
      "3                   NaN               0.0                     NaN   \n",
      "4                   NaN               0.0                     NaN   \n",
      "\n",
      "   wind_share_elec  wind_share_energy  \n",
      "0              0.0                NaN  \n",
      "1              0.0                NaN  \n",
      "2              0.0                NaN  \n",
      "3              0.0                NaN  \n",
      "4              0.0                NaN  \n",
      "\n",
      "[5 rows x 129 columns]\n"
     ]
    }
   ],
   "source": [
    "print(energy_data.head())"
   ]
  },
  {
   "cell_type": "code",
   "execution_count": 7,
   "id": "7a4455f7",
   "metadata": {},
   "outputs": [
    {
     "name": "stdout",
     "output_type": "stream",
     "text": [
      "                 Region/country/area  \\\n",
      "0                              World   \n",
      "1                             Africa   \n",
      "2                               Asia   \n",
      "3  Central America and the Caribbean   \n",
      "4                            Eurasia   \n",
      "\n",
      "  RE share of electricity generation (%) 2000  \\\n",
      "0                                       18.31   \n",
      "1                                       19.06   \n",
      "2                                       13.65   \n",
      "3                                       22.35   \n",
      "4                                       18.92   \n",
      "\n",
      "  RE share of electricity generation (%) 2001  \\\n",
      "0                                       17.82   \n",
      "1                                       19.50   \n",
      "2                                       14.38   \n",
      "3                                       20.10   \n",
      "4                                       18.96   \n",
      "\n",
      "  RE share of electricity generation (%) 2002  \\\n",
      "0                                       17.76   \n",
      "1                                       17.97   \n",
      "2                                       13.75   \n",
      "3                                       20.42   \n",
      "4                                       18.86   \n",
      "\n",
      "  RE share of electricity generation (%) 2003  \\\n",
      "0                                       17.29   \n",
      "1                                       17.30   \n",
      "2                                       13.21   \n",
      "3                                       20.66   \n",
      "4                                       17.96   \n",
      "\n",
      "  RE share of electricity generation (%) 2004  \\\n",
      "0                                       17.73   \n",
      "1                                       16.31   \n",
      "2                                       13.74   \n",
      "3                                       23.00   \n",
      "4                                       20.21   \n",
      "\n",
      "  RE share of electricity generation (%) 2005  \\\n",
      "0                                       17.89   \n",
      "1                                       17.60   \n",
      "2                                       13.65   \n",
      "3                                       23.18   \n",
      "4                                       18.81   \n",
      "\n",
      "  RE share of electricity generation (%) 2006  \\\n",
      "0                                       18.04   \n",
      "1                                       17.58   \n",
      "2                                       13.93   \n",
      "3                                       22.57   \n",
      "4                                       18.26   \n",
      "\n",
      "  RE share of electricity generation (%) 2007  \\\n",
      "0                                       17.82   \n",
      "1                                       16.80   \n",
      "2                                       13.68   \n",
      "3                                       22.39   \n",
      "4                                       17.57   \n",
      "\n",
      "  RE share of electricity generation (%) 2008  ...  \\\n",
      "0                                       18.54  ...   \n",
      "1                                       17.21  ...   \n",
      "2                                       15.06  ...   \n",
      "3                                       23.62  ...   \n",
      "4                                       16.03  ...   \n",
      "\n",
      "  RE share of electricity capacity (%) 2014  \\\n",
      "0                                     28.19   \n",
      "1                                     19.35   \n",
      "2                                     25.75   \n",
      "3                                     27.60   \n",
      "4                                     24.56   \n",
      "\n",
      "  RE share of electricity capacity (%) 2015  \\\n",
      "0                                     29.53   \n",
      "1                                     19.84   \n",
      "2                                     27.16   \n",
      "3                                     30.50   \n",
      "4                                     25.99   \n",
      "\n",
      "  RE share of electricity capacity (%) 2016  \\\n",
      "0                                     30.76   \n",
      "1                                     19.84   \n",
      "2                                     28.61   \n",
      "3                                     32.57   \n",
      "4                                     25.52   \n",
      "\n",
      "  RE share of electricity capacity (%) 2017  \\\n",
      "0                                     32.06   \n",
      "1                                     20.89   \n",
      "2                                     30.35   \n",
      "3                                     34.11   \n",
      "4                                     26.19   \n",
      "\n",
      "  RE share of electricity capacity (%) 2018  \\\n",
      "0                                     33.13   \n",
      "1                                     21.34   \n",
      "2                                     31.66   \n",
      "3                                     34.92   \n",
      "4                                     26.98   \n",
      "\n",
      "  RE share of electricity capacity (%) 2019  \\\n",
      "0                                     34.59   \n",
      "1                                     21.60   \n",
      "2                                     33.05   \n",
      "3                                     35.56   \n",
      "4                                     27.46   \n",
      "\n",
      "  RE share of electricity capacity (%) 2020  \\\n",
      "0                                     36.59   \n",
      "1                                     22.32   \n",
      "2                                     35.67   \n",
      "3                                     35.71   \n",
      "4                                     28.72   \n",
      "\n",
      "  RE share of electricity capacity (%) 2021  \\\n",
      "0                                     38.36   \n",
      "1                                     22.63   \n",
      "2                                     37.66   \n",
      "3                                     37.17   \n",
      "4                                     29.66   \n",
      "\n",
      "  RE share of electricity capacity (%) 2022  \\\n",
      "0                                     40.26   \n",
      "1                                     23.62   \n",
      "2                                     39.67   \n",
      "3                                     38.09   \n",
      "4                                     30.12   \n",
      "\n",
      "  RE share of electricity capacity (%) 2023  \n",
      "0                                     43.04  \n",
      "1                                     24.25  \n",
      "2                                     43.41  \n",
      "3                                     38.59  \n",
      "4                                     30.79  \n",
      "\n",
      "[5 rows x 49 columns]\n"
     ]
    }
   ],
   "source": [
    "print(renewables_share.head())"
   ]
  },
  {
   "cell_type": "code",
   "execution_count": 8,
   "id": "18b13c5a",
   "metadata": {},
   "outputs": [
    {
     "name": "stdout",
     "output_type": "stream",
     "text": [
      "                  Country Name Country Code  \\\n",
      "0                        Aruba          ABW   \n",
      "1  Africa Eastern and Southern          AFE   \n",
      "2                  Afghanistan          AFG   \n",
      "3   Africa Western and Central          AFW   \n",
      "4                       Angola          AGO   \n",
      "\n",
      "                                      Indicator Name  Indicator Code  1960  \\\n",
      "0  Renewable energy consumption (% of total final...  EG.FEC.RNEW.ZS   NaN   \n",
      "1  Renewable energy consumption (% of total final...  EG.FEC.RNEW.ZS   NaN   \n",
      "2  Renewable energy consumption (% of total final...  EG.FEC.RNEW.ZS   NaN   \n",
      "3  Renewable energy consumption (% of total final...  EG.FEC.RNEW.ZS   NaN   \n",
      "4  Renewable energy consumption (% of total final...  EG.FEC.RNEW.ZS   NaN   \n",
      "\n",
      "   1961  1962  1963  1964  1965  ...       2015       2016       2017  \\\n",
      "0   NaN   NaN   NaN   NaN   NaN  ...   6.700000   7.000000   6.800000   \n",
      "1   NaN   NaN   NaN   NaN   NaN  ...  62.128338  62.457688  61.891132   \n",
      "2   NaN   NaN   NaN   NaN   NaN  ...  17.700000  20.200000  19.500000   \n",
      "3   NaN   NaN   NaN   NaN   NaN  ...  76.689160  76.283383  76.413081   \n",
      "4   NaN   NaN   NaN   NaN   NaN  ...  47.100000  48.100000  52.500000   \n",
      "\n",
      "        2018       2019       2020  2021  2022  2023  Unnamed: 68  \n",
      "0   8.600000   8.300000   9.100000   8.8   8.8   NaN          NaN  \n",
      "1  62.242631  63.387090  66.123449   NaN   NaN   NaN          NaN  \n",
      "2  18.300000  18.900000  18.200000  20.0  20.0   NaN          NaN  \n",
      "3  75.960030  75.328928  76.102819   NaN   NaN   NaN          NaN  \n",
      "4  52.500000  51.000000  60.100000  52.9   NaN   NaN          NaN  \n",
      "\n",
      "[5 rows x 69 columns]\n"
     ]
    }
   ],
   "source": [
    "print(renewables_consumption.head())"
   ]
  },
  {
   "cell_type": "code",
   "execution_count": 9,
   "id": "c4c7b72c",
   "metadata": {},
   "outputs": [
    {
     "name": "stdout",
     "output_type": "stream",
     "text": [
      "                 Region/country/area  Value  \\\n",
      "0                              World  18.31   \n",
      "1                             Africa  19.06   \n",
      "2                               Asia  13.65   \n",
      "3  Central America and the Caribbean  22.35   \n",
      "4                            Eurasia  18.92   \n",
      "\n",
      "                               Metric  Year  \n",
      "0  RE share of electricity generation  2000  \n",
      "1  RE share of electricity generation  2000  \n",
      "2  RE share of electricity generation  2000  \n",
      "3  RE share of electricity generation  2000  \n",
      "4  RE share of electricity generation  2000  \n"
     ]
    }
   ],
   "source": [
    "# Step 1: Melt the DataFrame to convert it to a long format\n",
    "renewables_share_long = renewables_share.melt(id_vars=[\"Region/country/area\"], var_name=\"Metric_Year\", value_name=\"Value\")\n",
    "\n",
    "# Step 2: Debug and adjust the year extraction\n",
    "# Print unique Metric_Year to check format\n",
    "#print(renewables_share_long[\"Metric_Year\"].unique())\n",
    "\n",
    "# Adjust the extraction patterns\n",
    "renewables_share_long[\"Metric\"] = renewables_share_long[\"Metric_Year\"].str.extract(r\"(RE share of electricity .*) \\(\")\n",
    "renewables_share_long[\"Year\"] = renewables_share_long[\"Metric_Year\"].str.extract(r\"(\\d{4})\")  # Adjusted for standalone year\n",
    "\n",
    "# Step 3: Drop the original Metric_Year column\n",
    "renewables_share_long = renewables_share_long.drop(columns=[\"Metric_Year\"])\n",
    "\n",
    "# Step 4: Convert 'Value' to numeric and clean data\n",
    "renewables_share_long[\"Value\"] = pd.to_numeric(renewables_share_long[\"Value\"], errors=\"coerce\")\n",
    "\n",
    "# Display the final DataFrame\n",
    "print(renewables_share_long.head())"
   ]
  },
  {
   "cell_type": "code",
   "execution_count": 10,
   "id": "ef778e4e",
   "metadata": {},
   "outputs": [],
   "source": [
    "renewables_consumption_long = renewables_consumption.melt(id_vars=['Country Name','Country Code','Indicator Name','Indicator Code'], var_name='Year')"
   ]
  },
  {
   "cell_type": "code",
   "execution_count": 11,
   "id": "213bf053",
   "metadata": {},
   "outputs": [
    {
     "name": "stdout",
     "output_type": "stream",
     "text": [
      "                      Country Name Country Code  \\\n",
      "0                            Aruba          ABW   \n",
      "1      Africa Eastern and Southern          AFE   \n",
      "2                      Afghanistan          AFG   \n",
      "3       Africa Western and Central          AFW   \n",
      "4                           Angola          AGO   \n",
      "5                          Albania          ALB   \n",
      "6                          Andorra          AND   \n",
      "7                       Arab World          ARB   \n",
      "8             United Arab Emirates          ARE   \n",
      "9                        Argentina          ARG   \n",
      "10                         Armenia          ARM   \n",
      "11                  American Samoa          ASM   \n",
      "12             Antigua and Barbuda          ATG   \n",
      "13                       Australia          AUS   \n",
      "14                         Austria          AUT   \n",
      "15                      Azerbaijan          AZE   \n",
      "16                         Burundi          BDI   \n",
      "17                         Belgium          BEL   \n",
      "18                           Benin          BEN   \n",
      "19                    Burkina Faso          BFA   \n",
      "20                      Bangladesh          BGD   \n",
      "21                        Bulgaria          BGR   \n",
      "22                         Bahrain          BHR   \n",
      "23                    Bahamas, The          BHS   \n",
      "24          Bosnia and Herzegovina          BIH   \n",
      "25                         Belarus          BLR   \n",
      "26                          Belize          BLZ   \n",
      "27                         Bermuda          BMU   \n",
      "28                         Bolivia          BOL   \n",
      "29                          Brazil          BRA   \n",
      "30                        Barbados          BRB   \n",
      "31               Brunei Darussalam          BRN   \n",
      "32                          Bhutan          BTN   \n",
      "33                        Botswana          BWA   \n",
      "34        Central African Republic          CAF   \n",
      "35                          Canada          CAN   \n",
      "36  Central Europe and the Baltics          CEB   \n",
      "37                     Switzerland          CHE   \n",
      "38                 Channel Islands          CHI   \n",
      "39                           Chile          CHL   \n",
      "40                           China          CHN   \n",
      "41                   Cote d'Ivoire          CIV   \n",
      "42                        Cameroon          CMR   \n",
      "43                Congo, Dem. Rep.          COD   \n",
      "44                     Congo, Rep.          COG   \n",
      "45                        Colombia          COL   \n",
      "46                         Comoros          COM   \n",
      "47                      Cabo Verde          CPV   \n",
      "48                      Costa Rica          CRI   \n",
      "49          Caribbean small states          CSS   \n",
      "\n",
      "                                       Indicator Name  Indicator Code  Year  \\\n",
      "0   Renewable energy consumption (% of total final...  EG.FEC.RNEW.ZS  1960   \n",
      "1   Renewable energy consumption (% of total final...  EG.FEC.RNEW.ZS  1960   \n",
      "2   Renewable energy consumption (% of total final...  EG.FEC.RNEW.ZS  1960   \n",
      "3   Renewable energy consumption (% of total final...  EG.FEC.RNEW.ZS  1960   \n",
      "4   Renewable energy consumption (% of total final...  EG.FEC.RNEW.ZS  1960   \n",
      "5   Renewable energy consumption (% of total final...  EG.FEC.RNEW.ZS  1960   \n",
      "6   Renewable energy consumption (% of total final...  EG.FEC.RNEW.ZS  1960   \n",
      "7   Renewable energy consumption (% of total final...  EG.FEC.RNEW.ZS  1960   \n",
      "8   Renewable energy consumption (% of total final...  EG.FEC.RNEW.ZS  1960   \n",
      "9   Renewable energy consumption (% of total final...  EG.FEC.RNEW.ZS  1960   \n",
      "10  Renewable energy consumption (% of total final...  EG.FEC.RNEW.ZS  1960   \n",
      "11  Renewable energy consumption (% of total final...  EG.FEC.RNEW.ZS  1960   \n",
      "12  Renewable energy consumption (% of total final...  EG.FEC.RNEW.ZS  1960   \n",
      "13  Renewable energy consumption (% of total final...  EG.FEC.RNEW.ZS  1960   \n",
      "14  Renewable energy consumption (% of total final...  EG.FEC.RNEW.ZS  1960   \n",
      "15  Renewable energy consumption (% of total final...  EG.FEC.RNEW.ZS  1960   \n",
      "16  Renewable energy consumption (% of total final...  EG.FEC.RNEW.ZS  1960   \n",
      "17  Renewable energy consumption (% of total final...  EG.FEC.RNEW.ZS  1960   \n",
      "18  Renewable energy consumption (% of total final...  EG.FEC.RNEW.ZS  1960   \n",
      "19  Renewable energy consumption (% of total final...  EG.FEC.RNEW.ZS  1960   \n",
      "20  Renewable energy consumption (% of total final...  EG.FEC.RNEW.ZS  1960   \n",
      "21  Renewable energy consumption (% of total final...  EG.FEC.RNEW.ZS  1960   \n",
      "22  Renewable energy consumption (% of total final...  EG.FEC.RNEW.ZS  1960   \n",
      "23  Renewable energy consumption (% of total final...  EG.FEC.RNEW.ZS  1960   \n",
      "24  Renewable energy consumption (% of total final...  EG.FEC.RNEW.ZS  1960   \n",
      "25  Renewable energy consumption (% of total final...  EG.FEC.RNEW.ZS  1960   \n",
      "26  Renewable energy consumption (% of total final...  EG.FEC.RNEW.ZS  1960   \n",
      "27  Renewable energy consumption (% of total final...  EG.FEC.RNEW.ZS  1960   \n",
      "28  Renewable energy consumption (% of total final...  EG.FEC.RNEW.ZS  1960   \n",
      "29  Renewable energy consumption (% of total final...  EG.FEC.RNEW.ZS  1960   \n",
      "30  Renewable energy consumption (% of total final...  EG.FEC.RNEW.ZS  1960   \n",
      "31  Renewable energy consumption (% of total final...  EG.FEC.RNEW.ZS  1960   \n",
      "32  Renewable energy consumption (% of total final...  EG.FEC.RNEW.ZS  1960   \n",
      "33  Renewable energy consumption (% of total final...  EG.FEC.RNEW.ZS  1960   \n",
      "34  Renewable energy consumption (% of total final...  EG.FEC.RNEW.ZS  1960   \n",
      "35  Renewable energy consumption (% of total final...  EG.FEC.RNEW.ZS  1960   \n",
      "36  Renewable energy consumption (% of total final...  EG.FEC.RNEW.ZS  1960   \n",
      "37  Renewable energy consumption (% of total final...  EG.FEC.RNEW.ZS  1960   \n",
      "38  Renewable energy consumption (% of total final...  EG.FEC.RNEW.ZS  1960   \n",
      "39  Renewable energy consumption (% of total final...  EG.FEC.RNEW.ZS  1960   \n",
      "40  Renewable energy consumption (% of total final...  EG.FEC.RNEW.ZS  1960   \n",
      "41  Renewable energy consumption (% of total final...  EG.FEC.RNEW.ZS  1960   \n",
      "42  Renewable energy consumption (% of total final...  EG.FEC.RNEW.ZS  1960   \n",
      "43  Renewable energy consumption (% of total final...  EG.FEC.RNEW.ZS  1960   \n",
      "44  Renewable energy consumption (% of total final...  EG.FEC.RNEW.ZS  1960   \n",
      "45  Renewable energy consumption (% of total final...  EG.FEC.RNEW.ZS  1960   \n",
      "46  Renewable energy consumption (% of total final...  EG.FEC.RNEW.ZS  1960   \n",
      "47  Renewable energy consumption (% of total final...  EG.FEC.RNEW.ZS  1960   \n",
      "48  Renewable energy consumption (% of total final...  EG.FEC.RNEW.ZS  1960   \n",
      "49  Renewable energy consumption (% of total final...  EG.FEC.RNEW.ZS  1960   \n",
      "\n",
      "    value  \n",
      "0     NaN  \n",
      "1     NaN  \n",
      "2     NaN  \n",
      "3     NaN  \n",
      "4     NaN  \n",
      "5     NaN  \n",
      "6     NaN  \n",
      "7     NaN  \n",
      "8     NaN  \n",
      "9     NaN  \n",
      "10    NaN  \n",
      "11    NaN  \n",
      "12    NaN  \n",
      "13    NaN  \n",
      "14    NaN  \n",
      "15    NaN  \n",
      "16    NaN  \n",
      "17    NaN  \n",
      "18    NaN  \n",
      "19    NaN  \n",
      "20    NaN  \n",
      "21    NaN  \n",
      "22    NaN  \n",
      "23    NaN  \n",
      "24    NaN  \n",
      "25    NaN  \n",
      "26    NaN  \n",
      "27    NaN  \n",
      "28    NaN  \n",
      "29    NaN  \n",
      "30    NaN  \n",
      "31    NaN  \n",
      "32    NaN  \n",
      "33    NaN  \n",
      "34    NaN  \n",
      "35    NaN  \n",
      "36    NaN  \n",
      "37    NaN  \n",
      "38    NaN  \n",
      "39    NaN  \n",
      "40    NaN  \n",
      "41    NaN  \n",
      "42    NaN  \n",
      "43    NaN  \n",
      "44    NaN  \n",
      "45    NaN  \n",
      "46    NaN  \n",
      "47    NaN  \n",
      "48    NaN  \n",
      "49    NaN  \n"
     ]
    }
   ],
   "source": [
    "print(renewables_consumption_long.head(50))"
   ]
  },
  {
   "cell_type": "code",
   "execution_count": null,
   "id": "1e1132fc",
   "metadata": {},
   "outputs": [],
   "source": []
  },
  {
   "cell_type": "code",
   "execution_count": 12,
   "id": "f82495ec",
   "metadata": {},
   "outputs": [],
   "source": [
    "renewables_consumption_long=renewables_consumption_long.dropna()"
   ]
  },
  {
   "cell_type": "code",
   "execution_count": 13,
   "id": "3fbedfef",
   "metadata": {},
   "outputs": [],
   "source": [
    "renewables_share_long = renewables_share_long.dropna()"
   ]
  },
  {
   "cell_type": "code",
   "execution_count": 14,
   "id": "5dd0e2a5",
   "metadata": {},
   "outputs": [],
   "source": [
    "energy_data = energy_data.dropna()"
   ]
  },
  {
   "cell_type": "code",
   "execution_count": 15,
   "id": "aa2e71eb",
   "metadata": {},
   "outputs": [
    {
     "data": {
      "text/html": [
       "<div>\n",
       "<style scoped>\n",
       "    .dataframe tbody tr th:only-of-type {\n",
       "        vertical-align: middle;\n",
       "    }\n",
       "\n",
       "    .dataframe tbody tr th {\n",
       "        vertical-align: top;\n",
       "    }\n",
       "\n",
       "    .dataframe thead th {\n",
       "        text-align: right;\n",
       "    }\n",
       "</style>\n",
       "<table border=\"1\" class=\"dataframe\">\n",
       "  <thead>\n",
       "    <tr style=\"text-align: right;\">\n",
       "      <th></th>\n",
       "      <th>Region/country/area</th>\n",
       "      <th>Value</th>\n",
       "      <th>Metric</th>\n",
       "      <th>Year</th>\n",
       "    </tr>\n",
       "  </thead>\n",
       "  <tbody>\n",
       "    <tr>\n",
       "      <th>0</th>\n",
       "      <td>World</td>\n",
       "      <td>18.31</td>\n",
       "      <td>RE share of electricity generation</td>\n",
       "      <td>2000</td>\n",
       "    </tr>\n",
       "    <tr>\n",
       "      <th>1</th>\n",
       "      <td>Africa</td>\n",
       "      <td>19.06</td>\n",
       "      <td>RE share of electricity generation</td>\n",
       "      <td>2000</td>\n",
       "    </tr>\n",
       "    <tr>\n",
       "      <th>2</th>\n",
       "      <td>Asia</td>\n",
       "      <td>13.65</td>\n",
       "      <td>RE share of electricity generation</td>\n",
       "      <td>2000</td>\n",
       "    </tr>\n",
       "    <tr>\n",
       "      <th>3</th>\n",
       "      <td>Central America and the Caribbean</td>\n",
       "      <td>22.35</td>\n",
       "      <td>RE share of electricity generation</td>\n",
       "      <td>2000</td>\n",
       "    </tr>\n",
       "    <tr>\n",
       "      <th>4</th>\n",
       "      <td>Eurasia</td>\n",
       "      <td>18.92</td>\n",
       "      <td>RE share of electricity generation</td>\n",
       "      <td>2000</td>\n",
       "    </tr>\n",
       "  </tbody>\n",
       "</table>\n",
       "</div>"
      ],
      "text/plain": [
       "                 Region/country/area  Value  \\\n",
       "0                              World  18.31   \n",
       "1                             Africa  19.06   \n",
       "2                               Asia  13.65   \n",
       "3  Central America and the Caribbean  22.35   \n",
       "4                            Eurasia  18.92   \n",
       "\n",
       "                               Metric  Year  \n",
       "0  RE share of electricity generation  2000  \n",
       "1  RE share of electricity generation  2000  \n",
       "2  RE share of electricity generation  2000  \n",
       "3  RE share of electricity generation  2000  \n",
       "4  RE share of electricity generation  2000  "
      ]
     },
     "execution_count": 15,
     "metadata": {},
     "output_type": "execute_result"
    }
   ],
   "source": [
    "renewables_share_long.head()"
   ]
  },
  {
   "cell_type": "code",
   "execution_count": 16,
   "id": "6098ff71",
   "metadata": {},
   "outputs": [
    {
     "data": {
      "text/html": [
       "<div>\n",
       "<style scoped>\n",
       "    .dataframe tbody tr th:only-of-type {\n",
       "        vertical-align: middle;\n",
       "    }\n",
       "\n",
       "    .dataframe tbody tr th {\n",
       "        vertical-align: top;\n",
       "    }\n",
       "\n",
       "    .dataframe thead th {\n",
       "        text-align: right;\n",
       "    }\n",
       "</style>\n",
       "<table border=\"1\" class=\"dataframe\">\n",
       "  <thead>\n",
       "    <tr style=\"text-align: right;\">\n",
       "      <th></th>\n",
       "      <th>Country Name</th>\n",
       "      <th>Country Code</th>\n",
       "      <th>Indicator Name</th>\n",
       "      <th>Indicator Code</th>\n",
       "      <th>Year</th>\n",
       "      <th>value</th>\n",
       "    </tr>\n",
       "  </thead>\n",
       "  <tbody>\n",
       "    <tr>\n",
       "      <th>7980</th>\n",
       "      <td>Aruba</td>\n",
       "      <td>ABW</td>\n",
       "      <td>Renewable energy consumption (% of total final...</td>\n",
       "      <td>EG.FEC.RNEW.ZS</td>\n",
       "      <td>1990</td>\n",
       "      <td>0.300000</td>\n",
       "    </tr>\n",
       "    <tr>\n",
       "      <th>7981</th>\n",
       "      <td>Africa Eastern and Southern</td>\n",
       "      <td>AFE</td>\n",
       "      <td>Renewable energy consumption (% of total final...</td>\n",
       "      <td>EG.FEC.RNEW.ZS</td>\n",
       "      <td>1990</td>\n",
       "      <td>60.910003</td>\n",
       "    </tr>\n",
       "    <tr>\n",
       "      <th>7982</th>\n",
       "      <td>Afghanistan</td>\n",
       "      <td>AFG</td>\n",
       "      <td>Renewable energy consumption (% of total final...</td>\n",
       "      <td>EG.FEC.RNEW.ZS</td>\n",
       "      <td>1990</td>\n",
       "      <td>23.000000</td>\n",
       "    </tr>\n",
       "    <tr>\n",
       "      <th>7983</th>\n",
       "      <td>Africa Western and Central</td>\n",
       "      <td>AFW</td>\n",
       "      <td>Renewable energy consumption (% of total final...</td>\n",
       "      <td>EG.FEC.RNEW.ZS</td>\n",
       "      <td>1990</td>\n",
       "      <td>85.928514</td>\n",
       "    </tr>\n",
       "    <tr>\n",
       "      <th>7984</th>\n",
       "      <td>Angola</td>\n",
       "      <td>AGO</td>\n",
       "      <td>Renewable energy consumption (% of total final...</td>\n",
       "      <td>EG.FEC.RNEW.ZS</td>\n",
       "      <td>1990</td>\n",
       "      <td>72.300000</td>\n",
       "    </tr>\n",
       "  </tbody>\n",
       "</table>\n",
       "</div>"
      ],
      "text/plain": [
       "                     Country Name Country Code  \\\n",
       "7980                        Aruba          ABW   \n",
       "7981  Africa Eastern and Southern          AFE   \n",
       "7982                  Afghanistan          AFG   \n",
       "7983   Africa Western and Central          AFW   \n",
       "7984                       Angola          AGO   \n",
       "\n",
       "                                         Indicator Name  Indicator Code  Year  \\\n",
       "7980  Renewable energy consumption (% of total final...  EG.FEC.RNEW.ZS  1990   \n",
       "7981  Renewable energy consumption (% of total final...  EG.FEC.RNEW.ZS  1990   \n",
       "7982  Renewable energy consumption (% of total final...  EG.FEC.RNEW.ZS  1990   \n",
       "7983  Renewable energy consumption (% of total final...  EG.FEC.RNEW.ZS  1990   \n",
       "7984  Renewable energy consumption (% of total final...  EG.FEC.RNEW.ZS  1990   \n",
       "\n",
       "          value  \n",
       "7980   0.300000  \n",
       "7981  60.910003  \n",
       "7982  23.000000  \n",
       "7983  85.928514  \n",
       "7984  72.300000  "
      ]
     },
     "execution_count": 16,
     "metadata": {},
     "output_type": "execute_result"
    }
   ],
   "source": [
    "renewables_consumption_long.head()"
   ]
  },
  {
   "cell_type": "code",
   "execution_count": 17,
   "id": "3a4bf7e7",
   "metadata": {},
   "outputs": [
    {
     "data": {
      "text/html": [
       "<div>\n",
       "<style scoped>\n",
       "    .dataframe tbody tr th:only-of-type {\n",
       "        vertical-align: middle;\n",
       "    }\n",
       "\n",
       "    .dataframe tbody tr th {\n",
       "        vertical-align: top;\n",
       "    }\n",
       "\n",
       "    .dataframe thead th {\n",
       "        text-align: right;\n",
       "    }\n",
       "</style>\n",
       "<table border=\"1\" class=\"dataframe\">\n",
       "  <thead>\n",
       "    <tr style=\"text-align: right;\">\n",
       "      <th></th>\n",
       "      <th>country</th>\n",
       "      <th>year</th>\n",
       "      <th>iso_code</th>\n",
       "      <th>population</th>\n",
       "      <th>gdp</th>\n",
       "      <th>biofuel_cons_change_pct</th>\n",
       "      <th>biofuel_cons_change_twh</th>\n",
       "      <th>biofuel_cons_per_capita</th>\n",
       "      <th>biofuel_consumption</th>\n",
       "      <th>biofuel_elec_per_capita</th>\n",
       "      <th>...</th>\n",
       "      <th>solar_share_elec</th>\n",
       "      <th>solar_share_energy</th>\n",
       "      <th>wind_cons_change_pct</th>\n",
       "      <th>wind_cons_change_twh</th>\n",
       "      <th>wind_consumption</th>\n",
       "      <th>wind_elec_per_capita</th>\n",
       "      <th>wind_electricity</th>\n",
       "      <th>wind_energy_per_capita</th>\n",
       "      <th>wind_share_elec</th>\n",
       "      <th>wind_share_energy</th>\n",
       "    </tr>\n",
       "  </thead>\n",
       "  <tbody>\n",
       "    <tr>\n",
       "      <th>3337</th>\n",
       "      <td>Bulgaria</td>\n",
       "      <td>2009</td>\n",
       "      <td>BGR</td>\n",
       "      <td>7634737.0</td>\n",
       "      <td>1.073651e+11</td>\n",
       "      <td>200.106</td>\n",
       "      <td>0.041</td>\n",
       "      <td>8.078</td>\n",
       "      <td>0.062</td>\n",
       "      <td>1.310</td>\n",
       "      <td>...</td>\n",
       "      <td>0.000</td>\n",
       "      <td>0.005</td>\n",
       "      <td>94.656</td>\n",
       "      <td>0.320</td>\n",
       "      <td>0.662</td>\n",
       "      <td>31.435</td>\n",
       "      <td>0.24</td>\n",
       "      <td>86.696</td>\n",
       "      <td>0.567</td>\n",
       "      <td>0.327</td>\n",
       "    </tr>\n",
       "    <tr>\n",
       "      <th>3338</th>\n",
       "      <td>Bulgaria</td>\n",
       "      <td>2010</td>\n",
       "      <td>BGR</td>\n",
       "      <td>7592271.0</td>\n",
       "      <td>1.090452e+11</td>\n",
       "      <td>199.971</td>\n",
       "      <td>0.123</td>\n",
       "      <td>24.367</td>\n",
       "      <td>0.185</td>\n",
       "      <td>5.269</td>\n",
       "      <td>...</td>\n",
       "      <td>0.022</td>\n",
       "      <td>0.020</td>\n",
       "      <td>187.487</td>\n",
       "      <td>1.229</td>\n",
       "      <td>1.891</td>\n",
       "      <td>89.565</td>\n",
       "      <td>0.68</td>\n",
       "      <td>249.095</td>\n",
       "      <td>1.481</td>\n",
       "      <td>0.894</td>\n",
       "    </tr>\n",
       "    <tr>\n",
       "      <th>3339</th>\n",
       "      <td>Bulgaria</td>\n",
       "      <td>2011</td>\n",
       "      <td>BGR</td>\n",
       "      <td>7543128.0</td>\n",
       "      <td>1.094354e+11</td>\n",
       "      <td>5.558</td>\n",
       "      <td>0.010</td>\n",
       "      <td>25.889</td>\n",
       "      <td>0.195</td>\n",
       "      <td>7.954</td>\n",
       "      <td>...</td>\n",
       "      <td>0.200</td>\n",
       "      <td>0.124</td>\n",
       "      <td>26.377</td>\n",
       "      <td>0.484</td>\n",
       "      <td>2.375</td>\n",
       "      <td>114.011</td>\n",
       "      <td>0.86</td>\n",
       "      <td>314.918</td>\n",
       "      <td>1.721</td>\n",
       "      <td>1.058</td>\n",
       "    </tr>\n",
       "    <tr>\n",
       "      <th>3340</th>\n",
       "      <td>Bulgaria</td>\n",
       "      <td>2012</td>\n",
       "      <td>BGR</td>\n",
       "      <td>7488347.0</td>\n",
       "      <td>1.102615e+11</td>\n",
       "      <td>399.988</td>\n",
       "      <td>0.781</td>\n",
       "      <td>130.387</td>\n",
       "      <td>0.976</td>\n",
       "      <td>9.348</td>\n",
       "      <td>...</td>\n",
       "      <td>1.679</td>\n",
       "      <td>1.000</td>\n",
       "      <td>41.784</td>\n",
       "      <td>0.972</td>\n",
       "      <td>3.348</td>\n",
       "      <td>162.920</td>\n",
       "      <td>1.22</td>\n",
       "      <td>447.044</td>\n",
       "      <td>2.626</td>\n",
       "      <td>1.569</td>\n",
       "    </tr>\n",
       "    <tr>\n",
       "      <th>3341</th>\n",
       "      <td>Bulgaria</td>\n",
       "      <td>2013</td>\n",
       "      <td>BGR</td>\n",
       "      <td>7431169.0</td>\n",
       "      <td>1.096435e+11</td>\n",
       "      <td>29.912</td>\n",
       "      <td>0.292</td>\n",
       "      <td>170.692</td>\n",
       "      <td>1.268</td>\n",
       "      <td>14.803</td>\n",
       "      <td>...</td>\n",
       "      <td>3.231</td>\n",
       "      <td>1.915</td>\n",
       "      <td>12.500</td>\n",
       "      <td>0.396</td>\n",
       "      <td>3.743</td>\n",
       "      <td>184.359</td>\n",
       "      <td>1.37</td>\n",
       "      <td>503.742</td>\n",
       "      <td>3.185</td>\n",
       "      <td>1.890</td>\n",
       "    </tr>\n",
       "  </tbody>\n",
       "</table>\n",
       "<p>5 rows × 129 columns</p>\n",
       "</div>"
      ],
      "text/plain": [
       "       country  year iso_code  population           gdp  \\\n",
       "3337  Bulgaria  2009      BGR   7634737.0  1.073651e+11   \n",
       "3338  Bulgaria  2010      BGR   7592271.0  1.090452e+11   \n",
       "3339  Bulgaria  2011      BGR   7543128.0  1.094354e+11   \n",
       "3340  Bulgaria  2012      BGR   7488347.0  1.102615e+11   \n",
       "3341  Bulgaria  2013      BGR   7431169.0  1.096435e+11   \n",
       "\n",
       "      biofuel_cons_change_pct  biofuel_cons_change_twh  \\\n",
       "3337                  200.106                    0.041   \n",
       "3338                  199.971                    0.123   \n",
       "3339                    5.558                    0.010   \n",
       "3340                  399.988                    0.781   \n",
       "3341                   29.912                    0.292   \n",
       "\n",
       "      biofuel_cons_per_capita  biofuel_consumption  biofuel_elec_per_capita  \\\n",
       "3337                    8.078                0.062                    1.310   \n",
       "3338                   24.367                0.185                    5.269   \n",
       "3339                   25.889                0.195                    7.954   \n",
       "3340                  130.387                0.976                    9.348   \n",
       "3341                  170.692                1.268                   14.803   \n",
       "\n",
       "      ...  solar_share_elec  solar_share_energy  wind_cons_change_pct  \\\n",
       "3337  ...             0.000               0.005                94.656   \n",
       "3338  ...             0.022               0.020               187.487   \n",
       "3339  ...             0.200               0.124                26.377   \n",
       "3340  ...             1.679               1.000                41.784   \n",
       "3341  ...             3.231               1.915                12.500   \n",
       "\n",
       "      wind_cons_change_twh  wind_consumption  wind_elec_per_capita  \\\n",
       "3337                 0.320             0.662                31.435   \n",
       "3338                 1.229             1.891                89.565   \n",
       "3339                 0.484             2.375               114.011   \n",
       "3340                 0.972             3.348               162.920   \n",
       "3341                 0.396             3.743               184.359   \n",
       "\n",
       "      wind_electricity  wind_energy_per_capita  wind_share_elec  \\\n",
       "3337              0.24                  86.696            0.567   \n",
       "3338              0.68                 249.095            1.481   \n",
       "3339              0.86                 314.918            1.721   \n",
       "3340              1.22                 447.044            2.626   \n",
       "3341              1.37                 503.742            3.185   \n",
       "\n",
       "      wind_share_energy  \n",
       "3337              0.327  \n",
       "3338              0.894  \n",
       "3339              1.058  \n",
       "3340              1.569  \n",
       "3341              1.890  \n",
       "\n",
       "[5 rows x 129 columns]"
      ]
     },
     "execution_count": 17,
     "metadata": {},
     "output_type": "execute_result"
    }
   ],
   "source": [
    "energy_data.head()"
   ]
  },
  {
   "cell_type": "code",
   "execution_count": null,
   "id": "13fce553",
   "metadata": {},
   "outputs": [],
   "source": []
  },
  {
   "cell_type": "code",
   "execution_count": 18,
   "id": "0863101a",
   "metadata": {},
   "outputs": [],
   "source": [
    "renewables_share_long.rename(columns={'Region/country/area': 'country', 'Year': 'year'}, inplace=True)"
   ]
  },
  {
   "cell_type": "code",
   "execution_count": 19,
   "id": "2cd5c841",
   "metadata": {},
   "outputs": [
    {
     "data": {
      "text/html": [
       "<div>\n",
       "<style scoped>\n",
       "    .dataframe tbody tr th:only-of-type {\n",
       "        vertical-align: middle;\n",
       "    }\n",
       "\n",
       "    .dataframe tbody tr th {\n",
       "        vertical-align: top;\n",
       "    }\n",
       "\n",
       "    .dataframe thead th {\n",
       "        text-align: right;\n",
       "    }\n",
       "</style>\n",
       "<table border=\"1\" class=\"dataframe\">\n",
       "  <thead>\n",
       "    <tr style=\"text-align: right;\">\n",
       "      <th></th>\n",
       "      <th>country</th>\n",
       "      <th>Value</th>\n",
       "      <th>Metric</th>\n",
       "      <th>year</th>\n",
       "    </tr>\n",
       "  </thead>\n",
       "  <tbody>\n",
       "    <tr>\n",
       "      <th>0</th>\n",
       "      <td>World</td>\n",
       "      <td>18.31</td>\n",
       "      <td>RE share of electricity generation</td>\n",
       "      <td>2000</td>\n",
       "    </tr>\n",
       "    <tr>\n",
       "      <th>1</th>\n",
       "      <td>Africa</td>\n",
       "      <td>19.06</td>\n",
       "      <td>RE share of electricity generation</td>\n",
       "      <td>2000</td>\n",
       "    </tr>\n",
       "    <tr>\n",
       "      <th>2</th>\n",
       "      <td>Asia</td>\n",
       "      <td>13.65</td>\n",
       "      <td>RE share of electricity generation</td>\n",
       "      <td>2000</td>\n",
       "    </tr>\n",
       "    <tr>\n",
       "      <th>3</th>\n",
       "      <td>Central America and the Caribbean</td>\n",
       "      <td>22.35</td>\n",
       "      <td>RE share of electricity generation</td>\n",
       "      <td>2000</td>\n",
       "    </tr>\n",
       "    <tr>\n",
       "      <th>4</th>\n",
       "      <td>Eurasia</td>\n",
       "      <td>18.92</td>\n",
       "      <td>RE share of electricity generation</td>\n",
       "      <td>2000</td>\n",
       "    </tr>\n",
       "  </tbody>\n",
       "</table>\n",
       "</div>"
      ],
      "text/plain": [
       "                             country  Value  \\\n",
       "0                              World  18.31   \n",
       "1                             Africa  19.06   \n",
       "2                               Asia  13.65   \n",
       "3  Central America and the Caribbean  22.35   \n",
       "4                            Eurasia  18.92   \n",
       "\n",
       "                               Metric  year  \n",
       "0  RE share of electricity generation  2000  \n",
       "1  RE share of electricity generation  2000  \n",
       "2  RE share of electricity generation  2000  \n",
       "3  RE share of electricity generation  2000  \n",
       "4  RE share of electricity generation  2000  "
      ]
     },
     "execution_count": 19,
     "metadata": {},
     "output_type": "execute_result"
    }
   ],
   "source": [
    "renewables_share_long.head()"
   ]
  },
  {
   "cell_type": "code",
   "execution_count": 20,
   "id": "e35c255c",
   "metadata": {},
   "outputs": [
    {
     "name": "stdout",
     "output_type": "stream",
     "text": [
      "country     object\n",
      "Value      float64\n",
      "Metric      object\n",
      "year        object\n",
      "dtype: object\n"
     ]
    }
   ],
   "source": [
    "print(renewables_share_long.dtypes)"
   ]
  },
  {
   "cell_type": "code",
   "execution_count": 21,
   "id": "33e86955",
   "metadata": {},
   "outputs": [
    {
     "name": "stdout",
     "output_type": "stream",
     "text": [
      "country                    object\n",
      "year                        int64\n",
      "iso_code                   object\n",
      "population                float64\n",
      "gdp                       float64\n",
      "                           ...   \n",
      "wind_elec_per_capita      float64\n",
      "wind_electricity          float64\n",
      "wind_energy_per_capita    float64\n",
      "wind_share_elec           float64\n",
      "wind_share_energy         float64\n",
      "Length: 129, dtype: object\n"
     ]
    }
   ],
   "source": [
    "print(energy_data.dtypes)"
   ]
  },
  {
   "cell_type": "code",
   "execution_count": 22,
   "id": "a8389d60",
   "metadata": {},
   "outputs": [],
   "source": [
    "# we have to convert year column of renewables_share_long df into int\n",
    "renewables_share_long['year'] = renewables_share_long['year'].astype(int)"
   ]
  },
  {
   "cell_type": "code",
   "execution_count": 23,
   "id": "fd5a8863",
   "metadata": {},
   "outputs": [
    {
     "name": "stdout",
     "output_type": "stream",
     "text": [
      "country     object\n",
      "Value      float64\n",
      "Metric      object\n",
      "year         int64\n",
      "dtype: object\n"
     ]
    }
   ],
   "source": [
    "print(renewables_share_long.dtypes)"
   ]
  },
  {
   "cell_type": "code",
   "execution_count": 24,
   "id": "5fac4caa",
   "metadata": {},
   "outputs": [],
   "source": [
    "df = renewables_share_long.merge(energy_data, on=['country', 'year'], how='inner')"
   ]
  },
  {
   "cell_type": "code",
   "execution_count": 35,
   "id": "25f8d252",
   "metadata": {},
   "outputs": [
    {
     "data": {
      "text/html": [
       "<div>\n",
       "<style scoped>\n",
       "    .dataframe tbody tr th:only-of-type {\n",
       "        vertical-align: middle;\n",
       "    }\n",
       "\n",
       "    .dataframe tbody tr th {\n",
       "        vertical-align: top;\n",
       "    }\n",
       "\n",
       "    .dataframe thead th {\n",
       "        text-align: right;\n",
       "    }\n",
       "</style>\n",
       "<table border=\"1\" class=\"dataframe\">\n",
       "  <thead>\n",
       "    <tr style=\"text-align: right;\">\n",
       "      <th></th>\n",
       "      <th>country</th>\n",
       "      <th>Value</th>\n",
       "      <th>Metric</th>\n",
       "      <th>year</th>\n",
       "      <th>iso_code</th>\n",
       "      <th>population</th>\n",
       "      <th>gdp</th>\n",
       "      <th>biofuel_cons_change_pct</th>\n",
       "      <th>biofuel_cons_change_twh</th>\n",
       "      <th>biofuel_cons_per_capita</th>\n",
       "      <th>...</th>\n",
       "      <th>wind_consumption</th>\n",
       "      <th>wind_elec_per_capita</th>\n",
       "      <th>wind_electricity</th>\n",
       "      <th>wind_energy_per_capita</th>\n",
       "      <th>wind_share_elec</th>\n",
       "      <th>wind_share_energy</th>\n",
       "      <th>Country Code</th>\n",
       "      <th>Indicator Name</th>\n",
       "      <th>Indicator Code</th>\n",
       "      <th>value</th>\n",
       "    </tr>\n",
       "  </thead>\n",
       "  <tbody>\n",
       "    <tr>\n",
       "      <th>0</th>\n",
       "      <td>France</td>\n",
       "      <td>12.56</td>\n",
       "      <td>RE share of electricity generation</td>\n",
       "      <td>2000</td>\n",
       "      <td>FRA</td>\n",
       "      <td>58665456.0</td>\n",
       "      <td>2.031676e+12</td>\n",
       "      <td>19.585</td>\n",
       "      <td>0.598</td>\n",
       "      <td>62.223</td>\n",
       "      <td>...</td>\n",
       "      <td>0.142</td>\n",
       "      <td>0.852</td>\n",
       "      <td>0.05</td>\n",
       "      <td>2.419</td>\n",
       "      <td>0.009</td>\n",
       "      <td>0.005</td>\n",
       "      <td>FRA</td>\n",
       "      <td>Renewable energy consumption (% of total final...</td>\n",
       "      <td>EG.FEC.RNEW.ZS</td>\n",
       "      <td>9.3</td>\n",
       "    </tr>\n",
       "    <tr>\n",
       "      <th>1</th>\n",
       "      <td>France</td>\n",
       "      <td>20.95</td>\n",
       "      <td>RE share of electricity capacity</td>\n",
       "      <td>2000</td>\n",
       "      <td>FRA</td>\n",
       "      <td>58665456.0</td>\n",
       "      <td>2.031676e+12</td>\n",
       "      <td>19.585</td>\n",
       "      <td>0.598</td>\n",
       "      <td>62.223</td>\n",
       "      <td>...</td>\n",
       "      <td>0.142</td>\n",
       "      <td>0.852</td>\n",
       "      <td>0.05</td>\n",
       "      <td>2.419</td>\n",
       "      <td>0.009</td>\n",
       "      <td>0.005</td>\n",
       "      <td>FRA</td>\n",
       "      <td>Renewable energy consumption (% of total final...</td>\n",
       "      <td>EG.FEC.RNEW.ZS</td>\n",
       "      <td>9.3</td>\n",
       "    </tr>\n",
       "    <tr>\n",
       "      <th>2</th>\n",
       "      <td>Germany</td>\n",
       "      <td>6.15</td>\n",
       "      <td>RE share of electricity generation</td>\n",
       "      <td>2000</td>\n",
       "      <td>DEU</td>\n",
       "      <td>81551680.0</td>\n",
       "      <td>2.718561e+12</td>\n",
       "      <td>92.320</td>\n",
       "      <td>1.233</td>\n",
       "      <td>31.505</td>\n",
       "      <td>...</td>\n",
       "      <td>28.091</td>\n",
       "      <td>114.651</td>\n",
       "      <td>9.35</td>\n",
       "      <td>344.461</td>\n",
       "      <td>1.643</td>\n",
       "      <td>0.704</td>\n",
       "      <td>DEU</td>\n",
       "      <td>Renewable energy consumption (% of total final...</td>\n",
       "      <td>EG.FEC.RNEW.ZS</td>\n",
       "      <td>3.7</td>\n",
       "    </tr>\n",
       "    <tr>\n",
       "      <th>3</th>\n",
       "      <td>Germany</td>\n",
       "      <td>9.93</td>\n",
       "      <td>RE share of electricity capacity</td>\n",
       "      <td>2000</td>\n",
       "      <td>DEU</td>\n",
       "      <td>81551680.0</td>\n",
       "      <td>2.718561e+12</td>\n",
       "      <td>92.320</td>\n",
       "      <td>1.233</td>\n",
       "      <td>31.505</td>\n",
       "      <td>...</td>\n",
       "      <td>28.091</td>\n",
       "      <td>114.651</td>\n",
       "      <td>9.35</td>\n",
       "      <td>344.461</td>\n",
       "      <td>1.643</td>\n",
       "      <td>0.704</td>\n",
       "      <td>DEU</td>\n",
       "      <td>Renewable energy consumption (% of total final...</td>\n",
       "      <td>EG.FEC.RNEW.ZS</td>\n",
       "      <td>3.7</td>\n",
       "    </tr>\n",
       "    <tr>\n",
       "      <th>4</th>\n",
       "      <td>France</td>\n",
       "      <td>13.85</td>\n",
       "      <td>RE share of electricity generation</td>\n",
       "      <td>2001</td>\n",
       "      <td>FRA</td>\n",
       "      <td>59014776.0</td>\n",
       "      <td>2.077787e+12</td>\n",
       "      <td>1.373</td>\n",
       "      <td>0.050</td>\n",
       "      <td>62.705</td>\n",
       "      <td>...</td>\n",
       "      <td>0.385</td>\n",
       "      <td>2.203</td>\n",
       "      <td>0.13</td>\n",
       "      <td>6.521</td>\n",
       "      <td>0.024</td>\n",
       "      <td>0.012</td>\n",
       "      <td>FRA</td>\n",
       "      <td>Renewable energy consumption (% of total final...</td>\n",
       "      <td>EG.FEC.RNEW.ZS</td>\n",
       "      <td>9.4</td>\n",
       "    </tr>\n",
       "  </tbody>\n",
       "</table>\n",
       "<p>5 rows × 135 columns</p>\n",
       "</div>"
      ],
      "text/plain": [
       "   country  Value                              Metric  year iso_code  \\\n",
       "0   France  12.56  RE share of electricity generation  2000      FRA   \n",
       "1   France  20.95    RE share of electricity capacity  2000      FRA   \n",
       "2  Germany   6.15  RE share of electricity generation  2000      DEU   \n",
       "3  Germany   9.93    RE share of electricity capacity  2000      DEU   \n",
       "4   France  13.85  RE share of electricity generation  2001      FRA   \n",
       "\n",
       "   population           gdp  biofuel_cons_change_pct  biofuel_cons_change_twh  \\\n",
       "0  58665456.0  2.031676e+12                   19.585                    0.598   \n",
       "1  58665456.0  2.031676e+12                   19.585                    0.598   \n",
       "2  81551680.0  2.718561e+12                   92.320                    1.233   \n",
       "3  81551680.0  2.718561e+12                   92.320                    1.233   \n",
       "4  59014776.0  2.077787e+12                    1.373                    0.050   \n",
       "\n",
       "   biofuel_cons_per_capita  ...  wind_consumption  wind_elec_per_capita  \\\n",
       "0                   62.223  ...             0.142                 0.852   \n",
       "1                   62.223  ...             0.142                 0.852   \n",
       "2                   31.505  ...            28.091               114.651   \n",
       "3                   31.505  ...            28.091               114.651   \n",
       "4                   62.705  ...             0.385                 2.203   \n",
       "\n",
       "   wind_electricity  wind_energy_per_capita  wind_share_elec  \\\n",
       "0              0.05                   2.419            0.009   \n",
       "1              0.05                   2.419            0.009   \n",
       "2              9.35                 344.461            1.643   \n",
       "3              9.35                 344.461            1.643   \n",
       "4              0.13                   6.521            0.024   \n",
       "\n",
       "   wind_share_energy  Country Code  \\\n",
       "0              0.005           FRA   \n",
       "1              0.005           FRA   \n",
       "2              0.704           DEU   \n",
       "3              0.704           DEU   \n",
       "4              0.012           FRA   \n",
       "\n",
       "                                      Indicator Name  Indicator Code  value  \n",
       "0  Renewable energy consumption (% of total final...  EG.FEC.RNEW.ZS    9.3  \n",
       "1  Renewable energy consumption (% of total final...  EG.FEC.RNEW.ZS    9.3  \n",
       "2  Renewable energy consumption (% of total final...  EG.FEC.RNEW.ZS    3.7  \n",
       "3  Renewable energy consumption (% of total final...  EG.FEC.RNEW.ZS    3.7  \n",
       "4  Renewable energy consumption (% of total final...  EG.FEC.RNEW.ZS    9.4  \n",
       "\n",
       "[5 rows x 135 columns]"
      ]
     },
     "execution_count": 35,
     "metadata": {},
     "output_type": "execute_result"
    }
   ],
   "source": [
    "df.head()"
   ]
  },
  {
   "cell_type": "code",
   "execution_count": 26,
   "id": "1b4b56d8",
   "metadata": {},
   "outputs": [],
   "source": [
    "renewables_consumption_long.rename(columns={'Country Name': 'country', 'Year': 'year'}, inplace=True)"
   ]
  },
  {
   "cell_type": "code",
   "execution_count": 29,
   "id": "f7e5c4c1",
   "metadata": {},
   "outputs": [
    {
     "data": {
      "text/html": [
       "<div>\n",
       "<style scoped>\n",
       "    .dataframe tbody tr th:only-of-type {\n",
       "        vertical-align: middle;\n",
       "    }\n",
       "\n",
       "    .dataframe tbody tr th {\n",
       "        vertical-align: top;\n",
       "    }\n",
       "\n",
       "    .dataframe thead th {\n",
       "        text-align: right;\n",
       "    }\n",
       "</style>\n",
       "<table border=\"1\" class=\"dataframe\">\n",
       "  <thead>\n",
       "    <tr style=\"text-align: right;\">\n",
       "      <th></th>\n",
       "      <th>country</th>\n",
       "      <th>Country Code</th>\n",
       "      <th>Indicator Name</th>\n",
       "      <th>Indicator Code</th>\n",
       "      <th>year</th>\n",
       "      <th>value</th>\n",
       "    </tr>\n",
       "  </thead>\n",
       "  <tbody>\n",
       "    <tr>\n",
       "      <th>7980</th>\n",
       "      <td>Aruba</td>\n",
       "      <td>ABW</td>\n",
       "      <td>Renewable energy consumption (% of total final...</td>\n",
       "      <td>EG.FEC.RNEW.ZS</td>\n",
       "      <td>1990</td>\n",
       "      <td>0.300000</td>\n",
       "    </tr>\n",
       "    <tr>\n",
       "      <th>7981</th>\n",
       "      <td>Africa Eastern and Southern</td>\n",
       "      <td>AFE</td>\n",
       "      <td>Renewable energy consumption (% of total final...</td>\n",
       "      <td>EG.FEC.RNEW.ZS</td>\n",
       "      <td>1990</td>\n",
       "      <td>60.910003</td>\n",
       "    </tr>\n",
       "    <tr>\n",
       "      <th>7982</th>\n",
       "      <td>Afghanistan</td>\n",
       "      <td>AFG</td>\n",
       "      <td>Renewable energy consumption (% of total final...</td>\n",
       "      <td>EG.FEC.RNEW.ZS</td>\n",
       "      <td>1990</td>\n",
       "      <td>23.000000</td>\n",
       "    </tr>\n",
       "    <tr>\n",
       "      <th>7983</th>\n",
       "      <td>Africa Western and Central</td>\n",
       "      <td>AFW</td>\n",
       "      <td>Renewable energy consumption (% of total final...</td>\n",
       "      <td>EG.FEC.RNEW.ZS</td>\n",
       "      <td>1990</td>\n",
       "      <td>85.928514</td>\n",
       "    </tr>\n",
       "    <tr>\n",
       "      <th>7984</th>\n",
       "      <td>Angola</td>\n",
       "      <td>AGO</td>\n",
       "      <td>Renewable energy consumption (% of total final...</td>\n",
       "      <td>EG.FEC.RNEW.ZS</td>\n",
       "      <td>1990</td>\n",
       "      <td>72.300000</td>\n",
       "    </tr>\n",
       "  </tbody>\n",
       "</table>\n",
       "</div>"
      ],
      "text/plain": [
       "                          country Country Code  \\\n",
       "7980                        Aruba          ABW   \n",
       "7981  Africa Eastern and Southern          AFE   \n",
       "7982                  Afghanistan          AFG   \n",
       "7983   Africa Western and Central          AFW   \n",
       "7984                       Angola          AGO   \n",
       "\n",
       "                                         Indicator Name  Indicator Code  year  \\\n",
       "7980  Renewable energy consumption (% of total final...  EG.FEC.RNEW.ZS  1990   \n",
       "7981  Renewable energy consumption (% of total final...  EG.FEC.RNEW.ZS  1990   \n",
       "7982  Renewable energy consumption (% of total final...  EG.FEC.RNEW.ZS  1990   \n",
       "7983  Renewable energy consumption (% of total final...  EG.FEC.RNEW.ZS  1990   \n",
       "7984  Renewable energy consumption (% of total final...  EG.FEC.RNEW.ZS  1990   \n",
       "\n",
       "          value  \n",
       "7980   0.300000  \n",
       "7981  60.910003  \n",
       "7982  23.000000  \n",
       "7983  85.928514  \n",
       "7984  72.300000  "
      ]
     },
     "execution_count": 29,
     "metadata": {},
     "output_type": "execute_result"
    }
   ],
   "source": [
    "renewables_consumption_long.head()"
   ]
  },
  {
   "cell_type": "code",
   "execution_count": 31,
   "id": "220b44ad",
   "metadata": {},
   "outputs": [
    {
     "name": "stdout",
     "output_type": "stream",
     "text": [
      "country            object\n",
      "Country Code       object\n",
      "Indicator Name     object\n",
      "Indicator Code     object\n",
      "year               object\n",
      "value             float64\n",
      "dtype: object\n"
     ]
    }
   ],
   "source": [
    "print(renewables_consumption_long.dtypes)"
   ]
  },
  {
   "cell_type": "code",
   "execution_count": 32,
   "id": "629d730e",
   "metadata": {},
   "outputs": [],
   "source": [
    "# we have to convert year column of renewables_consumption_long df into int\n",
    "renewables_consumption_long['year'] = renewables_consumption_long['year'].astype(int)"
   ]
  },
  {
   "cell_type": "code",
   "execution_count": 33,
   "id": "472cc0a9",
   "metadata": {},
   "outputs": [],
   "source": [
    "df = df.merge(renewables_consumption_long, on=['country', 'year'], how='inner')"
   ]
  },
  {
   "cell_type": "code",
   "execution_count": 34,
   "id": "d5288bab",
   "metadata": {},
   "outputs": [
    {
     "data": {
      "text/html": [
       "<div>\n",
       "<style scoped>\n",
       "    .dataframe tbody tr th:only-of-type {\n",
       "        vertical-align: middle;\n",
       "    }\n",
       "\n",
       "    .dataframe tbody tr th {\n",
       "        vertical-align: top;\n",
       "    }\n",
       "\n",
       "    .dataframe thead th {\n",
       "        text-align: right;\n",
       "    }\n",
       "</style>\n",
       "<table border=\"1\" class=\"dataframe\">\n",
       "  <thead>\n",
       "    <tr style=\"text-align: right;\">\n",
       "      <th></th>\n",
       "      <th>country</th>\n",
       "      <th>Value</th>\n",
       "      <th>Metric</th>\n",
       "      <th>year</th>\n",
       "      <th>iso_code</th>\n",
       "      <th>population</th>\n",
       "      <th>gdp</th>\n",
       "      <th>biofuel_cons_change_pct</th>\n",
       "      <th>biofuel_cons_change_twh</th>\n",
       "      <th>biofuel_cons_per_capita</th>\n",
       "      <th>...</th>\n",
       "      <th>wind_consumption</th>\n",
       "      <th>wind_elec_per_capita</th>\n",
       "      <th>wind_electricity</th>\n",
       "      <th>wind_energy_per_capita</th>\n",
       "      <th>wind_share_elec</th>\n",
       "      <th>wind_share_energy</th>\n",
       "      <th>Country Code</th>\n",
       "      <th>Indicator Name</th>\n",
       "      <th>Indicator Code</th>\n",
       "      <th>value</th>\n",
       "    </tr>\n",
       "  </thead>\n",
       "  <tbody>\n",
       "    <tr>\n",
       "      <th>0</th>\n",
       "      <td>France</td>\n",
       "      <td>12.56</td>\n",
       "      <td>RE share of electricity generation</td>\n",
       "      <td>2000</td>\n",
       "      <td>FRA</td>\n",
       "      <td>58665456.0</td>\n",
       "      <td>2.031676e+12</td>\n",
       "      <td>19.585</td>\n",
       "      <td>0.598</td>\n",
       "      <td>62.223</td>\n",
       "      <td>...</td>\n",
       "      <td>0.142</td>\n",
       "      <td>0.852</td>\n",
       "      <td>0.05</td>\n",
       "      <td>2.419</td>\n",
       "      <td>0.009</td>\n",
       "      <td>0.005</td>\n",
       "      <td>FRA</td>\n",
       "      <td>Renewable energy consumption (% of total final...</td>\n",
       "      <td>EG.FEC.RNEW.ZS</td>\n",
       "      <td>9.3</td>\n",
       "    </tr>\n",
       "    <tr>\n",
       "      <th>1</th>\n",
       "      <td>France</td>\n",
       "      <td>20.95</td>\n",
       "      <td>RE share of electricity capacity</td>\n",
       "      <td>2000</td>\n",
       "      <td>FRA</td>\n",
       "      <td>58665456.0</td>\n",
       "      <td>2.031676e+12</td>\n",
       "      <td>19.585</td>\n",
       "      <td>0.598</td>\n",
       "      <td>62.223</td>\n",
       "      <td>...</td>\n",
       "      <td>0.142</td>\n",
       "      <td>0.852</td>\n",
       "      <td>0.05</td>\n",
       "      <td>2.419</td>\n",
       "      <td>0.009</td>\n",
       "      <td>0.005</td>\n",
       "      <td>FRA</td>\n",
       "      <td>Renewable energy consumption (% of total final...</td>\n",
       "      <td>EG.FEC.RNEW.ZS</td>\n",
       "      <td>9.3</td>\n",
       "    </tr>\n",
       "    <tr>\n",
       "      <th>2</th>\n",
       "      <td>Germany</td>\n",
       "      <td>6.15</td>\n",
       "      <td>RE share of electricity generation</td>\n",
       "      <td>2000</td>\n",
       "      <td>DEU</td>\n",
       "      <td>81551680.0</td>\n",
       "      <td>2.718561e+12</td>\n",
       "      <td>92.320</td>\n",
       "      <td>1.233</td>\n",
       "      <td>31.505</td>\n",
       "      <td>...</td>\n",
       "      <td>28.091</td>\n",
       "      <td>114.651</td>\n",
       "      <td>9.35</td>\n",
       "      <td>344.461</td>\n",
       "      <td>1.643</td>\n",
       "      <td>0.704</td>\n",
       "      <td>DEU</td>\n",
       "      <td>Renewable energy consumption (% of total final...</td>\n",
       "      <td>EG.FEC.RNEW.ZS</td>\n",
       "      <td>3.7</td>\n",
       "    </tr>\n",
       "    <tr>\n",
       "      <th>3</th>\n",
       "      <td>Germany</td>\n",
       "      <td>9.93</td>\n",
       "      <td>RE share of electricity capacity</td>\n",
       "      <td>2000</td>\n",
       "      <td>DEU</td>\n",
       "      <td>81551680.0</td>\n",
       "      <td>2.718561e+12</td>\n",
       "      <td>92.320</td>\n",
       "      <td>1.233</td>\n",
       "      <td>31.505</td>\n",
       "      <td>...</td>\n",
       "      <td>28.091</td>\n",
       "      <td>114.651</td>\n",
       "      <td>9.35</td>\n",
       "      <td>344.461</td>\n",
       "      <td>1.643</td>\n",
       "      <td>0.704</td>\n",
       "      <td>DEU</td>\n",
       "      <td>Renewable energy consumption (% of total final...</td>\n",
       "      <td>EG.FEC.RNEW.ZS</td>\n",
       "      <td>3.7</td>\n",
       "    </tr>\n",
       "    <tr>\n",
       "      <th>4</th>\n",
       "      <td>France</td>\n",
       "      <td>13.85</td>\n",
       "      <td>RE share of electricity generation</td>\n",
       "      <td>2001</td>\n",
       "      <td>FRA</td>\n",
       "      <td>59014776.0</td>\n",
       "      <td>2.077787e+12</td>\n",
       "      <td>1.373</td>\n",
       "      <td>0.050</td>\n",
       "      <td>62.705</td>\n",
       "      <td>...</td>\n",
       "      <td>0.385</td>\n",
       "      <td>2.203</td>\n",
       "      <td>0.13</td>\n",
       "      <td>6.521</td>\n",
       "      <td>0.024</td>\n",
       "      <td>0.012</td>\n",
       "      <td>FRA</td>\n",
       "      <td>Renewable energy consumption (% of total final...</td>\n",
       "      <td>EG.FEC.RNEW.ZS</td>\n",
       "      <td>9.4</td>\n",
       "    </tr>\n",
       "  </tbody>\n",
       "</table>\n",
       "<p>5 rows × 135 columns</p>\n",
       "</div>"
      ],
      "text/plain": [
       "   country  Value                              Metric  year iso_code  \\\n",
       "0   France  12.56  RE share of electricity generation  2000      FRA   \n",
       "1   France  20.95    RE share of electricity capacity  2000      FRA   \n",
       "2  Germany   6.15  RE share of electricity generation  2000      DEU   \n",
       "3  Germany   9.93    RE share of electricity capacity  2000      DEU   \n",
       "4   France  13.85  RE share of electricity generation  2001      FRA   \n",
       "\n",
       "   population           gdp  biofuel_cons_change_pct  biofuel_cons_change_twh  \\\n",
       "0  58665456.0  2.031676e+12                   19.585                    0.598   \n",
       "1  58665456.0  2.031676e+12                   19.585                    0.598   \n",
       "2  81551680.0  2.718561e+12                   92.320                    1.233   \n",
       "3  81551680.0  2.718561e+12                   92.320                    1.233   \n",
       "4  59014776.0  2.077787e+12                    1.373                    0.050   \n",
       "\n",
       "   biofuel_cons_per_capita  ...  wind_consumption  wind_elec_per_capita  \\\n",
       "0                   62.223  ...             0.142                 0.852   \n",
       "1                   62.223  ...             0.142                 0.852   \n",
       "2                   31.505  ...            28.091               114.651   \n",
       "3                   31.505  ...            28.091               114.651   \n",
       "4                   62.705  ...             0.385                 2.203   \n",
       "\n",
       "   wind_electricity  wind_energy_per_capita  wind_share_elec  \\\n",
       "0              0.05                   2.419            0.009   \n",
       "1              0.05                   2.419            0.009   \n",
       "2              9.35                 344.461            1.643   \n",
       "3              9.35                 344.461            1.643   \n",
       "4              0.13                   6.521            0.024   \n",
       "\n",
       "   wind_share_energy  Country Code  \\\n",
       "0              0.005           FRA   \n",
       "1              0.005           FRA   \n",
       "2              0.704           DEU   \n",
       "3              0.704           DEU   \n",
       "4              0.012           FRA   \n",
       "\n",
       "                                      Indicator Name  Indicator Code  value  \n",
       "0  Renewable energy consumption (% of total final...  EG.FEC.RNEW.ZS    9.3  \n",
       "1  Renewable energy consumption (% of total final...  EG.FEC.RNEW.ZS    9.3  \n",
       "2  Renewable energy consumption (% of total final...  EG.FEC.RNEW.ZS    3.7  \n",
       "3  Renewable energy consumption (% of total final...  EG.FEC.RNEW.ZS    3.7  \n",
       "4  Renewable energy consumption (% of total final...  EG.FEC.RNEW.ZS    9.4  \n",
       "\n",
       "[5 rows x 135 columns]"
      ]
     },
     "execution_count": 34,
     "metadata": {},
     "output_type": "execute_result"
    }
   ],
   "source": [
    "df.head()"
   ]
  },
  {
   "cell_type": "code",
   "execution_count": 36,
   "id": "82de6f1e",
   "metadata": {},
   "outputs": [
    {
     "data": {
      "text/html": [
       "<div>\n",
       "<style scoped>\n",
       "    .dataframe tbody tr th:only-of-type {\n",
       "        vertical-align: middle;\n",
       "    }\n",
       "\n",
       "    .dataframe tbody tr th {\n",
       "        vertical-align: top;\n",
       "    }\n",
       "\n",
       "    .dataframe thead th {\n",
       "        text-align: right;\n",
       "    }\n",
       "</style>\n",
       "<table border=\"1\" class=\"dataframe\">\n",
       "  <thead>\n",
       "    <tr style=\"text-align: right;\">\n",
       "      <th></th>\n",
       "      <th>country</th>\n",
       "      <th>Value</th>\n",
       "      <th>Metric</th>\n",
       "      <th>year</th>\n",
       "      <th>iso_code</th>\n",
       "      <th>population</th>\n",
       "      <th>gdp</th>\n",
       "      <th>biofuel_cons_change_pct</th>\n",
       "      <th>biofuel_cons_change_twh</th>\n",
       "      <th>biofuel_cons_per_capita</th>\n",
       "      <th>...</th>\n",
       "      <th>wind_consumption</th>\n",
       "      <th>wind_elec_per_capita</th>\n",
       "      <th>wind_electricity</th>\n",
       "      <th>wind_energy_per_capita</th>\n",
       "      <th>wind_share_elec</th>\n",
       "      <th>wind_share_energy</th>\n",
       "      <th>Country Code</th>\n",
       "      <th>Indicator Name</th>\n",
       "      <th>Indicator Code</th>\n",
       "      <th>value</th>\n",
       "    </tr>\n",
       "  </thead>\n",
       "  <tbody>\n",
       "    <tr>\n",
       "      <th>0</th>\n",
       "      <td>France</td>\n",
       "      <td>12.56</td>\n",
       "      <td>RE share of electricity generation</td>\n",
       "      <td>2000</td>\n",
       "      <td>FRA</td>\n",
       "      <td>58665456.0</td>\n",
       "      <td>2.031676e+12</td>\n",
       "      <td>19.585</td>\n",
       "      <td>0.598</td>\n",
       "      <td>62.223</td>\n",
       "      <td>...</td>\n",
       "      <td>0.142</td>\n",
       "      <td>0.852</td>\n",
       "      <td>0.05</td>\n",
       "      <td>2.419</td>\n",
       "      <td>0.009</td>\n",
       "      <td>0.005</td>\n",
       "      <td>FRA</td>\n",
       "      <td>Renewable energy consumption (% of total final...</td>\n",
       "      <td>EG.FEC.RNEW.ZS</td>\n",
       "      <td>9.3</td>\n",
       "    </tr>\n",
       "    <tr>\n",
       "      <th>1</th>\n",
       "      <td>France</td>\n",
       "      <td>20.95</td>\n",
       "      <td>RE share of electricity capacity</td>\n",
       "      <td>2000</td>\n",
       "      <td>FRA</td>\n",
       "      <td>58665456.0</td>\n",
       "      <td>2.031676e+12</td>\n",
       "      <td>19.585</td>\n",
       "      <td>0.598</td>\n",
       "      <td>62.223</td>\n",
       "      <td>...</td>\n",
       "      <td>0.142</td>\n",
       "      <td>0.852</td>\n",
       "      <td>0.05</td>\n",
       "      <td>2.419</td>\n",
       "      <td>0.009</td>\n",
       "      <td>0.005</td>\n",
       "      <td>FRA</td>\n",
       "      <td>Renewable energy consumption (% of total final...</td>\n",
       "      <td>EG.FEC.RNEW.ZS</td>\n",
       "      <td>9.3</td>\n",
       "    </tr>\n",
       "    <tr>\n",
       "      <th>2</th>\n",
       "      <td>Germany</td>\n",
       "      <td>6.15</td>\n",
       "      <td>RE share of electricity generation</td>\n",
       "      <td>2000</td>\n",
       "      <td>DEU</td>\n",
       "      <td>81551680.0</td>\n",
       "      <td>2.718561e+12</td>\n",
       "      <td>92.320</td>\n",
       "      <td>1.233</td>\n",
       "      <td>31.505</td>\n",
       "      <td>...</td>\n",
       "      <td>28.091</td>\n",
       "      <td>114.651</td>\n",
       "      <td>9.35</td>\n",
       "      <td>344.461</td>\n",
       "      <td>1.643</td>\n",
       "      <td>0.704</td>\n",
       "      <td>DEU</td>\n",
       "      <td>Renewable energy consumption (% of total final...</td>\n",
       "      <td>EG.FEC.RNEW.ZS</td>\n",
       "      <td>3.7</td>\n",
       "    </tr>\n",
       "    <tr>\n",
       "      <th>3</th>\n",
       "      <td>Germany</td>\n",
       "      <td>9.93</td>\n",
       "      <td>RE share of electricity capacity</td>\n",
       "      <td>2000</td>\n",
       "      <td>DEU</td>\n",
       "      <td>81551680.0</td>\n",
       "      <td>2.718561e+12</td>\n",
       "      <td>92.320</td>\n",
       "      <td>1.233</td>\n",
       "      <td>31.505</td>\n",
       "      <td>...</td>\n",
       "      <td>28.091</td>\n",
       "      <td>114.651</td>\n",
       "      <td>9.35</td>\n",
       "      <td>344.461</td>\n",
       "      <td>1.643</td>\n",
       "      <td>0.704</td>\n",
       "      <td>DEU</td>\n",
       "      <td>Renewable energy consumption (% of total final...</td>\n",
       "      <td>EG.FEC.RNEW.ZS</td>\n",
       "      <td>3.7</td>\n",
       "    </tr>\n",
       "    <tr>\n",
       "      <th>4</th>\n",
       "      <td>France</td>\n",
       "      <td>13.85</td>\n",
       "      <td>RE share of electricity generation</td>\n",
       "      <td>2001</td>\n",
       "      <td>FRA</td>\n",
       "      <td>59014776.0</td>\n",
       "      <td>2.077787e+12</td>\n",
       "      <td>1.373</td>\n",
       "      <td>0.050</td>\n",
       "      <td>62.705</td>\n",
       "      <td>...</td>\n",
       "      <td>0.385</td>\n",
       "      <td>2.203</td>\n",
       "      <td>0.13</td>\n",
       "      <td>6.521</td>\n",
       "      <td>0.024</td>\n",
       "      <td>0.012</td>\n",
       "      <td>FRA</td>\n",
       "      <td>Renewable energy consumption (% of total final...</td>\n",
       "      <td>EG.FEC.RNEW.ZS</td>\n",
       "      <td>9.4</td>\n",
       "    </tr>\n",
       "    <tr>\n",
       "      <th>...</th>\n",
       "      <td>...</td>\n",
       "      <td>...</td>\n",
       "      <td>...</td>\n",
       "      <td>...</td>\n",
       "      <td>...</td>\n",
       "      <td>...</td>\n",
       "      <td>...</td>\n",
       "      <td>...</td>\n",
       "      <td>...</td>\n",
       "      <td>...</td>\n",
       "      <td>...</td>\n",
       "      <td>...</td>\n",
       "      <td>...</td>\n",
       "      <td>...</td>\n",
       "      <td>...</td>\n",
       "      <td>...</td>\n",
       "      <td>...</td>\n",
       "      <td>...</td>\n",
       "      <td>...</td>\n",
       "      <td>...</td>\n",
       "      <td>...</td>\n",
       "    </tr>\n",
       "    <tr>\n",
       "      <th>149</th>\n",
       "      <td>Romania</td>\n",
       "      <td>53.73</td>\n",
       "      <td>RE share of electricity capacity</td>\n",
       "      <td>2019</td>\n",
       "      <td>ROU</td>\n",
       "      <td>19524212.0</td>\n",
       "      <td>4.565645e+11</td>\n",
       "      <td>26.090</td>\n",
       "      <td>0.890</td>\n",
       "      <td>220.231</td>\n",
       "      <td>...</td>\n",
       "      <td>17.853</td>\n",
       "      <td>346.749</td>\n",
       "      <td>6.77</td>\n",
       "      <td>914.426</td>\n",
       "      <td>11.521</td>\n",
       "      <td>4.652</td>\n",
       "      <td>ROU</td>\n",
       "      <td>Renewable energy consumption (% of total final...</td>\n",
       "      <td>EG.FEC.RNEW.ZS</td>\n",
       "      <td>23.5</td>\n",
       "    </tr>\n",
       "    <tr>\n",
       "      <th>150</th>\n",
       "      <td>Romania</td>\n",
       "      <td>43.99</td>\n",
       "      <td>RE share of electricity generation</td>\n",
       "      <td>2020</td>\n",
       "      <td>ROU</td>\n",
       "      <td>19442040.0</td>\n",
       "      <td>4.834994e+11</td>\n",
       "      <td>16.987</td>\n",
       "      <td>0.730</td>\n",
       "      <td>258.731</td>\n",
       "      <td>...</td>\n",
       "      <td>18.240</td>\n",
       "      <td>357.473</td>\n",
       "      <td>6.95</td>\n",
       "      <td>938.151</td>\n",
       "      <td>12.588</td>\n",
       "      <td>4.936</td>\n",
       "      <td>ROU</td>\n",
       "      <td>Renewable energy consumption (% of total final...</td>\n",
       "      <td>EG.FEC.RNEW.ZS</td>\n",
       "      <td>24.1</td>\n",
       "    </tr>\n",
       "    <tr>\n",
       "      <th>151</th>\n",
       "      <td>Romania</td>\n",
       "      <td>54.32</td>\n",
       "      <td>RE share of electricity capacity</td>\n",
       "      <td>2020</td>\n",
       "      <td>ROU</td>\n",
       "      <td>19442040.0</td>\n",
       "      <td>4.834994e+11</td>\n",
       "      <td>16.987</td>\n",
       "      <td>0.730</td>\n",
       "      <td>258.731</td>\n",
       "      <td>...</td>\n",
       "      <td>18.240</td>\n",
       "      <td>357.473</td>\n",
       "      <td>6.95</td>\n",
       "      <td>938.151</td>\n",
       "      <td>12.588</td>\n",
       "      <td>4.936</td>\n",
       "      <td>ROU</td>\n",
       "      <td>Renewable energy consumption (% of total final...</td>\n",
       "      <td>EG.FEC.RNEW.ZS</td>\n",
       "      <td>24.1</td>\n",
       "    </tr>\n",
       "    <tr>\n",
       "      <th>152</th>\n",
       "      <td>Romania</td>\n",
       "      <td>44.30</td>\n",
       "      <td>RE share of electricity generation</td>\n",
       "      <td>2021</td>\n",
       "      <td>ROU</td>\n",
       "      <td>19328558.0</td>\n",
       "      <td>5.051195e+11</td>\n",
       "      <td>-7.418</td>\n",
       "      <td>-0.373</td>\n",
       "      <td>240.946</td>\n",
       "      <td>...</td>\n",
       "      <td>17.207</td>\n",
       "      <td>340.429</td>\n",
       "      <td>6.58</td>\n",
       "      <td>890.251</td>\n",
       "      <td>11.236</td>\n",
       "      <td>4.412</td>\n",
       "      <td>ROU</td>\n",
       "      <td>Renewable energy consumption (% of total final...</td>\n",
       "      <td>EG.FEC.RNEW.ZS</td>\n",
       "      <td>23.6</td>\n",
       "    </tr>\n",
       "    <tr>\n",
       "      <th>153</th>\n",
       "      <td>Romania</td>\n",
       "      <td>59.51</td>\n",
       "      <td>RE share of electricity capacity</td>\n",
       "      <td>2021</td>\n",
       "      <td>ROU</td>\n",
       "      <td>19328558.0</td>\n",
       "      <td>5.051195e+11</td>\n",
       "      <td>-7.418</td>\n",
       "      <td>-0.373</td>\n",
       "      <td>240.946</td>\n",
       "      <td>...</td>\n",
       "      <td>17.207</td>\n",
       "      <td>340.429</td>\n",
       "      <td>6.58</td>\n",
       "      <td>890.251</td>\n",
       "      <td>11.236</td>\n",
       "      <td>4.412</td>\n",
       "      <td>ROU</td>\n",
       "      <td>Renewable energy consumption (% of total final...</td>\n",
       "      <td>EG.FEC.RNEW.ZS</td>\n",
       "      <td>23.6</td>\n",
       "    </tr>\n",
       "  </tbody>\n",
       "</table>\n",
       "<p>154 rows × 135 columns</p>\n",
       "</div>"
      ],
      "text/plain": [
       "     country  Value                              Metric  year iso_code  \\\n",
       "0     France  12.56  RE share of electricity generation  2000      FRA   \n",
       "1     France  20.95    RE share of electricity capacity  2000      FRA   \n",
       "2    Germany   6.15  RE share of electricity generation  2000      DEU   \n",
       "3    Germany   9.93    RE share of electricity capacity  2000      DEU   \n",
       "4     France  13.85  RE share of electricity generation  2001      FRA   \n",
       "..       ...    ...                                 ...   ...      ...   \n",
       "149  Romania  53.73    RE share of electricity capacity  2019      ROU   \n",
       "150  Romania  43.99  RE share of electricity generation  2020      ROU   \n",
       "151  Romania  54.32    RE share of electricity capacity  2020      ROU   \n",
       "152  Romania  44.30  RE share of electricity generation  2021      ROU   \n",
       "153  Romania  59.51    RE share of electricity capacity  2021      ROU   \n",
       "\n",
       "     population           gdp  biofuel_cons_change_pct  \\\n",
       "0    58665456.0  2.031676e+12                   19.585   \n",
       "1    58665456.0  2.031676e+12                   19.585   \n",
       "2    81551680.0  2.718561e+12                   92.320   \n",
       "3    81551680.0  2.718561e+12                   92.320   \n",
       "4    59014776.0  2.077787e+12                    1.373   \n",
       "..          ...           ...                      ...   \n",
       "149  19524212.0  4.565645e+11                   26.090   \n",
       "150  19442040.0  4.834994e+11                   16.987   \n",
       "151  19442040.0  4.834994e+11                   16.987   \n",
       "152  19328558.0  5.051195e+11                   -7.418   \n",
       "153  19328558.0  5.051195e+11                   -7.418   \n",
       "\n",
       "     biofuel_cons_change_twh  biofuel_cons_per_capita  ...  wind_consumption  \\\n",
       "0                      0.598                   62.223  ...             0.142   \n",
       "1                      0.598                   62.223  ...             0.142   \n",
       "2                      1.233                   31.505  ...            28.091   \n",
       "3                      1.233                   31.505  ...            28.091   \n",
       "4                      0.050                   62.705  ...             0.385   \n",
       "..                       ...                      ...  ...               ...   \n",
       "149                    0.890                  220.231  ...            17.853   \n",
       "150                    0.730                  258.731  ...            18.240   \n",
       "151                    0.730                  258.731  ...            18.240   \n",
       "152                   -0.373                  240.946  ...            17.207   \n",
       "153                   -0.373                  240.946  ...            17.207   \n",
       "\n",
       "     wind_elec_per_capita  wind_electricity  wind_energy_per_capita  \\\n",
       "0                   0.852              0.05                   2.419   \n",
       "1                   0.852              0.05                   2.419   \n",
       "2                 114.651              9.35                 344.461   \n",
       "3                 114.651              9.35                 344.461   \n",
       "4                   2.203              0.13                   6.521   \n",
       "..                    ...               ...                     ...   \n",
       "149               346.749              6.77                 914.426   \n",
       "150               357.473              6.95                 938.151   \n",
       "151               357.473              6.95                 938.151   \n",
       "152               340.429              6.58                 890.251   \n",
       "153               340.429              6.58                 890.251   \n",
       "\n",
       "     wind_share_elec  wind_share_energy  Country Code  \\\n",
       "0              0.009              0.005           FRA   \n",
       "1              0.009              0.005           FRA   \n",
       "2              1.643              0.704           DEU   \n",
       "3              1.643              0.704           DEU   \n",
       "4              0.024              0.012           FRA   \n",
       "..               ...                ...           ...   \n",
       "149           11.521              4.652           ROU   \n",
       "150           12.588              4.936           ROU   \n",
       "151           12.588              4.936           ROU   \n",
       "152           11.236              4.412           ROU   \n",
       "153           11.236              4.412           ROU   \n",
       "\n",
       "                                        Indicator Name  Indicator Code  value  \n",
       "0    Renewable energy consumption (% of total final...  EG.FEC.RNEW.ZS    9.3  \n",
       "1    Renewable energy consumption (% of total final...  EG.FEC.RNEW.ZS    9.3  \n",
       "2    Renewable energy consumption (% of total final...  EG.FEC.RNEW.ZS    3.7  \n",
       "3    Renewable energy consumption (% of total final...  EG.FEC.RNEW.ZS    3.7  \n",
       "4    Renewable energy consumption (% of total final...  EG.FEC.RNEW.ZS    9.4  \n",
       "..                                                 ...             ...    ...  \n",
       "149  Renewable energy consumption (% of total final...  EG.FEC.RNEW.ZS   23.5  \n",
       "150  Renewable energy consumption (% of total final...  EG.FEC.RNEW.ZS   24.1  \n",
       "151  Renewable energy consumption (% of total final...  EG.FEC.RNEW.ZS   24.1  \n",
       "152  Renewable energy consumption (% of total final...  EG.FEC.RNEW.ZS   23.6  \n",
       "153  Renewable energy consumption (% of total final...  EG.FEC.RNEW.ZS   23.6  \n",
       "\n",
       "[154 rows x 135 columns]"
      ]
     },
     "execution_count": 36,
     "metadata": {},
     "output_type": "execute_result"
    }
   ],
   "source": [
    "df.dropna()"
   ]
  },
  {
   "cell_type": "code",
   "execution_count": 39,
   "id": "38e60bbf",
   "metadata": {},
   "outputs": [
    {
     "data": {
      "text/plain": [
       "['country',\n",
       " 'Value',\n",
       " 'Metric',\n",
       " 'year',\n",
       " 'iso_code',\n",
       " 'population',\n",
       " 'gdp',\n",
       " 'biofuel_cons_change_pct',\n",
       " 'biofuel_cons_change_twh',\n",
       " 'biofuel_cons_per_capita',\n",
       " 'biofuel_consumption',\n",
       " 'biofuel_elec_per_capita',\n",
       " 'biofuel_electricity',\n",
       " 'biofuel_share_elec',\n",
       " 'biofuel_share_energy',\n",
       " 'carbon_intensity_elec',\n",
       " 'coal_cons_change_pct',\n",
       " 'coal_cons_change_twh',\n",
       " 'coal_cons_per_capita',\n",
       " 'coal_consumption',\n",
       " 'coal_elec_per_capita',\n",
       " 'coal_electricity',\n",
       " 'coal_prod_change_pct',\n",
       " 'coal_prod_change_twh',\n",
       " 'coal_prod_per_capita',\n",
       " 'coal_production',\n",
       " 'coal_share_elec',\n",
       " 'coal_share_energy',\n",
       " 'electricity_demand',\n",
       " 'electricity_generation',\n",
       " 'electricity_share_energy',\n",
       " 'energy_cons_change_pct',\n",
       " 'energy_cons_change_twh',\n",
       " 'energy_per_capita',\n",
       " 'energy_per_gdp',\n",
       " 'fossil_cons_change_pct',\n",
       " 'fossil_cons_change_twh',\n",
       " 'fossil_elec_per_capita',\n",
       " 'fossil_electricity',\n",
       " 'fossil_energy_per_capita',\n",
       " 'fossil_fuel_consumption',\n",
       " 'fossil_share_elec',\n",
       " 'fossil_share_energy',\n",
       " 'gas_cons_change_pct',\n",
       " 'gas_cons_change_twh',\n",
       " 'gas_consumption',\n",
       " 'gas_elec_per_capita',\n",
       " 'gas_electricity',\n",
       " 'gas_energy_per_capita',\n",
       " 'gas_prod_change_pct',\n",
       " 'gas_prod_change_twh',\n",
       " 'gas_prod_per_capita',\n",
       " 'gas_production',\n",
       " 'gas_share_elec',\n",
       " 'gas_share_energy',\n",
       " 'greenhouse_gas_emissions',\n",
       " 'hydro_cons_change_pct',\n",
       " 'hydro_cons_change_twh',\n",
       " 'hydro_consumption',\n",
       " 'hydro_elec_per_capita',\n",
       " 'hydro_electricity',\n",
       " 'hydro_energy_per_capita',\n",
       " 'hydro_share_elec',\n",
       " 'hydro_share_energy',\n",
       " 'low_carbon_cons_change_pct',\n",
       " 'low_carbon_cons_change_twh',\n",
       " 'low_carbon_consumption',\n",
       " 'low_carbon_elec_per_capita',\n",
       " 'low_carbon_electricity',\n",
       " 'low_carbon_energy_per_capita',\n",
       " 'low_carbon_share_elec',\n",
       " 'low_carbon_share_energy',\n",
       " 'net_elec_imports',\n",
       " 'net_elec_imports_share_demand',\n",
       " 'nuclear_cons_change_pct',\n",
       " 'nuclear_cons_change_twh',\n",
       " 'nuclear_consumption',\n",
       " 'nuclear_elec_per_capita',\n",
       " 'nuclear_electricity',\n",
       " 'nuclear_energy_per_capita',\n",
       " 'nuclear_share_elec',\n",
       " 'nuclear_share_energy',\n",
       " 'oil_cons_change_pct',\n",
       " 'oil_cons_change_twh',\n",
       " 'oil_consumption',\n",
       " 'oil_elec_per_capita',\n",
       " 'oil_electricity',\n",
       " 'oil_energy_per_capita',\n",
       " 'oil_prod_change_pct',\n",
       " 'oil_prod_change_twh',\n",
       " 'oil_prod_per_capita',\n",
       " 'oil_production',\n",
       " 'oil_share_elec',\n",
       " 'oil_share_energy',\n",
       " 'other_renewable_consumption',\n",
       " 'other_renewable_electricity',\n",
       " 'other_renewable_exc_biofuel_electricity',\n",
       " 'other_renewables_cons_change_pct',\n",
       " 'other_renewables_cons_change_twh',\n",
       " 'other_renewables_elec_per_capita',\n",
       " 'other_renewables_elec_per_capita_exc_biofuel',\n",
       " 'other_renewables_energy_per_capita',\n",
       " 'other_renewables_share_elec',\n",
       " 'other_renewables_share_elec_exc_biofuel',\n",
       " 'other_renewables_share_energy',\n",
       " 'per_capita_electricity',\n",
       " 'primary_energy_consumption',\n",
       " 'renewables_cons_change_pct',\n",
       " 'renewables_cons_change_twh',\n",
       " 'renewables_consumption',\n",
       " 'renewables_elec_per_capita',\n",
       " 'renewables_electricity',\n",
       " 'renewables_energy_per_capita',\n",
       " 'renewables_share_elec',\n",
       " 'renewables_share_energy',\n",
       " 'solar_cons_change_pct',\n",
       " 'solar_cons_change_twh',\n",
       " 'solar_consumption',\n",
       " 'solar_elec_per_capita',\n",
       " 'solar_electricity',\n",
       " 'solar_energy_per_capita',\n",
       " 'solar_share_elec',\n",
       " 'solar_share_energy',\n",
       " 'wind_cons_change_pct',\n",
       " 'wind_cons_change_twh',\n",
       " 'wind_consumption',\n",
       " 'wind_elec_per_capita',\n",
       " 'wind_electricity',\n",
       " 'wind_energy_per_capita',\n",
       " 'wind_share_elec',\n",
       " 'wind_share_energy',\n",
       " 'Country Code',\n",
       " 'Indicator Name',\n",
       " 'Indicator Code',\n",
       " 'value']"
      ]
     },
     "execution_count": 39,
     "metadata": {},
     "output_type": "execute_result"
    }
   ],
   "source": [
    "df.columns.tolist()"
   ]
  },
  {
   "cell_type": "code",
   "execution_count": 57,
   "id": "4bfd2318",
   "metadata": {},
   "outputs": [
    {
     "data": {
      "application/vnd.plotly.v1+json": {
       "config": {
        "plotlyServerURL": "https://plot.ly"
       },
       "data": [
        {
         "hovertemplate": "<b>%{hovertext}</b><br><br>country=France<br>year=2000<br>GDP (in Billion USD)=%{x}<br>Carbon Intensity of Electricity=%{y}<br>population=%{marker.size}<extra></extra>",
         "hovertext": [
          "France",
          "France"
         ],
         "legendgroup": "France",
         "marker": {
          "color": "#636efa",
          "size": [
           58665456,
           58665456
          ],
          "sizemode": "area",
          "sizeref": 205828.58,
          "symbol": "circle"
         },
         "mode": "markers",
         "name": "France",
         "orientation": "v",
         "showlegend": true,
         "type": "scatter",
         "x": [
          2031676030976,
          2031676030976
         ],
         "xaxis": "x",
         "y": [
          79.766,
          79.766
         ],
         "yaxis": "y"
        },
        {
         "hovertemplate": "<b>%{hovertext}</b><br><br>country=Germany<br>year=2000<br>GDP (in Billion USD)=%{x}<br>Carbon Intensity of Electricity=%{y}<br>population=%{marker.size}<extra></extra>",
         "hovertext": [
          "Germany",
          "Germany"
         ],
         "legendgroup": "Germany",
         "marker": {
          "color": "#EF553B",
          "size": [
           81551680,
           81551680
          ],
          "sizemode": "area",
          "sizeref": 205828.58,
          "symbol": "circle"
         },
         "mode": "markers",
         "name": "Germany",
         "orientation": "v",
         "showlegend": true,
         "type": "scatter",
         "x": [
          2718560681984,
          2718560681984
         ],
         "xaxis": "x",
         "y": [
          573.126,
          573.126
         ],
         "yaxis": "y"
        }
       ],
       "frames": [
        {
         "data": [
          {
           "hovertemplate": "<b>%{hovertext}</b><br><br>country=France<br>year=2000<br>GDP (in Billion USD)=%{x}<br>Carbon Intensity of Electricity=%{y}<br>population=%{marker.size}<extra></extra>",
           "hovertext": [
            "France",
            "France"
           ],
           "legendgroup": "France",
           "marker": {
            "color": "#636efa",
            "size": [
             58665456,
             58665456
            ],
            "sizemode": "area",
            "sizeref": 205828.58,
            "symbol": "circle"
           },
           "mode": "markers",
           "name": "France",
           "orientation": "v",
           "showlegend": true,
           "type": "scatter",
           "x": [
            2031676030976,
            2031676030976
           ],
           "xaxis": "x",
           "y": [
            79.766,
            79.766
           ],
           "yaxis": "y"
          },
          {
           "hovertemplate": "<b>%{hovertext}</b><br><br>country=Germany<br>year=2000<br>GDP (in Billion USD)=%{x}<br>Carbon Intensity of Electricity=%{y}<br>population=%{marker.size}<extra></extra>",
           "hovertext": [
            "Germany",
            "Germany"
           ],
           "legendgroup": "Germany",
           "marker": {
            "color": "#EF553B",
            "size": [
             81551680,
             81551680
            ],
            "sizemode": "area",
            "sizeref": 205828.58,
            "symbol": "circle"
           },
           "mode": "markers",
           "name": "Germany",
           "orientation": "v",
           "showlegend": true,
           "type": "scatter",
           "x": [
            2718560681984,
            2718560681984
           ],
           "xaxis": "x",
           "y": [
            573.126,
            573.126
           ],
           "yaxis": "y"
          }
         ],
         "name": "2000"
        },
        {
         "data": [
          {
           "hovertemplate": "<b>%{hovertext}</b><br><br>country=France<br>year=2001<br>GDP (in Billion USD)=%{x}<br>Carbon Intensity of Electricity=%{y}<br>population=%{marker.size}<extra></extra>",
           "hovertext": [
            "France",
            "France"
           ],
           "legendgroup": "France",
           "marker": {
            "color": "#636efa",
            "size": [
             59014776,
             59014776
            ],
            "sizemode": "area",
            "sizeref": 205828.58,
            "symbol": "circle"
           },
           "mode": "markers",
           "name": "France",
           "orientation": "v",
           "showlegend": true,
           "type": "scatter",
           "x": [
            2077786767360,
            2077786767360
           ],
           "xaxis": "x",
           "y": [
            68.633,
            68.633
           ],
           "yaxis": "y"
          }
         ],
         "name": "2001"
        },
        {
         "data": [
          {
           "hovertemplate": "<b>%{hovertext}</b><br><br>country=France<br>year=2002<br>GDP (in Billion USD)=%{x}<br>Carbon Intensity of Electricity=%{y}<br>population=%{marker.size}<extra></extra>",
           "hovertext": [
            "France",
            "France"
           ],
           "legendgroup": "France",
           "marker": {
            "color": "#636efa",
            "size": [
             59372784,
             59372784
            ],
            "sizemode": "area",
            "sizeref": 205828.58,
            "symbol": "circle"
           },
           "mode": "markers",
           "name": "France",
           "orientation": "v",
           "showlegend": true,
           "type": "scatter",
           "x": [
            2107316502528,
            2107316502528
           ],
           "xaxis": "x",
           "y": [
            75.212,
            75.212
           ],
           "yaxis": "y"
          },
          {
           "hovertemplate": "<b>%{hovertext}</b><br><br>country=Germany<br>year=2002<br>GDP (in Billion USD)=%{x}<br>Carbon Intensity of Electricity=%{y}<br>population=%{marker.size}<extra></extra>",
           "hovertext": [
            "Germany",
            "Germany"
           ],
           "legendgroup": "Germany",
           "marker": {
            "color": "#EF553B",
            "size": [
             81443424,
             81443424
            ],
            "sizemode": "area",
            "sizeref": 205828.58,
            "symbol": "circle"
           },
           "mode": "markers",
           "name": "Germany",
           "orientation": "v",
           "showlegend": true,
           "type": "scatter",
           "x": [
            2822441533440,
            2822441533440
           ],
           "xaxis": "x",
           "y": [
            569.566,
            569.566
           ],
           "yaxis": "y"
          }
         ],
         "name": "2002"
        },
        {
         "data": [
          {
           "hovertemplate": "<b>%{hovertext}</b><br><br>country=France<br>year=2003<br>GDP (in Billion USD)=%{x}<br>Carbon Intensity of Electricity=%{y}<br>population=%{marker.size}<extra></extra>",
           "hovertext": [
            "France",
            "France"
           ],
           "legendgroup": "France",
           "marker": {
            "color": "#636efa",
            "size": [
             59728260,
             59728260
            ],
            "sizemode": "area",
            "sizeref": 205828.58,
            "symbol": "circle"
           },
           "mode": "markers",
           "name": "France",
           "orientation": "v",
           "showlegend": true,
           "type": "scatter",
           "x": [
            2130940657664,
            2130940657664
           ],
           "xaxis": "x",
           "y": [
            80.858,
            80.858
           ],
           "yaxis": "y"
          },
          {
           "hovertemplate": "<b>%{hovertext}</b><br><br>country=Germany<br>year=2003<br>GDP (in Billion USD)=%{x}<br>Carbon Intensity of Electricity=%{y}<br>population=%{marker.size}<extra></extra>",
           "hovertext": [
            "Germany",
            "Germany"
           ],
           "legendgroup": "Germany",
           "marker": {
            "color": "#EF553B",
            "size": [
             81346808,
             81346808
            ],
            "sizemode": "area",
            "sizeref": 205828.58,
            "symbol": "circle"
           },
           "mode": "markers",
           "name": "Germany",
           "orientation": "v",
           "showlegend": true,
           "type": "scatter",
           "x": [
            2831676080128,
            2831676080128
           ],
           "xaxis": "x",
           "y": [
            569.955,
            569.955
           ],
           "yaxis": "y"
          }
         ],
         "name": "2003"
        },
        {
         "data": [
          {
           "hovertemplate": "<b>%{hovertext}</b><br><br>country=France<br>year=2004<br>GDP (in Billion USD)=%{x}<br>Carbon Intensity of Electricity=%{y}<br>population=%{marker.size}<extra></extra>",
           "hovertext": [
            "France",
            "France"
           ],
           "legendgroup": "France",
           "marker": {
            "color": "#636efa",
            "size": [
             60108436,
             60108436
            ],
            "sizemode": "area",
            "sizeref": 205828.58,
            "symbol": "circle"
           },
           "mode": "markers",
           "name": "France",
           "orientation": "v",
           "showlegend": true,
           "type": "scatter",
           "x": [
            2196883505152,
            2196883505152
           ],
           "xaxis": "x",
           "y": [
            77.185,
            77.185
           ],
           "yaxis": "y"
          },
          {
           "hovertemplate": "<b>%{hovertext}</b><br><br>country=Germany<br>year=2004<br>GDP (in Billion USD)=%{x}<br>Carbon Intensity of Electricity=%{y}<br>population=%{marker.size}<extra></extra>",
           "hovertext": [
            "Germany",
            "Germany"
           ],
           "legendgroup": "Germany",
           "marker": {
            "color": "#EF553B",
            "size": [
             81266672,
             81266672
            ],
            "sizemode": "area",
            "sizeref": 205828.58,
            "symbol": "circle"
           },
           "mode": "markers",
           "name": "Germany",
           "orientation": "v",
           "showlegend": true,
           "type": "scatter",
           "x": [
            2894624980992,
            2894624980992
           ],
           "xaxis": "x",
           "y": [
            554.659,
            554.659
           ],
           "yaxis": "y"
          }
         ],
         "name": "2004"
        },
        {
         "data": [
          {
           "hovertemplate": "<b>%{hovertext}</b><br><br>country=France<br>year=2005<br>GDP (in Billion USD)=%{x}<br>Carbon Intensity of Electricity=%{y}<br>population=%{marker.size}<extra></extra>",
           "hovertext": [
            "France",
            "France"
           ],
           "legendgroup": "France",
           "marker": {
            "color": "#636efa",
            "size": [
             60510080,
             60510080
            ],
            "sizemode": "area",
            "sizeref": 205828.58,
            "symbol": "circle"
           },
           "mode": "markers",
           "name": "France",
           "orientation": "v",
           "showlegend": true,
           "type": "scatter",
           "x": [
            2238790500352,
            2238790500352
           ],
           "xaxis": "x",
           "y": [
            85.533,
            85.533
           ],
           "yaxis": "y"
          },
          {
           "hovertemplate": "<b>%{hovertext}</b><br><br>country=Germany<br>year=2005<br>GDP (in Billion USD)=%{x}<br>Carbon Intensity of Electricity=%{y}<br>population=%{marker.size}<extra></extra>",
           "hovertext": [
            "Germany",
            "Germany"
           ],
           "legendgroup": "Germany",
           "marker": {
            "color": "#EF553B",
            "size": [
             81212168,
             81212168
            ],
            "sizemode": "area",
            "sizeref": 205828.58,
            "symbol": "circle"
           },
           "mode": "markers",
           "name": "Germany",
           "orientation": "v",
           "showlegend": true,
           "type": "scatter",
           "x": [
            2945460994048,
            2945460994048
           ],
           "xaxis": "x",
           "y": [
            546.271,
            546.271
           ],
           "yaxis": "y"
          },
          {
           "hovertemplate": "<b>%{hovertext}</b><br><br>country=Czechia<br>year=2005<br>GDP (in Billion USD)=%{x}<br>Carbon Intensity of Electricity=%{y}<br>population=%{marker.size}<extra></extra>",
           "hovertext": [
            "Czechia",
            "Czechia"
           ],
           "legendgroup": "Czechia",
           "marker": {
            "color": "#00cc96",
            "size": [
             10280122,
             10280122
            ],
            "sizemode": "area",
            "sizeref": 205828.58,
            "symbol": "circle"
           },
           "mode": "markers",
           "name": "Czechia",
           "orientation": "v",
           "showlegend": true,
           "type": "scatter",
           "x": [
            225302577152,
            225302577152
           ],
           "xaxis": "x",
           "y": [
            646.65,
            646.65
           ],
           "yaxis": "y"
          }
         ],
         "name": "2005"
        },
        {
         "data": [
          {
           "hovertemplate": "<b>%{hovertext}</b><br><br>country=Germany<br>year=2006<br>GDP (in Billion USD)=%{x}<br>Carbon Intensity of Electricity=%{y}<br>population=%{marker.size}<extra></extra>",
           "hovertext": [
            "Germany",
            "Germany"
           ],
           "legendgroup": "Germany",
           "marker": {
            "color": "#EF553B",
            "size": [
             81177816,
             81177816
            ],
            "sizemode": "area",
            "sizeref": 205828.58,
            "symbol": "circle"
           },
           "mode": "markers",
           "name": "Germany",
           "orientation": "v",
           "showlegend": true,
           "type": "scatter",
           "x": [
            3086359199744,
            3086359199744
           ],
           "xaxis": "x",
           "y": [
            536.163,
            536.163
           ],
           "yaxis": "y"
          },
          {
           "hovertemplate": "<b>%{hovertext}</b><br><br>country=Czechia<br>year=2006<br>GDP (in Billion USD)=%{x}<br>Carbon Intensity of Electricity=%{y}<br>population=%{marker.size}<extra></extra>",
           "hovertext": [
            "Czechia",
            "Czechia"
           ],
           "legendgroup": "Czechia",
           "marker": {
            "color": "#00cc96",
            "size": [
             10304822,
             10304822
            ],
            "sizemode": "area",
            "sizeref": 205828.58,
            "symbol": "circle"
           },
           "mode": "markers",
           "name": "Czechia",
           "orientation": "v",
           "showlegend": true,
           "type": "scatter",
           "x": [
            243991789568,
            243991789568
           ],
           "xaxis": "x",
           "y": [
            634.114,
            634.114
           ],
           "yaxis": "y"
          }
         ],
         "name": "2006"
        },
        {
         "data": [
          {
           "hovertemplate": "<b>%{hovertext}</b><br><br>country=Germany<br>year=2007<br>GDP (in Billion USD)=%{x}<br>Carbon Intensity of Electricity=%{y}<br>population=%{marker.size}<extra></extra>",
           "hovertext": [
            "Germany",
            "Germany"
           ],
           "legendgroup": "Germany",
           "marker": {
            "color": "#EF553B",
            "size": [
             81183832,
             81183832
            ],
            "sizemode": "area",
            "sizeref": 205828.58,
            "symbol": "circle"
           },
           "mode": "markers",
           "name": "Germany",
           "orientation": "v",
           "showlegend": true,
           "type": "scatter",
           "x": [
            3220275724288,
            3220275724288
           ],
           "xaxis": "x",
           "y": [
            551.783,
            551.783
           ],
           "yaxis": "y"
          },
          {
           "hovertemplate": "<b>%{hovertext}</b><br><br>country=Czechia<br>year=2007<br>GDP (in Billion USD)=%{x}<br>Carbon Intensity of Electricity=%{y}<br>population=%{marker.size}<extra></extra>",
           "hovertext": [
            "Czechia",
            "Czechia"
           ],
           "legendgroup": "Czechia",
           "marker": {
            "color": "#00cc96",
            "size": [
             10337831,
             10337831
            ],
            "sizemode": "area",
            "sizeref": 205828.58,
            "symbol": "circle"
           },
           "mode": "markers",
           "name": "Czechia",
           "orientation": "v",
           "showlegend": true,
           "type": "scatter",
           "x": [
            260673044480,
            260673044480
           ],
           "xaxis": "x",
           "y": [
            652.273,
            652.273
           ],
           "yaxis": "y"
          }
         ],
         "name": "2007"
        },
        {
         "data": [
          {
           "hovertemplate": "<b>%{hovertext}</b><br><br>country=Germany<br>year=2008<br>GDP (in Billion USD)=%{x}<br>Carbon Intensity of Electricity=%{y}<br>population=%{marker.size}<extra></extra>",
           "hovertext": [
            "Germany",
            "Germany"
           ],
           "legendgroup": "Germany",
           "marker": {
            "color": "#EF553B",
            "size": [
             81217488,
             81217488
            ],
            "sizemode": "area",
            "sizeref": 205828.58,
            "symbol": "circle"
           },
           "mode": "markers",
           "name": "Germany",
           "orientation": "v",
           "showlegend": true,
           "type": "scatter",
           "x": [
            3289020366848,
            3289020366848
           ],
           "xaxis": "x",
           "y": [
            525.408,
            525.408
           ],
           "yaxis": "y"
          },
          {
           "hovertemplate": "<b>%{hovertext}</b><br><br>country=Czechia<br>year=2008<br>GDP (in Billion USD)=%{x}<br>Carbon Intensity of Electricity=%{y}<br>population=%{marker.size}<extra></extra>",
           "hovertext": [
            "Czechia",
            "Czechia"
           ],
           "legendgroup": "Czechia",
           "marker": {
            "color": "#00cc96",
            "size": [
             10378586,
             10378586
            ],
            "sizemode": "area",
            "sizeref": 205828.58,
            "symbol": "circle"
           },
           "mode": "markers",
           "name": "Czechia",
           "orientation": "v",
           "showlegend": true,
           "type": "scatter",
           "x": [
            271709536256,
            271709536256
           ],
           "xaxis": "x",
           "y": [
            627.522,
            627.522
           ],
           "yaxis": "y"
          },
          {
           "hovertemplate": "<b>%{hovertext}</b><br><br>country=Spain<br>year=2008<br>GDP (in Billion USD)=%{x}<br>Carbon Intensity of Electricity=%{y}<br>population=%{marker.size}<extra></extra>",
           "hovertext": [
            "Spain",
            "Spain"
           ],
           "legendgroup": "Spain",
           "marker": {
            "color": "#ab63fa",
            "size": [
             45966544,
             45966544
            ],
            "sizemode": "area",
            "sizeref": 205828.58,
            "symbol": "circle"
           },
           "mode": "markers",
           "name": "Spain",
           "orientation": "v",
           "showlegend": true,
           "type": "scatter",
           "x": [
            1510615285760,
            1510615285760
           ],
           "xaxis": "x",
           "y": [
            390.264,
            390.264
           ],
           "yaxis": "y"
          }
         ],
         "name": "2008"
        },
        {
         "data": [
          {
           "hovertemplate": "<b>%{hovertext}</b><br><br>country=Germany<br>year=2009<br>GDP (in Billion USD)=%{x}<br>Carbon Intensity of Electricity=%{y}<br>population=%{marker.size}<extra></extra>",
           "hovertext": [
            "Germany",
            "Germany"
           ],
           "legendgroup": "Germany",
           "marker": {
            "color": "#EF553B",
            "size": [
             81260624,
             81260624
            ],
            "sizemode": "area",
            "sizeref": 205828.58,
            "symbol": "circle"
           },
           "mode": "markers",
           "name": "Germany",
           "orientation": "v",
           "showlegend": true,
           "type": "scatter",
           "x": [
            3136502104064,
            3136502104064
           ],
           "xaxis": "x",
           "y": [
            521.549,
            521.549
           ],
           "yaxis": "y"
          },
          {
           "hovertemplate": "<b>%{hovertext}</b><br><br>country=Czechia<br>year=2009<br>GDP (in Billion USD)=%{x}<br>Carbon Intensity of Electricity=%{y}<br>population=%{marker.size}<extra></extra>",
           "hovertext": [
            "Czechia",
            "Czechia"
           ],
           "legendgroup": "Czechia",
           "marker": {
            "color": "#00cc96",
            "size": [
             10421515,
             10421515
            ],
            "sizemode": "area",
            "sizeref": 205828.58,
            "symbol": "circle"
           },
           "mode": "markers",
           "name": "Czechia",
           "orientation": "v",
           "showlegend": true,
           "type": "scatter",
           "x": [
            261919703040,
            261919703040
           ],
           "xaxis": "x",
           "y": [
            603.136,
            603.136
           ],
           "yaxis": "y"
          },
          {
           "hovertemplate": "<b>%{hovertext}</b><br><br>country=Spain<br>year=2009<br>GDP (in Billion USD)=%{x}<br>Carbon Intensity of Electricity=%{y}<br>population=%{marker.size}<extra></extra>",
           "hovertext": [
            "Spain",
            "Spain"
           ],
           "legendgroup": "Spain",
           "marker": {
            "color": "#ab63fa",
            "size": [
             46367772,
             46367772
            ],
            "sizemode": "area",
            "sizeref": 205828.58,
            "symbol": "circle"
           },
           "mode": "markers",
           "name": "Spain",
           "orientation": "v",
           "showlegend": true,
           "type": "scatter",
           "x": [
            1468765831168,
            1468765831168
           ],
           "xaxis": "x",
           "y": [
            355.05,
            355.05
           ],
           "yaxis": "y"
          },
          {
           "hovertemplate": "<b>%{hovertext}</b><br><br>country=Bulgaria<br>year=2009<br>GDP (in Billion USD)=%{x}<br>Carbon Intensity of Electricity=%{y}<br>population=%{marker.size}<extra></extra>",
           "hovertext": [
            "Bulgaria",
            "Bulgaria"
           ],
           "legendgroup": "Bulgaria",
           "marker": {
            "color": "#FFA15A",
            "size": [
             7634737,
             7634737
            ],
            "sizemode": "area",
            "sizeref": 205828.58,
            "symbol": "circle"
           },
           "mode": "markers",
           "name": "Bulgaria",
           "orientation": "v",
           "showlegend": true,
           "type": "scatter",
           "x": [
            107365072896,
            107365072896
           ],
           "xaxis": "x",
           "y": [
            528.48,
            528.48
           ],
           "yaxis": "y"
          },
          {
           "hovertemplate": "<b>%{hovertext}</b><br><br>country=Hungary<br>year=2009<br>GDP (in Billion USD)=%{x}<br>Carbon Intensity of Electricity=%{y}<br>population=%{marker.size}<extra></extra>",
           "hovertext": [
            "Hungary",
            "Hungary"
           ],
           "legendgroup": "Hungary",
           "marker": {
            "color": "#19d3f3",
            "size": [
             10008581,
             10008581
            ],
            "sizemode": "area",
            "sizeref": 205828.58,
            "symbol": "circle"
           },
           "mode": "markers",
           "name": "Hungary",
           "orientation": "v",
           "showlegend": true,
           "type": "scatter",
           "x": [
            195180904448,
            195180904448
           ],
           "xaxis": "x",
           "y": [
            343.915,
            343.915
           ],
           "yaxis": "y"
          }
         ],
         "name": "2009"
        },
        {
         "data": [
          {
           "hovertemplate": "<b>%{hovertext}</b><br><br>country=Germany<br>year=2010<br>GDP (in Billion USD)=%{x}<br>Carbon Intensity of Electricity=%{y}<br>population=%{marker.size}<extra></extra>",
           "hovertext": [
            "Germany",
            "Germany"
           ],
           "legendgroup": "Germany",
           "marker": {
            "color": "#EF553B",
            "size": [
             81325088,
             81325088
            ],
            "sizemode": "area",
            "sizeref": 205828.58,
            "symbol": "circle"
           },
           "mode": "markers",
           "name": "Germany",
           "orientation": "v",
           "showlegend": true,
           "type": "scatter",
           "x": [
            3301123031040,
            3301123031040
           ],
           "xaxis": "x",
           "y": [
            516.637,
            516.637
           ],
           "yaxis": "y"
          },
          {
           "hovertemplate": "<b>%{hovertext}</b><br><br>country=Czechia<br>year=2010<br>GDP (in Billion USD)=%{x}<br>Carbon Intensity of Electricity=%{y}<br>population=%{marker.size}<extra></extra>",
           "hovertext": [
            "Czechia",
            "Czechia"
           ],
           "legendgroup": "Czechia",
           "marker": {
            "color": "#00cc96",
            "size": [
             10464750,
             10464750
            ],
            "sizemode": "area",
            "sizeref": 205828.58,
            "symbol": "circle"
           },
           "mode": "markers",
           "name": "Czechia",
           "orientation": "v",
           "showlegend": true,
           "type": "scatter",
           "x": [
            271231975424,
            271231975424
           ],
           "xaxis": "x",
           "y": [
            593.64,
            593.64
           ],
           "yaxis": "y"
          },
          {
           "hovertemplate": "<b>%{hovertext}</b><br><br>country=Spain<br>year=2010<br>GDP (in Billion USD)=%{x}<br>Carbon Intensity of Electricity=%{y}<br>population=%{marker.size}<extra></extra>",
           "hovertext": [
            "Spain",
            "Spain"
           ],
           "legendgroup": "Spain",
           "marker": {
            "color": "#ab63fa",
            "size": [
             46572776,
             46572776
            ],
            "sizemode": "area",
            "sizeref": 205828.58,
            "symbol": "circle"
           },
           "mode": "markers",
           "name": "Spain",
           "orientation": "v",
           "showlegend": true,
           "type": "scatter",
           "x": [
            1480376320000,
            1480376320000
           ],
           "xaxis": "x",
           "y": [
            288.247,
            288.247
           ],
           "yaxis": "y"
          },
          {
           "hovertemplate": "<b>%{hovertext}</b><br><br>country=Bulgaria<br>year=2010<br>GDP (in Billion USD)=%{x}<br>Carbon Intensity of Electricity=%{y}<br>population=%{marker.size}<extra></extra>",
           "hovertext": [
            "Bulgaria",
            "Bulgaria"
           ],
           "legendgroup": "Bulgaria",
           "marker": {
            "color": "#FFA15A",
            "size": [
             7592271,
             7592271
            ],
            "sizemode": "area",
            "sizeref": 205828.58,
            "symbol": "circle"
           },
           "mode": "markers",
           "name": "Bulgaria",
           "orientation": "v",
           "showlegend": true,
           "type": "scatter",
           "x": [
            109045211136,
            109045211136
           ],
           "xaxis": "x",
           "y": [
            521.01,
            521.01
           ],
           "yaxis": "y"
          },
          {
           "hovertemplate": "<b>%{hovertext}</b><br><br>country=Hungary<br>year=2010<br>GDP (in Billion USD)=%{x}<br>Carbon Intensity of Electricity=%{y}<br>population=%{marker.size}<extra></extra>",
           "hovertext": [
            "Hungary",
            "Hungary"
           ],
           "legendgroup": "Hungary",
           "marker": {
            "color": "#19d3f3",
            "size": [
             9986832,
             9986832
            ],
            "sizemode": "area",
            "sizeref": 205828.58,
            "symbol": "circle"
           },
           "mode": "markers",
           "name": "Hungary",
           "orientation": "v",
           "showlegend": true,
           "type": "scatter",
           "x": [
            200496578560,
            200496578560
           ],
           "xaxis": "x",
           "y": [
            341.006,
            341.006
           ],
           "yaxis": "y"
          },
          {
           "hovertemplate": "<b>%{hovertext}</b><br><br>country=Romania<br>year=2010<br>GDP (in Billion USD)=%{x}<br>Carbon Intensity of Electricity=%{y}<br>population=%{marker.size}<extra></extra>",
           "hovertext": [
            "Romania",
            "Romania"
           ],
           "legendgroup": "Romania",
           "marker": {
            "color": "#FF6692",
            "size": [
             20335212,
             20335212
            ],
            "sizemode": "area",
            "sizeref": 205828.58,
            "symbol": "circle"
           },
           "mode": "markers",
           "name": "Romania",
           "orientation": "v",
           "showlegend": true,
           "type": "scatter",
           "x": [
            335489564672,
            335489564672
           ],
           "xaxis": "x",
           "y": [
            424.528,
            424.528
           ],
           "yaxis": "y"
          }
         ],
         "name": "2010"
        },
        {
         "data": [
          {
           "hovertemplate": "<b>%{hovertext}</b><br><br>country=Germany<br>year=2011<br>GDP (in Billion USD)=%{x}<br>Carbon Intensity of Electricity=%{y}<br>population=%{marker.size}<extra></extra>",
           "hovertext": [
            "Germany",
            "Germany"
           ],
           "legendgroup": "Germany",
           "marker": {
            "color": "#EF553B",
            "size": [
             81423384,
             81423384
            ],
            "sizemode": "area",
            "sizeref": 205828.58,
            "symbol": "circle"
           },
           "mode": "markers",
           "name": "Germany",
           "orientation": "v",
           "showlegend": true,
           "type": "scatter",
           "x": [
            3467712921600,
            3467712921600
           ],
           "xaxis": "x",
           "y": [
            529.669,
            529.669
           ],
           "yaxis": "y"
          },
          {
           "hovertemplate": "<b>%{hovertext}</b><br><br>country=Czechia<br>year=2011<br>GDP (in Billion USD)=%{x}<br>Carbon Intensity of Electricity=%{y}<br>population=%{marker.size}<extra></extra>",
           "hovertext": [
            "Czechia",
            "Czechia"
           ],
           "legendgroup": "Czechia",
           "marker": {
            "color": "#00cc96",
            "size": [
             10496379,
             10496379
            ],
            "sizemode": "area",
            "sizeref": 205828.58,
            "symbol": "circle"
           },
           "mode": "markers",
           "name": "Czechia",
           "orientation": "v",
           "showlegend": true,
           "type": "scatter",
           "x": [
            279082762240,
            279082762240
           ],
           "xaxis": "x",
           "y": [
            583.564,
            583.564
           ],
           "yaxis": "y"
          },
          {
           "hovertemplate": "<b>%{hovertext}</b><br><br>country=Spain<br>year=2011<br>GDP (in Billion USD)=%{x}<br>Carbon Intensity of Electricity=%{y}<br>population=%{marker.size}<extra></extra>",
           "hovertext": [
            "Spain",
            "Spain"
           ],
           "legendgroup": "Spain",
           "marker": {
            "color": "#ab63fa",
            "size": [
             46729232,
             46729232
            ],
            "sizemode": "area",
            "sizeref": 205828.58,
            "symbol": "circle"
           },
           "mode": "markers",
           "name": "Spain",
           "orientation": "v",
           "showlegend": true,
           "type": "scatter",
           "x": [
            1477187469312,
            1477187469312
           ],
           "xaxis": "x",
           "y": [
            337.312,
            337.312
           ],
           "yaxis": "y"
          },
          {
           "hovertemplate": "<b>%{hovertext}</b><br><br>country=Bulgaria<br>year=2011<br>GDP (in Billion USD)=%{x}<br>Carbon Intensity of Electricity=%{y}<br>population=%{marker.size}<extra></extra>",
           "hovertext": [
            "Bulgaria",
            "Bulgaria"
           ],
           "legendgroup": "Bulgaria",
           "marker": {
            "color": "#FFA15A",
            "size": [
             7543128,
             7543128
            ],
            "sizemode": "area",
            "sizeref": 205828.58,
            "symbol": "circle"
           },
           "mode": "markers",
           "name": "Bulgaria",
           "orientation": "v",
           "showlegend": true,
           "type": "scatter",
           "x": [
            109435363328,
            109435363328
           ],
           "xaxis": "x",
           "y": [
            577.662,
            577.662
           ],
           "yaxis": "y"
          },
          {
           "hovertemplate": "<b>%{hovertext}</b><br><br>country=Hungary<br>year=2011<br>GDP (in Billion USD)=%{x}<br>Carbon Intensity of Electricity=%{y}<br>population=%{marker.size}<extra></extra>",
           "hovertext": [
            "Hungary",
            "Hungary"
           ],
           "legendgroup": "Hungary",
           "marker": {
            "color": "#19d3f3",
            "size": [
             9953247,
             9953247
            ],
            "sizemode": "area",
            "sizeref": 205828.58,
            "symbol": "circle"
           },
           "mode": "markers",
           "name": "Hungary",
           "orientation": "v",
           "showlegend": true,
           "type": "scatter",
           "x": [
            208407609344,
            208407609344
           ],
           "xaxis": "x",
           "y": [
            341.199,
            341.199
           ],
           "yaxis": "y"
          },
          {
           "hovertemplate": "<b>%{hovertext}</b><br><br>country=Romania<br>year=2011<br>GDP (in Billion USD)=%{x}<br>Carbon Intensity of Electricity=%{y}<br>population=%{marker.size}<extra></extra>",
           "hovertext": [
            "Romania",
            "Romania"
           ],
           "legendgroup": "Romania",
           "marker": {
            "color": "#FF6692",
            "size": [
             20220286,
             20220286
            ],
            "sizemode": "area",
            "sizeref": 205828.58,
            "symbol": "circle"
           },
           "mode": "markers",
           "name": "Romania",
           "orientation": "v",
           "showlegend": true,
           "type": "scatter",
           "x": [
            350086823936,
            350086823936
           ],
           "xaxis": "x",
           "y": [
            490.615,
            490.615
           ],
           "yaxis": "y"
          }
         ],
         "name": "2011"
        },
        {
         "data": [
          {
           "hovertemplate": "<b>%{hovertext}</b><br><br>country=Germany<br>year=2012<br>GDP (in Billion USD)=%{x}<br>Carbon Intensity of Electricity=%{y}<br>population=%{marker.size}<extra></extra>",
           "hovertext": [
            "Germany",
            "Germany"
           ],
           "legendgroup": "Germany",
           "marker": {
            "color": "#EF553B",
            "size": [
             81545568,
             81545568
            ],
            "sizemode": "area",
            "sizeref": 205828.58,
            "symbol": "circle"
           },
           "mode": "markers",
           "name": "Germany",
           "orientation": "v",
           "showlegend": true,
           "type": "scatter",
           "x": [
            3482225475584,
            3482225475584
           ],
           "xaxis": "x",
           "y": [
            534.164,
            534.164
           ],
           "yaxis": "y"
          },
          {
           "hovertemplate": "<b>%{hovertext}</b><br><br>country=Czechia<br>year=2012<br>GDP (in Billion USD)=%{x}<br>Carbon Intensity of Electricity=%{y}<br>population=%{marker.size}<extra></extra>",
           "hovertext": [
            "Czechia",
            "Czechia"
           ],
           "legendgroup": "Czechia",
           "marker": {
            "color": "#00cc96",
            "size": [
             10511065,
             10511065
            ],
            "sizemode": "area",
            "sizeref": 205828.58,
            "symbol": "circle"
           },
           "mode": "markers",
           "name": "Czechia",
           "orientation": "v",
           "showlegend": true,
           "type": "scatter",
           "x": [
            276891959296,
            276891959296
           ],
           "xaxis": "x",
           "y": [
            552.784,
            552.784
           ],
           "yaxis": "y"
          },
          {
           "hovertemplate": "<b>%{hovertext}</b><br><br>country=Spain<br>year=2012<br>GDP (in Billion USD)=%{x}<br>Carbon Intensity of Electricity=%{y}<br>population=%{marker.size}<extra></extra>",
           "hovertext": [
            "Spain",
            "Spain"
           ],
           "legendgroup": "Spain",
           "marker": {
            "color": "#ab63fa",
            "size": [
             46756084,
             46756084
            ],
            "sizemode": "area",
            "sizeref": 205828.58,
            "symbol": "circle"
           },
           "mode": "markers",
           "name": "Spain",
           "orientation": "v",
           "showlegend": true,
           "type": "scatter",
           "x": [
            1433478627328,
            1433478627328
           ],
           "xaxis": "x",
           "y": [
            351.148,
            351.148
           ],
           "yaxis": "y"
          },
          {
           "hovertemplate": "<b>%{hovertext}</b><br><br>country=Bulgaria<br>year=2012<br>GDP (in Billion USD)=%{x}<br>Carbon Intensity of Electricity=%{y}<br>population=%{marker.size}<extra></extra>",
           "hovertext": [
            "Bulgaria",
            "Bulgaria"
           ],
           "legendgroup": "Bulgaria",
           "marker": {
            "color": "#FFA15A",
            "size": [
             7488347,
             7488347
            ],
            "sizemode": "area",
            "sizeref": 205828.58,
            "symbol": "circle"
           },
           "mode": "markers",
           "name": "Bulgaria",
           "orientation": "v",
           "showlegend": true,
           "type": "scatter",
           "x": [
            110261510144,
            110261510144
           ],
           "xaxis": "x",
           "y": [
            525.398,
            525.398
           ],
           "yaxis": "y"
          },
          {
           "hovertemplate": "<b>%{hovertext}</b><br><br>country=Hungary<br>year=2012<br>GDP (in Billion USD)=%{x}<br>Carbon Intensity of Electricity=%{y}<br>population=%{marker.size}<extra></extra>",
           "hovertext": [
            "Hungary",
            "Hungary"
           ],
           "legendgroup": "Hungary",
           "marker": {
            "color": "#19d3f3",
            "size": [
             9922133,
             9922133
            ],
            "sizemode": "area",
            "sizeref": 205828.58,
            "symbol": "circle"
           },
           "mode": "markers",
           "name": "Hungary",
           "orientation": "v",
           "showlegend": true,
           "type": "scatter",
           "x": [
            205802045440,
            205802045440
           ],
           "xaxis": "x",
           "y": [
            332.756,
            332.756
           ],
           "yaxis": "y"
          },
          {
           "hovertemplate": "<b>%{hovertext}</b><br><br>country=Romania<br>year=2012<br>GDP (in Billion USD)=%{x}<br>Carbon Intensity of Electricity=%{y}<br>population=%{marker.size}<extra></extra>",
           "hovertext": [
            "Romania",
            "Romania"
           ],
           "legendgroup": "Romania",
           "marker": {
            "color": "#FF6692",
            "size": [
             20137112,
             20137112
            ],
            "sizemode": "area",
            "sizeref": 205828.58,
            "symbol": "circle"
           },
           "mode": "markers",
           "name": "Romania",
           "orientation": "v",
           "showlegend": true,
           "type": "scatter",
           "x": [
            356825923584,
            356825923584
           ],
           "xaxis": "x",
           "y": [
            486.847,
            486.847
           ],
           "yaxis": "y"
          }
         ],
         "name": "2012"
        },
        {
         "data": [
          {
           "hovertemplate": "<b>%{hovertext}</b><br><br>country=Germany<br>year=2013<br>GDP (in Billion USD)=%{x}<br>Carbon Intensity of Electricity=%{y}<br>population=%{marker.size}<extra></extra>",
           "hovertext": [
            "Germany",
            "Germany"
           ],
           "legendgroup": "Germany",
           "marker": {
            "color": "#EF553B",
            "size": [
             81680592,
             81680592
            ],
            "sizemode": "area",
            "sizeref": 205828.58,
            "symbol": "circle"
           },
           "mode": "markers",
           "name": "Germany",
           "orientation": "v",
           "showlegend": true,
           "type": "scatter",
           "x": [
            3497463119872,
            3497463119872
           ],
           "xaxis": "x",
           "y": [
            538.027,
            538.027
           ],
           "yaxis": "y"
          },
          {
           "hovertemplate": "<b>%{hovertext}</b><br><br>country=Czechia<br>year=2013<br>GDP (in Billion USD)=%{x}<br>Carbon Intensity of Electricity=%{y}<br>population=%{marker.size}<extra></extra>",
           "hovertext": [
            "Czechia",
            "Czechia"
           ],
           "legendgroup": "Czechia",
           "marker": {
            "color": "#00cc96",
            "size": [
             10514547,
             10514547
            ],
            "sizemode": "area",
            "sizeref": 205828.58,
            "symbol": "circle"
           },
           "mode": "markers",
           "name": "Czechia",
           "orientation": "v",
           "showlegend": true,
           "type": "scatter",
           "x": [
            276764852224,
            276764852224
           ],
           "xaxis": "x",
           "y": [
            527.529,
            527.529
           ],
           "yaxis": "y"
          },
          {
           "hovertemplate": "<b>%{hovertext}</b><br><br>country=Spain<br>year=2013<br>GDP (in Billion USD)=%{x}<br>Carbon Intensity of Electricity=%{y}<br>population=%{marker.size}<extra></extra>",
           "hovertext": [
            "Spain",
            "Spain"
           ],
           "legendgroup": "Spain",
           "marker": {
            "color": "#ab63fa",
            "size": [
             46603460,
             46603460
            ],
            "sizemode": "area",
            "sizeref": 205828.58,
            "symbol": "circle"
           },
           "mode": "markers",
           "name": "Spain",
           "orientation": "v",
           "showlegend": true,
           "type": "scatter",
           "x": [
            1413362089984,
            1413362089984
           ],
           "xaxis": "x",
           "y": [
            286.897,
            286.897
           ],
           "yaxis": "y"
          },
          {
           "hovertemplate": "<b>%{hovertext}</b><br><br>country=Bulgaria<br>year=2013<br>GDP (in Billion USD)=%{x}<br>Carbon Intensity of Electricity=%{y}<br>population=%{marker.size}<extra></extra>",
           "hovertext": [
            "Bulgaria",
            "Bulgaria"
           ],
           "legendgroup": "Bulgaria",
           "marker": {
            "color": "#FFA15A",
            "size": [
             7431169,
             7431169
            ],
            "sizemode": "area",
            "sizeref": 205828.58,
            "symbol": "circle"
           },
           "mode": "markers",
           "name": "Bulgaria",
           "orientation": "v",
           "showlegend": true,
           "type": "scatter",
           "x": [
            109643522048,
            109643522048
           ],
           "xaxis": "x",
           "y": [
            487.448,
            487.448
           ],
           "yaxis": "y"
          },
          {
           "hovertemplate": "<b>%{hovertext}</b><br><br>country=Hungary<br>year=2013<br>GDP (in Billion USD)=%{x}<br>Carbon Intensity of Electricity=%{y}<br>population=%{marker.size}<extra></extra>",
           "hovertext": [
            "Hungary",
            "Hungary"
           ],
           "legendgroup": "Hungary",
           "marker": {
            "color": "#19d3f3",
            "size": [
             9894637,
             9894637
            ],
            "sizemode": "area",
            "sizeref": 205828.58,
            "symbol": "circle"
           },
           "mode": "markers",
           "name": "Hungary",
           "orientation": "v",
           "showlegend": true,
           "type": "scatter",
           "x": [
            209511661568,
            209511661568
           ],
           "xaxis": "x",
           "y": [
            317.476,
            317.476
           ],
           "yaxis": "y"
          },
          {
           "hovertemplate": "<b>%{hovertext}</b><br><br>country=Romania<br>year=2013<br>GDP (in Billion USD)=%{x}<br>Carbon Intensity of Electricity=%{y}<br>population=%{marker.size}<extra></extra>",
           "hovertext": [
            "Romania",
            "Romania"
           ],
           "legendgroup": "Romania",
           "marker": {
            "color": "#FF6692",
            "size": [
             20066550,
             20066550
            ],
            "sizemode": "area",
            "sizeref": 205828.58,
            "symbol": "circle"
           },
           "mode": "markers",
           "name": "Romania",
           "orientation": "v",
           "showlegend": true,
           "type": "scatter",
           "x": [
            357789270016,
            357789270016
           ],
           "xaxis": "x",
           "y": [
            389.758,
            389.758
           ],
           "yaxis": "y"
          }
         ],
         "name": "2013"
        },
        {
         "data": [
          {
           "hovertemplate": "<b>%{hovertext}</b><br><br>country=Germany<br>year=2014<br>GDP (in Billion USD)=%{x}<br>Carbon Intensity of Electricity=%{y}<br>population=%{marker.size}<extra></extra>",
           "hovertext": [
            "Germany",
            "Germany"
           ],
           "legendgroup": "Germany",
           "marker": {
            "color": "#EF553B",
            "size": [
             81858824,
             81858824
            ],
            "sizemode": "area",
            "sizeref": 205828.58,
            "symbol": "circle"
           },
           "mode": "markers",
           "name": "Germany",
           "orientation": "v",
           "showlegend": true,
           "type": "scatter",
           "x": [
            3574741336064,
            3574741336064
           ],
           "xaxis": "x",
           "y": [
            521.681,
            521.681
           ],
           "yaxis": "y"
          },
          {
           "hovertemplate": "<b>%{hovertext}</b><br><br>country=Czechia<br>year=2014<br>GDP (in Billion USD)=%{x}<br>Carbon Intensity of Electricity=%{y}<br>population=%{marker.size}<extra></extra>",
           "hovertext": [
            "Czechia",
            "Czechia"
           ],
           "legendgroup": "Czechia",
           "marker": {
            "color": "#00cc96",
            "size": [
             10517178,
             10517178
            ],
            "sizemode": "area",
            "sizeref": 205828.58,
            "symbol": "circle"
           },
           "mode": "markers",
           "name": "Czechia",
           "orientation": "v",
           "showlegend": true,
           "type": "scatter",
           "x": [
            283025539072,
            283025539072
           ],
           "xaxis": "x",
           "y": [
            530.831,
            530.831
           ],
           "yaxis": "y"
          },
          {
           "hovertemplate": "<b>%{hovertext}</b><br><br>country=Spain<br>year=2014<br>GDP (in Billion USD)=%{x}<br>Carbon Intensity of Electricity=%{y}<br>population=%{marker.size}<extra></extra>",
           "hovertext": [
            "Spain",
            "Spain"
           ],
           "legendgroup": "Spain",
           "marker": {
            "color": "#ab63fa",
            "size": [
             46464548,
             46464548
            ],
            "sizemode": "area",
            "sizeref": 205828.58,
            "symbol": "circle"
           },
           "mode": "markers",
           "name": "Spain",
           "orientation": "v",
           "showlegend": true,
           "type": "scatter",
           "x": [
            1433089474560,
            1433089474560
           ],
           "xaxis": "x",
           "y": [
            289.025,
            289.025
           ],
           "yaxis": "y"
          },
          {
           "hovertemplate": "<b>%{hovertext}</b><br><br>country=Bulgaria<br>year=2014<br>GDP (in Billion USD)=%{x}<br>Carbon Intensity of Electricity=%{y}<br>population=%{marker.size}<extra></extra>",
           "hovertext": [
            "Bulgaria",
            "Bulgaria"
           ],
           "legendgroup": "Bulgaria",
           "marker": {
            "color": "#FFA15A",
            "size": [
             7372142,
             7372142
            ],
            "sizemode": "area",
            "sizeref": 205828.58,
            "symbol": "circle"
           },
           "mode": "markers",
           "name": "Bulgaria",
           "orientation": "v",
           "showlegend": true,
           "type": "scatter",
           "x": [
            110703534080,
            110703534080
           ],
           "xaxis": "x",
           "y": [
            486.999,
            486.999
           ],
           "yaxis": "y"
          },
          {
           "hovertemplate": "<b>%{hovertext}</b><br><br>country=Hungary<br>year=2014<br>GDP (in Billion USD)=%{x}<br>Carbon Intensity of Electricity=%{y}<br>population=%{marker.size}<extra></extra>",
           "hovertext": [
            "Hungary",
            "Hungary"
           ],
           "legendgroup": "Hungary",
           "marker": {
            "color": "#19d3f3",
            "size": [
             9867906,
             9867906
            ],
            "sizemode": "area",
            "sizeref": 205828.58,
            "symbol": "circle"
           },
           "mode": "markers",
           "name": "Hungary",
           "orientation": "v",
           "showlegend": true,
           "type": "scatter",
           "x": [
            218378633216,
            218378633216
           ],
           "xaxis": "x",
           "y": [
            300.102,
            300.102
           ],
           "yaxis": "y"
          },
          {
           "hovertemplate": "<b>%{hovertext}</b><br><br>country=Romania<br>year=2014<br>GDP (in Billion USD)=%{x}<br>Carbon Intensity of Electricity=%{y}<br>population=%{marker.size}<extra></extra>",
           "hovertext": [
            "Romania",
            "Romania"
           ],
           "legendgroup": "Romania",
           "marker": {
            "color": "#FF6692",
            "size": [
             19995836,
             19995836
            ],
            "sizemode": "area",
            "sizeref": 205828.58,
            "symbol": "circle"
           },
           "mode": "markers",
           "name": "Romania",
           "orientation": "v",
           "showlegend": true,
           "type": "scatter",
           "x": [
            372532510720,
            372532510720
           ],
           "xaxis": "x",
           "y": [
            357.055,
            357.055
           ],
           "yaxis": "y"
          },
          {
           "hovertemplate": "<b>%{hovertext}</b><br><br>country=Slovenia<br>year=2014<br>GDP (in Billion USD)=%{x}<br>Carbon Intensity of Electricity=%{y}<br>population=%{marker.size}<extra></extra>",
           "hovertext": [
            "Slovenia",
            "Slovenia"
           ],
           "legendgroup": "Slovenia",
           "marker": {
            "color": "#B6E880",
            "size": [
             2074923,
             2074923
            ],
            "sizemode": "area",
            "sizeref": 205828.58,
            "symbol": "circle"
           },
           "mode": "markers",
           "name": "Slovenia",
           "orientation": "v",
           "showlegend": true,
           "type": "scatter",
           "x": [
            53237653504,
            53237653504
           ],
           "xaxis": "x",
           "y": [
            244.315,
            244.315
           ],
           "yaxis": "y"
          },
          {
           "hovertemplate": "<b>%{hovertext}</b><br><br>country=Ukraine<br>year=2014<br>GDP (in Billion USD)=%{x}<br>Carbon Intensity of Electricity=%{y}<br>population=%{marker.size}<extra></extra>",
           "hovertext": [
            "Ukraine",
            "Ukraine"
           ],
           "legendgroup": "Ukraine",
           "marker": {
            "color": "#FF97FF",
            "size": [
             45148072,
             45148072
            ],
            "sizemode": "area",
            "sizeref": 205828.58,
            "symbol": "circle"
           },
           "mode": "markers",
           "name": "Ukraine",
           "orientation": "v",
           "showlegend": true,
           "type": "scatter",
           "x": [
            441233309696,
            441233309696
           ],
           "xaxis": "x",
           "y": [
            417.624,
            417.624
           ],
           "yaxis": "y"
          }
         ],
         "name": "2014"
        },
        {
         "data": [
          {
           "hovertemplate": "<b>%{hovertext}</b><br><br>country=Germany<br>year=2015<br>GDP (in Billion USD)=%{x}<br>Carbon Intensity of Electricity=%{y}<br>population=%{marker.size}<extra></extra>",
           "hovertext": [
            "Germany",
            "Germany"
           ],
           "legendgroup": "Germany",
           "marker": {
            "color": "#EF553B",
            "size": [
             82073232,
             82073232
            ],
            "sizemode": "area",
            "sizeref": 205828.58,
            "symbol": "circle"
           },
           "mode": "markers",
           "name": "Germany",
           "orientation": "v",
           "showlegend": true,
           "type": "scatter",
           "x": [
            3628073746432,
            3628073746432
           ],
           "xaxis": "x",
           "y": [
            503.591,
            503.591
           ],
           "yaxis": "y"
          },
          {
           "hovertemplate": "<b>%{hovertext}</b><br><br>country=Czechia<br>year=2015<br>GDP (in Billion USD)=%{x}<br>Carbon Intensity of Electricity=%{y}<br>population=%{marker.size}<extra></extra>",
           "hovertext": [
            "Czechia",
            "Czechia"
           ],
           "legendgroup": "Czechia",
           "marker": {
            "color": "#00cc96",
            "size": [
             10523801,
             10523801
            ],
            "sizemode": "area",
            "sizeref": 205828.58,
            "symbol": "circle"
           },
           "mode": "markers",
           "name": "Czechia",
           "orientation": "v",
           "showlegend": true,
           "type": "scatter",
           "x": [
            298276061184,
            298276061184
           ],
           "xaxis": "x",
           "y": [
            553.158,
            553.158
           ],
           "yaxis": "y"
          },
          {
           "hovertemplate": "<b>%{hovertext}</b><br><br>country=Spain<br>year=2015<br>GDP (in Billion USD)=%{x}<br>Carbon Intensity of Electricity=%{y}<br>population=%{marker.size}<extra></extra>",
           "hovertext": [
            "Spain",
            "Spain"
           ],
           "legendgroup": "Spain",
           "marker": {
            "color": "#ab63fa",
            "size": [
             46431344,
             46431344
            ],
            "sizemode": "area",
            "sizeref": 205828.58,
            "symbol": "circle"
           },
           "mode": "markers",
           "name": "Spain",
           "orientation": "v",
           "showlegend": true,
           "type": "scatter",
           "x": [
            1488098820096,
            1488098820096
           ],
           "xaxis": "x",
           "y": [
            328.535,
            328.535
           ],
           "yaxis": "y"
          },
          {
           "hovertemplate": "<b>%{hovertext}</b><br><br>country=Bulgaria<br>year=2015<br>GDP (in Billion USD)=%{x}<br>Carbon Intensity of Electricity=%{y}<br>population=%{marker.size}<extra></extra>",
           "hovertext": [
            "Bulgaria",
            "Bulgaria"
           ],
           "legendgroup": "Bulgaria",
           "marker": {
            "color": "#FFA15A",
            "size": [
             7309255,
             7309255
            ],
            "sizemode": "area",
            "sizeref": 205828.58,
            "symbol": "circle"
           },
           "mode": "markers",
           "name": "Bulgaria",
           "orientation": "v",
           "showlegend": true,
           "type": "scatter",
           "x": [
            114498609152,
            114498609152
           ],
           "xaxis": "x",
           "y": [
            494.56,
            494.56
           ],
           "yaxis": "y"
          },
          {
           "hovertemplate": "<b>%{hovertext}</b><br><br>country=Hungary<br>year=2015<br>GDP (in Billion USD)=%{x}<br>Carbon Intensity of Electricity=%{y}<br>population=%{marker.size}<extra></extra>",
           "hovertext": [
            "Hungary",
            "Hungary"
           ],
           "legendgroup": "Hungary",
           "marker": {
            "color": "#19d3f3",
            "size": [
             9844250,
             9844250
            ],
            "sizemode": "area",
            "sizeref": 205828.58,
            "symbol": "circle"
           },
           "mode": "markers",
           "name": "Hungary",
           "orientation": "v",
           "showlegend": true,
           "type": "scatter",
           "x": [
            226474622976,
            226474622976
           ],
           "xaxis": "x",
           "y": [
            299.044,
            299.044
           ],
           "yaxis": "y"
          },
          {
           "hovertemplate": "<b>%{hovertext}</b><br><br>country=Romania<br>year=2015<br>GDP (in Billion USD)=%{x}<br>Carbon Intensity of Electricity=%{y}<br>population=%{marker.size}<extra></extra>",
           "hovertext": [
            "Romania",
            "Romania"
           ],
           "legendgroup": "Romania",
           "marker": {
            "color": "#FF6692",
            "size": [
             19906078,
             19906078
            ],
            "sizemode": "area",
            "sizeref": 205828.58,
            "symbol": "circle"
           },
           "mode": "markers",
           "name": "Romania",
           "orientation": "v",
           "showlegend": true,
           "type": "scatter",
           "x": [
            384306446336,
            384306446336
           ],
           "xaxis": "x",
           "y": [
            369.022,
            369.022
           ],
           "yaxis": "y"
          },
          {
           "hovertemplate": "<b>%{hovertext}</b><br><br>country=Slovenia<br>year=2015<br>GDP (in Billion USD)=%{x}<br>Carbon Intensity of Electricity=%{y}<br>population=%{marker.size}<extra></extra>",
           "hovertext": [
            "Slovenia",
            "Slovenia"
           ],
           "legendgroup": "Slovenia",
           "marker": {
            "color": "#B6E880",
            "size": [
             2080865,
             2080865
            ],
            "sizemode": "area",
            "sizeref": 205828.58,
            "symbol": "circle"
           },
           "mode": "markers",
           "name": "Slovenia",
           "orientation": "v",
           "showlegend": true,
           "type": "scatter",
           "x": [
            54414237696,
            54414237696
           ],
           "xaxis": "x",
           "y": [
            316.892,
            316.892
           ],
           "yaxis": "y"
          },
          {
           "hovertemplate": "<b>%{hovertext}</b><br><br>country=Ukraine<br>year=2015<br>GDP (in Billion USD)=%{x}<br>Carbon Intensity of Electricity=%{y}<br>population=%{marker.size}<extra></extra>",
           "hovertext": [
            "Ukraine",
            "Ukraine"
           ],
           "legendgroup": "Ukraine",
           "marker": {
            "color": "#FF97FF",
            "size": [
             44982568,
             44982568
            ],
            "sizemode": "area",
            "sizeref": 205828.58,
            "symbol": "circle"
           },
           "mode": "markers",
           "name": "Ukraine",
           "orientation": "v",
           "showlegend": true,
           "type": "scatter",
           "x": [
            398045413376,
            398045413376
           ],
           "xaxis": "x",
           "y": [
            380.071,
            380.071
           ],
           "yaxis": "y"
          }
         ],
         "name": "2015"
        },
        {
         "data": [
          {
           "hovertemplate": "<b>%{hovertext}</b><br><br>country=Germany<br>year=2016<br>GDP (in Billion USD)=%{x}<br>Carbon Intensity of Electricity=%{y}<br>population=%{marker.size}<extra></extra>",
           "hovertext": [
            "Germany",
            "Germany"
           ],
           "legendgroup": "Germany",
           "marker": {
            "color": "#EF553B",
            "size": [
             82331432,
             82331432
            ],
            "sizemode": "area",
            "sizeref": 205828.58,
            "symbol": "circle"
           },
           "mode": "markers",
           "name": "Germany",
           "orientation": "v",
           "showlegend": true,
           "type": "scatter",
           "x": [
            3708980035584,
            3708980035584
           ],
           "xaxis": "x",
           "y": [
            498.301,
            498.301
           ],
           "yaxis": "y"
          },
          {
           "hovertemplate": "<b>%{hovertext}</b><br><br>country=Czechia<br>year=2016<br>GDP (in Billion USD)=%{x}<br>Carbon Intensity of Electricity=%{y}<br>population=%{marker.size}<extra></extra>",
           "hovertext": [
            "Czechia",
            "Czechia"
           ],
           "legendgroup": "Czechia",
           "marker": {
            "color": "#00cc96",
            "size": [
             10527584,
             10527584
            ],
            "sizemode": "area",
            "sizeref": 205828.58,
            "symbol": "circle"
           },
           "mode": "markers",
           "name": "Czechia",
           "orientation": "v",
           "showlegend": true,
           "type": "scatter",
           "x": [
            305844158464,
            305844158464
           ],
           "xaxis": "x",
           "y": [
            573.902,
            573.902
           ],
           "yaxis": "y"
          },
          {
           "hovertemplate": "<b>%{hovertext}</b><br><br>country=Spain<br>year=2016<br>GDP (in Billion USD)=%{x}<br>Carbon Intensity of Electricity=%{y}<br>population=%{marker.size}<extra></extra>",
           "hovertext": [
            "Spain",
            "Spain"
           ],
           "legendgroup": "Spain",
           "marker": {
            "color": "#ab63fa",
            "size": [
             46473320,
             46473320
            ],
            "sizemode": "area",
            "sizeref": 205828.58,
            "symbol": "circle"
           },
           "mode": "markers",
           "name": "Spain",
           "orientation": "v",
           "showlegend": true,
           "type": "scatter",
           "x": [
            1533303980032,
            1533303980032
           ],
           "xaxis": "x",
           "y": [
            282.933,
            282.933
           ],
           "yaxis": "y"
          },
          {
           "hovertemplate": "<b>%{hovertext}</b><br><br>country=Bulgaria<br>year=2016<br>GDP (in Billion USD)=%{x}<br>Carbon Intensity of Electricity=%{y}<br>population=%{marker.size}<extra></extra>",
           "hovertext": [
            "Bulgaria",
            "Bulgaria"
           ],
           "legendgroup": "Bulgaria",
           "marker": {
            "color": "#FFA15A",
            "size": [
             7245982,
             7245982
            ],
            "sizemode": "area",
            "sizeref": 205828.58,
            "symbol": "circle"
           },
           "mode": "markers",
           "name": "Bulgaria",
           "orientation": "v",
           "showlegend": true,
           "type": "scatter",
           "x": [
            117979078656,
            117979078656
           ],
           "xaxis": "x",
           "y": [
            472.041,
            472.041
           ],
           "yaxis": "y"
          },
          {
           "hovertemplate": "<b>%{hovertext}</b><br><br>country=Hungary<br>year=2016<br>GDP (in Billion USD)=%{x}<br>Carbon Intensity of Electricity=%{y}<br>population=%{marker.size}<extra></extra>",
           "hovertext": [
            "Hungary",
            "Hungary"
           ],
           "legendgroup": "Hungary",
           "marker": {
            "color": "#19d3f3",
            "size": [
             9815106,
             9815106
            ],
            "sizemode": "area",
            "sizeref": 205828.58,
            "symbol": "circle"
           },
           "mode": "markers",
           "name": "Hungary",
           "orientation": "v",
           "showlegend": true,
           "type": "scatter",
           "x": [
            231459340288,
            231459340288
           ],
           "xaxis": "x",
           "y": [
            300.188,
            300.188
           ],
           "yaxis": "y"
          },
          {
           "hovertemplate": "<b>%{hovertext}</b><br><br>country=Romania<br>year=2016<br>GDP (in Billion USD)=%{x}<br>Carbon Intensity of Electricity=%{y}<br>population=%{marker.size}<extra></extra>",
           "hovertext": [
            "Romania",
            "Romania"
           ],
           "legendgroup": "Romania",
           "marker": {
            "color": "#FF6692",
            "size": [
             19797820,
             19797820
            ],
            "sizemode": "area",
            "sizeref": 205828.58,
            "symbol": "circle"
           },
           "mode": "markers",
           "name": "Romania",
           "orientation": "v",
           "showlegend": true,
           "type": "scatter",
           "x": [
            395288248320,
            395288248320
           ],
           "xaxis": "x",
           "y": [
            345.375,
            345.375
           ],
           "yaxis": "y"
          },
          {
           "hovertemplate": "<b>%{hovertext}</b><br><br>country=Slovenia<br>year=2016<br>GDP (in Billion USD)=%{x}<br>Carbon Intensity of Electricity=%{y}<br>population=%{marker.size}<extra></extra>",
           "hovertext": [
            "Slovenia",
            "Slovenia"
           ],
           "legendgroup": "Slovenia",
           "marker": {
            "color": "#B6E880",
            "size": [
             2090020,
             2090020
            ],
            "sizemode": "area",
            "sizeref": 205828.58,
            "symbol": "circle"
           },
           "mode": "markers",
           "name": "Slovenia",
           "orientation": "v",
           "showlegend": true,
           "type": "scatter",
           "x": [
            56151179264,
            56151179264
           ],
           "xaxis": "x",
           "y": [
            325.94,
            325.94
           ],
           "yaxis": "y"
          },
          {
           "hovertemplate": "<b>%{hovertext}</b><br><br>country=Ukraine<br>year=2016<br>GDP (in Billion USD)=%{x}<br>Carbon Intensity of Electricity=%{y}<br>population=%{marker.size}<extra></extra>",
           "hovertext": [
            "Ukraine",
            "Ukraine"
           ],
           "legendgroup": "Ukraine",
           "marker": {
            "color": "#FF97FF",
            "size": [
             44833568,
             44833568
            ],
            "sizemode": "area",
            "sizeref": 205828.58,
            "symbol": "circle"
           },
           "mode": "markers",
           "name": "Ukraine",
           "orientation": "v",
           "showlegend": true,
           "type": "scatter",
           "x": [
            407666196480,
            407666196480
           ],
           "xaxis": "x",
           "y": [
            408.434,
            408.434
           ],
           "yaxis": "y"
          }
         ],
         "name": "2016"
        },
        {
         "data": [
          {
           "hovertemplate": "<b>%{hovertext}</b><br><br>country=Romania<br>year=2017<br>GDP (in Billion USD)=%{x}<br>Carbon Intensity of Electricity=%{y}<br>population=%{marker.size}<extra></extra>",
           "hovertext": [
            "Romania",
            "Romania"
           ],
           "legendgroup": "Romania",
           "marker": {
            "color": "#FF6692",
            "size": [
             19698852,
             19698852
            ],
            "sizemode": "area",
            "sizeref": 205828.58,
            "symbol": "circle"
           },
           "mode": "markers",
           "name": "Romania",
           "orientation": "v",
           "showlegend": true,
           "type": "scatter",
           "x": [
            456012365824,
            456012365824
           ],
           "xaxis": "x",
           "y": [
            369.216,
            369.216
           ],
           "yaxis": "y"
          }
         ],
         "name": "2017"
        },
        {
         "data": [
          {
           "hovertemplate": "<b>%{hovertext}</b><br><br>country=Romania<br>year=2018<br>GDP (in Billion USD)=%{x}<br>Carbon Intensity of Electricity=%{y}<br>population=%{marker.size}<extra></extra>",
           "hovertext": [
            "Romania",
            "Romania"
           ],
           "legendgroup": "Romania",
           "marker": {
            "color": "#FF6692",
            "size": [
             19606778,
             19606778
            ],
            "sizemode": "area",
            "sizeref": 205828.58,
            "symbol": "circle"
           },
           "mode": "markers",
           "name": "Romania",
           "orientation": "v",
           "showlegend": true,
           "type": "scatter",
           "x": [
            473122635776,
            473122635776
           ],
           "xaxis": "x",
           "y": [
            348.057,
            348.057
           ],
           "yaxis": "y"
          }
         ],
         "name": "2018"
        },
        {
         "data": [
          {
           "hovertemplate": "<b>%{hovertext}</b><br><br>country=Romania<br>year=2019<br>GDP (in Billion USD)=%{x}<br>Carbon Intensity of Electricity=%{y}<br>population=%{marker.size}<extra></extra>",
           "hovertext": [
            "Romania",
            "Romania"
           ],
           "legendgroup": "Romania",
           "marker": {
            "color": "#FF6692",
            "size": [
             19524212,
             19524212
            ],
            "sizemode": "area",
            "sizeref": 205828.58,
            "symbol": "circle"
           },
           "mode": "markers",
           "name": "Romania",
           "orientation": "v",
           "showlegend": true,
           "type": "scatter",
           "x": [
            456564506624,
            456564506624
           ],
           "xaxis": "x",
           "y": [
            328.965,
            328.965
           ],
           "yaxis": "y"
          }
         ],
         "name": "2019"
        },
        {
         "data": [
          {
           "hovertemplate": "<b>%{hovertext}</b><br><br>country=Romania<br>year=2020<br>GDP (in Billion USD)=%{x}<br>Carbon Intensity of Electricity=%{y}<br>population=%{marker.size}<extra></extra>",
           "hovertext": [
            "Romania",
            "Romania"
           ],
           "legendgroup": "Romania",
           "marker": {
            "color": "#FF6692",
            "size": [
             19442040,
             19442040
            ],
            "sizemode": "area",
            "sizeref": 205828.58,
            "symbol": "circle"
           },
           "mode": "markers",
           "name": "Romania",
           "orientation": "v",
           "showlegend": true,
           "type": "scatter",
           "x": [
            483499376640,
            483499376640
           ],
           "xaxis": "x",
           "y": [
            277.848,
            277.848
           ],
           "yaxis": "y"
          }
         ],
         "name": "2020"
        },
        {
         "data": [
          {
           "hovertemplate": "<b>%{hovertext}</b><br><br>country=Romania<br>year=2021<br>GDP (in Billion USD)=%{x}<br>Carbon Intensity of Electricity=%{y}<br>population=%{marker.size}<extra></extra>",
           "hovertext": [
            "Romania",
            "Romania"
           ],
           "legendgroup": "Romania",
           "marker": {
            "color": "#FF6692",
            "size": [
             19328558,
             19328558
            ],
            "sizemode": "area",
            "sizeref": 205828.58,
            "symbol": "circle"
           },
           "mode": "markers",
           "name": "Romania",
           "orientation": "v",
           "showlegend": true,
           "type": "scatter",
           "x": [
            505119539200,
            505119539200
           ],
           "xaxis": "x",
           "y": [
            289.959,
            289.959
           ],
           "yaxis": "y"
          }
         ],
         "name": "2021"
        }
       ],
       "layout": {
        "legend": {
         "itemsizing": "constant",
         "title": {
          "text": "Country"
         },
         "tracegroupgap": 0
        },
        "sliders": [
         {
          "active": 0,
          "currentvalue": {
           "prefix": "year="
          },
          "len": 0.9,
          "pad": {
           "b": 10,
           "t": 60
          },
          "steps": [
           {
            "args": [
             [
              "2000"
             ],
             {
              "frame": {
               "duration": 0,
               "redraw": false
              },
              "fromcurrent": true,
              "mode": "immediate",
              "transition": {
               "duration": 0,
               "easing": "linear"
              }
             }
            ],
            "label": "2000",
            "method": "animate"
           },
           {
            "args": [
             [
              "2001"
             ],
             {
              "frame": {
               "duration": 0,
               "redraw": false
              },
              "fromcurrent": true,
              "mode": "immediate",
              "transition": {
               "duration": 0,
               "easing": "linear"
              }
             }
            ],
            "label": "2001",
            "method": "animate"
           },
           {
            "args": [
             [
              "2002"
             ],
             {
              "frame": {
               "duration": 0,
               "redraw": false
              },
              "fromcurrent": true,
              "mode": "immediate",
              "transition": {
               "duration": 0,
               "easing": "linear"
              }
             }
            ],
            "label": "2002",
            "method": "animate"
           },
           {
            "args": [
             [
              "2003"
             ],
             {
              "frame": {
               "duration": 0,
               "redraw": false
              },
              "fromcurrent": true,
              "mode": "immediate",
              "transition": {
               "duration": 0,
               "easing": "linear"
              }
             }
            ],
            "label": "2003",
            "method": "animate"
           },
           {
            "args": [
             [
              "2004"
             ],
             {
              "frame": {
               "duration": 0,
               "redraw": false
              },
              "fromcurrent": true,
              "mode": "immediate",
              "transition": {
               "duration": 0,
               "easing": "linear"
              }
             }
            ],
            "label": "2004",
            "method": "animate"
           },
           {
            "args": [
             [
              "2005"
             ],
             {
              "frame": {
               "duration": 0,
               "redraw": false
              },
              "fromcurrent": true,
              "mode": "immediate",
              "transition": {
               "duration": 0,
               "easing": "linear"
              }
             }
            ],
            "label": "2005",
            "method": "animate"
           },
           {
            "args": [
             [
              "2006"
             ],
             {
              "frame": {
               "duration": 0,
               "redraw": false
              },
              "fromcurrent": true,
              "mode": "immediate",
              "transition": {
               "duration": 0,
               "easing": "linear"
              }
             }
            ],
            "label": "2006",
            "method": "animate"
           },
           {
            "args": [
             [
              "2007"
             ],
             {
              "frame": {
               "duration": 0,
               "redraw": false
              },
              "fromcurrent": true,
              "mode": "immediate",
              "transition": {
               "duration": 0,
               "easing": "linear"
              }
             }
            ],
            "label": "2007",
            "method": "animate"
           },
           {
            "args": [
             [
              "2008"
             ],
             {
              "frame": {
               "duration": 0,
               "redraw": false
              },
              "fromcurrent": true,
              "mode": "immediate",
              "transition": {
               "duration": 0,
               "easing": "linear"
              }
             }
            ],
            "label": "2008",
            "method": "animate"
           },
           {
            "args": [
             [
              "2009"
             ],
             {
              "frame": {
               "duration": 0,
               "redraw": false
              },
              "fromcurrent": true,
              "mode": "immediate",
              "transition": {
               "duration": 0,
               "easing": "linear"
              }
             }
            ],
            "label": "2009",
            "method": "animate"
           },
           {
            "args": [
             [
              "2010"
             ],
             {
              "frame": {
               "duration": 0,
               "redraw": false
              },
              "fromcurrent": true,
              "mode": "immediate",
              "transition": {
               "duration": 0,
               "easing": "linear"
              }
             }
            ],
            "label": "2010",
            "method": "animate"
           },
           {
            "args": [
             [
              "2011"
             ],
             {
              "frame": {
               "duration": 0,
               "redraw": false
              },
              "fromcurrent": true,
              "mode": "immediate",
              "transition": {
               "duration": 0,
               "easing": "linear"
              }
             }
            ],
            "label": "2011",
            "method": "animate"
           },
           {
            "args": [
             [
              "2012"
             ],
             {
              "frame": {
               "duration": 0,
               "redraw": false
              },
              "fromcurrent": true,
              "mode": "immediate",
              "transition": {
               "duration": 0,
               "easing": "linear"
              }
             }
            ],
            "label": "2012",
            "method": "animate"
           },
           {
            "args": [
             [
              "2013"
             ],
             {
              "frame": {
               "duration": 0,
               "redraw": false
              },
              "fromcurrent": true,
              "mode": "immediate",
              "transition": {
               "duration": 0,
               "easing": "linear"
              }
             }
            ],
            "label": "2013",
            "method": "animate"
           },
           {
            "args": [
             [
              "2014"
             ],
             {
              "frame": {
               "duration": 0,
               "redraw": false
              },
              "fromcurrent": true,
              "mode": "immediate",
              "transition": {
               "duration": 0,
               "easing": "linear"
              }
             }
            ],
            "label": "2014",
            "method": "animate"
           },
           {
            "args": [
             [
              "2015"
             ],
             {
              "frame": {
               "duration": 0,
               "redraw": false
              },
              "fromcurrent": true,
              "mode": "immediate",
              "transition": {
               "duration": 0,
               "easing": "linear"
              }
             }
            ],
            "label": "2015",
            "method": "animate"
           },
           {
            "args": [
             [
              "2016"
             ],
             {
              "frame": {
               "duration": 0,
               "redraw": false
              },
              "fromcurrent": true,
              "mode": "immediate",
              "transition": {
               "duration": 0,
               "easing": "linear"
              }
             }
            ],
            "label": "2016",
            "method": "animate"
           },
           {
            "args": [
             [
              "2017"
             ],
             {
              "frame": {
               "duration": 0,
               "redraw": false
              },
              "fromcurrent": true,
              "mode": "immediate",
              "transition": {
               "duration": 0,
               "easing": "linear"
              }
             }
            ],
            "label": "2017",
            "method": "animate"
           },
           {
            "args": [
             [
              "2018"
             ],
             {
              "frame": {
               "duration": 0,
               "redraw": false
              },
              "fromcurrent": true,
              "mode": "immediate",
              "transition": {
               "duration": 0,
               "easing": "linear"
              }
             }
            ],
            "label": "2018",
            "method": "animate"
           },
           {
            "args": [
             [
              "2019"
             ],
             {
              "frame": {
               "duration": 0,
               "redraw": false
              },
              "fromcurrent": true,
              "mode": "immediate",
              "transition": {
               "duration": 0,
               "easing": "linear"
              }
             }
            ],
            "label": "2019",
            "method": "animate"
           },
           {
            "args": [
             [
              "2020"
             ],
             {
              "frame": {
               "duration": 0,
               "redraw": false
              },
              "fromcurrent": true,
              "mode": "immediate",
              "transition": {
               "duration": 0,
               "easing": "linear"
              }
             }
            ],
            "label": "2020",
            "method": "animate"
           },
           {
            "args": [
             [
              "2021"
             ],
             {
              "frame": {
               "duration": 0,
               "redraw": false
              },
              "fromcurrent": true,
              "mode": "immediate",
              "transition": {
               "duration": 0,
               "easing": "linear"
              }
             }
            ],
            "label": "2021",
            "method": "animate"
           }
          ],
          "x": 0.1,
          "xanchor": "left",
          "y": 0,
          "yanchor": "top"
         }
        ],
        "template": {
         "data": {
          "bar": [
           {
            "error_x": {
             "color": "#2a3f5f"
            },
            "error_y": {
             "color": "#2a3f5f"
            },
            "marker": {
             "line": {
              "color": "white",
              "width": 0.5
             },
             "pattern": {
              "fillmode": "overlay",
              "size": 10,
              "solidity": 0.2
             }
            },
            "type": "bar"
           }
          ],
          "barpolar": [
           {
            "marker": {
             "line": {
              "color": "white",
              "width": 0.5
             },
             "pattern": {
              "fillmode": "overlay",
              "size": 10,
              "solidity": 0.2
             }
            },
            "type": "barpolar"
           }
          ],
          "carpet": [
           {
            "aaxis": {
             "endlinecolor": "#2a3f5f",
             "gridcolor": "#C8D4E3",
             "linecolor": "#C8D4E3",
             "minorgridcolor": "#C8D4E3",
             "startlinecolor": "#2a3f5f"
            },
            "baxis": {
             "endlinecolor": "#2a3f5f",
             "gridcolor": "#C8D4E3",
             "linecolor": "#C8D4E3",
             "minorgridcolor": "#C8D4E3",
             "startlinecolor": "#2a3f5f"
            },
            "type": "carpet"
           }
          ],
          "choropleth": [
           {
            "colorbar": {
             "outlinewidth": 0,
             "ticks": ""
            },
            "type": "choropleth"
           }
          ],
          "contour": [
           {
            "colorbar": {
             "outlinewidth": 0,
             "ticks": ""
            },
            "colorscale": [
             [
              0,
              "#0d0887"
             ],
             [
              0.1111111111111111,
              "#46039f"
             ],
             [
              0.2222222222222222,
              "#7201a8"
             ],
             [
              0.3333333333333333,
              "#9c179e"
             ],
             [
              0.4444444444444444,
              "#bd3786"
             ],
             [
              0.5555555555555556,
              "#d8576b"
             ],
             [
              0.6666666666666666,
              "#ed7953"
             ],
             [
              0.7777777777777778,
              "#fb9f3a"
             ],
             [
              0.8888888888888888,
              "#fdca26"
             ],
             [
              1,
              "#f0f921"
             ]
            ],
            "type": "contour"
           }
          ],
          "contourcarpet": [
           {
            "colorbar": {
             "outlinewidth": 0,
             "ticks": ""
            },
            "type": "contourcarpet"
           }
          ],
          "heatmap": [
           {
            "colorbar": {
             "outlinewidth": 0,
             "ticks": ""
            },
            "colorscale": [
             [
              0,
              "#0d0887"
             ],
             [
              0.1111111111111111,
              "#46039f"
             ],
             [
              0.2222222222222222,
              "#7201a8"
             ],
             [
              0.3333333333333333,
              "#9c179e"
             ],
             [
              0.4444444444444444,
              "#bd3786"
             ],
             [
              0.5555555555555556,
              "#d8576b"
             ],
             [
              0.6666666666666666,
              "#ed7953"
             ],
             [
              0.7777777777777778,
              "#fb9f3a"
             ],
             [
              0.8888888888888888,
              "#fdca26"
             ],
             [
              1,
              "#f0f921"
             ]
            ],
            "type": "heatmap"
           }
          ],
          "heatmapgl": [
           {
            "colorbar": {
             "outlinewidth": 0,
             "ticks": ""
            },
            "colorscale": [
             [
              0,
              "#0d0887"
             ],
             [
              0.1111111111111111,
              "#46039f"
             ],
             [
              0.2222222222222222,
              "#7201a8"
             ],
             [
              0.3333333333333333,
              "#9c179e"
             ],
             [
              0.4444444444444444,
              "#bd3786"
             ],
             [
              0.5555555555555556,
              "#d8576b"
             ],
             [
              0.6666666666666666,
              "#ed7953"
             ],
             [
              0.7777777777777778,
              "#fb9f3a"
             ],
             [
              0.8888888888888888,
              "#fdca26"
             ],
             [
              1,
              "#f0f921"
             ]
            ],
            "type": "heatmapgl"
           }
          ],
          "histogram": [
           {
            "marker": {
             "pattern": {
              "fillmode": "overlay",
              "size": 10,
              "solidity": 0.2
             }
            },
            "type": "histogram"
           }
          ],
          "histogram2d": [
           {
            "colorbar": {
             "outlinewidth": 0,
             "ticks": ""
            },
            "colorscale": [
             [
              0,
              "#0d0887"
             ],
             [
              0.1111111111111111,
              "#46039f"
             ],
             [
              0.2222222222222222,
              "#7201a8"
             ],
             [
              0.3333333333333333,
              "#9c179e"
             ],
             [
              0.4444444444444444,
              "#bd3786"
             ],
             [
              0.5555555555555556,
              "#d8576b"
             ],
             [
              0.6666666666666666,
              "#ed7953"
             ],
             [
              0.7777777777777778,
              "#fb9f3a"
             ],
             [
              0.8888888888888888,
              "#fdca26"
             ],
             [
              1,
              "#f0f921"
             ]
            ],
            "type": "histogram2d"
           }
          ],
          "histogram2dcontour": [
           {
            "colorbar": {
             "outlinewidth": 0,
             "ticks": ""
            },
            "colorscale": [
             [
              0,
              "#0d0887"
             ],
             [
              0.1111111111111111,
              "#46039f"
             ],
             [
              0.2222222222222222,
              "#7201a8"
             ],
             [
              0.3333333333333333,
              "#9c179e"
             ],
             [
              0.4444444444444444,
              "#bd3786"
             ],
             [
              0.5555555555555556,
              "#d8576b"
             ],
             [
              0.6666666666666666,
              "#ed7953"
             ],
             [
              0.7777777777777778,
              "#fb9f3a"
             ],
             [
              0.8888888888888888,
              "#fdca26"
             ],
             [
              1,
              "#f0f921"
             ]
            ],
            "type": "histogram2dcontour"
           }
          ],
          "mesh3d": [
           {
            "colorbar": {
             "outlinewidth": 0,
             "ticks": ""
            },
            "type": "mesh3d"
           }
          ],
          "parcoords": [
           {
            "line": {
             "colorbar": {
              "outlinewidth": 0,
              "ticks": ""
             }
            },
            "type": "parcoords"
           }
          ],
          "pie": [
           {
            "automargin": true,
            "type": "pie"
           }
          ],
          "scatter": [
           {
            "fillpattern": {
             "fillmode": "overlay",
             "size": 10,
             "solidity": 0.2
            },
            "type": "scatter"
           }
          ],
          "scatter3d": [
           {
            "line": {
             "colorbar": {
              "outlinewidth": 0,
              "ticks": ""
             }
            },
            "marker": {
             "colorbar": {
              "outlinewidth": 0,
              "ticks": ""
             }
            },
            "type": "scatter3d"
           }
          ],
          "scattercarpet": [
           {
            "marker": {
             "colorbar": {
              "outlinewidth": 0,
              "ticks": ""
             }
            },
            "type": "scattercarpet"
           }
          ],
          "scattergeo": [
           {
            "marker": {
             "colorbar": {
              "outlinewidth": 0,
              "ticks": ""
             }
            },
            "type": "scattergeo"
           }
          ],
          "scattergl": [
           {
            "marker": {
             "colorbar": {
              "outlinewidth": 0,
              "ticks": ""
             }
            },
            "type": "scattergl"
           }
          ],
          "scattermapbox": [
           {
            "marker": {
             "colorbar": {
              "outlinewidth": 0,
              "ticks": ""
             }
            },
            "type": "scattermapbox"
           }
          ],
          "scatterpolar": [
           {
            "marker": {
             "colorbar": {
              "outlinewidth": 0,
              "ticks": ""
             }
            },
            "type": "scatterpolar"
           }
          ],
          "scatterpolargl": [
           {
            "marker": {
             "colorbar": {
              "outlinewidth": 0,
              "ticks": ""
             }
            },
            "type": "scatterpolargl"
           }
          ],
          "scatterternary": [
           {
            "marker": {
             "colorbar": {
              "outlinewidth": 0,
              "ticks": ""
             }
            },
            "type": "scatterternary"
           }
          ],
          "surface": [
           {
            "colorbar": {
             "outlinewidth": 0,
             "ticks": ""
            },
            "colorscale": [
             [
              0,
              "#0d0887"
             ],
             [
              0.1111111111111111,
              "#46039f"
             ],
             [
              0.2222222222222222,
              "#7201a8"
             ],
             [
              0.3333333333333333,
              "#9c179e"
             ],
             [
              0.4444444444444444,
              "#bd3786"
             ],
             [
              0.5555555555555556,
              "#d8576b"
             ],
             [
              0.6666666666666666,
              "#ed7953"
             ],
             [
              0.7777777777777778,
              "#fb9f3a"
             ],
             [
              0.8888888888888888,
              "#fdca26"
             ],
             [
              1,
              "#f0f921"
             ]
            ],
            "type": "surface"
           }
          ],
          "table": [
           {
            "cells": {
             "fill": {
              "color": "#EBF0F8"
             },
             "line": {
              "color": "white"
             }
            },
            "header": {
             "fill": {
              "color": "#C8D4E3"
             },
             "line": {
              "color": "white"
             }
            },
            "type": "table"
           }
          ]
         },
         "layout": {
          "annotationdefaults": {
           "arrowcolor": "#2a3f5f",
           "arrowhead": 0,
           "arrowwidth": 1
          },
          "autotypenumbers": "strict",
          "coloraxis": {
           "colorbar": {
            "outlinewidth": 0,
            "ticks": ""
           }
          },
          "colorscale": {
           "diverging": [
            [
             0,
             "#8e0152"
            ],
            [
             0.1,
             "#c51b7d"
            ],
            [
             0.2,
             "#de77ae"
            ],
            [
             0.3,
             "#f1b6da"
            ],
            [
             0.4,
             "#fde0ef"
            ],
            [
             0.5,
             "#f7f7f7"
            ],
            [
             0.6,
             "#e6f5d0"
            ],
            [
             0.7,
             "#b8e186"
            ],
            [
             0.8,
             "#7fbc41"
            ],
            [
             0.9,
             "#4d9221"
            ],
            [
             1,
             "#276419"
            ]
           ],
           "sequential": [
            [
             0,
             "#0d0887"
            ],
            [
             0.1111111111111111,
             "#46039f"
            ],
            [
             0.2222222222222222,
             "#7201a8"
            ],
            [
             0.3333333333333333,
             "#9c179e"
            ],
            [
             0.4444444444444444,
             "#bd3786"
            ],
            [
             0.5555555555555556,
             "#d8576b"
            ],
            [
             0.6666666666666666,
             "#ed7953"
            ],
            [
             0.7777777777777778,
             "#fb9f3a"
            ],
            [
             0.8888888888888888,
             "#fdca26"
            ],
            [
             1,
             "#f0f921"
            ]
           ],
           "sequentialminus": [
            [
             0,
             "#0d0887"
            ],
            [
             0.1111111111111111,
             "#46039f"
            ],
            [
             0.2222222222222222,
             "#7201a8"
            ],
            [
             0.3333333333333333,
             "#9c179e"
            ],
            [
             0.4444444444444444,
             "#bd3786"
            ],
            [
             0.5555555555555556,
             "#d8576b"
            ],
            [
             0.6666666666666666,
             "#ed7953"
            ],
            [
             0.7777777777777778,
             "#fb9f3a"
            ],
            [
             0.8888888888888888,
             "#fdca26"
            ],
            [
             1,
             "#f0f921"
            ]
           ]
          },
          "colorway": [
           "#636efa",
           "#EF553B",
           "#00cc96",
           "#ab63fa",
           "#FFA15A",
           "#19d3f3",
           "#FF6692",
           "#B6E880",
           "#FF97FF",
           "#FECB52"
          ],
          "font": {
           "color": "#2a3f5f"
          },
          "geo": {
           "bgcolor": "white",
           "lakecolor": "white",
           "landcolor": "white",
           "showlakes": true,
           "showland": true,
           "subunitcolor": "#C8D4E3"
          },
          "hoverlabel": {
           "align": "left"
          },
          "hovermode": "closest",
          "mapbox": {
           "style": "light"
          },
          "paper_bgcolor": "white",
          "plot_bgcolor": "white",
          "polar": {
           "angularaxis": {
            "gridcolor": "#EBF0F8",
            "linecolor": "#EBF0F8",
            "ticks": ""
           },
           "bgcolor": "white",
           "radialaxis": {
            "gridcolor": "#EBF0F8",
            "linecolor": "#EBF0F8",
            "ticks": ""
           }
          },
          "scene": {
           "xaxis": {
            "backgroundcolor": "white",
            "gridcolor": "#DFE8F3",
            "gridwidth": 2,
            "linecolor": "#EBF0F8",
            "showbackground": true,
            "ticks": "",
            "zerolinecolor": "#EBF0F8"
           },
           "yaxis": {
            "backgroundcolor": "white",
            "gridcolor": "#DFE8F3",
            "gridwidth": 2,
            "linecolor": "#EBF0F8",
            "showbackground": true,
            "ticks": "",
            "zerolinecolor": "#EBF0F8"
           },
           "zaxis": {
            "backgroundcolor": "white",
            "gridcolor": "#DFE8F3",
            "gridwidth": 2,
            "linecolor": "#EBF0F8",
            "showbackground": true,
            "ticks": "",
            "zerolinecolor": "#EBF0F8"
           }
          },
          "shapedefaults": {
           "line": {
            "color": "#2a3f5f"
           }
          },
          "ternary": {
           "aaxis": {
            "gridcolor": "#DFE8F3",
            "linecolor": "#A2B1C6",
            "ticks": ""
           },
           "baxis": {
            "gridcolor": "#DFE8F3",
            "linecolor": "#A2B1C6",
            "ticks": ""
           },
           "bgcolor": "white",
           "caxis": {
            "gridcolor": "#DFE8F3",
            "linecolor": "#A2B1C6",
            "ticks": ""
           }
          },
          "title": {
           "x": 0.05
          },
          "xaxis": {
           "automargin": true,
           "gridcolor": "#EBF0F8",
           "linecolor": "#EBF0F8",
           "ticks": "",
           "title": {
            "standoff": 15
           },
           "zerolinecolor": "#EBF0F8",
           "zerolinewidth": 2
          },
          "yaxis": {
           "automargin": true,
           "gridcolor": "#EBF0F8",
           "linecolor": "#EBF0F8",
           "ticks": "",
           "title": {
            "standoff": 15
           },
           "zerolinecolor": "#EBF0F8",
           "zerolinewidth": 2
          }
         }
        },
        "title": {
         "text": "Animated Scatterplot: GDP vs Carbon Intensity"
        },
        "updatemenus": [
         {
          "buttons": [
           {
            "args": [
             null,
             {
              "frame": {
               "duration": 500,
               "redraw": false
              },
              "fromcurrent": true,
              "mode": "immediate",
              "transition": {
               "duration": 500,
               "easing": "linear"
              }
             }
            ],
            "label": "&#9654;",
            "method": "animate"
           },
           {
            "args": [
             [
              null
             ],
             {
              "frame": {
               "duration": 0,
               "redraw": false
              },
              "fromcurrent": true,
              "mode": "immediate",
              "transition": {
               "duration": 0,
               "easing": "linear"
              }
             }
            ],
            "label": "&#9724;",
            "method": "animate"
           }
          ],
          "direction": "left",
          "pad": {
           "r": 10,
           "t": 70
          },
          "showactive": false,
          "type": "buttons",
          "x": 0.1,
          "xanchor": "right",
          "y": 0,
          "yanchor": "top"
         }
        ],
        "xaxis": {
         "anchor": "y",
         "domain": [
          0,
          1
         ],
         "title": {
          "text": "GDP (in Billion USD)"
         }
        },
        "yaxis": {
         "anchor": "x",
         "domain": [
          0,
          1
         ],
         "title": {
          "text": "Carbon Intensity of Electricity"
         }
        }
       }
      },
      "text/html": [
       "<div>                            <div id=\"ff6936c6-0d86-44cd-a773-03857fa9582c\" class=\"plotly-graph-div\" style=\"height:525px; width:100%;\"></div>            <script type=\"text/javascript\">                require([\"plotly\"], function(Plotly) {                    window.PLOTLYENV=window.PLOTLYENV || {};                                    if (document.getElementById(\"ff6936c6-0d86-44cd-a773-03857fa9582c\")) {                    Plotly.newPlot(                        \"ff6936c6-0d86-44cd-a773-03857fa9582c\",                        [{\"hovertemplate\":\"<b>%{hovertext}</b><br><br>country=France<br>year=2000<br>GDP (in Billion USD)=%{x}<br>Carbon Intensity of Electricity=%{y}<br>population=%{marker.size}<extra></extra>\",\"hovertext\":[\"France\",\"France\"],\"legendgroup\":\"France\",\"marker\":{\"color\":\"#636efa\",\"size\":[58665456.0,58665456.0],\"sizemode\":\"area\",\"sizeref\":205828.58,\"symbol\":\"circle\"},\"mode\":\"markers\",\"name\":\"France\",\"orientation\":\"v\",\"showlegend\":true,\"x\":[2031676030976.0,2031676030976.0],\"xaxis\":\"x\",\"y\":[79.766,79.766],\"yaxis\":\"y\",\"type\":\"scatter\"},{\"hovertemplate\":\"<b>%{hovertext}</b><br><br>country=Germany<br>year=2000<br>GDP (in Billion USD)=%{x}<br>Carbon Intensity of Electricity=%{y}<br>population=%{marker.size}<extra></extra>\",\"hovertext\":[\"Germany\",\"Germany\"],\"legendgroup\":\"Germany\",\"marker\":{\"color\":\"#EF553B\",\"size\":[81551680.0,81551680.0],\"sizemode\":\"area\",\"sizeref\":205828.58,\"symbol\":\"circle\"},\"mode\":\"markers\",\"name\":\"Germany\",\"orientation\":\"v\",\"showlegend\":true,\"x\":[2718560681984.0,2718560681984.0],\"xaxis\":\"x\",\"y\":[573.126,573.126],\"yaxis\":\"y\",\"type\":\"scatter\"}],                        {\"template\":{\"data\":{\"barpolar\":[{\"marker\":{\"line\":{\"color\":\"white\",\"width\":0.5},\"pattern\":{\"fillmode\":\"overlay\",\"size\":10,\"solidity\":0.2}},\"type\":\"barpolar\"}],\"bar\":[{\"error_x\":{\"color\":\"#2a3f5f\"},\"error_y\":{\"color\":\"#2a3f5f\"},\"marker\":{\"line\":{\"color\":\"white\",\"width\":0.5},\"pattern\":{\"fillmode\":\"overlay\",\"size\":10,\"solidity\":0.2}},\"type\":\"bar\"}],\"carpet\":[{\"aaxis\":{\"endlinecolor\":\"#2a3f5f\",\"gridcolor\":\"#C8D4E3\",\"linecolor\":\"#C8D4E3\",\"minorgridcolor\":\"#C8D4E3\",\"startlinecolor\":\"#2a3f5f\"},\"baxis\":{\"endlinecolor\":\"#2a3f5f\",\"gridcolor\":\"#C8D4E3\",\"linecolor\":\"#C8D4E3\",\"minorgridcolor\":\"#C8D4E3\",\"startlinecolor\":\"#2a3f5f\"},\"type\":\"carpet\"}],\"choropleth\":[{\"colorbar\":{\"outlinewidth\":0,\"ticks\":\"\"},\"type\":\"choropleth\"}],\"contourcarpet\":[{\"colorbar\":{\"outlinewidth\":0,\"ticks\":\"\"},\"type\":\"contourcarpet\"}],\"contour\":[{\"colorbar\":{\"outlinewidth\":0,\"ticks\":\"\"},\"colorscale\":[[0.0,\"#0d0887\"],[0.1111111111111111,\"#46039f\"],[0.2222222222222222,\"#7201a8\"],[0.3333333333333333,\"#9c179e\"],[0.4444444444444444,\"#bd3786\"],[0.5555555555555556,\"#d8576b\"],[0.6666666666666666,\"#ed7953\"],[0.7777777777777778,\"#fb9f3a\"],[0.8888888888888888,\"#fdca26\"],[1.0,\"#f0f921\"]],\"type\":\"contour\"}],\"heatmapgl\":[{\"colorbar\":{\"outlinewidth\":0,\"ticks\":\"\"},\"colorscale\":[[0.0,\"#0d0887\"],[0.1111111111111111,\"#46039f\"],[0.2222222222222222,\"#7201a8\"],[0.3333333333333333,\"#9c179e\"],[0.4444444444444444,\"#bd3786\"],[0.5555555555555556,\"#d8576b\"],[0.6666666666666666,\"#ed7953\"],[0.7777777777777778,\"#fb9f3a\"],[0.8888888888888888,\"#fdca26\"],[1.0,\"#f0f921\"]],\"type\":\"heatmapgl\"}],\"heatmap\":[{\"colorbar\":{\"outlinewidth\":0,\"ticks\":\"\"},\"colorscale\":[[0.0,\"#0d0887\"],[0.1111111111111111,\"#46039f\"],[0.2222222222222222,\"#7201a8\"],[0.3333333333333333,\"#9c179e\"],[0.4444444444444444,\"#bd3786\"],[0.5555555555555556,\"#d8576b\"],[0.6666666666666666,\"#ed7953\"],[0.7777777777777778,\"#fb9f3a\"],[0.8888888888888888,\"#fdca26\"],[1.0,\"#f0f921\"]],\"type\":\"heatmap\"}],\"histogram2dcontour\":[{\"colorbar\":{\"outlinewidth\":0,\"ticks\":\"\"},\"colorscale\":[[0.0,\"#0d0887\"],[0.1111111111111111,\"#46039f\"],[0.2222222222222222,\"#7201a8\"],[0.3333333333333333,\"#9c179e\"],[0.4444444444444444,\"#bd3786\"],[0.5555555555555556,\"#d8576b\"],[0.6666666666666666,\"#ed7953\"],[0.7777777777777778,\"#fb9f3a\"],[0.8888888888888888,\"#fdca26\"],[1.0,\"#f0f921\"]],\"type\":\"histogram2dcontour\"}],\"histogram2d\":[{\"colorbar\":{\"outlinewidth\":0,\"ticks\":\"\"},\"colorscale\":[[0.0,\"#0d0887\"],[0.1111111111111111,\"#46039f\"],[0.2222222222222222,\"#7201a8\"],[0.3333333333333333,\"#9c179e\"],[0.4444444444444444,\"#bd3786\"],[0.5555555555555556,\"#d8576b\"],[0.6666666666666666,\"#ed7953\"],[0.7777777777777778,\"#fb9f3a\"],[0.8888888888888888,\"#fdca26\"],[1.0,\"#f0f921\"]],\"type\":\"histogram2d\"}],\"histogram\":[{\"marker\":{\"pattern\":{\"fillmode\":\"overlay\",\"size\":10,\"solidity\":0.2}},\"type\":\"histogram\"}],\"mesh3d\":[{\"colorbar\":{\"outlinewidth\":0,\"ticks\":\"\"},\"type\":\"mesh3d\"}],\"parcoords\":[{\"line\":{\"colorbar\":{\"outlinewidth\":0,\"ticks\":\"\"}},\"type\":\"parcoords\"}],\"pie\":[{\"automargin\":true,\"type\":\"pie\"}],\"scatter3d\":[{\"line\":{\"colorbar\":{\"outlinewidth\":0,\"ticks\":\"\"}},\"marker\":{\"colorbar\":{\"outlinewidth\":0,\"ticks\":\"\"}},\"type\":\"scatter3d\"}],\"scattercarpet\":[{\"marker\":{\"colorbar\":{\"outlinewidth\":0,\"ticks\":\"\"}},\"type\":\"scattercarpet\"}],\"scattergeo\":[{\"marker\":{\"colorbar\":{\"outlinewidth\":0,\"ticks\":\"\"}},\"type\":\"scattergeo\"}],\"scattergl\":[{\"marker\":{\"colorbar\":{\"outlinewidth\":0,\"ticks\":\"\"}},\"type\":\"scattergl\"}],\"scattermapbox\":[{\"marker\":{\"colorbar\":{\"outlinewidth\":0,\"ticks\":\"\"}},\"type\":\"scattermapbox\"}],\"scatterpolargl\":[{\"marker\":{\"colorbar\":{\"outlinewidth\":0,\"ticks\":\"\"}},\"type\":\"scatterpolargl\"}],\"scatterpolar\":[{\"marker\":{\"colorbar\":{\"outlinewidth\":0,\"ticks\":\"\"}},\"type\":\"scatterpolar\"}],\"scatter\":[{\"fillpattern\":{\"fillmode\":\"overlay\",\"size\":10,\"solidity\":0.2},\"type\":\"scatter\"}],\"scatterternary\":[{\"marker\":{\"colorbar\":{\"outlinewidth\":0,\"ticks\":\"\"}},\"type\":\"scatterternary\"}],\"surface\":[{\"colorbar\":{\"outlinewidth\":0,\"ticks\":\"\"},\"colorscale\":[[0.0,\"#0d0887\"],[0.1111111111111111,\"#46039f\"],[0.2222222222222222,\"#7201a8\"],[0.3333333333333333,\"#9c179e\"],[0.4444444444444444,\"#bd3786\"],[0.5555555555555556,\"#d8576b\"],[0.6666666666666666,\"#ed7953\"],[0.7777777777777778,\"#fb9f3a\"],[0.8888888888888888,\"#fdca26\"],[1.0,\"#f0f921\"]],\"type\":\"surface\"}],\"table\":[{\"cells\":{\"fill\":{\"color\":\"#EBF0F8\"},\"line\":{\"color\":\"white\"}},\"header\":{\"fill\":{\"color\":\"#C8D4E3\"},\"line\":{\"color\":\"white\"}},\"type\":\"table\"}]},\"layout\":{\"annotationdefaults\":{\"arrowcolor\":\"#2a3f5f\",\"arrowhead\":0,\"arrowwidth\":1},\"autotypenumbers\":\"strict\",\"coloraxis\":{\"colorbar\":{\"outlinewidth\":0,\"ticks\":\"\"}},\"colorscale\":{\"diverging\":[[0,\"#8e0152\"],[0.1,\"#c51b7d\"],[0.2,\"#de77ae\"],[0.3,\"#f1b6da\"],[0.4,\"#fde0ef\"],[0.5,\"#f7f7f7\"],[0.6,\"#e6f5d0\"],[0.7,\"#b8e186\"],[0.8,\"#7fbc41\"],[0.9,\"#4d9221\"],[1,\"#276419\"]],\"sequential\":[[0.0,\"#0d0887\"],[0.1111111111111111,\"#46039f\"],[0.2222222222222222,\"#7201a8\"],[0.3333333333333333,\"#9c179e\"],[0.4444444444444444,\"#bd3786\"],[0.5555555555555556,\"#d8576b\"],[0.6666666666666666,\"#ed7953\"],[0.7777777777777778,\"#fb9f3a\"],[0.8888888888888888,\"#fdca26\"],[1.0,\"#f0f921\"]],\"sequentialminus\":[[0.0,\"#0d0887\"],[0.1111111111111111,\"#46039f\"],[0.2222222222222222,\"#7201a8\"],[0.3333333333333333,\"#9c179e\"],[0.4444444444444444,\"#bd3786\"],[0.5555555555555556,\"#d8576b\"],[0.6666666666666666,\"#ed7953\"],[0.7777777777777778,\"#fb9f3a\"],[0.8888888888888888,\"#fdca26\"],[1.0,\"#f0f921\"]]},\"colorway\":[\"#636efa\",\"#EF553B\",\"#00cc96\",\"#ab63fa\",\"#FFA15A\",\"#19d3f3\",\"#FF6692\",\"#B6E880\",\"#FF97FF\",\"#FECB52\"],\"font\":{\"color\":\"#2a3f5f\"},\"geo\":{\"bgcolor\":\"white\",\"lakecolor\":\"white\",\"landcolor\":\"white\",\"showlakes\":true,\"showland\":true,\"subunitcolor\":\"#C8D4E3\"},\"hoverlabel\":{\"align\":\"left\"},\"hovermode\":\"closest\",\"mapbox\":{\"style\":\"light\"},\"paper_bgcolor\":\"white\",\"plot_bgcolor\":\"white\",\"polar\":{\"angularaxis\":{\"gridcolor\":\"#EBF0F8\",\"linecolor\":\"#EBF0F8\",\"ticks\":\"\"},\"bgcolor\":\"white\",\"radialaxis\":{\"gridcolor\":\"#EBF0F8\",\"linecolor\":\"#EBF0F8\",\"ticks\":\"\"}},\"scene\":{\"xaxis\":{\"backgroundcolor\":\"white\",\"gridcolor\":\"#DFE8F3\",\"gridwidth\":2,\"linecolor\":\"#EBF0F8\",\"showbackground\":true,\"ticks\":\"\",\"zerolinecolor\":\"#EBF0F8\"},\"yaxis\":{\"backgroundcolor\":\"white\",\"gridcolor\":\"#DFE8F3\",\"gridwidth\":2,\"linecolor\":\"#EBF0F8\",\"showbackground\":true,\"ticks\":\"\",\"zerolinecolor\":\"#EBF0F8\"},\"zaxis\":{\"backgroundcolor\":\"white\",\"gridcolor\":\"#DFE8F3\",\"gridwidth\":2,\"linecolor\":\"#EBF0F8\",\"showbackground\":true,\"ticks\":\"\",\"zerolinecolor\":\"#EBF0F8\"}},\"shapedefaults\":{\"line\":{\"color\":\"#2a3f5f\"}},\"ternary\":{\"aaxis\":{\"gridcolor\":\"#DFE8F3\",\"linecolor\":\"#A2B1C6\",\"ticks\":\"\"},\"baxis\":{\"gridcolor\":\"#DFE8F3\",\"linecolor\":\"#A2B1C6\",\"ticks\":\"\"},\"bgcolor\":\"white\",\"caxis\":{\"gridcolor\":\"#DFE8F3\",\"linecolor\":\"#A2B1C6\",\"ticks\":\"\"}},\"title\":{\"x\":0.05},\"xaxis\":{\"automargin\":true,\"gridcolor\":\"#EBF0F8\",\"linecolor\":\"#EBF0F8\",\"ticks\":\"\",\"title\":{\"standoff\":15},\"zerolinecolor\":\"#EBF0F8\",\"zerolinewidth\":2},\"yaxis\":{\"automargin\":true,\"gridcolor\":\"#EBF0F8\",\"linecolor\":\"#EBF0F8\",\"ticks\":\"\",\"title\":{\"standoff\":15},\"zerolinecolor\":\"#EBF0F8\",\"zerolinewidth\":2}}},\"xaxis\":{\"anchor\":\"y\",\"domain\":[0.0,1.0],\"title\":{\"text\":\"GDP (in Billion USD)\"}},\"yaxis\":{\"anchor\":\"x\",\"domain\":[0.0,1.0],\"title\":{\"text\":\"Carbon Intensity of Electricity\"}},\"legend\":{\"title\":{\"text\":\"Country\"},\"tracegroupgap\":0,\"itemsizing\":\"constant\"},\"title\":{\"text\":\"Animated Scatterplot: GDP vs Carbon Intensity\"},\"updatemenus\":[{\"buttons\":[{\"args\":[null,{\"frame\":{\"duration\":500,\"redraw\":false},\"mode\":\"immediate\",\"fromcurrent\":true,\"transition\":{\"duration\":500,\"easing\":\"linear\"}}],\"label\":\"&#9654;\",\"method\":\"animate\"},{\"args\":[[null],{\"frame\":{\"duration\":0,\"redraw\":false},\"mode\":\"immediate\",\"fromcurrent\":true,\"transition\":{\"duration\":0,\"easing\":\"linear\"}}],\"label\":\"&#9724;\",\"method\":\"animate\"}],\"direction\":\"left\",\"pad\":{\"r\":10,\"t\":70},\"showactive\":false,\"type\":\"buttons\",\"x\":0.1,\"xanchor\":\"right\",\"y\":0,\"yanchor\":\"top\"}],\"sliders\":[{\"active\":0,\"currentvalue\":{\"prefix\":\"year=\"},\"len\":0.9,\"pad\":{\"b\":10,\"t\":60},\"steps\":[{\"args\":[[\"2000\"],{\"frame\":{\"duration\":0,\"redraw\":false},\"mode\":\"immediate\",\"fromcurrent\":true,\"transition\":{\"duration\":0,\"easing\":\"linear\"}}],\"label\":\"2000\",\"method\":\"animate\"},{\"args\":[[\"2001\"],{\"frame\":{\"duration\":0,\"redraw\":false},\"mode\":\"immediate\",\"fromcurrent\":true,\"transition\":{\"duration\":0,\"easing\":\"linear\"}}],\"label\":\"2001\",\"method\":\"animate\"},{\"args\":[[\"2002\"],{\"frame\":{\"duration\":0,\"redraw\":false},\"mode\":\"immediate\",\"fromcurrent\":true,\"transition\":{\"duration\":0,\"easing\":\"linear\"}}],\"label\":\"2002\",\"method\":\"animate\"},{\"args\":[[\"2003\"],{\"frame\":{\"duration\":0,\"redraw\":false},\"mode\":\"immediate\",\"fromcurrent\":true,\"transition\":{\"duration\":0,\"easing\":\"linear\"}}],\"label\":\"2003\",\"method\":\"animate\"},{\"args\":[[\"2004\"],{\"frame\":{\"duration\":0,\"redraw\":false},\"mode\":\"immediate\",\"fromcurrent\":true,\"transition\":{\"duration\":0,\"easing\":\"linear\"}}],\"label\":\"2004\",\"method\":\"animate\"},{\"args\":[[\"2005\"],{\"frame\":{\"duration\":0,\"redraw\":false},\"mode\":\"immediate\",\"fromcurrent\":true,\"transition\":{\"duration\":0,\"easing\":\"linear\"}}],\"label\":\"2005\",\"method\":\"animate\"},{\"args\":[[\"2006\"],{\"frame\":{\"duration\":0,\"redraw\":false},\"mode\":\"immediate\",\"fromcurrent\":true,\"transition\":{\"duration\":0,\"easing\":\"linear\"}}],\"label\":\"2006\",\"method\":\"animate\"},{\"args\":[[\"2007\"],{\"frame\":{\"duration\":0,\"redraw\":false},\"mode\":\"immediate\",\"fromcurrent\":true,\"transition\":{\"duration\":0,\"easing\":\"linear\"}}],\"label\":\"2007\",\"method\":\"animate\"},{\"args\":[[\"2008\"],{\"frame\":{\"duration\":0,\"redraw\":false},\"mode\":\"immediate\",\"fromcurrent\":true,\"transition\":{\"duration\":0,\"easing\":\"linear\"}}],\"label\":\"2008\",\"method\":\"animate\"},{\"args\":[[\"2009\"],{\"frame\":{\"duration\":0,\"redraw\":false},\"mode\":\"immediate\",\"fromcurrent\":true,\"transition\":{\"duration\":0,\"easing\":\"linear\"}}],\"label\":\"2009\",\"method\":\"animate\"},{\"args\":[[\"2010\"],{\"frame\":{\"duration\":0,\"redraw\":false},\"mode\":\"immediate\",\"fromcurrent\":true,\"transition\":{\"duration\":0,\"easing\":\"linear\"}}],\"label\":\"2010\",\"method\":\"animate\"},{\"args\":[[\"2011\"],{\"frame\":{\"duration\":0,\"redraw\":false},\"mode\":\"immediate\",\"fromcurrent\":true,\"transition\":{\"duration\":0,\"easing\":\"linear\"}}],\"label\":\"2011\",\"method\":\"animate\"},{\"args\":[[\"2012\"],{\"frame\":{\"duration\":0,\"redraw\":false},\"mode\":\"immediate\",\"fromcurrent\":true,\"transition\":{\"duration\":0,\"easing\":\"linear\"}}],\"label\":\"2012\",\"method\":\"animate\"},{\"args\":[[\"2013\"],{\"frame\":{\"duration\":0,\"redraw\":false},\"mode\":\"immediate\",\"fromcurrent\":true,\"transition\":{\"duration\":0,\"easing\":\"linear\"}}],\"label\":\"2013\",\"method\":\"animate\"},{\"args\":[[\"2014\"],{\"frame\":{\"duration\":0,\"redraw\":false},\"mode\":\"immediate\",\"fromcurrent\":true,\"transition\":{\"duration\":0,\"easing\":\"linear\"}}],\"label\":\"2014\",\"method\":\"animate\"},{\"args\":[[\"2015\"],{\"frame\":{\"duration\":0,\"redraw\":false},\"mode\":\"immediate\",\"fromcurrent\":true,\"transition\":{\"duration\":0,\"easing\":\"linear\"}}],\"label\":\"2015\",\"method\":\"animate\"},{\"args\":[[\"2016\"],{\"frame\":{\"duration\":0,\"redraw\":false},\"mode\":\"immediate\",\"fromcurrent\":true,\"transition\":{\"duration\":0,\"easing\":\"linear\"}}],\"label\":\"2016\",\"method\":\"animate\"},{\"args\":[[\"2017\"],{\"frame\":{\"duration\":0,\"redraw\":false},\"mode\":\"immediate\",\"fromcurrent\":true,\"transition\":{\"duration\":0,\"easing\":\"linear\"}}],\"label\":\"2017\",\"method\":\"animate\"},{\"args\":[[\"2018\"],{\"frame\":{\"duration\":0,\"redraw\":false},\"mode\":\"immediate\",\"fromcurrent\":true,\"transition\":{\"duration\":0,\"easing\":\"linear\"}}],\"label\":\"2018\",\"method\":\"animate\"},{\"args\":[[\"2019\"],{\"frame\":{\"duration\":0,\"redraw\":false},\"mode\":\"immediate\",\"fromcurrent\":true,\"transition\":{\"duration\":0,\"easing\":\"linear\"}}],\"label\":\"2019\",\"method\":\"animate\"},{\"args\":[[\"2020\"],{\"frame\":{\"duration\":0,\"redraw\":false},\"mode\":\"immediate\",\"fromcurrent\":true,\"transition\":{\"duration\":0,\"easing\":\"linear\"}}],\"label\":\"2020\",\"method\":\"animate\"},{\"args\":[[\"2021\"],{\"frame\":{\"duration\":0,\"redraw\":false},\"mode\":\"immediate\",\"fromcurrent\":true,\"transition\":{\"duration\":0,\"easing\":\"linear\"}}],\"label\":\"2021\",\"method\":\"animate\"}],\"x\":0.1,\"xanchor\":\"left\",\"y\":0,\"yanchor\":\"top\"}]},                        {\"responsive\": true}                    ).then(function(){\n",
       "                            Plotly.addFrames('ff6936c6-0d86-44cd-a773-03857fa9582c', [{\"data\":[{\"hovertemplate\":\"<b>%{hovertext}</b><br><br>country=France<br>year=2000<br>GDP (in Billion USD)=%{x}<br>Carbon Intensity of Electricity=%{y}<br>population=%{marker.size}<extra></extra>\",\"hovertext\":[\"France\",\"France\"],\"legendgroup\":\"France\",\"marker\":{\"color\":\"#636efa\",\"size\":[58665456.0,58665456.0],\"sizemode\":\"area\",\"sizeref\":205828.58,\"symbol\":\"circle\"},\"mode\":\"markers\",\"name\":\"France\",\"orientation\":\"v\",\"showlegend\":true,\"x\":[2031676030976.0,2031676030976.0],\"xaxis\":\"x\",\"y\":[79.766,79.766],\"yaxis\":\"y\",\"type\":\"scatter\"},{\"hovertemplate\":\"<b>%{hovertext}</b><br><br>country=Germany<br>year=2000<br>GDP (in Billion USD)=%{x}<br>Carbon Intensity of Electricity=%{y}<br>population=%{marker.size}<extra></extra>\",\"hovertext\":[\"Germany\",\"Germany\"],\"legendgroup\":\"Germany\",\"marker\":{\"color\":\"#EF553B\",\"size\":[81551680.0,81551680.0],\"sizemode\":\"area\",\"sizeref\":205828.58,\"symbol\":\"circle\"},\"mode\":\"markers\",\"name\":\"Germany\",\"orientation\":\"v\",\"showlegend\":true,\"x\":[2718560681984.0,2718560681984.0],\"xaxis\":\"x\",\"y\":[573.126,573.126],\"yaxis\":\"y\",\"type\":\"scatter\"}],\"name\":\"2000\"},{\"data\":[{\"hovertemplate\":\"<b>%{hovertext}</b><br><br>country=France<br>year=2001<br>GDP (in Billion USD)=%{x}<br>Carbon Intensity of Electricity=%{y}<br>population=%{marker.size}<extra></extra>\",\"hovertext\":[\"France\",\"France\"],\"legendgroup\":\"France\",\"marker\":{\"color\":\"#636efa\",\"size\":[59014776.0,59014776.0],\"sizemode\":\"area\",\"sizeref\":205828.58,\"symbol\":\"circle\"},\"mode\":\"markers\",\"name\":\"France\",\"orientation\":\"v\",\"showlegend\":true,\"x\":[2077786767360.0,2077786767360.0],\"xaxis\":\"x\",\"y\":[68.633,68.633],\"yaxis\":\"y\",\"type\":\"scatter\"}],\"name\":\"2001\"},{\"data\":[{\"hovertemplate\":\"<b>%{hovertext}</b><br><br>country=France<br>year=2002<br>GDP (in Billion USD)=%{x}<br>Carbon Intensity of Electricity=%{y}<br>population=%{marker.size}<extra></extra>\",\"hovertext\":[\"France\",\"France\"],\"legendgroup\":\"France\",\"marker\":{\"color\":\"#636efa\",\"size\":[59372784.0,59372784.0],\"sizemode\":\"area\",\"sizeref\":205828.58,\"symbol\":\"circle\"},\"mode\":\"markers\",\"name\":\"France\",\"orientation\":\"v\",\"showlegend\":true,\"x\":[2107316502528.0,2107316502528.0],\"xaxis\":\"x\",\"y\":[75.212,75.212],\"yaxis\":\"y\",\"type\":\"scatter\"},{\"hovertemplate\":\"<b>%{hovertext}</b><br><br>country=Germany<br>year=2002<br>GDP (in Billion USD)=%{x}<br>Carbon Intensity of Electricity=%{y}<br>population=%{marker.size}<extra></extra>\",\"hovertext\":[\"Germany\",\"Germany\"],\"legendgroup\":\"Germany\",\"marker\":{\"color\":\"#EF553B\",\"size\":[81443424.0,81443424.0],\"sizemode\":\"area\",\"sizeref\":205828.58,\"symbol\":\"circle\"},\"mode\":\"markers\",\"name\":\"Germany\",\"orientation\":\"v\",\"showlegend\":true,\"x\":[2822441533440.0,2822441533440.0],\"xaxis\":\"x\",\"y\":[569.566,569.566],\"yaxis\":\"y\",\"type\":\"scatter\"}],\"name\":\"2002\"},{\"data\":[{\"hovertemplate\":\"<b>%{hovertext}</b><br><br>country=France<br>year=2003<br>GDP (in Billion USD)=%{x}<br>Carbon Intensity of Electricity=%{y}<br>population=%{marker.size}<extra></extra>\",\"hovertext\":[\"France\",\"France\"],\"legendgroup\":\"France\",\"marker\":{\"color\":\"#636efa\",\"size\":[59728260.0,59728260.0],\"sizemode\":\"area\",\"sizeref\":205828.58,\"symbol\":\"circle\"},\"mode\":\"markers\",\"name\":\"France\",\"orientation\":\"v\",\"showlegend\":true,\"x\":[2130940657664.0,2130940657664.0],\"xaxis\":\"x\",\"y\":[80.858,80.858],\"yaxis\":\"y\",\"type\":\"scatter\"},{\"hovertemplate\":\"<b>%{hovertext}</b><br><br>country=Germany<br>year=2003<br>GDP (in Billion USD)=%{x}<br>Carbon Intensity of Electricity=%{y}<br>population=%{marker.size}<extra></extra>\",\"hovertext\":[\"Germany\",\"Germany\"],\"legendgroup\":\"Germany\",\"marker\":{\"color\":\"#EF553B\",\"size\":[81346808.0,81346808.0],\"sizemode\":\"area\",\"sizeref\":205828.58,\"symbol\":\"circle\"},\"mode\":\"markers\",\"name\":\"Germany\",\"orientation\":\"v\",\"showlegend\":true,\"x\":[2831676080128.0,2831676080128.0],\"xaxis\":\"x\",\"y\":[569.955,569.955],\"yaxis\":\"y\",\"type\":\"scatter\"}],\"name\":\"2003\"},{\"data\":[{\"hovertemplate\":\"<b>%{hovertext}</b><br><br>country=France<br>year=2004<br>GDP (in Billion USD)=%{x}<br>Carbon Intensity of Electricity=%{y}<br>population=%{marker.size}<extra></extra>\",\"hovertext\":[\"France\",\"France\"],\"legendgroup\":\"France\",\"marker\":{\"color\":\"#636efa\",\"size\":[60108436.0,60108436.0],\"sizemode\":\"area\",\"sizeref\":205828.58,\"symbol\":\"circle\"},\"mode\":\"markers\",\"name\":\"France\",\"orientation\":\"v\",\"showlegend\":true,\"x\":[2196883505152.0,2196883505152.0],\"xaxis\":\"x\",\"y\":[77.185,77.185],\"yaxis\":\"y\",\"type\":\"scatter\"},{\"hovertemplate\":\"<b>%{hovertext}</b><br><br>country=Germany<br>year=2004<br>GDP (in Billion USD)=%{x}<br>Carbon Intensity of Electricity=%{y}<br>population=%{marker.size}<extra></extra>\",\"hovertext\":[\"Germany\",\"Germany\"],\"legendgroup\":\"Germany\",\"marker\":{\"color\":\"#EF553B\",\"size\":[81266672.0,81266672.0],\"sizemode\":\"area\",\"sizeref\":205828.58,\"symbol\":\"circle\"},\"mode\":\"markers\",\"name\":\"Germany\",\"orientation\":\"v\",\"showlegend\":true,\"x\":[2894624980992.0,2894624980992.0],\"xaxis\":\"x\",\"y\":[554.659,554.659],\"yaxis\":\"y\",\"type\":\"scatter\"}],\"name\":\"2004\"},{\"data\":[{\"hovertemplate\":\"<b>%{hovertext}</b><br><br>country=France<br>year=2005<br>GDP (in Billion USD)=%{x}<br>Carbon Intensity of Electricity=%{y}<br>population=%{marker.size}<extra></extra>\",\"hovertext\":[\"France\",\"France\"],\"legendgroup\":\"France\",\"marker\":{\"color\":\"#636efa\",\"size\":[60510080.0,60510080.0],\"sizemode\":\"area\",\"sizeref\":205828.58,\"symbol\":\"circle\"},\"mode\":\"markers\",\"name\":\"France\",\"orientation\":\"v\",\"showlegend\":true,\"x\":[2238790500352.0,2238790500352.0],\"xaxis\":\"x\",\"y\":[85.533,85.533],\"yaxis\":\"y\",\"type\":\"scatter\"},{\"hovertemplate\":\"<b>%{hovertext}</b><br><br>country=Germany<br>year=2005<br>GDP (in Billion USD)=%{x}<br>Carbon Intensity of Electricity=%{y}<br>population=%{marker.size}<extra></extra>\",\"hovertext\":[\"Germany\",\"Germany\"],\"legendgroup\":\"Germany\",\"marker\":{\"color\":\"#EF553B\",\"size\":[81212168.0,81212168.0],\"sizemode\":\"area\",\"sizeref\":205828.58,\"symbol\":\"circle\"},\"mode\":\"markers\",\"name\":\"Germany\",\"orientation\":\"v\",\"showlegend\":true,\"x\":[2945460994048.0,2945460994048.0],\"xaxis\":\"x\",\"y\":[546.271,546.271],\"yaxis\":\"y\",\"type\":\"scatter\"},{\"hovertemplate\":\"<b>%{hovertext}</b><br><br>country=Czechia<br>year=2005<br>GDP (in Billion USD)=%{x}<br>Carbon Intensity of Electricity=%{y}<br>population=%{marker.size}<extra></extra>\",\"hovertext\":[\"Czechia\",\"Czechia\"],\"legendgroup\":\"Czechia\",\"marker\":{\"color\":\"#00cc96\",\"size\":[10280122.0,10280122.0],\"sizemode\":\"area\",\"sizeref\":205828.58,\"symbol\":\"circle\"},\"mode\":\"markers\",\"name\":\"Czechia\",\"orientation\":\"v\",\"showlegend\":true,\"x\":[225302577152.0,225302577152.0],\"xaxis\":\"x\",\"y\":[646.65,646.65],\"yaxis\":\"y\",\"type\":\"scatter\"}],\"name\":\"2005\"},{\"data\":[{\"hovertemplate\":\"<b>%{hovertext}</b><br><br>country=Germany<br>year=2006<br>GDP (in Billion USD)=%{x}<br>Carbon Intensity of Electricity=%{y}<br>population=%{marker.size}<extra></extra>\",\"hovertext\":[\"Germany\",\"Germany\"],\"legendgroup\":\"Germany\",\"marker\":{\"color\":\"#EF553B\",\"size\":[81177816.0,81177816.0],\"sizemode\":\"area\",\"sizeref\":205828.58,\"symbol\":\"circle\"},\"mode\":\"markers\",\"name\":\"Germany\",\"orientation\":\"v\",\"showlegend\":true,\"x\":[3086359199744.0,3086359199744.0],\"xaxis\":\"x\",\"y\":[536.163,536.163],\"yaxis\":\"y\",\"type\":\"scatter\"},{\"hovertemplate\":\"<b>%{hovertext}</b><br><br>country=Czechia<br>year=2006<br>GDP (in Billion USD)=%{x}<br>Carbon Intensity of Electricity=%{y}<br>population=%{marker.size}<extra></extra>\",\"hovertext\":[\"Czechia\",\"Czechia\"],\"legendgroup\":\"Czechia\",\"marker\":{\"color\":\"#00cc96\",\"size\":[10304822.0,10304822.0],\"sizemode\":\"area\",\"sizeref\":205828.58,\"symbol\":\"circle\"},\"mode\":\"markers\",\"name\":\"Czechia\",\"orientation\":\"v\",\"showlegend\":true,\"x\":[243991789568.0,243991789568.0],\"xaxis\":\"x\",\"y\":[634.114,634.114],\"yaxis\":\"y\",\"type\":\"scatter\"}],\"name\":\"2006\"},{\"data\":[{\"hovertemplate\":\"<b>%{hovertext}</b><br><br>country=Germany<br>year=2007<br>GDP (in Billion USD)=%{x}<br>Carbon Intensity of Electricity=%{y}<br>population=%{marker.size}<extra></extra>\",\"hovertext\":[\"Germany\",\"Germany\"],\"legendgroup\":\"Germany\",\"marker\":{\"color\":\"#EF553B\",\"size\":[81183832.0,81183832.0],\"sizemode\":\"area\",\"sizeref\":205828.58,\"symbol\":\"circle\"},\"mode\":\"markers\",\"name\":\"Germany\",\"orientation\":\"v\",\"showlegend\":true,\"x\":[3220275724288.0,3220275724288.0],\"xaxis\":\"x\",\"y\":[551.783,551.783],\"yaxis\":\"y\",\"type\":\"scatter\"},{\"hovertemplate\":\"<b>%{hovertext}</b><br><br>country=Czechia<br>year=2007<br>GDP (in Billion USD)=%{x}<br>Carbon Intensity of Electricity=%{y}<br>population=%{marker.size}<extra></extra>\",\"hovertext\":[\"Czechia\",\"Czechia\"],\"legendgroup\":\"Czechia\",\"marker\":{\"color\":\"#00cc96\",\"size\":[10337831.0,10337831.0],\"sizemode\":\"area\",\"sizeref\":205828.58,\"symbol\":\"circle\"},\"mode\":\"markers\",\"name\":\"Czechia\",\"orientation\":\"v\",\"showlegend\":true,\"x\":[260673044480.0,260673044480.0],\"xaxis\":\"x\",\"y\":[652.273,652.273],\"yaxis\":\"y\",\"type\":\"scatter\"}],\"name\":\"2007\"},{\"data\":[{\"hovertemplate\":\"<b>%{hovertext}</b><br><br>country=Germany<br>year=2008<br>GDP (in Billion USD)=%{x}<br>Carbon Intensity of Electricity=%{y}<br>population=%{marker.size}<extra></extra>\",\"hovertext\":[\"Germany\",\"Germany\"],\"legendgroup\":\"Germany\",\"marker\":{\"color\":\"#EF553B\",\"size\":[81217488.0,81217488.0],\"sizemode\":\"area\",\"sizeref\":205828.58,\"symbol\":\"circle\"},\"mode\":\"markers\",\"name\":\"Germany\",\"orientation\":\"v\",\"showlegend\":true,\"x\":[3289020366848.0,3289020366848.0],\"xaxis\":\"x\",\"y\":[525.408,525.408],\"yaxis\":\"y\",\"type\":\"scatter\"},{\"hovertemplate\":\"<b>%{hovertext}</b><br><br>country=Czechia<br>year=2008<br>GDP (in Billion USD)=%{x}<br>Carbon Intensity of Electricity=%{y}<br>population=%{marker.size}<extra></extra>\",\"hovertext\":[\"Czechia\",\"Czechia\"],\"legendgroup\":\"Czechia\",\"marker\":{\"color\":\"#00cc96\",\"size\":[10378586.0,10378586.0],\"sizemode\":\"area\",\"sizeref\":205828.58,\"symbol\":\"circle\"},\"mode\":\"markers\",\"name\":\"Czechia\",\"orientation\":\"v\",\"showlegend\":true,\"x\":[271709536256.0,271709536256.0],\"xaxis\":\"x\",\"y\":[627.522,627.522],\"yaxis\":\"y\",\"type\":\"scatter\"},{\"hovertemplate\":\"<b>%{hovertext}</b><br><br>country=Spain<br>year=2008<br>GDP (in Billion USD)=%{x}<br>Carbon Intensity of Electricity=%{y}<br>population=%{marker.size}<extra></extra>\",\"hovertext\":[\"Spain\",\"Spain\"],\"legendgroup\":\"Spain\",\"marker\":{\"color\":\"#ab63fa\",\"size\":[45966544.0,45966544.0],\"sizemode\":\"area\",\"sizeref\":205828.58,\"symbol\":\"circle\"},\"mode\":\"markers\",\"name\":\"Spain\",\"orientation\":\"v\",\"showlegend\":true,\"x\":[1510615285760.0,1510615285760.0],\"xaxis\":\"x\",\"y\":[390.264,390.264],\"yaxis\":\"y\",\"type\":\"scatter\"}],\"name\":\"2008\"},{\"data\":[{\"hovertemplate\":\"<b>%{hovertext}</b><br><br>country=Germany<br>year=2009<br>GDP (in Billion USD)=%{x}<br>Carbon Intensity of Electricity=%{y}<br>population=%{marker.size}<extra></extra>\",\"hovertext\":[\"Germany\",\"Germany\"],\"legendgroup\":\"Germany\",\"marker\":{\"color\":\"#EF553B\",\"size\":[81260624.0,81260624.0],\"sizemode\":\"area\",\"sizeref\":205828.58,\"symbol\":\"circle\"},\"mode\":\"markers\",\"name\":\"Germany\",\"orientation\":\"v\",\"showlegend\":true,\"x\":[3136502104064.0,3136502104064.0],\"xaxis\":\"x\",\"y\":[521.549,521.549],\"yaxis\":\"y\",\"type\":\"scatter\"},{\"hovertemplate\":\"<b>%{hovertext}</b><br><br>country=Czechia<br>year=2009<br>GDP (in Billion USD)=%{x}<br>Carbon Intensity of Electricity=%{y}<br>population=%{marker.size}<extra></extra>\",\"hovertext\":[\"Czechia\",\"Czechia\"],\"legendgroup\":\"Czechia\",\"marker\":{\"color\":\"#00cc96\",\"size\":[10421515.0,10421515.0],\"sizemode\":\"area\",\"sizeref\":205828.58,\"symbol\":\"circle\"},\"mode\":\"markers\",\"name\":\"Czechia\",\"orientation\":\"v\",\"showlegend\":true,\"x\":[261919703040.0,261919703040.0],\"xaxis\":\"x\",\"y\":[603.136,603.136],\"yaxis\":\"y\",\"type\":\"scatter\"},{\"hovertemplate\":\"<b>%{hovertext}</b><br><br>country=Spain<br>year=2009<br>GDP (in Billion USD)=%{x}<br>Carbon Intensity of Electricity=%{y}<br>population=%{marker.size}<extra></extra>\",\"hovertext\":[\"Spain\",\"Spain\"],\"legendgroup\":\"Spain\",\"marker\":{\"color\":\"#ab63fa\",\"size\":[46367772.0,46367772.0],\"sizemode\":\"area\",\"sizeref\":205828.58,\"symbol\":\"circle\"},\"mode\":\"markers\",\"name\":\"Spain\",\"orientation\":\"v\",\"showlegend\":true,\"x\":[1468765831168.0,1468765831168.0],\"xaxis\":\"x\",\"y\":[355.05,355.05],\"yaxis\":\"y\",\"type\":\"scatter\"},{\"hovertemplate\":\"<b>%{hovertext}</b><br><br>country=Bulgaria<br>year=2009<br>GDP (in Billion USD)=%{x}<br>Carbon Intensity of Electricity=%{y}<br>population=%{marker.size}<extra></extra>\",\"hovertext\":[\"Bulgaria\",\"Bulgaria\"],\"legendgroup\":\"Bulgaria\",\"marker\":{\"color\":\"#FFA15A\",\"size\":[7634737.0,7634737.0],\"sizemode\":\"area\",\"sizeref\":205828.58,\"symbol\":\"circle\"},\"mode\":\"markers\",\"name\":\"Bulgaria\",\"orientation\":\"v\",\"showlegend\":true,\"x\":[107365072896.0,107365072896.0],\"xaxis\":\"x\",\"y\":[528.48,528.48],\"yaxis\":\"y\",\"type\":\"scatter\"},{\"hovertemplate\":\"<b>%{hovertext}</b><br><br>country=Hungary<br>year=2009<br>GDP (in Billion USD)=%{x}<br>Carbon Intensity of Electricity=%{y}<br>population=%{marker.size}<extra></extra>\",\"hovertext\":[\"Hungary\",\"Hungary\"],\"legendgroup\":\"Hungary\",\"marker\":{\"color\":\"#19d3f3\",\"size\":[10008581.0,10008581.0],\"sizemode\":\"area\",\"sizeref\":205828.58,\"symbol\":\"circle\"},\"mode\":\"markers\",\"name\":\"Hungary\",\"orientation\":\"v\",\"showlegend\":true,\"x\":[195180904448.0,195180904448.0],\"xaxis\":\"x\",\"y\":[343.915,343.915],\"yaxis\":\"y\",\"type\":\"scatter\"}],\"name\":\"2009\"},{\"data\":[{\"hovertemplate\":\"<b>%{hovertext}</b><br><br>country=Germany<br>year=2010<br>GDP (in Billion USD)=%{x}<br>Carbon Intensity of Electricity=%{y}<br>population=%{marker.size}<extra></extra>\",\"hovertext\":[\"Germany\",\"Germany\"],\"legendgroup\":\"Germany\",\"marker\":{\"color\":\"#EF553B\",\"size\":[81325088.0,81325088.0],\"sizemode\":\"area\",\"sizeref\":205828.58,\"symbol\":\"circle\"},\"mode\":\"markers\",\"name\":\"Germany\",\"orientation\":\"v\",\"showlegend\":true,\"x\":[3301123031040.0,3301123031040.0],\"xaxis\":\"x\",\"y\":[516.637,516.637],\"yaxis\":\"y\",\"type\":\"scatter\"},{\"hovertemplate\":\"<b>%{hovertext}</b><br><br>country=Czechia<br>year=2010<br>GDP (in Billion USD)=%{x}<br>Carbon Intensity of Electricity=%{y}<br>population=%{marker.size}<extra></extra>\",\"hovertext\":[\"Czechia\",\"Czechia\"],\"legendgroup\":\"Czechia\",\"marker\":{\"color\":\"#00cc96\",\"size\":[10464750.0,10464750.0],\"sizemode\":\"area\",\"sizeref\":205828.58,\"symbol\":\"circle\"},\"mode\":\"markers\",\"name\":\"Czechia\",\"orientation\":\"v\",\"showlegend\":true,\"x\":[271231975424.0,271231975424.0],\"xaxis\":\"x\",\"y\":[593.64,593.64],\"yaxis\":\"y\",\"type\":\"scatter\"},{\"hovertemplate\":\"<b>%{hovertext}</b><br><br>country=Spain<br>year=2010<br>GDP (in Billion USD)=%{x}<br>Carbon Intensity of Electricity=%{y}<br>population=%{marker.size}<extra></extra>\",\"hovertext\":[\"Spain\",\"Spain\"],\"legendgroup\":\"Spain\",\"marker\":{\"color\":\"#ab63fa\",\"size\":[46572776.0,46572776.0],\"sizemode\":\"area\",\"sizeref\":205828.58,\"symbol\":\"circle\"},\"mode\":\"markers\",\"name\":\"Spain\",\"orientation\":\"v\",\"showlegend\":true,\"x\":[1480376320000.0,1480376320000.0],\"xaxis\":\"x\",\"y\":[288.247,288.247],\"yaxis\":\"y\",\"type\":\"scatter\"},{\"hovertemplate\":\"<b>%{hovertext}</b><br><br>country=Bulgaria<br>year=2010<br>GDP (in Billion USD)=%{x}<br>Carbon Intensity of Electricity=%{y}<br>population=%{marker.size}<extra></extra>\",\"hovertext\":[\"Bulgaria\",\"Bulgaria\"],\"legendgroup\":\"Bulgaria\",\"marker\":{\"color\":\"#FFA15A\",\"size\":[7592271.0,7592271.0],\"sizemode\":\"area\",\"sizeref\":205828.58,\"symbol\":\"circle\"},\"mode\":\"markers\",\"name\":\"Bulgaria\",\"orientation\":\"v\",\"showlegend\":true,\"x\":[109045211136.0,109045211136.0],\"xaxis\":\"x\",\"y\":[521.01,521.01],\"yaxis\":\"y\",\"type\":\"scatter\"},{\"hovertemplate\":\"<b>%{hovertext}</b><br><br>country=Hungary<br>year=2010<br>GDP (in Billion USD)=%{x}<br>Carbon Intensity of Electricity=%{y}<br>population=%{marker.size}<extra></extra>\",\"hovertext\":[\"Hungary\",\"Hungary\"],\"legendgroup\":\"Hungary\",\"marker\":{\"color\":\"#19d3f3\",\"size\":[9986832.0,9986832.0],\"sizemode\":\"area\",\"sizeref\":205828.58,\"symbol\":\"circle\"},\"mode\":\"markers\",\"name\":\"Hungary\",\"orientation\":\"v\",\"showlegend\":true,\"x\":[200496578560.0,200496578560.0],\"xaxis\":\"x\",\"y\":[341.006,341.006],\"yaxis\":\"y\",\"type\":\"scatter\"},{\"hovertemplate\":\"<b>%{hovertext}</b><br><br>country=Romania<br>year=2010<br>GDP (in Billion USD)=%{x}<br>Carbon Intensity of Electricity=%{y}<br>population=%{marker.size}<extra></extra>\",\"hovertext\":[\"Romania\",\"Romania\"],\"legendgroup\":\"Romania\",\"marker\":{\"color\":\"#FF6692\",\"size\":[20335212.0,20335212.0],\"sizemode\":\"area\",\"sizeref\":205828.58,\"symbol\":\"circle\"},\"mode\":\"markers\",\"name\":\"Romania\",\"orientation\":\"v\",\"showlegend\":true,\"x\":[335489564672.0,335489564672.0],\"xaxis\":\"x\",\"y\":[424.528,424.528],\"yaxis\":\"y\",\"type\":\"scatter\"}],\"name\":\"2010\"},{\"data\":[{\"hovertemplate\":\"<b>%{hovertext}</b><br><br>country=Germany<br>year=2011<br>GDP (in Billion USD)=%{x}<br>Carbon Intensity of Electricity=%{y}<br>population=%{marker.size}<extra></extra>\",\"hovertext\":[\"Germany\",\"Germany\"],\"legendgroup\":\"Germany\",\"marker\":{\"color\":\"#EF553B\",\"size\":[81423384.0,81423384.0],\"sizemode\":\"area\",\"sizeref\":205828.58,\"symbol\":\"circle\"},\"mode\":\"markers\",\"name\":\"Germany\",\"orientation\":\"v\",\"showlegend\":true,\"x\":[3467712921600.0,3467712921600.0],\"xaxis\":\"x\",\"y\":[529.669,529.669],\"yaxis\":\"y\",\"type\":\"scatter\"},{\"hovertemplate\":\"<b>%{hovertext}</b><br><br>country=Czechia<br>year=2011<br>GDP (in Billion USD)=%{x}<br>Carbon Intensity of Electricity=%{y}<br>population=%{marker.size}<extra></extra>\",\"hovertext\":[\"Czechia\",\"Czechia\"],\"legendgroup\":\"Czechia\",\"marker\":{\"color\":\"#00cc96\",\"size\":[10496379.0,10496379.0],\"sizemode\":\"area\",\"sizeref\":205828.58,\"symbol\":\"circle\"},\"mode\":\"markers\",\"name\":\"Czechia\",\"orientation\":\"v\",\"showlegend\":true,\"x\":[279082762240.0,279082762240.0],\"xaxis\":\"x\",\"y\":[583.564,583.564],\"yaxis\":\"y\",\"type\":\"scatter\"},{\"hovertemplate\":\"<b>%{hovertext}</b><br><br>country=Spain<br>year=2011<br>GDP (in Billion USD)=%{x}<br>Carbon Intensity of Electricity=%{y}<br>population=%{marker.size}<extra></extra>\",\"hovertext\":[\"Spain\",\"Spain\"],\"legendgroup\":\"Spain\",\"marker\":{\"color\":\"#ab63fa\",\"size\":[46729232.0,46729232.0],\"sizemode\":\"area\",\"sizeref\":205828.58,\"symbol\":\"circle\"},\"mode\":\"markers\",\"name\":\"Spain\",\"orientation\":\"v\",\"showlegend\":true,\"x\":[1477187469312.0,1477187469312.0],\"xaxis\":\"x\",\"y\":[337.312,337.312],\"yaxis\":\"y\",\"type\":\"scatter\"},{\"hovertemplate\":\"<b>%{hovertext}</b><br><br>country=Bulgaria<br>year=2011<br>GDP (in Billion USD)=%{x}<br>Carbon Intensity of Electricity=%{y}<br>population=%{marker.size}<extra></extra>\",\"hovertext\":[\"Bulgaria\",\"Bulgaria\"],\"legendgroup\":\"Bulgaria\",\"marker\":{\"color\":\"#FFA15A\",\"size\":[7543128.0,7543128.0],\"sizemode\":\"area\",\"sizeref\":205828.58,\"symbol\":\"circle\"},\"mode\":\"markers\",\"name\":\"Bulgaria\",\"orientation\":\"v\",\"showlegend\":true,\"x\":[109435363328.0,109435363328.0],\"xaxis\":\"x\",\"y\":[577.662,577.662],\"yaxis\":\"y\",\"type\":\"scatter\"},{\"hovertemplate\":\"<b>%{hovertext}</b><br><br>country=Hungary<br>year=2011<br>GDP (in Billion USD)=%{x}<br>Carbon Intensity of Electricity=%{y}<br>population=%{marker.size}<extra></extra>\",\"hovertext\":[\"Hungary\",\"Hungary\"],\"legendgroup\":\"Hungary\",\"marker\":{\"color\":\"#19d3f3\",\"size\":[9953247.0,9953247.0],\"sizemode\":\"area\",\"sizeref\":205828.58,\"symbol\":\"circle\"},\"mode\":\"markers\",\"name\":\"Hungary\",\"orientation\":\"v\",\"showlegend\":true,\"x\":[208407609344.0,208407609344.0],\"xaxis\":\"x\",\"y\":[341.199,341.199],\"yaxis\":\"y\",\"type\":\"scatter\"},{\"hovertemplate\":\"<b>%{hovertext}</b><br><br>country=Romania<br>year=2011<br>GDP (in Billion USD)=%{x}<br>Carbon Intensity of Electricity=%{y}<br>population=%{marker.size}<extra></extra>\",\"hovertext\":[\"Romania\",\"Romania\"],\"legendgroup\":\"Romania\",\"marker\":{\"color\":\"#FF6692\",\"size\":[20220286.0,20220286.0],\"sizemode\":\"area\",\"sizeref\":205828.58,\"symbol\":\"circle\"},\"mode\":\"markers\",\"name\":\"Romania\",\"orientation\":\"v\",\"showlegend\":true,\"x\":[350086823936.0,350086823936.0],\"xaxis\":\"x\",\"y\":[490.615,490.615],\"yaxis\":\"y\",\"type\":\"scatter\"}],\"name\":\"2011\"},{\"data\":[{\"hovertemplate\":\"<b>%{hovertext}</b><br><br>country=Germany<br>year=2012<br>GDP (in Billion USD)=%{x}<br>Carbon Intensity of Electricity=%{y}<br>population=%{marker.size}<extra></extra>\",\"hovertext\":[\"Germany\",\"Germany\"],\"legendgroup\":\"Germany\",\"marker\":{\"color\":\"#EF553B\",\"size\":[81545568.0,81545568.0],\"sizemode\":\"area\",\"sizeref\":205828.58,\"symbol\":\"circle\"},\"mode\":\"markers\",\"name\":\"Germany\",\"orientation\":\"v\",\"showlegend\":true,\"x\":[3482225475584.0,3482225475584.0],\"xaxis\":\"x\",\"y\":[534.164,534.164],\"yaxis\":\"y\",\"type\":\"scatter\"},{\"hovertemplate\":\"<b>%{hovertext}</b><br><br>country=Czechia<br>year=2012<br>GDP (in Billion USD)=%{x}<br>Carbon Intensity of Electricity=%{y}<br>population=%{marker.size}<extra></extra>\",\"hovertext\":[\"Czechia\",\"Czechia\"],\"legendgroup\":\"Czechia\",\"marker\":{\"color\":\"#00cc96\",\"size\":[10511065.0,10511065.0],\"sizemode\":\"area\",\"sizeref\":205828.58,\"symbol\":\"circle\"},\"mode\":\"markers\",\"name\":\"Czechia\",\"orientation\":\"v\",\"showlegend\":true,\"x\":[276891959296.0,276891959296.0],\"xaxis\":\"x\",\"y\":[552.784,552.784],\"yaxis\":\"y\",\"type\":\"scatter\"},{\"hovertemplate\":\"<b>%{hovertext}</b><br><br>country=Spain<br>year=2012<br>GDP (in Billion USD)=%{x}<br>Carbon Intensity of Electricity=%{y}<br>population=%{marker.size}<extra></extra>\",\"hovertext\":[\"Spain\",\"Spain\"],\"legendgroup\":\"Spain\",\"marker\":{\"color\":\"#ab63fa\",\"size\":[46756084.0,46756084.0],\"sizemode\":\"area\",\"sizeref\":205828.58,\"symbol\":\"circle\"},\"mode\":\"markers\",\"name\":\"Spain\",\"orientation\":\"v\",\"showlegend\":true,\"x\":[1433478627328.0,1433478627328.0],\"xaxis\":\"x\",\"y\":[351.148,351.148],\"yaxis\":\"y\",\"type\":\"scatter\"},{\"hovertemplate\":\"<b>%{hovertext}</b><br><br>country=Bulgaria<br>year=2012<br>GDP (in Billion USD)=%{x}<br>Carbon Intensity of Electricity=%{y}<br>population=%{marker.size}<extra></extra>\",\"hovertext\":[\"Bulgaria\",\"Bulgaria\"],\"legendgroup\":\"Bulgaria\",\"marker\":{\"color\":\"#FFA15A\",\"size\":[7488347.0,7488347.0],\"sizemode\":\"area\",\"sizeref\":205828.58,\"symbol\":\"circle\"},\"mode\":\"markers\",\"name\":\"Bulgaria\",\"orientation\":\"v\",\"showlegend\":true,\"x\":[110261510144.0,110261510144.0],\"xaxis\":\"x\",\"y\":[525.398,525.398],\"yaxis\":\"y\",\"type\":\"scatter\"},{\"hovertemplate\":\"<b>%{hovertext}</b><br><br>country=Hungary<br>year=2012<br>GDP (in Billion USD)=%{x}<br>Carbon Intensity of Electricity=%{y}<br>population=%{marker.size}<extra></extra>\",\"hovertext\":[\"Hungary\",\"Hungary\"],\"legendgroup\":\"Hungary\",\"marker\":{\"color\":\"#19d3f3\",\"size\":[9922133.0,9922133.0],\"sizemode\":\"area\",\"sizeref\":205828.58,\"symbol\":\"circle\"},\"mode\":\"markers\",\"name\":\"Hungary\",\"orientation\":\"v\",\"showlegend\":true,\"x\":[205802045440.0,205802045440.0],\"xaxis\":\"x\",\"y\":[332.756,332.756],\"yaxis\":\"y\",\"type\":\"scatter\"},{\"hovertemplate\":\"<b>%{hovertext}</b><br><br>country=Romania<br>year=2012<br>GDP (in Billion USD)=%{x}<br>Carbon Intensity of Electricity=%{y}<br>population=%{marker.size}<extra></extra>\",\"hovertext\":[\"Romania\",\"Romania\"],\"legendgroup\":\"Romania\",\"marker\":{\"color\":\"#FF6692\",\"size\":[20137112.0,20137112.0],\"sizemode\":\"area\",\"sizeref\":205828.58,\"symbol\":\"circle\"},\"mode\":\"markers\",\"name\":\"Romania\",\"orientation\":\"v\",\"showlegend\":true,\"x\":[356825923584.0,356825923584.0],\"xaxis\":\"x\",\"y\":[486.847,486.847],\"yaxis\":\"y\",\"type\":\"scatter\"}],\"name\":\"2012\"},{\"data\":[{\"hovertemplate\":\"<b>%{hovertext}</b><br><br>country=Germany<br>year=2013<br>GDP (in Billion USD)=%{x}<br>Carbon Intensity of Electricity=%{y}<br>population=%{marker.size}<extra></extra>\",\"hovertext\":[\"Germany\",\"Germany\"],\"legendgroup\":\"Germany\",\"marker\":{\"color\":\"#EF553B\",\"size\":[81680592.0,81680592.0],\"sizemode\":\"area\",\"sizeref\":205828.58,\"symbol\":\"circle\"},\"mode\":\"markers\",\"name\":\"Germany\",\"orientation\":\"v\",\"showlegend\":true,\"x\":[3497463119872.0,3497463119872.0],\"xaxis\":\"x\",\"y\":[538.027,538.027],\"yaxis\":\"y\",\"type\":\"scatter\"},{\"hovertemplate\":\"<b>%{hovertext}</b><br><br>country=Czechia<br>year=2013<br>GDP (in Billion USD)=%{x}<br>Carbon Intensity of Electricity=%{y}<br>population=%{marker.size}<extra></extra>\",\"hovertext\":[\"Czechia\",\"Czechia\"],\"legendgroup\":\"Czechia\",\"marker\":{\"color\":\"#00cc96\",\"size\":[10514547.0,10514547.0],\"sizemode\":\"area\",\"sizeref\":205828.58,\"symbol\":\"circle\"},\"mode\":\"markers\",\"name\":\"Czechia\",\"orientation\":\"v\",\"showlegend\":true,\"x\":[276764852224.0,276764852224.0],\"xaxis\":\"x\",\"y\":[527.529,527.529],\"yaxis\":\"y\",\"type\":\"scatter\"},{\"hovertemplate\":\"<b>%{hovertext}</b><br><br>country=Spain<br>year=2013<br>GDP (in Billion USD)=%{x}<br>Carbon Intensity of Electricity=%{y}<br>population=%{marker.size}<extra></extra>\",\"hovertext\":[\"Spain\",\"Spain\"],\"legendgroup\":\"Spain\",\"marker\":{\"color\":\"#ab63fa\",\"size\":[46603460.0,46603460.0],\"sizemode\":\"area\",\"sizeref\":205828.58,\"symbol\":\"circle\"},\"mode\":\"markers\",\"name\":\"Spain\",\"orientation\":\"v\",\"showlegend\":true,\"x\":[1413362089984.0,1413362089984.0],\"xaxis\":\"x\",\"y\":[286.897,286.897],\"yaxis\":\"y\",\"type\":\"scatter\"},{\"hovertemplate\":\"<b>%{hovertext}</b><br><br>country=Bulgaria<br>year=2013<br>GDP (in Billion USD)=%{x}<br>Carbon Intensity of Electricity=%{y}<br>population=%{marker.size}<extra></extra>\",\"hovertext\":[\"Bulgaria\",\"Bulgaria\"],\"legendgroup\":\"Bulgaria\",\"marker\":{\"color\":\"#FFA15A\",\"size\":[7431169.0,7431169.0],\"sizemode\":\"area\",\"sizeref\":205828.58,\"symbol\":\"circle\"},\"mode\":\"markers\",\"name\":\"Bulgaria\",\"orientation\":\"v\",\"showlegend\":true,\"x\":[109643522048.0,109643522048.0],\"xaxis\":\"x\",\"y\":[487.448,487.448],\"yaxis\":\"y\",\"type\":\"scatter\"},{\"hovertemplate\":\"<b>%{hovertext}</b><br><br>country=Hungary<br>year=2013<br>GDP (in Billion USD)=%{x}<br>Carbon Intensity of Electricity=%{y}<br>population=%{marker.size}<extra></extra>\",\"hovertext\":[\"Hungary\",\"Hungary\"],\"legendgroup\":\"Hungary\",\"marker\":{\"color\":\"#19d3f3\",\"size\":[9894637.0,9894637.0],\"sizemode\":\"area\",\"sizeref\":205828.58,\"symbol\":\"circle\"},\"mode\":\"markers\",\"name\":\"Hungary\",\"orientation\":\"v\",\"showlegend\":true,\"x\":[209511661568.0,209511661568.0],\"xaxis\":\"x\",\"y\":[317.476,317.476],\"yaxis\":\"y\",\"type\":\"scatter\"},{\"hovertemplate\":\"<b>%{hovertext}</b><br><br>country=Romania<br>year=2013<br>GDP (in Billion USD)=%{x}<br>Carbon Intensity of Electricity=%{y}<br>population=%{marker.size}<extra></extra>\",\"hovertext\":[\"Romania\",\"Romania\"],\"legendgroup\":\"Romania\",\"marker\":{\"color\":\"#FF6692\",\"size\":[20066550.0,20066550.0],\"sizemode\":\"area\",\"sizeref\":205828.58,\"symbol\":\"circle\"},\"mode\":\"markers\",\"name\":\"Romania\",\"orientation\":\"v\",\"showlegend\":true,\"x\":[357789270016.0,357789270016.0],\"xaxis\":\"x\",\"y\":[389.758,389.758],\"yaxis\":\"y\",\"type\":\"scatter\"}],\"name\":\"2013\"},{\"data\":[{\"hovertemplate\":\"<b>%{hovertext}</b><br><br>country=Germany<br>year=2014<br>GDP (in Billion USD)=%{x}<br>Carbon Intensity of Electricity=%{y}<br>population=%{marker.size}<extra></extra>\",\"hovertext\":[\"Germany\",\"Germany\"],\"legendgroup\":\"Germany\",\"marker\":{\"color\":\"#EF553B\",\"size\":[81858824.0,81858824.0],\"sizemode\":\"area\",\"sizeref\":205828.58,\"symbol\":\"circle\"},\"mode\":\"markers\",\"name\":\"Germany\",\"orientation\":\"v\",\"showlegend\":true,\"x\":[3574741336064.0,3574741336064.0],\"xaxis\":\"x\",\"y\":[521.681,521.681],\"yaxis\":\"y\",\"type\":\"scatter\"},{\"hovertemplate\":\"<b>%{hovertext}</b><br><br>country=Czechia<br>year=2014<br>GDP (in Billion USD)=%{x}<br>Carbon Intensity of Electricity=%{y}<br>population=%{marker.size}<extra></extra>\",\"hovertext\":[\"Czechia\",\"Czechia\"],\"legendgroup\":\"Czechia\",\"marker\":{\"color\":\"#00cc96\",\"size\":[10517178.0,10517178.0],\"sizemode\":\"area\",\"sizeref\":205828.58,\"symbol\":\"circle\"},\"mode\":\"markers\",\"name\":\"Czechia\",\"orientation\":\"v\",\"showlegend\":true,\"x\":[283025539072.0,283025539072.0],\"xaxis\":\"x\",\"y\":[530.831,530.831],\"yaxis\":\"y\",\"type\":\"scatter\"},{\"hovertemplate\":\"<b>%{hovertext}</b><br><br>country=Spain<br>year=2014<br>GDP (in Billion USD)=%{x}<br>Carbon Intensity of Electricity=%{y}<br>population=%{marker.size}<extra></extra>\",\"hovertext\":[\"Spain\",\"Spain\"],\"legendgroup\":\"Spain\",\"marker\":{\"color\":\"#ab63fa\",\"size\":[46464548.0,46464548.0],\"sizemode\":\"area\",\"sizeref\":205828.58,\"symbol\":\"circle\"},\"mode\":\"markers\",\"name\":\"Spain\",\"orientation\":\"v\",\"showlegend\":true,\"x\":[1433089474560.0,1433089474560.0],\"xaxis\":\"x\",\"y\":[289.025,289.025],\"yaxis\":\"y\",\"type\":\"scatter\"},{\"hovertemplate\":\"<b>%{hovertext}</b><br><br>country=Bulgaria<br>year=2014<br>GDP (in Billion USD)=%{x}<br>Carbon Intensity of Electricity=%{y}<br>population=%{marker.size}<extra></extra>\",\"hovertext\":[\"Bulgaria\",\"Bulgaria\"],\"legendgroup\":\"Bulgaria\",\"marker\":{\"color\":\"#FFA15A\",\"size\":[7372142.0,7372142.0],\"sizemode\":\"area\",\"sizeref\":205828.58,\"symbol\":\"circle\"},\"mode\":\"markers\",\"name\":\"Bulgaria\",\"orientation\":\"v\",\"showlegend\":true,\"x\":[110703534080.0,110703534080.0],\"xaxis\":\"x\",\"y\":[486.999,486.999],\"yaxis\":\"y\",\"type\":\"scatter\"},{\"hovertemplate\":\"<b>%{hovertext}</b><br><br>country=Hungary<br>year=2014<br>GDP (in Billion USD)=%{x}<br>Carbon Intensity of Electricity=%{y}<br>population=%{marker.size}<extra></extra>\",\"hovertext\":[\"Hungary\",\"Hungary\"],\"legendgroup\":\"Hungary\",\"marker\":{\"color\":\"#19d3f3\",\"size\":[9867906.0,9867906.0],\"sizemode\":\"area\",\"sizeref\":205828.58,\"symbol\":\"circle\"},\"mode\":\"markers\",\"name\":\"Hungary\",\"orientation\":\"v\",\"showlegend\":true,\"x\":[218378633216.0,218378633216.0],\"xaxis\":\"x\",\"y\":[300.102,300.102],\"yaxis\":\"y\",\"type\":\"scatter\"},{\"hovertemplate\":\"<b>%{hovertext}</b><br><br>country=Romania<br>year=2014<br>GDP (in Billion USD)=%{x}<br>Carbon Intensity of Electricity=%{y}<br>population=%{marker.size}<extra></extra>\",\"hovertext\":[\"Romania\",\"Romania\"],\"legendgroup\":\"Romania\",\"marker\":{\"color\":\"#FF6692\",\"size\":[19995836.0,19995836.0],\"sizemode\":\"area\",\"sizeref\":205828.58,\"symbol\":\"circle\"},\"mode\":\"markers\",\"name\":\"Romania\",\"orientation\":\"v\",\"showlegend\":true,\"x\":[372532510720.0,372532510720.0],\"xaxis\":\"x\",\"y\":[357.055,357.055],\"yaxis\":\"y\",\"type\":\"scatter\"},{\"hovertemplate\":\"<b>%{hovertext}</b><br><br>country=Slovenia<br>year=2014<br>GDP (in Billion USD)=%{x}<br>Carbon Intensity of Electricity=%{y}<br>population=%{marker.size}<extra></extra>\",\"hovertext\":[\"Slovenia\",\"Slovenia\"],\"legendgroup\":\"Slovenia\",\"marker\":{\"color\":\"#B6E880\",\"size\":[2074923.0,2074923.0],\"sizemode\":\"area\",\"sizeref\":205828.58,\"symbol\":\"circle\"},\"mode\":\"markers\",\"name\":\"Slovenia\",\"orientation\":\"v\",\"showlegend\":true,\"x\":[53237653504.0,53237653504.0],\"xaxis\":\"x\",\"y\":[244.315,244.315],\"yaxis\":\"y\",\"type\":\"scatter\"},{\"hovertemplate\":\"<b>%{hovertext}</b><br><br>country=Ukraine<br>year=2014<br>GDP (in Billion USD)=%{x}<br>Carbon Intensity of Electricity=%{y}<br>population=%{marker.size}<extra></extra>\",\"hovertext\":[\"Ukraine\",\"Ukraine\"],\"legendgroup\":\"Ukraine\",\"marker\":{\"color\":\"#FF97FF\",\"size\":[45148072.0,45148072.0],\"sizemode\":\"area\",\"sizeref\":205828.58,\"symbol\":\"circle\"},\"mode\":\"markers\",\"name\":\"Ukraine\",\"orientation\":\"v\",\"showlegend\":true,\"x\":[441233309696.0,441233309696.0],\"xaxis\":\"x\",\"y\":[417.624,417.624],\"yaxis\":\"y\",\"type\":\"scatter\"}],\"name\":\"2014\"},{\"data\":[{\"hovertemplate\":\"<b>%{hovertext}</b><br><br>country=Germany<br>year=2015<br>GDP (in Billion USD)=%{x}<br>Carbon Intensity of Electricity=%{y}<br>population=%{marker.size}<extra></extra>\",\"hovertext\":[\"Germany\",\"Germany\"],\"legendgroup\":\"Germany\",\"marker\":{\"color\":\"#EF553B\",\"size\":[82073232.0,82073232.0],\"sizemode\":\"area\",\"sizeref\":205828.58,\"symbol\":\"circle\"},\"mode\":\"markers\",\"name\":\"Germany\",\"orientation\":\"v\",\"showlegend\":true,\"x\":[3628073746432.0,3628073746432.0],\"xaxis\":\"x\",\"y\":[503.591,503.591],\"yaxis\":\"y\",\"type\":\"scatter\"},{\"hovertemplate\":\"<b>%{hovertext}</b><br><br>country=Czechia<br>year=2015<br>GDP (in Billion USD)=%{x}<br>Carbon Intensity of Electricity=%{y}<br>population=%{marker.size}<extra></extra>\",\"hovertext\":[\"Czechia\",\"Czechia\"],\"legendgroup\":\"Czechia\",\"marker\":{\"color\":\"#00cc96\",\"size\":[10523801.0,10523801.0],\"sizemode\":\"area\",\"sizeref\":205828.58,\"symbol\":\"circle\"},\"mode\":\"markers\",\"name\":\"Czechia\",\"orientation\":\"v\",\"showlegend\":true,\"x\":[298276061184.0,298276061184.0],\"xaxis\":\"x\",\"y\":[553.158,553.158],\"yaxis\":\"y\",\"type\":\"scatter\"},{\"hovertemplate\":\"<b>%{hovertext}</b><br><br>country=Spain<br>year=2015<br>GDP (in Billion USD)=%{x}<br>Carbon Intensity of Electricity=%{y}<br>population=%{marker.size}<extra></extra>\",\"hovertext\":[\"Spain\",\"Spain\"],\"legendgroup\":\"Spain\",\"marker\":{\"color\":\"#ab63fa\",\"size\":[46431344.0,46431344.0],\"sizemode\":\"area\",\"sizeref\":205828.58,\"symbol\":\"circle\"},\"mode\":\"markers\",\"name\":\"Spain\",\"orientation\":\"v\",\"showlegend\":true,\"x\":[1488098820096.0,1488098820096.0],\"xaxis\":\"x\",\"y\":[328.535,328.535],\"yaxis\":\"y\",\"type\":\"scatter\"},{\"hovertemplate\":\"<b>%{hovertext}</b><br><br>country=Bulgaria<br>year=2015<br>GDP (in Billion USD)=%{x}<br>Carbon Intensity of Electricity=%{y}<br>population=%{marker.size}<extra></extra>\",\"hovertext\":[\"Bulgaria\",\"Bulgaria\"],\"legendgroup\":\"Bulgaria\",\"marker\":{\"color\":\"#FFA15A\",\"size\":[7309255.0,7309255.0],\"sizemode\":\"area\",\"sizeref\":205828.58,\"symbol\":\"circle\"},\"mode\":\"markers\",\"name\":\"Bulgaria\",\"orientation\":\"v\",\"showlegend\":true,\"x\":[114498609152.0,114498609152.0],\"xaxis\":\"x\",\"y\":[494.56,494.56],\"yaxis\":\"y\",\"type\":\"scatter\"},{\"hovertemplate\":\"<b>%{hovertext}</b><br><br>country=Hungary<br>year=2015<br>GDP (in Billion USD)=%{x}<br>Carbon Intensity of Electricity=%{y}<br>population=%{marker.size}<extra></extra>\",\"hovertext\":[\"Hungary\",\"Hungary\"],\"legendgroup\":\"Hungary\",\"marker\":{\"color\":\"#19d3f3\",\"size\":[9844250.0,9844250.0],\"sizemode\":\"area\",\"sizeref\":205828.58,\"symbol\":\"circle\"},\"mode\":\"markers\",\"name\":\"Hungary\",\"orientation\":\"v\",\"showlegend\":true,\"x\":[226474622976.0,226474622976.0],\"xaxis\":\"x\",\"y\":[299.044,299.044],\"yaxis\":\"y\",\"type\":\"scatter\"},{\"hovertemplate\":\"<b>%{hovertext}</b><br><br>country=Romania<br>year=2015<br>GDP (in Billion USD)=%{x}<br>Carbon Intensity of Electricity=%{y}<br>population=%{marker.size}<extra></extra>\",\"hovertext\":[\"Romania\",\"Romania\"],\"legendgroup\":\"Romania\",\"marker\":{\"color\":\"#FF6692\",\"size\":[19906078.0,19906078.0],\"sizemode\":\"area\",\"sizeref\":205828.58,\"symbol\":\"circle\"},\"mode\":\"markers\",\"name\":\"Romania\",\"orientation\":\"v\",\"showlegend\":true,\"x\":[384306446336.0,384306446336.0],\"xaxis\":\"x\",\"y\":[369.022,369.022],\"yaxis\":\"y\",\"type\":\"scatter\"},{\"hovertemplate\":\"<b>%{hovertext}</b><br><br>country=Slovenia<br>year=2015<br>GDP (in Billion USD)=%{x}<br>Carbon Intensity of Electricity=%{y}<br>population=%{marker.size}<extra></extra>\",\"hovertext\":[\"Slovenia\",\"Slovenia\"],\"legendgroup\":\"Slovenia\",\"marker\":{\"color\":\"#B6E880\",\"size\":[2080865.0,2080865.0],\"sizemode\":\"area\",\"sizeref\":205828.58,\"symbol\":\"circle\"},\"mode\":\"markers\",\"name\":\"Slovenia\",\"orientation\":\"v\",\"showlegend\":true,\"x\":[54414237696.0,54414237696.0],\"xaxis\":\"x\",\"y\":[316.892,316.892],\"yaxis\":\"y\",\"type\":\"scatter\"},{\"hovertemplate\":\"<b>%{hovertext}</b><br><br>country=Ukraine<br>year=2015<br>GDP (in Billion USD)=%{x}<br>Carbon Intensity of Electricity=%{y}<br>population=%{marker.size}<extra></extra>\",\"hovertext\":[\"Ukraine\",\"Ukraine\"],\"legendgroup\":\"Ukraine\",\"marker\":{\"color\":\"#FF97FF\",\"size\":[44982568.0,44982568.0],\"sizemode\":\"area\",\"sizeref\":205828.58,\"symbol\":\"circle\"},\"mode\":\"markers\",\"name\":\"Ukraine\",\"orientation\":\"v\",\"showlegend\":true,\"x\":[398045413376.0,398045413376.0],\"xaxis\":\"x\",\"y\":[380.071,380.071],\"yaxis\":\"y\",\"type\":\"scatter\"}],\"name\":\"2015\"},{\"data\":[{\"hovertemplate\":\"<b>%{hovertext}</b><br><br>country=Germany<br>year=2016<br>GDP (in Billion USD)=%{x}<br>Carbon Intensity of Electricity=%{y}<br>population=%{marker.size}<extra></extra>\",\"hovertext\":[\"Germany\",\"Germany\"],\"legendgroup\":\"Germany\",\"marker\":{\"color\":\"#EF553B\",\"size\":[82331432.0,82331432.0],\"sizemode\":\"area\",\"sizeref\":205828.58,\"symbol\":\"circle\"},\"mode\":\"markers\",\"name\":\"Germany\",\"orientation\":\"v\",\"showlegend\":true,\"x\":[3708980035584.0,3708980035584.0],\"xaxis\":\"x\",\"y\":[498.301,498.301],\"yaxis\":\"y\",\"type\":\"scatter\"},{\"hovertemplate\":\"<b>%{hovertext}</b><br><br>country=Czechia<br>year=2016<br>GDP (in Billion USD)=%{x}<br>Carbon Intensity of Electricity=%{y}<br>population=%{marker.size}<extra></extra>\",\"hovertext\":[\"Czechia\",\"Czechia\"],\"legendgroup\":\"Czechia\",\"marker\":{\"color\":\"#00cc96\",\"size\":[10527584.0,10527584.0],\"sizemode\":\"area\",\"sizeref\":205828.58,\"symbol\":\"circle\"},\"mode\":\"markers\",\"name\":\"Czechia\",\"orientation\":\"v\",\"showlegend\":true,\"x\":[305844158464.0,305844158464.0],\"xaxis\":\"x\",\"y\":[573.902,573.902],\"yaxis\":\"y\",\"type\":\"scatter\"},{\"hovertemplate\":\"<b>%{hovertext}</b><br><br>country=Spain<br>year=2016<br>GDP (in Billion USD)=%{x}<br>Carbon Intensity of Electricity=%{y}<br>population=%{marker.size}<extra></extra>\",\"hovertext\":[\"Spain\",\"Spain\"],\"legendgroup\":\"Spain\",\"marker\":{\"color\":\"#ab63fa\",\"size\":[46473320.0,46473320.0],\"sizemode\":\"area\",\"sizeref\":205828.58,\"symbol\":\"circle\"},\"mode\":\"markers\",\"name\":\"Spain\",\"orientation\":\"v\",\"showlegend\":true,\"x\":[1533303980032.0,1533303980032.0],\"xaxis\":\"x\",\"y\":[282.933,282.933],\"yaxis\":\"y\",\"type\":\"scatter\"},{\"hovertemplate\":\"<b>%{hovertext}</b><br><br>country=Bulgaria<br>year=2016<br>GDP (in Billion USD)=%{x}<br>Carbon Intensity of Electricity=%{y}<br>population=%{marker.size}<extra></extra>\",\"hovertext\":[\"Bulgaria\",\"Bulgaria\"],\"legendgroup\":\"Bulgaria\",\"marker\":{\"color\":\"#FFA15A\",\"size\":[7245982.0,7245982.0],\"sizemode\":\"area\",\"sizeref\":205828.58,\"symbol\":\"circle\"},\"mode\":\"markers\",\"name\":\"Bulgaria\",\"orientation\":\"v\",\"showlegend\":true,\"x\":[117979078656.0,117979078656.0],\"xaxis\":\"x\",\"y\":[472.041,472.041],\"yaxis\":\"y\",\"type\":\"scatter\"},{\"hovertemplate\":\"<b>%{hovertext}</b><br><br>country=Hungary<br>year=2016<br>GDP (in Billion USD)=%{x}<br>Carbon Intensity of Electricity=%{y}<br>population=%{marker.size}<extra></extra>\",\"hovertext\":[\"Hungary\",\"Hungary\"],\"legendgroup\":\"Hungary\",\"marker\":{\"color\":\"#19d3f3\",\"size\":[9815106.0,9815106.0],\"sizemode\":\"area\",\"sizeref\":205828.58,\"symbol\":\"circle\"},\"mode\":\"markers\",\"name\":\"Hungary\",\"orientation\":\"v\",\"showlegend\":true,\"x\":[231459340288.0,231459340288.0],\"xaxis\":\"x\",\"y\":[300.188,300.188],\"yaxis\":\"y\",\"type\":\"scatter\"},{\"hovertemplate\":\"<b>%{hovertext}</b><br><br>country=Romania<br>year=2016<br>GDP (in Billion USD)=%{x}<br>Carbon Intensity of Electricity=%{y}<br>population=%{marker.size}<extra></extra>\",\"hovertext\":[\"Romania\",\"Romania\"],\"legendgroup\":\"Romania\",\"marker\":{\"color\":\"#FF6692\",\"size\":[19797820.0,19797820.0],\"sizemode\":\"area\",\"sizeref\":205828.58,\"symbol\":\"circle\"},\"mode\":\"markers\",\"name\":\"Romania\",\"orientation\":\"v\",\"showlegend\":true,\"x\":[395288248320.0,395288248320.0],\"xaxis\":\"x\",\"y\":[345.375,345.375],\"yaxis\":\"y\",\"type\":\"scatter\"},{\"hovertemplate\":\"<b>%{hovertext}</b><br><br>country=Slovenia<br>year=2016<br>GDP (in Billion USD)=%{x}<br>Carbon Intensity of Electricity=%{y}<br>population=%{marker.size}<extra></extra>\",\"hovertext\":[\"Slovenia\",\"Slovenia\"],\"legendgroup\":\"Slovenia\",\"marker\":{\"color\":\"#B6E880\",\"size\":[2090020.0,2090020.0],\"sizemode\":\"area\",\"sizeref\":205828.58,\"symbol\":\"circle\"},\"mode\":\"markers\",\"name\":\"Slovenia\",\"orientation\":\"v\",\"showlegend\":true,\"x\":[56151179264.0,56151179264.0],\"xaxis\":\"x\",\"y\":[325.94,325.94],\"yaxis\":\"y\",\"type\":\"scatter\"},{\"hovertemplate\":\"<b>%{hovertext}</b><br><br>country=Ukraine<br>year=2016<br>GDP (in Billion USD)=%{x}<br>Carbon Intensity of Electricity=%{y}<br>population=%{marker.size}<extra></extra>\",\"hovertext\":[\"Ukraine\",\"Ukraine\"],\"legendgroup\":\"Ukraine\",\"marker\":{\"color\":\"#FF97FF\",\"size\":[44833568.0,44833568.0],\"sizemode\":\"area\",\"sizeref\":205828.58,\"symbol\":\"circle\"},\"mode\":\"markers\",\"name\":\"Ukraine\",\"orientation\":\"v\",\"showlegend\":true,\"x\":[407666196480.0,407666196480.0],\"xaxis\":\"x\",\"y\":[408.434,408.434],\"yaxis\":\"y\",\"type\":\"scatter\"}],\"name\":\"2016\"},{\"data\":[{\"hovertemplate\":\"<b>%{hovertext}</b><br><br>country=Romania<br>year=2017<br>GDP (in Billion USD)=%{x}<br>Carbon Intensity of Electricity=%{y}<br>population=%{marker.size}<extra></extra>\",\"hovertext\":[\"Romania\",\"Romania\"],\"legendgroup\":\"Romania\",\"marker\":{\"color\":\"#FF6692\",\"size\":[19698852.0,19698852.0],\"sizemode\":\"area\",\"sizeref\":205828.58,\"symbol\":\"circle\"},\"mode\":\"markers\",\"name\":\"Romania\",\"orientation\":\"v\",\"showlegend\":true,\"x\":[456012365824.0,456012365824.0],\"xaxis\":\"x\",\"y\":[369.216,369.216],\"yaxis\":\"y\",\"type\":\"scatter\"}],\"name\":\"2017\"},{\"data\":[{\"hovertemplate\":\"<b>%{hovertext}</b><br><br>country=Romania<br>year=2018<br>GDP (in Billion USD)=%{x}<br>Carbon Intensity of Electricity=%{y}<br>population=%{marker.size}<extra></extra>\",\"hovertext\":[\"Romania\",\"Romania\"],\"legendgroup\":\"Romania\",\"marker\":{\"color\":\"#FF6692\",\"size\":[19606778.0,19606778.0],\"sizemode\":\"area\",\"sizeref\":205828.58,\"symbol\":\"circle\"},\"mode\":\"markers\",\"name\":\"Romania\",\"orientation\":\"v\",\"showlegend\":true,\"x\":[473122635776.0,473122635776.0],\"xaxis\":\"x\",\"y\":[348.057,348.057],\"yaxis\":\"y\",\"type\":\"scatter\"}],\"name\":\"2018\"},{\"data\":[{\"hovertemplate\":\"<b>%{hovertext}</b><br><br>country=Romania<br>year=2019<br>GDP (in Billion USD)=%{x}<br>Carbon Intensity of Electricity=%{y}<br>population=%{marker.size}<extra></extra>\",\"hovertext\":[\"Romania\",\"Romania\"],\"legendgroup\":\"Romania\",\"marker\":{\"color\":\"#FF6692\",\"size\":[19524212.0,19524212.0],\"sizemode\":\"area\",\"sizeref\":205828.58,\"symbol\":\"circle\"},\"mode\":\"markers\",\"name\":\"Romania\",\"orientation\":\"v\",\"showlegend\":true,\"x\":[456564506624.0,456564506624.0],\"xaxis\":\"x\",\"y\":[328.965,328.965],\"yaxis\":\"y\",\"type\":\"scatter\"}],\"name\":\"2019\"},{\"data\":[{\"hovertemplate\":\"<b>%{hovertext}</b><br><br>country=Romania<br>year=2020<br>GDP (in Billion USD)=%{x}<br>Carbon Intensity of Electricity=%{y}<br>population=%{marker.size}<extra></extra>\",\"hovertext\":[\"Romania\",\"Romania\"],\"legendgroup\":\"Romania\",\"marker\":{\"color\":\"#FF6692\",\"size\":[19442040.0,19442040.0],\"sizemode\":\"area\",\"sizeref\":205828.58,\"symbol\":\"circle\"},\"mode\":\"markers\",\"name\":\"Romania\",\"orientation\":\"v\",\"showlegend\":true,\"x\":[483499376640.0,483499376640.0],\"xaxis\":\"x\",\"y\":[277.848,277.848],\"yaxis\":\"y\",\"type\":\"scatter\"}],\"name\":\"2020\"},{\"data\":[{\"hovertemplate\":\"<b>%{hovertext}</b><br><br>country=Romania<br>year=2021<br>GDP (in Billion USD)=%{x}<br>Carbon Intensity of Electricity=%{y}<br>population=%{marker.size}<extra></extra>\",\"hovertext\":[\"Romania\",\"Romania\"],\"legendgroup\":\"Romania\",\"marker\":{\"color\":\"#FF6692\",\"size\":[19328558.0,19328558.0],\"sizemode\":\"area\",\"sizeref\":205828.58,\"symbol\":\"circle\"},\"mode\":\"markers\",\"name\":\"Romania\",\"orientation\":\"v\",\"showlegend\":true,\"x\":[505119539200.0,505119539200.0],\"xaxis\":\"x\",\"y\":[289.959,289.959],\"yaxis\":\"y\",\"type\":\"scatter\"}],\"name\":\"2021\"}]);\n",
       "                        }).then(function(){\n",
       "                            \n",
       "var gd = document.getElementById('ff6936c6-0d86-44cd-a773-03857fa9582c');\n",
       "var x = new MutationObserver(function (mutations, observer) {{\n",
       "        var display = window.getComputedStyle(gd).display;\n",
       "        if (!display || display === 'none') {{\n",
       "            console.log([gd, 'removed!']);\n",
       "            Plotly.purge(gd);\n",
       "            observer.disconnect();\n",
       "        }}\n",
       "}});\n",
       "\n",
       "// Listen for the removal of the full notebook cells\n",
       "var notebookContainer = gd.closest('#notebook-container');\n",
       "if (notebookContainer) {{\n",
       "    x.observe(notebookContainer, {childList: true});\n",
       "}}\n",
       "\n",
       "// Listen for the clearing of the current output cell\n",
       "var outputEl = gd.closest('.output');\n",
       "if (outputEl) {{\n",
       "    x.observe(outputEl, {childList: true});\n",
       "}}\n",
       "\n",
       "                        })                };                });            </script>        </div>"
      ]
     },
     "metadata": {},
     "output_type": "display_data"
    }
   ],
   "source": [
    "# Animated Scatterplot: GDP vs Carbon Intensity\n",
    "\n",
    "import plotly.express as px\n",
    "\n",
    "# Create an animated scatterplot\n",
    "fig = px.scatter(\n",
    "    df,\n",
    "    x='gdp',  # X-axis\n",
    "    y='carbon_intensity_elec',  # Y-axis\n",
    "    size='population',  # Bubble size\n",
    "    color='country',  # Color by country\n",
    "    animation_frame='year',  # Animation over the year\n",
    "    title='Animated Scatterplot: GDP vs Carbon Intensity',\n",
    "    labels={'gdp': 'GDP (in Billion USD)', 'carbon_intensity_elec': 'Carbon Intensity of Electricity'},\n",
    "    hover_name='country',  # Display country on hover\n",
    ")\n",
    "\n",
    "# Customize the layout\n",
    "fig.update_layout(\n",
    "    xaxis_title=\"GDP (in Billion USD)\",\n",
    "    yaxis_title=\"Carbon Intensity of Electricity\",\n",
    "    legend_title=\"Country\",\n",
    "    template=\"plotly_white\"\n",
    ")\n",
    "\n",
    "# Show the plot\n",
    "fig.show()"
   ]
  },
  {
   "cell_type": "code",
   "execution_count": 47,
   "id": "4ca1da49",
   "metadata": {},
   "outputs": [
    {
     "data": {
      "application/vnd.plotly.v1+json": {
       "config": {
        "plotlyServerURL": "https://plot.ly"
       },
       "data": [
        {
         "hovertemplate": "country=France<br>Year=%{x}<br>Renewable Energy Consumption (TWh)=%{y}<extra></extra>",
         "ids": [
          "France",
          "France",
          "France",
          "France",
          "France",
          "France",
          "France",
          "France",
          "France",
          "France",
          "France",
          "France"
         ],
         "legendgroup": "France",
         "line": {
          "color": "#636efa",
          "dash": "solid"
         },
         "marker": {
          "symbol": "circle"
         },
         "mode": "lines",
         "name": "France",
         "orientation": "v",
         "showlegend": true,
         "type": "scatter",
         "x": [
          2000,
          2000,
          2001,
          2001,
          2002,
          2002,
          2003,
          2003,
          2004,
          2004,
          2005,
          2005
         ],
         "xaxis": "x",
         "y": [
          209.574,
          209.574,
          232.93,
          232.93,
          192.254,
          192.254,
          187.52,
          187.52,
          189.317,
          189.317,
          169.137,
          169.137
         ],
         "yaxis": "y"
        },
        {
         "hovertemplate": "country=Germany<br>Year=%{x}<br>Renewable Energy Consumption (TWh)=%{y}<extra></extra>",
         "ids": [
          "Germany",
          "Germany",
          "Germany",
          "Germany",
          "Germany",
          "Germany",
          "Germany",
          "Germany",
          "Germany",
          "Germany",
          "Germany",
          "Germany",
          "Germany",
          "Germany",
          "Germany",
          "Germany",
          "Germany",
          "Germany",
          "Germany",
          "Germany",
          "Germany",
          "Germany",
          "Germany",
          "Germany",
          "Germany",
          "Germany",
          "Germany",
          "Germany",
          "Germany",
          "Germany",
          "Germany",
          "Germany"
         ],
         "legendgroup": "Germany",
         "line": {
          "color": "#EF553B",
          "dash": "solid"
         },
         "marker": {
          "symbol": "circle"
         },
         "mode": "lines",
         "name": "Germany",
         "orientation": "v",
         "showlegend": true,
         "type": "scatter",
         "x": [
          2000,
          2000,
          2002,
          2002,
          2003,
          2003,
          2004,
          2004,
          2005,
          2005,
          2006,
          2006,
          2007,
          2007,
          2008,
          2008,
          2009,
          2009,
          2010,
          2010,
          2011,
          2011,
          2012,
          2012,
          2013,
          2013,
          2014,
          2014,
          2015,
          2015,
          2016,
          2016
         ],
         "xaxis": "x",
         "y": [
          115.143,
          115.143,
          141.96,
          141.96,
          146.061,
          146.061,
          181.111,
          181.111,
          206.394,
          206.394,
          244.814,
          244.814,
          297.995,
          297.995,
          307.602,
          307.602,
          312.145,
          312.145,
          338.261,
          338.261,
          392.095,
          392.095,
          447.658,
          447.658,
          466.67,
          466.67,
          494.801,
          494.801,
          562.535,
          562.535,
          563.375,
          563.375
         ],
         "yaxis": "y"
        },
        {
         "hovertemplate": "country=Czechia<br>Year=%{x}<br>Renewable Energy Consumption (TWh)=%{y}<extra></extra>",
         "ids": [
          "Czechia",
          "Czechia",
          "Czechia",
          "Czechia",
          "Czechia",
          "Czechia",
          "Czechia",
          "Czechia",
          "Czechia",
          "Czechia",
          "Czechia",
          "Czechia",
          "Czechia",
          "Czechia",
          "Czechia",
          "Czechia",
          "Czechia",
          "Czechia",
          "Czechia",
          "Czechia",
          "Czechia",
          "Czechia",
          "Czechia",
          "Czechia"
         ],
         "legendgroup": "Czechia",
         "line": {
          "color": "#00cc96",
          "dash": "solid"
         },
         "marker": {
          "symbol": "circle"
         },
         "mode": "lines",
         "name": "Czechia",
         "orientation": "v",
         "showlegend": true,
         "type": "scatter",
         "x": [
          2005,
          2005,
          2006,
          2006,
          2007,
          2007,
          2008,
          2008,
          2009,
          2009,
          2010,
          2010,
          2011,
          2011,
          2012,
          2012,
          2013,
          2013,
          2014,
          2014,
          2015,
          2015,
          2016,
          2016
         ],
         "xaxis": "x",
         "y": [
          9.242,
          9.242,
          10.539,
          10.539,
          10.298,
          10.298,
          12.314,
          12.314,
          16.009,
          16.009,
          20.001,
          20.001,
          24.645,
          24.645,
          26.829,
          26.829,
          30.483,
          30.483,
          30.793,
          30.793,
          31.223,
          31.223,
          31.115,
          31.115
         ],
         "yaxis": "y"
        },
        {
         "hovertemplate": "country=Spain<br>Year=%{x}<br>Renewable Energy Consumption (TWh)=%{y}<extra></extra>",
         "ids": [
          "Spain",
          "Spain",
          "Spain",
          "Spain",
          "Spain",
          "Spain",
          "Spain",
          "Spain",
          "Spain",
          "Spain",
          "Spain",
          "Spain",
          "Spain",
          "Spain",
          "Spain",
          "Spain",
          "Spain",
          "Spain"
         ],
         "legendgroup": "Spain",
         "line": {
          "color": "#ab63fa",
          "dash": "solid"
         },
         "marker": {
          "symbol": "circle"
         },
         "mode": "lines",
         "name": "Spain",
         "orientation": "v",
         "showlegend": true,
         "type": "scatter",
         "x": [
          2008,
          2008,
          2009,
          2009,
          2010,
          2010,
          2011,
          2011,
          2012,
          2012,
          2013,
          2013,
          2014,
          2014,
          2015,
          2015,
          2016,
          2016
         ],
         "xaxis": "x",
         "y": [
          185.94,
          185.94,
          223.446,
          223.446,
          291.966,
          291.966,
          266.044,
          266.044,
          273.339,
          273.339,
          318.475,
          318.475,
          315.805,
          315.805,
          279.12,
          279.12,
          299.822,
          299.822
         ],
         "yaxis": "y"
        },
        {
         "hovertemplate": "country=Bulgaria<br>Year=%{x}<br>Renewable Energy Consumption (TWh)=%{y}<extra></extra>",
         "ids": [
          "Bulgaria",
          "Bulgaria",
          "Bulgaria",
          "Bulgaria",
          "Bulgaria",
          "Bulgaria",
          "Bulgaria",
          "Bulgaria",
          "Bulgaria",
          "Bulgaria",
          "Bulgaria",
          "Bulgaria",
          "Bulgaria",
          "Bulgaria",
          "Bulgaria",
          "Bulgaria"
         ],
         "legendgroup": "Bulgaria",
         "line": {
          "color": "#FFA15A",
          "dash": "solid"
         },
         "marker": {
          "symbol": "circle"
         },
         "mode": "lines",
         "name": "Bulgaria",
         "orientation": "v",
         "showlegend": true,
         "type": "scatter",
         "x": [
          2009,
          2009,
          2010,
          2010,
          2011,
          2011,
          2012,
          2012,
          2013,
          2013,
          2014,
          2014,
          2015,
          2015,
          2016,
          2016
         ],
         "xaxis": "x",
         "y": [
          10.34,
          10.34,
          16.195,
          16.195,
          10.949,
          10.949,
          15.382,
          15.382,
          20.162,
          20.162,
          21.377,
          21.377,
          25.387,
          25.387,
          20.905,
          20.905
         ],
         "yaxis": "y"
        },
        {
         "hovertemplate": "country=Hungary<br>Year=%{x}<br>Renewable Energy Consumption (TWh)=%{y}<extra></extra>",
         "ids": [
          "Hungary",
          "Hungary",
          "Hungary",
          "Hungary",
          "Hungary",
          "Hungary",
          "Hungary",
          "Hungary",
          "Hungary",
          "Hungary",
          "Hungary",
          "Hungary",
          "Hungary",
          "Hungary",
          "Hungary",
          "Hungary"
         ],
         "legendgroup": "Hungary",
         "line": {
          "color": "#19d3f3",
          "dash": "solid"
         },
         "marker": {
          "symbol": "circle"
         },
         "mode": "lines",
         "name": "Hungary",
         "orientation": "v",
         "showlegend": true,
         "type": "scatter",
         "x": [
          2009,
          2009,
          2010,
          2010,
          2011,
          2011,
          2012,
          2012,
          2013,
          2013,
          2014,
          2014,
          2015,
          2015,
          2016,
          2016
         ],
         "xaxis": "x",
         "y": [
          10.969,
          10.969,
          11.339,
          11.339,
          10.119,
          10.119,
          9.791,
          9.791,
          10.031,
          10.031,
          11.739,
          11.739,
          11.794,
          11.794,
          11.947,
          11.947
         ],
         "yaxis": "y"
        },
        {
         "hovertemplate": "country=Romania<br>Year=%{x}<br>Renewable Energy Consumption (TWh)=%{y}<extra></extra>",
         "ids": [
          "Romania",
          "Romania",
          "Romania",
          "Romania",
          "Romania",
          "Romania",
          "Romania",
          "Romania",
          "Romania",
          "Romania",
          "Romania",
          "Romania",
          "Romania",
          "Romania",
          "Romania",
          "Romania",
          "Romania",
          "Romania",
          "Romania",
          "Romania",
          "Romania",
          "Romania",
          "Romania",
          "Romania"
         ],
         "legendgroup": "Romania",
         "line": {
          "color": "#FF6692",
          "dash": "solid"
         },
         "marker": {
          "symbol": "circle"
         },
         "mode": "lines",
         "name": "Romania",
         "orientation": "v",
         "showlegend": true,
         "type": "scatter",
         "x": [
          2010,
          2010,
          2011,
          2011,
          2012,
          2012,
          2013,
          2013,
          2014,
          2014,
          2015,
          2015,
          2016,
          2016,
          2017,
          2017,
          2018,
          2018,
          2019,
          2019,
          2020,
          2020,
          2021,
          2021
         ],
         "xaxis": "x",
         "y": [
          57.721,
          57.721,
          47.255,
          47.255,
          43.043,
          43.043,
          56.365,
          56.365,
          69.642,
          69.642,
          72.658,
          72.658,
          75.338,
          75.338,
          68.088,
          68.088,
          72.951,
          72.951,
          69.52,
          69.52,
          69.96,
          69.96,
          73.966,
          73.966
         ],
         "yaxis": "y"
        },
        {
         "hovertemplate": "country=Slovenia<br>Year=%{x}<br>Renewable Energy Consumption (TWh)=%{y}<extra></extra>",
         "ids": [
          "Slovenia",
          "Slovenia",
          "Slovenia",
          "Slovenia",
          "Slovenia",
          "Slovenia"
         ],
         "legendgroup": "Slovenia",
         "line": {
          "color": "#B6E880",
          "dash": "solid"
         },
         "marker": {
          "symbol": "circle"
         },
         "mode": "lines",
         "name": "Slovenia",
         "orientation": "v",
         "showlegend": true,
         "type": "scatter",
         "x": [
          2014,
          2014,
          2015,
          2015,
          2016,
          2016
         ],
         "xaxis": "x",
         "y": [
          18.526,
          18.526,
          12.195,
          12.195,
          13.898,
          13.898
         ],
         "yaxis": "y"
        },
        {
         "hovertemplate": "country=Ukraine<br>Year=%{x}<br>Renewable Energy Consumption (TWh)=%{y}<extra></extra>",
         "ids": [
          "Ukraine",
          "Ukraine",
          "Ukraine",
          "Ukraine",
          "Ukraine",
          "Ukraine"
         ],
         "legendgroup": "Ukraine",
         "line": {
          "color": "#FF97FF",
          "dash": "solid"
         },
         "marker": {
          "symbol": "circle"
         },
         "mode": "lines",
         "name": "Ukraine",
         "orientation": "v",
         "showlegend": true,
         "type": "scatter",
         "x": [
          2014,
          2014,
          2015,
          2015,
          2016,
          2016
         ],
         "xaxis": "x",
         "y": [
          28.084,
          28.084,
          19.593,
          19.593,
          25.282,
          25.282
         ],
         "yaxis": "y"
        }
       ],
       "layout": {
        "legend": {
         "title": {
          "text": "Country"
         },
         "tracegroupgap": 0
        },
        "template": {
         "data": {
          "bar": [
           {
            "error_x": {
             "color": "#2a3f5f"
            },
            "error_y": {
             "color": "#2a3f5f"
            },
            "marker": {
             "line": {
              "color": "white",
              "width": 0.5
             },
             "pattern": {
              "fillmode": "overlay",
              "size": 10,
              "solidity": 0.2
             }
            },
            "type": "bar"
           }
          ],
          "barpolar": [
           {
            "marker": {
             "line": {
              "color": "white",
              "width": 0.5
             },
             "pattern": {
              "fillmode": "overlay",
              "size": 10,
              "solidity": 0.2
             }
            },
            "type": "barpolar"
           }
          ],
          "carpet": [
           {
            "aaxis": {
             "endlinecolor": "#2a3f5f",
             "gridcolor": "#C8D4E3",
             "linecolor": "#C8D4E3",
             "minorgridcolor": "#C8D4E3",
             "startlinecolor": "#2a3f5f"
            },
            "baxis": {
             "endlinecolor": "#2a3f5f",
             "gridcolor": "#C8D4E3",
             "linecolor": "#C8D4E3",
             "minorgridcolor": "#C8D4E3",
             "startlinecolor": "#2a3f5f"
            },
            "type": "carpet"
           }
          ],
          "choropleth": [
           {
            "colorbar": {
             "outlinewidth": 0,
             "ticks": ""
            },
            "type": "choropleth"
           }
          ],
          "contour": [
           {
            "colorbar": {
             "outlinewidth": 0,
             "ticks": ""
            },
            "colorscale": [
             [
              0,
              "#0d0887"
             ],
             [
              0.1111111111111111,
              "#46039f"
             ],
             [
              0.2222222222222222,
              "#7201a8"
             ],
             [
              0.3333333333333333,
              "#9c179e"
             ],
             [
              0.4444444444444444,
              "#bd3786"
             ],
             [
              0.5555555555555556,
              "#d8576b"
             ],
             [
              0.6666666666666666,
              "#ed7953"
             ],
             [
              0.7777777777777778,
              "#fb9f3a"
             ],
             [
              0.8888888888888888,
              "#fdca26"
             ],
             [
              1,
              "#f0f921"
             ]
            ],
            "type": "contour"
           }
          ],
          "contourcarpet": [
           {
            "colorbar": {
             "outlinewidth": 0,
             "ticks": ""
            },
            "type": "contourcarpet"
           }
          ],
          "heatmap": [
           {
            "colorbar": {
             "outlinewidth": 0,
             "ticks": ""
            },
            "colorscale": [
             [
              0,
              "#0d0887"
             ],
             [
              0.1111111111111111,
              "#46039f"
             ],
             [
              0.2222222222222222,
              "#7201a8"
             ],
             [
              0.3333333333333333,
              "#9c179e"
             ],
             [
              0.4444444444444444,
              "#bd3786"
             ],
             [
              0.5555555555555556,
              "#d8576b"
             ],
             [
              0.6666666666666666,
              "#ed7953"
             ],
             [
              0.7777777777777778,
              "#fb9f3a"
             ],
             [
              0.8888888888888888,
              "#fdca26"
             ],
             [
              1,
              "#f0f921"
             ]
            ],
            "type": "heatmap"
           }
          ],
          "heatmapgl": [
           {
            "colorbar": {
             "outlinewidth": 0,
             "ticks": ""
            },
            "colorscale": [
             [
              0,
              "#0d0887"
             ],
             [
              0.1111111111111111,
              "#46039f"
             ],
             [
              0.2222222222222222,
              "#7201a8"
             ],
             [
              0.3333333333333333,
              "#9c179e"
             ],
             [
              0.4444444444444444,
              "#bd3786"
             ],
             [
              0.5555555555555556,
              "#d8576b"
             ],
             [
              0.6666666666666666,
              "#ed7953"
             ],
             [
              0.7777777777777778,
              "#fb9f3a"
             ],
             [
              0.8888888888888888,
              "#fdca26"
             ],
             [
              1,
              "#f0f921"
             ]
            ],
            "type": "heatmapgl"
           }
          ],
          "histogram": [
           {
            "marker": {
             "pattern": {
              "fillmode": "overlay",
              "size": 10,
              "solidity": 0.2
             }
            },
            "type": "histogram"
           }
          ],
          "histogram2d": [
           {
            "colorbar": {
             "outlinewidth": 0,
             "ticks": ""
            },
            "colorscale": [
             [
              0,
              "#0d0887"
             ],
             [
              0.1111111111111111,
              "#46039f"
             ],
             [
              0.2222222222222222,
              "#7201a8"
             ],
             [
              0.3333333333333333,
              "#9c179e"
             ],
             [
              0.4444444444444444,
              "#bd3786"
             ],
             [
              0.5555555555555556,
              "#d8576b"
             ],
             [
              0.6666666666666666,
              "#ed7953"
             ],
             [
              0.7777777777777778,
              "#fb9f3a"
             ],
             [
              0.8888888888888888,
              "#fdca26"
             ],
             [
              1,
              "#f0f921"
             ]
            ],
            "type": "histogram2d"
           }
          ],
          "histogram2dcontour": [
           {
            "colorbar": {
             "outlinewidth": 0,
             "ticks": ""
            },
            "colorscale": [
             [
              0,
              "#0d0887"
             ],
             [
              0.1111111111111111,
              "#46039f"
             ],
             [
              0.2222222222222222,
              "#7201a8"
             ],
             [
              0.3333333333333333,
              "#9c179e"
             ],
             [
              0.4444444444444444,
              "#bd3786"
             ],
             [
              0.5555555555555556,
              "#d8576b"
             ],
             [
              0.6666666666666666,
              "#ed7953"
             ],
             [
              0.7777777777777778,
              "#fb9f3a"
             ],
             [
              0.8888888888888888,
              "#fdca26"
             ],
             [
              1,
              "#f0f921"
             ]
            ],
            "type": "histogram2dcontour"
           }
          ],
          "mesh3d": [
           {
            "colorbar": {
             "outlinewidth": 0,
             "ticks": ""
            },
            "type": "mesh3d"
           }
          ],
          "parcoords": [
           {
            "line": {
             "colorbar": {
              "outlinewidth": 0,
              "ticks": ""
             }
            },
            "type": "parcoords"
           }
          ],
          "pie": [
           {
            "automargin": true,
            "type": "pie"
           }
          ],
          "scatter": [
           {
            "fillpattern": {
             "fillmode": "overlay",
             "size": 10,
             "solidity": 0.2
            },
            "type": "scatter"
           }
          ],
          "scatter3d": [
           {
            "line": {
             "colorbar": {
              "outlinewidth": 0,
              "ticks": ""
             }
            },
            "marker": {
             "colorbar": {
              "outlinewidth": 0,
              "ticks": ""
             }
            },
            "type": "scatter3d"
           }
          ],
          "scattercarpet": [
           {
            "marker": {
             "colorbar": {
              "outlinewidth": 0,
              "ticks": ""
             }
            },
            "type": "scattercarpet"
           }
          ],
          "scattergeo": [
           {
            "marker": {
             "colorbar": {
              "outlinewidth": 0,
              "ticks": ""
             }
            },
            "type": "scattergeo"
           }
          ],
          "scattergl": [
           {
            "marker": {
             "colorbar": {
              "outlinewidth": 0,
              "ticks": ""
             }
            },
            "type": "scattergl"
           }
          ],
          "scattermapbox": [
           {
            "marker": {
             "colorbar": {
              "outlinewidth": 0,
              "ticks": ""
             }
            },
            "type": "scattermapbox"
           }
          ],
          "scatterpolar": [
           {
            "marker": {
             "colorbar": {
              "outlinewidth": 0,
              "ticks": ""
             }
            },
            "type": "scatterpolar"
           }
          ],
          "scatterpolargl": [
           {
            "marker": {
             "colorbar": {
              "outlinewidth": 0,
              "ticks": ""
             }
            },
            "type": "scatterpolargl"
           }
          ],
          "scatterternary": [
           {
            "marker": {
             "colorbar": {
              "outlinewidth": 0,
              "ticks": ""
             }
            },
            "type": "scatterternary"
           }
          ],
          "surface": [
           {
            "colorbar": {
             "outlinewidth": 0,
             "ticks": ""
            },
            "colorscale": [
             [
              0,
              "#0d0887"
             ],
             [
              0.1111111111111111,
              "#46039f"
             ],
             [
              0.2222222222222222,
              "#7201a8"
             ],
             [
              0.3333333333333333,
              "#9c179e"
             ],
             [
              0.4444444444444444,
              "#bd3786"
             ],
             [
              0.5555555555555556,
              "#d8576b"
             ],
             [
              0.6666666666666666,
              "#ed7953"
             ],
             [
              0.7777777777777778,
              "#fb9f3a"
             ],
             [
              0.8888888888888888,
              "#fdca26"
             ],
             [
              1,
              "#f0f921"
             ]
            ],
            "type": "surface"
           }
          ],
          "table": [
           {
            "cells": {
             "fill": {
              "color": "#EBF0F8"
             },
             "line": {
              "color": "white"
             }
            },
            "header": {
             "fill": {
              "color": "#C8D4E3"
             },
             "line": {
              "color": "white"
             }
            },
            "type": "table"
           }
          ]
         },
         "layout": {
          "annotationdefaults": {
           "arrowcolor": "#2a3f5f",
           "arrowhead": 0,
           "arrowwidth": 1
          },
          "autotypenumbers": "strict",
          "coloraxis": {
           "colorbar": {
            "outlinewidth": 0,
            "ticks": ""
           }
          },
          "colorscale": {
           "diverging": [
            [
             0,
             "#8e0152"
            ],
            [
             0.1,
             "#c51b7d"
            ],
            [
             0.2,
             "#de77ae"
            ],
            [
             0.3,
             "#f1b6da"
            ],
            [
             0.4,
             "#fde0ef"
            ],
            [
             0.5,
             "#f7f7f7"
            ],
            [
             0.6,
             "#e6f5d0"
            ],
            [
             0.7,
             "#b8e186"
            ],
            [
             0.8,
             "#7fbc41"
            ],
            [
             0.9,
             "#4d9221"
            ],
            [
             1,
             "#276419"
            ]
           ],
           "sequential": [
            [
             0,
             "#0d0887"
            ],
            [
             0.1111111111111111,
             "#46039f"
            ],
            [
             0.2222222222222222,
             "#7201a8"
            ],
            [
             0.3333333333333333,
             "#9c179e"
            ],
            [
             0.4444444444444444,
             "#bd3786"
            ],
            [
             0.5555555555555556,
             "#d8576b"
            ],
            [
             0.6666666666666666,
             "#ed7953"
            ],
            [
             0.7777777777777778,
             "#fb9f3a"
            ],
            [
             0.8888888888888888,
             "#fdca26"
            ],
            [
             1,
             "#f0f921"
            ]
           ],
           "sequentialminus": [
            [
             0,
             "#0d0887"
            ],
            [
             0.1111111111111111,
             "#46039f"
            ],
            [
             0.2222222222222222,
             "#7201a8"
            ],
            [
             0.3333333333333333,
             "#9c179e"
            ],
            [
             0.4444444444444444,
             "#bd3786"
            ],
            [
             0.5555555555555556,
             "#d8576b"
            ],
            [
             0.6666666666666666,
             "#ed7953"
            ],
            [
             0.7777777777777778,
             "#fb9f3a"
            ],
            [
             0.8888888888888888,
             "#fdca26"
            ],
            [
             1,
             "#f0f921"
            ]
           ]
          },
          "colorway": [
           "#636efa",
           "#EF553B",
           "#00cc96",
           "#ab63fa",
           "#FFA15A",
           "#19d3f3",
           "#FF6692",
           "#B6E880",
           "#FF97FF",
           "#FECB52"
          ],
          "font": {
           "color": "#2a3f5f"
          },
          "geo": {
           "bgcolor": "white",
           "lakecolor": "white",
           "landcolor": "white",
           "showlakes": true,
           "showland": true,
           "subunitcolor": "#C8D4E3"
          },
          "hoverlabel": {
           "align": "left"
          },
          "hovermode": "closest",
          "mapbox": {
           "style": "light"
          },
          "paper_bgcolor": "white",
          "plot_bgcolor": "white",
          "polar": {
           "angularaxis": {
            "gridcolor": "#EBF0F8",
            "linecolor": "#EBF0F8",
            "ticks": ""
           },
           "bgcolor": "white",
           "radialaxis": {
            "gridcolor": "#EBF0F8",
            "linecolor": "#EBF0F8",
            "ticks": ""
           }
          },
          "scene": {
           "xaxis": {
            "backgroundcolor": "white",
            "gridcolor": "#DFE8F3",
            "gridwidth": 2,
            "linecolor": "#EBF0F8",
            "showbackground": true,
            "ticks": "",
            "zerolinecolor": "#EBF0F8"
           },
           "yaxis": {
            "backgroundcolor": "white",
            "gridcolor": "#DFE8F3",
            "gridwidth": 2,
            "linecolor": "#EBF0F8",
            "showbackground": true,
            "ticks": "",
            "zerolinecolor": "#EBF0F8"
           },
           "zaxis": {
            "backgroundcolor": "white",
            "gridcolor": "#DFE8F3",
            "gridwidth": 2,
            "linecolor": "#EBF0F8",
            "showbackground": true,
            "ticks": "",
            "zerolinecolor": "#EBF0F8"
           }
          },
          "shapedefaults": {
           "line": {
            "color": "#2a3f5f"
           }
          },
          "ternary": {
           "aaxis": {
            "gridcolor": "#DFE8F3",
            "linecolor": "#A2B1C6",
            "ticks": ""
           },
           "baxis": {
            "gridcolor": "#DFE8F3",
            "linecolor": "#A2B1C6",
            "ticks": ""
           },
           "bgcolor": "white",
           "caxis": {
            "gridcolor": "#DFE8F3",
            "linecolor": "#A2B1C6",
            "ticks": ""
           }
          },
          "title": {
           "x": 0.05
          },
          "xaxis": {
           "automargin": true,
           "gridcolor": "#EBF0F8",
           "linecolor": "#EBF0F8",
           "ticks": "",
           "title": {
            "standoff": 15
           },
           "zerolinecolor": "#EBF0F8",
           "zerolinewidth": 2
          },
          "yaxis": {
           "automargin": true,
           "gridcolor": "#EBF0F8",
           "linecolor": "#EBF0F8",
           "ticks": "",
           "title": {
            "standoff": 15
           },
           "zerolinecolor": "#EBF0F8",
           "zerolinewidth": 2
          }
         }
        },
        "title": {
         "text": "Renewable Energy Consumption Over Time"
        },
        "xaxis": {
         "anchor": "y",
         "domain": [
          0,
          1
         ],
         "title": {
          "text": "Year"
         }
        },
        "yaxis": {
         "anchor": "x",
         "domain": [
          0,
          1
         ],
         "title": {
          "text": "Renewable Energy Consumption (TWh)"
         }
        }
       }
      },
      "text/html": [
       "<div>                            <div id=\"f082727f-7f2a-4362-9c74-e6bad0a923e2\" class=\"plotly-graph-div\" style=\"height:525px; width:100%;\"></div>            <script type=\"text/javascript\">                require([\"plotly\"], function(Plotly) {                    window.PLOTLYENV=window.PLOTLYENV || {};                                    if (document.getElementById(\"f082727f-7f2a-4362-9c74-e6bad0a923e2\")) {                    Plotly.newPlot(                        \"f082727f-7f2a-4362-9c74-e6bad0a923e2\",                        [{\"hovertemplate\":\"country=France<br>Year=%{x}<br>Renewable Energy Consumption (TWh)=%{y}<extra></extra>\",\"ids\":[\"France\",\"France\",\"France\",\"France\",\"France\",\"France\",\"France\",\"France\",\"France\",\"France\",\"France\",\"France\"],\"legendgroup\":\"France\",\"line\":{\"color\":\"#636efa\",\"dash\":\"solid\"},\"marker\":{\"symbol\":\"circle\"},\"mode\":\"lines\",\"name\":\"France\",\"orientation\":\"v\",\"showlegend\":true,\"x\":[2000,2000,2001,2001,2002,2002,2003,2003,2004,2004,2005,2005],\"xaxis\":\"x\",\"y\":[209.574,209.574,232.93,232.93,192.254,192.254,187.52,187.52,189.317,189.317,169.137,169.137],\"yaxis\":\"y\",\"type\":\"scatter\"},{\"hovertemplate\":\"country=Germany<br>Year=%{x}<br>Renewable Energy Consumption (TWh)=%{y}<extra></extra>\",\"ids\":[\"Germany\",\"Germany\",\"Germany\",\"Germany\",\"Germany\",\"Germany\",\"Germany\",\"Germany\",\"Germany\",\"Germany\",\"Germany\",\"Germany\",\"Germany\",\"Germany\",\"Germany\",\"Germany\",\"Germany\",\"Germany\",\"Germany\",\"Germany\",\"Germany\",\"Germany\",\"Germany\",\"Germany\",\"Germany\",\"Germany\",\"Germany\",\"Germany\",\"Germany\",\"Germany\",\"Germany\",\"Germany\"],\"legendgroup\":\"Germany\",\"line\":{\"color\":\"#EF553B\",\"dash\":\"solid\"},\"marker\":{\"symbol\":\"circle\"},\"mode\":\"lines\",\"name\":\"Germany\",\"orientation\":\"v\",\"showlegend\":true,\"x\":[2000,2000,2002,2002,2003,2003,2004,2004,2005,2005,2006,2006,2007,2007,2008,2008,2009,2009,2010,2010,2011,2011,2012,2012,2013,2013,2014,2014,2015,2015,2016,2016],\"xaxis\":\"x\",\"y\":[115.143,115.143,141.96,141.96,146.061,146.061,181.111,181.111,206.394,206.394,244.814,244.814,297.995,297.995,307.602,307.602,312.145,312.145,338.261,338.261,392.095,392.095,447.658,447.658,466.67,466.67,494.801,494.801,562.535,562.535,563.375,563.375],\"yaxis\":\"y\",\"type\":\"scatter\"},{\"hovertemplate\":\"country=Czechia<br>Year=%{x}<br>Renewable Energy Consumption (TWh)=%{y}<extra></extra>\",\"ids\":[\"Czechia\",\"Czechia\",\"Czechia\",\"Czechia\",\"Czechia\",\"Czechia\",\"Czechia\",\"Czechia\",\"Czechia\",\"Czechia\",\"Czechia\",\"Czechia\",\"Czechia\",\"Czechia\",\"Czechia\",\"Czechia\",\"Czechia\",\"Czechia\",\"Czechia\",\"Czechia\",\"Czechia\",\"Czechia\",\"Czechia\",\"Czechia\"],\"legendgroup\":\"Czechia\",\"line\":{\"color\":\"#00cc96\",\"dash\":\"solid\"},\"marker\":{\"symbol\":\"circle\"},\"mode\":\"lines\",\"name\":\"Czechia\",\"orientation\":\"v\",\"showlegend\":true,\"x\":[2005,2005,2006,2006,2007,2007,2008,2008,2009,2009,2010,2010,2011,2011,2012,2012,2013,2013,2014,2014,2015,2015,2016,2016],\"xaxis\":\"x\",\"y\":[9.242,9.242,10.539,10.539,10.298,10.298,12.314,12.314,16.009,16.009,20.001,20.001,24.645,24.645,26.829,26.829,30.483,30.483,30.793,30.793,31.223,31.223,31.115,31.115],\"yaxis\":\"y\",\"type\":\"scatter\"},{\"hovertemplate\":\"country=Spain<br>Year=%{x}<br>Renewable Energy Consumption (TWh)=%{y}<extra></extra>\",\"ids\":[\"Spain\",\"Spain\",\"Spain\",\"Spain\",\"Spain\",\"Spain\",\"Spain\",\"Spain\",\"Spain\",\"Spain\",\"Spain\",\"Spain\",\"Spain\",\"Spain\",\"Spain\",\"Spain\",\"Spain\",\"Spain\"],\"legendgroup\":\"Spain\",\"line\":{\"color\":\"#ab63fa\",\"dash\":\"solid\"},\"marker\":{\"symbol\":\"circle\"},\"mode\":\"lines\",\"name\":\"Spain\",\"orientation\":\"v\",\"showlegend\":true,\"x\":[2008,2008,2009,2009,2010,2010,2011,2011,2012,2012,2013,2013,2014,2014,2015,2015,2016,2016],\"xaxis\":\"x\",\"y\":[185.94,185.94,223.446,223.446,291.966,291.966,266.044,266.044,273.339,273.339,318.475,318.475,315.805,315.805,279.12,279.12,299.822,299.822],\"yaxis\":\"y\",\"type\":\"scatter\"},{\"hovertemplate\":\"country=Bulgaria<br>Year=%{x}<br>Renewable Energy Consumption (TWh)=%{y}<extra></extra>\",\"ids\":[\"Bulgaria\",\"Bulgaria\",\"Bulgaria\",\"Bulgaria\",\"Bulgaria\",\"Bulgaria\",\"Bulgaria\",\"Bulgaria\",\"Bulgaria\",\"Bulgaria\",\"Bulgaria\",\"Bulgaria\",\"Bulgaria\",\"Bulgaria\",\"Bulgaria\",\"Bulgaria\"],\"legendgroup\":\"Bulgaria\",\"line\":{\"color\":\"#FFA15A\",\"dash\":\"solid\"},\"marker\":{\"symbol\":\"circle\"},\"mode\":\"lines\",\"name\":\"Bulgaria\",\"orientation\":\"v\",\"showlegend\":true,\"x\":[2009,2009,2010,2010,2011,2011,2012,2012,2013,2013,2014,2014,2015,2015,2016,2016],\"xaxis\":\"x\",\"y\":[10.34,10.34,16.195,16.195,10.949,10.949,15.382,15.382,20.162,20.162,21.377,21.377,25.387,25.387,20.905,20.905],\"yaxis\":\"y\",\"type\":\"scatter\"},{\"hovertemplate\":\"country=Hungary<br>Year=%{x}<br>Renewable Energy Consumption (TWh)=%{y}<extra></extra>\",\"ids\":[\"Hungary\",\"Hungary\",\"Hungary\",\"Hungary\",\"Hungary\",\"Hungary\",\"Hungary\",\"Hungary\",\"Hungary\",\"Hungary\",\"Hungary\",\"Hungary\",\"Hungary\",\"Hungary\",\"Hungary\",\"Hungary\"],\"legendgroup\":\"Hungary\",\"line\":{\"color\":\"#19d3f3\",\"dash\":\"solid\"},\"marker\":{\"symbol\":\"circle\"},\"mode\":\"lines\",\"name\":\"Hungary\",\"orientation\":\"v\",\"showlegend\":true,\"x\":[2009,2009,2010,2010,2011,2011,2012,2012,2013,2013,2014,2014,2015,2015,2016,2016],\"xaxis\":\"x\",\"y\":[10.969,10.969,11.339,11.339,10.119,10.119,9.791,9.791,10.031,10.031,11.739,11.739,11.794,11.794,11.947,11.947],\"yaxis\":\"y\",\"type\":\"scatter\"},{\"hovertemplate\":\"country=Romania<br>Year=%{x}<br>Renewable Energy Consumption (TWh)=%{y}<extra></extra>\",\"ids\":[\"Romania\",\"Romania\",\"Romania\",\"Romania\",\"Romania\",\"Romania\",\"Romania\",\"Romania\",\"Romania\",\"Romania\",\"Romania\",\"Romania\",\"Romania\",\"Romania\",\"Romania\",\"Romania\",\"Romania\",\"Romania\",\"Romania\",\"Romania\",\"Romania\",\"Romania\",\"Romania\",\"Romania\"],\"legendgroup\":\"Romania\",\"line\":{\"color\":\"#FF6692\",\"dash\":\"solid\"},\"marker\":{\"symbol\":\"circle\"},\"mode\":\"lines\",\"name\":\"Romania\",\"orientation\":\"v\",\"showlegend\":true,\"x\":[2010,2010,2011,2011,2012,2012,2013,2013,2014,2014,2015,2015,2016,2016,2017,2017,2018,2018,2019,2019,2020,2020,2021,2021],\"xaxis\":\"x\",\"y\":[57.721,57.721,47.255,47.255,43.043,43.043,56.365,56.365,69.642,69.642,72.658,72.658,75.338,75.338,68.088,68.088,72.951,72.951,69.52,69.52,69.96,69.96,73.966,73.966],\"yaxis\":\"y\",\"type\":\"scatter\"},{\"hovertemplate\":\"country=Slovenia<br>Year=%{x}<br>Renewable Energy Consumption (TWh)=%{y}<extra></extra>\",\"ids\":[\"Slovenia\",\"Slovenia\",\"Slovenia\",\"Slovenia\",\"Slovenia\",\"Slovenia\"],\"legendgroup\":\"Slovenia\",\"line\":{\"color\":\"#B6E880\",\"dash\":\"solid\"},\"marker\":{\"symbol\":\"circle\"},\"mode\":\"lines\",\"name\":\"Slovenia\",\"orientation\":\"v\",\"showlegend\":true,\"x\":[2014,2014,2015,2015,2016,2016],\"xaxis\":\"x\",\"y\":[18.526,18.526,12.195,12.195,13.898,13.898],\"yaxis\":\"y\",\"type\":\"scatter\"},{\"hovertemplate\":\"country=Ukraine<br>Year=%{x}<br>Renewable Energy Consumption (TWh)=%{y}<extra></extra>\",\"ids\":[\"Ukraine\",\"Ukraine\",\"Ukraine\",\"Ukraine\",\"Ukraine\",\"Ukraine\"],\"legendgroup\":\"Ukraine\",\"line\":{\"color\":\"#FF97FF\",\"dash\":\"solid\"},\"marker\":{\"symbol\":\"circle\"},\"mode\":\"lines\",\"name\":\"Ukraine\",\"orientation\":\"v\",\"showlegend\":true,\"x\":[2014,2014,2015,2015,2016,2016],\"xaxis\":\"x\",\"y\":[28.084,28.084,19.593,19.593,25.282,25.282],\"yaxis\":\"y\",\"type\":\"scatter\"}],                        {\"template\":{\"data\":{\"barpolar\":[{\"marker\":{\"line\":{\"color\":\"white\",\"width\":0.5},\"pattern\":{\"fillmode\":\"overlay\",\"size\":10,\"solidity\":0.2}},\"type\":\"barpolar\"}],\"bar\":[{\"error_x\":{\"color\":\"#2a3f5f\"},\"error_y\":{\"color\":\"#2a3f5f\"},\"marker\":{\"line\":{\"color\":\"white\",\"width\":0.5},\"pattern\":{\"fillmode\":\"overlay\",\"size\":10,\"solidity\":0.2}},\"type\":\"bar\"}],\"carpet\":[{\"aaxis\":{\"endlinecolor\":\"#2a3f5f\",\"gridcolor\":\"#C8D4E3\",\"linecolor\":\"#C8D4E3\",\"minorgridcolor\":\"#C8D4E3\",\"startlinecolor\":\"#2a3f5f\"},\"baxis\":{\"endlinecolor\":\"#2a3f5f\",\"gridcolor\":\"#C8D4E3\",\"linecolor\":\"#C8D4E3\",\"minorgridcolor\":\"#C8D4E3\",\"startlinecolor\":\"#2a3f5f\"},\"type\":\"carpet\"}],\"choropleth\":[{\"colorbar\":{\"outlinewidth\":0,\"ticks\":\"\"},\"type\":\"choropleth\"}],\"contourcarpet\":[{\"colorbar\":{\"outlinewidth\":0,\"ticks\":\"\"},\"type\":\"contourcarpet\"}],\"contour\":[{\"colorbar\":{\"outlinewidth\":0,\"ticks\":\"\"},\"colorscale\":[[0.0,\"#0d0887\"],[0.1111111111111111,\"#46039f\"],[0.2222222222222222,\"#7201a8\"],[0.3333333333333333,\"#9c179e\"],[0.4444444444444444,\"#bd3786\"],[0.5555555555555556,\"#d8576b\"],[0.6666666666666666,\"#ed7953\"],[0.7777777777777778,\"#fb9f3a\"],[0.8888888888888888,\"#fdca26\"],[1.0,\"#f0f921\"]],\"type\":\"contour\"}],\"heatmapgl\":[{\"colorbar\":{\"outlinewidth\":0,\"ticks\":\"\"},\"colorscale\":[[0.0,\"#0d0887\"],[0.1111111111111111,\"#46039f\"],[0.2222222222222222,\"#7201a8\"],[0.3333333333333333,\"#9c179e\"],[0.4444444444444444,\"#bd3786\"],[0.5555555555555556,\"#d8576b\"],[0.6666666666666666,\"#ed7953\"],[0.7777777777777778,\"#fb9f3a\"],[0.8888888888888888,\"#fdca26\"],[1.0,\"#f0f921\"]],\"type\":\"heatmapgl\"}],\"heatmap\":[{\"colorbar\":{\"outlinewidth\":0,\"ticks\":\"\"},\"colorscale\":[[0.0,\"#0d0887\"],[0.1111111111111111,\"#46039f\"],[0.2222222222222222,\"#7201a8\"],[0.3333333333333333,\"#9c179e\"],[0.4444444444444444,\"#bd3786\"],[0.5555555555555556,\"#d8576b\"],[0.6666666666666666,\"#ed7953\"],[0.7777777777777778,\"#fb9f3a\"],[0.8888888888888888,\"#fdca26\"],[1.0,\"#f0f921\"]],\"type\":\"heatmap\"}],\"histogram2dcontour\":[{\"colorbar\":{\"outlinewidth\":0,\"ticks\":\"\"},\"colorscale\":[[0.0,\"#0d0887\"],[0.1111111111111111,\"#46039f\"],[0.2222222222222222,\"#7201a8\"],[0.3333333333333333,\"#9c179e\"],[0.4444444444444444,\"#bd3786\"],[0.5555555555555556,\"#d8576b\"],[0.6666666666666666,\"#ed7953\"],[0.7777777777777778,\"#fb9f3a\"],[0.8888888888888888,\"#fdca26\"],[1.0,\"#f0f921\"]],\"type\":\"histogram2dcontour\"}],\"histogram2d\":[{\"colorbar\":{\"outlinewidth\":0,\"ticks\":\"\"},\"colorscale\":[[0.0,\"#0d0887\"],[0.1111111111111111,\"#46039f\"],[0.2222222222222222,\"#7201a8\"],[0.3333333333333333,\"#9c179e\"],[0.4444444444444444,\"#bd3786\"],[0.5555555555555556,\"#d8576b\"],[0.6666666666666666,\"#ed7953\"],[0.7777777777777778,\"#fb9f3a\"],[0.8888888888888888,\"#fdca26\"],[1.0,\"#f0f921\"]],\"type\":\"histogram2d\"}],\"histogram\":[{\"marker\":{\"pattern\":{\"fillmode\":\"overlay\",\"size\":10,\"solidity\":0.2}},\"type\":\"histogram\"}],\"mesh3d\":[{\"colorbar\":{\"outlinewidth\":0,\"ticks\":\"\"},\"type\":\"mesh3d\"}],\"parcoords\":[{\"line\":{\"colorbar\":{\"outlinewidth\":0,\"ticks\":\"\"}},\"type\":\"parcoords\"}],\"pie\":[{\"automargin\":true,\"type\":\"pie\"}],\"scatter3d\":[{\"line\":{\"colorbar\":{\"outlinewidth\":0,\"ticks\":\"\"}},\"marker\":{\"colorbar\":{\"outlinewidth\":0,\"ticks\":\"\"}},\"type\":\"scatter3d\"}],\"scattercarpet\":[{\"marker\":{\"colorbar\":{\"outlinewidth\":0,\"ticks\":\"\"}},\"type\":\"scattercarpet\"}],\"scattergeo\":[{\"marker\":{\"colorbar\":{\"outlinewidth\":0,\"ticks\":\"\"}},\"type\":\"scattergeo\"}],\"scattergl\":[{\"marker\":{\"colorbar\":{\"outlinewidth\":0,\"ticks\":\"\"}},\"type\":\"scattergl\"}],\"scattermapbox\":[{\"marker\":{\"colorbar\":{\"outlinewidth\":0,\"ticks\":\"\"}},\"type\":\"scattermapbox\"}],\"scatterpolargl\":[{\"marker\":{\"colorbar\":{\"outlinewidth\":0,\"ticks\":\"\"}},\"type\":\"scatterpolargl\"}],\"scatterpolar\":[{\"marker\":{\"colorbar\":{\"outlinewidth\":0,\"ticks\":\"\"}},\"type\":\"scatterpolar\"}],\"scatter\":[{\"fillpattern\":{\"fillmode\":\"overlay\",\"size\":10,\"solidity\":0.2},\"type\":\"scatter\"}],\"scatterternary\":[{\"marker\":{\"colorbar\":{\"outlinewidth\":0,\"ticks\":\"\"}},\"type\":\"scatterternary\"}],\"surface\":[{\"colorbar\":{\"outlinewidth\":0,\"ticks\":\"\"},\"colorscale\":[[0.0,\"#0d0887\"],[0.1111111111111111,\"#46039f\"],[0.2222222222222222,\"#7201a8\"],[0.3333333333333333,\"#9c179e\"],[0.4444444444444444,\"#bd3786\"],[0.5555555555555556,\"#d8576b\"],[0.6666666666666666,\"#ed7953\"],[0.7777777777777778,\"#fb9f3a\"],[0.8888888888888888,\"#fdca26\"],[1.0,\"#f0f921\"]],\"type\":\"surface\"}],\"table\":[{\"cells\":{\"fill\":{\"color\":\"#EBF0F8\"},\"line\":{\"color\":\"white\"}},\"header\":{\"fill\":{\"color\":\"#C8D4E3\"},\"line\":{\"color\":\"white\"}},\"type\":\"table\"}]},\"layout\":{\"annotationdefaults\":{\"arrowcolor\":\"#2a3f5f\",\"arrowhead\":0,\"arrowwidth\":1},\"autotypenumbers\":\"strict\",\"coloraxis\":{\"colorbar\":{\"outlinewidth\":0,\"ticks\":\"\"}},\"colorscale\":{\"diverging\":[[0,\"#8e0152\"],[0.1,\"#c51b7d\"],[0.2,\"#de77ae\"],[0.3,\"#f1b6da\"],[0.4,\"#fde0ef\"],[0.5,\"#f7f7f7\"],[0.6,\"#e6f5d0\"],[0.7,\"#b8e186\"],[0.8,\"#7fbc41\"],[0.9,\"#4d9221\"],[1,\"#276419\"]],\"sequential\":[[0.0,\"#0d0887\"],[0.1111111111111111,\"#46039f\"],[0.2222222222222222,\"#7201a8\"],[0.3333333333333333,\"#9c179e\"],[0.4444444444444444,\"#bd3786\"],[0.5555555555555556,\"#d8576b\"],[0.6666666666666666,\"#ed7953\"],[0.7777777777777778,\"#fb9f3a\"],[0.8888888888888888,\"#fdca26\"],[1.0,\"#f0f921\"]],\"sequentialminus\":[[0.0,\"#0d0887\"],[0.1111111111111111,\"#46039f\"],[0.2222222222222222,\"#7201a8\"],[0.3333333333333333,\"#9c179e\"],[0.4444444444444444,\"#bd3786\"],[0.5555555555555556,\"#d8576b\"],[0.6666666666666666,\"#ed7953\"],[0.7777777777777778,\"#fb9f3a\"],[0.8888888888888888,\"#fdca26\"],[1.0,\"#f0f921\"]]},\"colorway\":[\"#636efa\",\"#EF553B\",\"#00cc96\",\"#ab63fa\",\"#FFA15A\",\"#19d3f3\",\"#FF6692\",\"#B6E880\",\"#FF97FF\",\"#FECB52\"],\"font\":{\"color\":\"#2a3f5f\"},\"geo\":{\"bgcolor\":\"white\",\"lakecolor\":\"white\",\"landcolor\":\"white\",\"showlakes\":true,\"showland\":true,\"subunitcolor\":\"#C8D4E3\"},\"hoverlabel\":{\"align\":\"left\"},\"hovermode\":\"closest\",\"mapbox\":{\"style\":\"light\"},\"paper_bgcolor\":\"white\",\"plot_bgcolor\":\"white\",\"polar\":{\"angularaxis\":{\"gridcolor\":\"#EBF0F8\",\"linecolor\":\"#EBF0F8\",\"ticks\":\"\"},\"bgcolor\":\"white\",\"radialaxis\":{\"gridcolor\":\"#EBF0F8\",\"linecolor\":\"#EBF0F8\",\"ticks\":\"\"}},\"scene\":{\"xaxis\":{\"backgroundcolor\":\"white\",\"gridcolor\":\"#DFE8F3\",\"gridwidth\":2,\"linecolor\":\"#EBF0F8\",\"showbackground\":true,\"ticks\":\"\",\"zerolinecolor\":\"#EBF0F8\"},\"yaxis\":{\"backgroundcolor\":\"white\",\"gridcolor\":\"#DFE8F3\",\"gridwidth\":2,\"linecolor\":\"#EBF0F8\",\"showbackground\":true,\"ticks\":\"\",\"zerolinecolor\":\"#EBF0F8\"},\"zaxis\":{\"backgroundcolor\":\"white\",\"gridcolor\":\"#DFE8F3\",\"gridwidth\":2,\"linecolor\":\"#EBF0F8\",\"showbackground\":true,\"ticks\":\"\",\"zerolinecolor\":\"#EBF0F8\"}},\"shapedefaults\":{\"line\":{\"color\":\"#2a3f5f\"}},\"ternary\":{\"aaxis\":{\"gridcolor\":\"#DFE8F3\",\"linecolor\":\"#A2B1C6\",\"ticks\":\"\"},\"baxis\":{\"gridcolor\":\"#DFE8F3\",\"linecolor\":\"#A2B1C6\",\"ticks\":\"\"},\"bgcolor\":\"white\",\"caxis\":{\"gridcolor\":\"#DFE8F3\",\"linecolor\":\"#A2B1C6\",\"ticks\":\"\"}},\"title\":{\"x\":0.05},\"xaxis\":{\"automargin\":true,\"gridcolor\":\"#EBF0F8\",\"linecolor\":\"#EBF0F8\",\"ticks\":\"\",\"title\":{\"standoff\":15},\"zerolinecolor\":\"#EBF0F8\",\"zerolinewidth\":2},\"yaxis\":{\"automargin\":true,\"gridcolor\":\"#EBF0F8\",\"linecolor\":\"#EBF0F8\",\"ticks\":\"\",\"title\":{\"standoff\":15},\"zerolinecolor\":\"#EBF0F8\",\"zerolinewidth\":2}}},\"xaxis\":{\"anchor\":\"y\",\"domain\":[0.0,1.0],\"title\":{\"text\":\"Year\"}},\"yaxis\":{\"anchor\":\"x\",\"domain\":[0.0,1.0],\"title\":{\"text\":\"Renewable Energy Consumption (TWh)\"}},\"legend\":{\"title\":{\"text\":\"Country\"},\"tracegroupgap\":0},\"title\":{\"text\":\"Renewable Energy Consumption Over Time\"}},                        {\"responsive\": true}                    ).then(function(){\n",
       "                            \n",
       "var gd = document.getElementById('f082727f-7f2a-4362-9c74-e6bad0a923e2');\n",
       "var x = new MutationObserver(function (mutations, observer) {{\n",
       "        var display = window.getComputedStyle(gd).display;\n",
       "        if (!display || display === 'none') {{\n",
       "            console.log([gd, 'removed!']);\n",
       "            Plotly.purge(gd);\n",
       "            observer.disconnect();\n",
       "        }}\n",
       "}});\n",
       "\n",
       "// Listen for the removal of the full notebook cells\n",
       "var notebookContainer = gd.closest('#notebook-container');\n",
       "if (notebookContainer) {{\n",
       "    x.observe(notebookContainer, {childList: true});\n",
       "}}\n",
       "\n",
       "// Listen for the clearing of the current output cell\n",
       "var outputEl = gd.closest('.output');\n",
       "if (outputEl) {{\n",
       "    x.observe(outputEl, {childList: true});\n",
       "}}\n",
       "\n",
       "                        })                };                });            </script>        </div>"
      ]
     },
     "metadata": {},
     "output_type": "display_data"
    }
   ],
   "source": [
    "# Animated Line Plot: Energy Consumption Over Time\n",
    "\n",
    "fig = px.line(\n",
    "    df,\n",
    "    x='year',  # Time on the X-axis\n",
    "    y='renewables_consumption',  # Renewable energy consumption on Y-axis\n",
    "    color='country',  # Different lines for each country\n",
    "    title='Renewable Energy Consumption Over Time',\n",
    "    labels={'renewables_consumption': 'Renewable Energy Consumption (TWh)', 'year': 'Year'},\n",
    "    animation_group='country',\n",
    ")\n",
    "\n",
    "fig.update_layout(\n",
    "    template='plotly_white',\n",
    "    xaxis_title=\"Year\",\n",
    "    yaxis_title=\"Renewable Energy Consumption (TWh)\",\n",
    "    legend_title=\"Country\"\n",
    ")\n",
    "\n",
    "fig.show()\n"
   ]
  },
  {
   "cell_type": "code",
   "execution_count": 48,
   "id": "3220dcfe",
   "metadata": {},
   "outputs": [
    {
     "data": {
      "application/vnd.plotly.v1+json": {
       "config": {
        "plotlyServerURL": "https://plot.ly"
       },
       "data": [
        {
         "hovertemplate": "<b>%{hovertext}</b><br><br>country=France<br>year=2000<br>Renewables Share in Energy (%)=%{x}<br>Population (Millions)=%{y}<br>gdp=%{marker.size}<extra></extra>",
         "hovertext": [
          "France",
          "France"
         ],
         "legendgroup": "France",
         "marker": {
          "color": "#636efa",
          "size": [
           2031676030976,
           2031676030976
          ],
          "sizemode": "area",
          "sizeref": 9272450088.96,
          "symbol": "circle"
         },
         "mode": "markers",
         "name": "France",
         "orientation": "v",
         "showlegend": true,
         "type": "scatter",
         "x": [
          6.722,
          6.722
         ],
         "xaxis": "x",
         "y": [
          58665456,
          58665456
         ],
         "yaxis": "y"
        },
        {
         "hovertemplate": "<b>%{hovertext}</b><br><br>country=Germany<br>year=2000<br>Renewables Share in Energy (%)=%{x}<br>Population (Millions)=%{y}<br>gdp=%{marker.size}<extra></extra>",
         "hovertext": [
          "Germany",
          "Germany"
         ],
         "legendgroup": "Germany",
         "marker": {
          "color": "#EF553B",
          "size": [
           2718560681984,
           2718560681984
          ],
          "sizemode": "area",
          "sizeref": 9272450088.96,
          "symbol": "circle"
         },
         "mode": "markers",
         "name": "Germany",
         "orientation": "v",
         "showlegend": true,
         "type": "scatter",
         "x": [
          2.887,
          2.887
         ],
         "xaxis": "x",
         "y": [
          81551680,
          81551680
         ],
         "yaxis": "y"
        }
       ],
       "frames": [
        {
         "data": [
          {
           "hovertemplate": "<b>%{hovertext}</b><br><br>country=France<br>year=2000<br>Renewables Share in Energy (%)=%{x}<br>Population (Millions)=%{y}<br>gdp=%{marker.size}<extra></extra>",
           "hovertext": [
            "France",
            "France"
           ],
           "legendgroup": "France",
           "marker": {
            "color": "#636efa",
            "size": [
             2031676030976,
             2031676030976
            ],
            "sizemode": "area",
            "sizeref": 9272450088.96,
            "symbol": "circle"
           },
           "mode": "markers",
           "name": "France",
           "orientation": "v",
           "showlegend": true,
           "type": "scatter",
           "x": [
            6.722,
            6.722
           ],
           "xaxis": "x",
           "y": [
            58665456,
            58665456
           ],
           "yaxis": "y"
          },
          {
           "hovertemplate": "<b>%{hovertext}</b><br><br>country=Germany<br>year=2000<br>Renewables Share in Energy (%)=%{x}<br>Population (Millions)=%{y}<br>gdp=%{marker.size}<extra></extra>",
           "hovertext": [
            "Germany",
            "Germany"
           ],
           "legendgroup": "Germany",
           "marker": {
            "color": "#EF553B",
            "size": [
             2718560681984,
             2718560681984
            ],
            "sizemode": "area",
            "sizeref": 9272450088.96,
            "symbol": "circle"
           },
           "mode": "markers",
           "name": "Germany",
           "orientation": "v",
           "showlegend": true,
           "type": "scatter",
           "x": [
            2.887,
            2.887
           ],
           "xaxis": "x",
           "y": [
            81551680,
            81551680
           ],
           "yaxis": "y"
          }
         ],
         "name": "2000"
        },
        {
         "data": [
          {
           "hovertemplate": "<b>%{hovertext}</b><br><br>country=France<br>year=2001<br>Renewables Share in Energy (%)=%{x}<br>Population (Millions)=%{y}<br>gdp=%{marker.size}<extra></extra>",
           "hovertext": [
            "France",
            "France"
           ],
           "legendgroup": "France",
           "marker": {
            "color": "#636efa",
            "size": [
             2077786767360,
             2077786767360
            ],
            "sizemode": "area",
            "sizeref": 9272450088.96,
            "symbol": "circle"
           },
           "mode": "markers",
           "name": "France",
           "orientation": "v",
           "showlegend": true,
           "type": "scatter",
           "x": [
            7.411,
            7.411
           ],
           "xaxis": "x",
           "y": [
            59014776,
            59014776
           ],
           "yaxis": "y"
          }
         ],
         "name": "2001"
        },
        {
         "data": [
          {
           "hovertemplate": "<b>%{hovertext}</b><br><br>country=France<br>year=2002<br>Renewables Share in Energy (%)=%{x}<br>Population (Millions)=%{y}<br>gdp=%{marker.size}<extra></extra>",
           "hovertext": [
            "France",
            "France"
           ],
           "legendgroup": "France",
           "marker": {
            "color": "#636efa",
            "size": [
             2107316502528,
             2107316502528
            ],
            "sizemode": "area",
            "sizeref": 9272450088.96,
            "symbol": "circle"
           },
           "mode": "markers",
           "name": "France",
           "orientation": "v",
           "showlegend": true,
           "type": "scatter",
           "x": [
            6.164,
            6.164
           ],
           "xaxis": "x",
           "y": [
            59372784,
            59372784
           ],
           "yaxis": "y"
          },
          {
           "hovertemplate": "<b>%{hovertext}</b><br><br>country=Germany<br>year=2002<br>Renewables Share in Energy (%)=%{x}<br>Population (Millions)=%{y}<br>gdp=%{marker.size}<extra></extra>",
           "hovertext": [
            "Germany",
            "Germany"
           ],
           "legendgroup": "Germany",
           "marker": {
            "color": "#EF553B",
            "size": [
             2822441533440,
             2822441533440
            ],
            "sizemode": "area",
            "sizeref": 9272450088.96,
            "symbol": "circle"
           },
           "mode": "markers",
           "name": "Germany",
           "orientation": "v",
           "showlegend": true,
           "type": "scatter",
           "x": [
            3.539,
            3.539
           ],
           "xaxis": "x",
           "y": [
            81443424,
            81443424
           ],
           "yaxis": "y"
          }
         ],
         "name": "2002"
        },
        {
         "data": [
          {
           "hovertemplate": "<b>%{hovertext}</b><br><br>country=France<br>year=2003<br>Renewables Share in Energy (%)=%{x}<br>Population (Millions)=%{y}<br>gdp=%{marker.size}<extra></extra>",
           "hovertext": [
            "France",
            "France"
           ],
           "legendgroup": "France",
           "marker": {
            "color": "#636efa",
            "size": [
             2130940657664,
             2130940657664
            ],
            "sizemode": "area",
            "sizeref": 9272450088.96,
            "symbol": "circle"
           },
           "mode": "markers",
           "name": "France",
           "orientation": "v",
           "showlegend": true,
           "type": "scatter",
           "x": [
            5.947,
            5.947
           ],
           "xaxis": "x",
           "y": [
            59728260,
            59728260
           ],
           "yaxis": "y"
          },
          {
           "hovertemplate": "<b>%{hovertext}</b><br><br>country=Germany<br>year=2003<br>Renewables Share in Energy (%)=%{x}<br>Population (Millions)=%{y}<br>gdp=%{marker.size}<extra></extra>",
           "hovertext": [
            "Germany",
            "Germany"
           ],
           "legendgroup": "Germany",
           "marker": {
            "color": "#EF553B",
            "size": [
             2831676080128,
             2831676080128
            ],
            "sizemode": "area",
            "sizeref": 9272450088.96,
            "symbol": "circle"
           },
           "mode": "markers",
           "name": "Germany",
           "orientation": "v",
           "showlegend": true,
           "type": "scatter",
           "x": [
            3.642,
            3.642
           ],
           "xaxis": "x",
           "y": [
            81346808,
            81346808
           ],
           "yaxis": "y"
          }
         ],
         "name": "2003"
        },
        {
         "data": [
          {
           "hovertemplate": "<b>%{hovertext}</b><br><br>country=France<br>year=2004<br>Renewables Share in Energy (%)=%{x}<br>Population (Millions)=%{y}<br>gdp=%{marker.size}<extra></extra>",
           "hovertext": [
            "France",
            "France"
           ],
           "legendgroup": "France",
           "marker": {
            "color": "#636efa",
            "size": [
             2196883505152,
             2196883505152
            ],
            "sizemode": "area",
            "sizeref": 9272450088.96,
            "symbol": "circle"
           },
           "mode": "markers",
           "name": "France",
           "orientation": "v",
           "showlegend": true,
           "type": "scatter",
           "x": [
            5.953,
            5.953
           ],
           "xaxis": "x",
           "y": [
            60108436,
            60108436
           ],
           "yaxis": "y"
          },
          {
           "hovertemplate": "<b>%{hovertext}</b><br><br>country=Germany<br>year=2004<br>Renewables Share in Energy (%)=%{x}<br>Population (Millions)=%{y}<br>gdp=%{marker.size}<extra></extra>",
           "hovertext": [
            "Germany",
            "Germany"
           ],
           "legendgroup": "Germany",
           "marker": {
            "color": "#EF553B",
            "size": [
             2894624980992,
             2894624980992
            ],
            "sizemode": "area",
            "sizeref": 9272450088.96,
            "symbol": "circle"
           },
           "mode": "markers",
           "name": "Germany",
           "orientation": "v",
           "showlegend": true,
           "type": "scatter",
           "x": [
            4.517,
            4.517
           ],
           "xaxis": "x",
           "y": [
            81266672,
            81266672
           ],
           "yaxis": "y"
          }
         ],
         "name": "2004"
        },
        {
         "data": [
          {
           "hovertemplate": "<b>%{hovertext}</b><br><br>country=France<br>year=2005<br>Renewables Share in Energy (%)=%{x}<br>Population (Millions)=%{y}<br>gdp=%{marker.size}<extra></extra>",
           "hovertext": [
            "France",
            "France"
           ],
           "legendgroup": "France",
           "marker": {
            "color": "#636efa",
            "size": [
             2238790500352,
             2238790500352
            ],
            "sizemode": "area",
            "sizeref": 9272450088.96,
            "symbol": "circle"
           },
           "mode": "markers",
           "name": "France",
           "orientation": "v",
           "showlegend": true,
           "type": "scatter",
           "x": [
            5.362,
            5.362
           ],
           "xaxis": "x",
           "y": [
            60510080,
            60510080
           ],
           "yaxis": "y"
          },
          {
           "hovertemplate": "<b>%{hovertext}</b><br><br>country=Germany<br>year=2005<br>Renewables Share in Energy (%)=%{x}<br>Population (Millions)=%{y}<br>gdp=%{marker.size}<extra></extra>",
           "hovertext": [
            "Germany",
            "Germany"
           ],
           "legendgroup": "Germany",
           "marker": {
            "color": "#EF553B",
            "size": [
             2945460994048,
             2945460994048
            ],
            "sizemode": "area",
            "sizeref": 9272450088.96,
            "symbol": "circle"
           },
           "mode": "markers",
           "name": "Germany",
           "orientation": "v",
           "showlegend": true,
           "type": "scatter",
           "x": [
            5.209,
            5.209
           ],
           "xaxis": "x",
           "y": [
            81212168,
            81212168
           ],
           "yaxis": "y"
          },
          {
           "hovertemplate": "<b>%{hovertext}</b><br><br>country=Czechia<br>year=2005<br>Renewables Share in Energy (%)=%{x}<br>Population (Millions)=%{y}<br>gdp=%{marker.size}<extra></extra>",
           "hovertext": [
            "Czechia",
            "Czechia"
           ],
           "legendgroup": "Czechia",
           "marker": {
            "color": "#00cc96",
            "size": [
             225302577152,
             225302577152
            ],
            "sizemode": "area",
            "sizeref": 9272450088.96,
            "symbol": "circle"
           },
           "mode": "markers",
           "name": "Czechia",
           "orientation": "v",
           "showlegend": true,
           "type": "scatter",
           "x": [
            1.779,
            1.779
           ],
           "xaxis": "x",
           "y": [
            10280122,
            10280122
           ],
           "yaxis": "y"
          }
         ],
         "name": "2005"
        },
        {
         "data": [
          {
           "hovertemplate": "<b>%{hovertext}</b><br><br>country=Germany<br>year=2006<br>Renewables Share in Energy (%)=%{x}<br>Population (Millions)=%{y}<br>gdp=%{marker.size}<extra></extra>",
           "hovertext": [
            "Germany",
            "Germany"
           ],
           "legendgroup": "Germany",
           "marker": {
            "color": "#EF553B",
            "size": [
             3086359199744,
             3086359199744
            ],
            "sizemode": "area",
            "sizeref": 9272450088.96,
            "symbol": "circle"
           },
           "mode": "markers",
           "name": "Germany",
           "orientation": "v",
           "showlegend": true,
           "type": "scatter",
           "x": [
            6.026,
            6.026
           ],
           "xaxis": "x",
           "y": [
            81177816,
            81177816
           ],
           "yaxis": "y"
          },
          {
           "hovertemplate": "<b>%{hovertext}</b><br><br>country=Czechia<br>year=2006<br>Renewables Share in Energy (%)=%{x}<br>Population (Millions)=%{y}<br>gdp=%{marker.size}<extra></extra>",
           "hovertext": [
            "Czechia",
            "Czechia"
           ],
           "legendgroup": "Czechia",
           "marker": {
            "color": "#00cc96",
            "size": [
             243991789568,
             243991789568
            ],
            "sizemode": "area",
            "sizeref": 9272450088.96,
            "symbol": "circle"
           },
           "mode": "markers",
           "name": "Czechia",
           "orientation": "v",
           "showlegend": true,
           "type": "scatter",
           "x": [
            1.99,
            1.99
           ],
           "xaxis": "x",
           "y": [
            10304822,
            10304822
           ],
           "yaxis": "y"
          }
         ],
         "name": "2006"
        },
        {
         "data": [
          {
           "hovertemplate": "<b>%{hovertext}</b><br><br>country=Germany<br>year=2007<br>Renewables Share in Energy (%)=%{x}<br>Population (Millions)=%{y}<br>gdp=%{marker.size}<extra></extra>",
           "hovertext": [
            "Germany",
            "Germany"
           ],
           "legendgroup": "Germany",
           "marker": {
            "color": "#EF553B",
            "size": [
             3220275724288,
             3220275724288
            ],
            "sizemode": "area",
            "sizeref": 9272450088.96,
            "symbol": "circle"
           },
           "mode": "markers",
           "name": "Germany",
           "orientation": "v",
           "showlegend": true,
           "type": "scatter",
           "x": [
            7.654,
            7.654
           ],
           "xaxis": "x",
           "y": [
            81183832,
            81183832
           ],
           "yaxis": "y"
          },
          {
           "hovertemplate": "<b>%{hovertext}</b><br><br>country=Czechia<br>year=2007<br>Renewables Share in Energy (%)=%{x}<br>Population (Millions)=%{y}<br>gdp=%{marker.size}<extra></extra>",
           "hovertext": [
            "Czechia",
            "Czechia"
           ],
           "legendgroup": "Czechia",
           "marker": {
            "color": "#00cc96",
            "size": [
             260673044480,
             260673044480
            ],
            "sizemode": "area",
            "sizeref": 9272450088.96,
            "symbol": "circle"
           },
           "mode": "markers",
           "name": "Czechia",
           "orientation": "v",
           "showlegend": true,
           "type": "scatter",
           "x": [
            1.966,
            1.966
           ],
           "xaxis": "x",
           "y": [
            10337831,
            10337831
           ],
           "yaxis": "y"
          }
         ],
         "name": "2007"
        },
        {
         "data": [
          {
           "hovertemplate": "<b>%{hovertext}</b><br><br>country=Germany<br>year=2008<br>Renewables Share in Energy (%)=%{x}<br>Population (Millions)=%{y}<br>gdp=%{marker.size}<extra></extra>",
           "hovertext": [
            "Germany",
            "Germany"
           ],
           "legendgroup": "Germany",
           "marker": {
            "color": "#EF553B",
            "size": [
             3289020366848,
             3289020366848
            ],
            "sizemode": "area",
            "sizeref": 9272450088.96,
            "symbol": "circle"
           },
           "mode": "markers",
           "name": "Germany",
           "orientation": "v",
           "showlegend": true,
           "type": "scatter",
           "x": [
            7.818,
            7.818
           ],
           "xaxis": "x",
           "y": [
            81217488,
            81217488
           ],
           "yaxis": "y"
          },
          {
           "hovertemplate": "<b>%{hovertext}</b><br><br>country=Czechia<br>year=2008<br>Renewables Share in Energy (%)=%{x}<br>Population (Millions)=%{y}<br>gdp=%{marker.size}<extra></extra>",
           "hovertext": [
            "Czechia",
            "Czechia"
           ],
           "legendgroup": "Czechia",
           "marker": {
            "color": "#00cc96",
            "size": [
             271709536256,
             271709536256
            ],
            "sizemode": "area",
            "sizeref": 9272450088.96,
            "symbol": "circle"
           },
           "mode": "markers",
           "name": "Czechia",
           "orientation": "v",
           "showlegend": true,
           "type": "scatter",
           "x": [
            2.397,
            2.397
           ],
           "xaxis": "x",
           "y": [
            10378586,
            10378586
           ],
           "yaxis": "y"
          },
          {
           "hovertemplate": "<b>%{hovertext}</b><br><br>country=Spain<br>year=2008<br>Renewables Share in Energy (%)=%{x}<br>Population (Millions)=%{y}<br>gdp=%{marker.size}<extra></extra>",
           "hovertext": [
            "Spain",
            "Spain"
           ],
           "legendgroup": "Spain",
           "marker": {
            "color": "#ab63fa",
            "size": [
             1510615285760,
             1510615285760
            ],
            "sizemode": "area",
            "sizeref": 9272450088.96,
            "symbol": "circle"
           },
           "mode": "markers",
           "name": "Spain",
           "orientation": "v",
           "showlegend": true,
           "type": "scatter",
           "x": [
            10.478,
            10.478
           ],
           "xaxis": "x",
           "y": [
            45966544,
            45966544
           ],
           "yaxis": "y"
          }
         ],
         "name": "2008"
        },
        {
         "data": [
          {
           "hovertemplate": "<b>%{hovertext}</b><br><br>country=Germany<br>year=2009<br>Renewables Share in Energy (%)=%{x}<br>Population (Millions)=%{y}<br>gdp=%{marker.size}<extra></extra>",
           "hovertext": [
            "Germany",
            "Germany"
           ],
           "legendgroup": "Germany",
           "marker": {
            "color": "#EF553B",
            "size": [
             3136502104064,
             3136502104064
            ],
            "sizemode": "area",
            "sizeref": 9272450088.96,
            "symbol": "circle"
           },
           "mode": "markers",
           "name": "Germany",
           "orientation": "v",
           "showlegend": true,
           "type": "scatter",
           "x": [
            8.454,
            8.454
           ],
           "xaxis": "x",
           "y": [
            81260624,
            81260624
           ],
           "yaxis": "y"
          },
          {
           "hovertemplate": "<b>%{hovertext}</b><br><br>country=Czechia<br>year=2009<br>Renewables Share in Energy (%)=%{x}<br>Population (Millions)=%{y}<br>gdp=%{marker.size}<extra></extra>",
           "hovertext": [
            "Czechia",
            "Czechia"
           ],
           "legendgroup": "Czechia",
           "marker": {
            "color": "#00cc96",
            "size": [
             261919703040,
             261919703040
            ],
            "sizemode": "area",
            "sizeref": 9272450088.96,
            "symbol": "circle"
           },
           "mode": "markers",
           "name": "Czechia",
           "orientation": "v",
           "showlegend": true,
           "type": "scatter",
           "x": [
            3.248,
            3.248
           ],
           "xaxis": "x",
           "y": [
            10421515,
            10421515
           ],
           "yaxis": "y"
          },
          {
           "hovertemplate": "<b>%{hovertext}</b><br><br>country=Spain<br>year=2009<br>Renewables Share in Energy (%)=%{x}<br>Population (Millions)=%{y}<br>gdp=%{marker.size}<extra></extra>",
           "hovertext": [
            "Spain",
            "Spain"
           ],
           "legendgroup": "Spain",
           "marker": {
            "color": "#ab63fa",
            "size": [
             1468765831168,
             1468765831168
            ],
            "sizemode": "area",
            "sizeref": 9272450088.96,
            "symbol": "circle"
           },
           "mode": "markers",
           "name": "Spain",
           "orientation": "v",
           "showlegend": true,
           "type": "scatter",
           "x": [
            13.525,
            13.525
           ],
           "xaxis": "x",
           "y": [
            46367772,
            46367772
           ],
           "yaxis": "y"
          },
          {
           "hovertemplate": "<b>%{hovertext}</b><br><br>country=Bulgaria<br>year=2009<br>Renewables Share in Energy (%)=%{x}<br>Population (Millions)=%{y}<br>gdp=%{marker.size}<extra></extra>",
           "hovertext": [
            "Bulgaria",
            "Bulgaria"
           ],
           "legendgroup": "Bulgaria",
           "marker": {
            "color": "#FFA15A",
            "size": [
             107365072896,
             107365072896
            ],
            "sizemode": "area",
            "sizeref": 9272450088.96,
            "symbol": "circle"
           },
           "mode": "markers",
           "name": "Bulgaria",
           "orientation": "v",
           "showlegend": true,
           "type": "scatter",
           "x": [
            5.116,
            5.116
           ],
           "xaxis": "x",
           "y": [
            7634737,
            7634737
           ],
           "yaxis": "y"
          },
          {
           "hovertemplate": "<b>%{hovertext}</b><br><br>country=Hungary<br>year=2009<br>Renewables Share in Energy (%)=%{x}<br>Population (Millions)=%{y}<br>gdp=%{marker.size}<extra></extra>",
           "hovertext": [
            "Hungary",
            "Hungary"
           ],
           "legendgroup": "Hungary",
           "marker": {
            "color": "#19d3f3",
            "size": [
             195180904448,
             195180904448
            ],
            "sizemode": "area",
            "sizeref": 9272450088.96,
            "symbol": "circle"
           },
           "mode": "markers",
           "name": "Hungary",
           "orientation": "v",
           "showlegend": true,
           "type": "scatter",
           "x": [
            4.023,
            4.023
           ],
           "xaxis": "x",
           "y": [
            10008581,
            10008581
           ],
           "yaxis": "y"
          }
         ],
         "name": "2009"
        },
        {
         "data": [
          {
           "hovertemplate": "<b>%{hovertext}</b><br><br>country=Germany<br>year=2010<br>Renewables Share in Energy (%)=%{x}<br>Population (Millions)=%{y}<br>gdp=%{marker.size}<extra></extra>",
           "hovertext": [
            "Germany",
            "Germany"
           ],
           "legendgroup": "Germany",
           "marker": {
            "color": "#EF553B",
            "size": [
             3301123031040,
             3301123031040
            ],
            "sizemode": "area",
            "sizeref": 9272450088.96,
            "symbol": "circle"
           },
           "mode": "markers",
           "name": "Germany",
           "orientation": "v",
           "showlegend": true,
           "type": "scatter",
           "x": [
            8.792,
            8.792
           ],
           "xaxis": "x",
           "y": [
            81325088,
            81325088
           ],
           "yaxis": "y"
          },
          {
           "hovertemplate": "<b>%{hovertext}</b><br><br>country=Czechia<br>year=2010<br>Renewables Share in Energy (%)=%{x}<br>Population (Millions)=%{y}<br>gdp=%{marker.size}<extra></extra>",
           "hovertext": [
            "Czechia",
            "Czechia"
           ],
           "legendgroup": "Czechia",
           "marker": {
            "color": "#00cc96",
            "size": [
             271231975424,
             271231975424
            ],
            "sizemode": "area",
            "sizeref": 9272450088.96,
            "symbol": "circle"
           },
           "mode": "markers",
           "name": "Czechia",
           "orientation": "v",
           "showlegend": true,
           "type": "scatter",
           "x": [
            3.894,
            3.894
           ],
           "xaxis": "x",
           "y": [
            10464750,
            10464750
           ],
           "yaxis": "y"
          },
          {
           "hovertemplate": "<b>%{hovertext}</b><br><br>country=Spain<br>year=2010<br>Renewables Share in Energy (%)=%{x}<br>Population (Millions)=%{y}<br>gdp=%{marker.size}<extra></extra>",
           "hovertext": [
            "Spain",
            "Spain"
           ],
           "legendgroup": "Spain",
           "marker": {
            "color": "#ab63fa",
            "size": [
             1480376320000,
             1480376320000
            ],
            "sizemode": "area",
            "sizeref": 9272450088.96,
            "symbol": "circle"
           },
           "mode": "markers",
           "name": "Spain",
           "orientation": "v",
           "showlegend": true,
           "type": "scatter",
           "x": [
            17.252,
            17.252
           ],
           "xaxis": "x",
           "y": [
            46572776,
            46572776
           ],
           "yaxis": "y"
          },
          {
           "hovertemplate": "<b>%{hovertext}</b><br><br>country=Bulgaria<br>year=2010<br>Renewables Share in Energy (%)=%{x}<br>Population (Millions)=%{y}<br>gdp=%{marker.size}<extra></extra>",
           "hovertext": [
            "Bulgaria",
            "Bulgaria"
           ],
           "legendgroup": "Bulgaria",
           "marker": {
            "color": "#FFA15A",
            "size": [
             109045211136,
             109045211136
            ],
            "sizemode": "area",
            "sizeref": 9272450088.96,
            "symbol": "circle"
           },
           "mode": "markers",
           "name": "Bulgaria",
           "orientation": "v",
           "showlegend": true,
           "type": "scatter",
           "x": [
            7.658,
            7.658
           ],
           "xaxis": "x",
           "y": [
            7592271,
            7592271
           ],
           "yaxis": "y"
          },
          {
           "hovertemplate": "<b>%{hovertext}</b><br><br>country=Hungary<br>year=2010<br>Renewables Share in Energy (%)=%{x}<br>Population (Millions)=%{y}<br>gdp=%{marker.size}<extra></extra>",
           "hovertext": [
            "Hungary",
            "Hungary"
           ],
           "legendgroup": "Hungary",
           "marker": {
            "color": "#19d3f3",
            "size": [
             200496578560,
             200496578560
            ],
            "sizemode": "area",
            "sizeref": 9272450088.96,
            "symbol": "circle"
           },
           "mode": "markers",
           "name": "Hungary",
           "orientation": "v",
           "showlegend": true,
           "type": "scatter",
           "x": [
            4.081,
            4.081
           ],
           "xaxis": "x",
           "y": [
            9986832,
            9986832
           ],
           "yaxis": "y"
          },
          {
           "hovertemplate": "<b>%{hovertext}</b><br><br>country=Romania<br>year=2010<br>Renewables Share in Energy (%)=%{x}<br>Population (Millions)=%{y}<br>gdp=%{marker.size}<extra></extra>",
           "hovertext": [
            "Romania",
            "Romania"
           ],
           "legendgroup": "Romania",
           "marker": {
            "color": "#FF6692",
            "size": [
             335489564672,
             335489564672
            ],
            "sizemode": "area",
            "sizeref": 9272450088.96,
            "symbol": "circle"
           },
           "mode": "markers",
           "name": "Romania",
           "orientation": "v",
           "showlegend": true,
           "type": "scatter",
           "x": [
            14.56,
            14.56
           ],
           "xaxis": "x",
           "y": [
            20335212,
            20335212
           ],
           "yaxis": "y"
          }
         ],
         "name": "2010"
        },
        {
         "data": [
          {
           "hovertemplate": "<b>%{hovertext}</b><br><br>country=Germany<br>year=2011<br>Renewables Share in Energy (%)=%{x}<br>Population (Millions)=%{y}<br>gdp=%{marker.size}<extra></extra>",
           "hovertext": [
            "Germany",
            "Germany"
           ],
           "legendgroup": "Germany",
           "marker": {
            "color": "#EF553B",
            "size": [
             3467712921600,
             3467712921600
            ],
            "sizemode": "area",
            "sizeref": 9272450088.96,
            "symbol": "circle"
           },
           "mode": "markers",
           "name": "Germany",
           "orientation": "v",
           "showlegend": true,
           "type": "scatter",
           "x": [
            10.567,
            10.567
           ],
           "xaxis": "x",
           "y": [
            81423384,
            81423384
           ],
           "yaxis": "y"
          },
          {
           "hovertemplate": "<b>%{hovertext}</b><br><br>country=Czechia<br>year=2011<br>Renewables Share in Energy (%)=%{x}<br>Population (Millions)=%{y}<br>gdp=%{marker.size}<extra></extra>",
           "hovertext": [
            "Czechia",
            "Czechia"
           ],
           "legendgroup": "Czechia",
           "marker": {
            "color": "#00cc96",
            "size": [
             279082762240,
             279082762240
            ],
            "sizemode": "area",
            "sizeref": 9272450088.96,
            "symbol": "circle"
           },
           "mode": "markers",
           "name": "Czechia",
           "orientation": "v",
           "showlegend": true,
           "type": "scatter",
           "x": [
            4.91,
            4.91
           ],
           "xaxis": "x",
           "y": [
            10496379,
            10496379
           ],
           "yaxis": "y"
          },
          {
           "hovertemplate": "<b>%{hovertext}</b><br><br>country=Spain<br>year=2011<br>Renewables Share in Energy (%)=%{x}<br>Population (Millions)=%{y}<br>gdp=%{marker.size}<extra></extra>",
           "hovertext": [
            "Spain",
            "Spain"
           ],
           "legendgroup": "Spain",
           "marker": {
            "color": "#ab63fa",
            "size": [
             1477187469312,
             1477187469312
            ],
            "sizemode": "area",
            "sizeref": 9272450088.96,
            "symbol": "circle"
           },
           "mode": "markers",
           "name": "Spain",
           "orientation": "v",
           "showlegend": true,
           "type": "scatter",
           "x": [
            16.014,
            16.014
           ],
           "xaxis": "x",
           "y": [
            46729232,
            46729232
           ],
           "yaxis": "y"
          },
          {
           "hovertemplate": "<b>%{hovertext}</b><br><br>country=Bulgaria<br>year=2011<br>Renewables Share in Energy (%)=%{x}<br>Population (Millions)=%{y}<br>gdp=%{marker.size}<extra></extra>",
           "hovertext": [
            "Bulgaria",
            "Bulgaria"
           ],
           "legendgroup": "Bulgaria",
           "marker": {
            "color": "#FFA15A",
            "size": [
             109435363328,
             109435363328
            ],
            "sizemode": "area",
            "sizeref": 9272450088.96,
            "symbol": "circle"
           },
           "mode": "markers",
           "name": "Bulgaria",
           "orientation": "v",
           "showlegend": true,
           "type": "scatter",
           "x": [
            4.875,
            4.875
           ],
           "xaxis": "x",
           "y": [
            7543128,
            7543128
           ],
           "yaxis": "y"
          },
          {
           "hovertemplate": "<b>%{hovertext}</b><br><br>country=Hungary<br>year=2011<br>Renewables Share in Energy (%)=%{x}<br>Population (Millions)=%{y}<br>gdp=%{marker.size}<extra></extra>",
           "hovertext": [
            "Hungary",
            "Hungary"
           ],
           "legendgroup": "Hungary",
           "marker": {
            "color": "#19d3f3",
            "size": [
             208407609344,
             208407609344
            ],
            "sizemode": "area",
            "sizeref": 9272450088.96,
            "symbol": "circle"
           },
           "mode": "markers",
           "name": "Hungary",
           "orientation": "v",
           "showlegend": true,
           "type": "scatter",
           "x": [
            3.755,
            3.755
           ],
           "xaxis": "x",
           "y": [
            9953247,
            9953247
           ],
           "yaxis": "y"
          },
          {
           "hovertemplate": "<b>%{hovertext}</b><br><br>country=Romania<br>year=2011<br>Renewables Share in Energy (%)=%{x}<br>Population (Millions)=%{y}<br>gdp=%{marker.size}<extra></extra>",
           "hovertext": [
            "Romania",
            "Romania"
           ],
           "legendgroup": "Romania",
           "marker": {
            "color": "#FF6692",
            "size": [
             350086823936,
             350086823936
            ],
            "sizemode": "area",
            "sizeref": 9272450088.96,
            "symbol": "circle"
           },
           "mode": "markers",
           "name": "Romania",
           "orientation": "v",
           "showlegend": true,
           "type": "scatter",
           "x": [
            11.572,
            11.572
           ],
           "xaxis": "x",
           "y": [
            20220286,
            20220286
           ],
           "yaxis": "y"
          }
         ],
         "name": "2011"
        },
        {
         "data": [
          {
           "hovertemplate": "<b>%{hovertext}</b><br><br>country=Germany<br>year=2012<br>Renewables Share in Energy (%)=%{x}<br>Population (Millions)=%{y}<br>gdp=%{marker.size}<extra></extra>",
           "hovertext": [
            "Germany",
            "Germany"
           ],
           "legendgroup": "Germany",
           "marker": {
            "color": "#EF553B",
            "size": [
             3482225475584,
             3482225475584
            ],
            "sizemode": "area",
            "sizeref": 9272450088.96,
            "symbol": "circle"
           },
           "mode": "markers",
           "name": "Germany",
           "orientation": "v",
           "showlegend": true,
           "type": "scatter",
           "x": [
            11.9,
            11.9
           ],
           "xaxis": "x",
           "y": [
            81545568,
            81545568
           ],
           "yaxis": "y"
          },
          {
           "hovertemplate": "<b>%{hovertext}</b><br><br>country=Czechia<br>year=2012<br>Renewables Share in Energy (%)=%{x}<br>Population (Millions)=%{y}<br>gdp=%{marker.size}<extra></extra>",
           "hovertext": [
            "Czechia",
            "Czechia"
           ],
           "legendgroup": "Czechia",
           "marker": {
            "color": "#00cc96",
            "size": [
             276891959296,
             276891959296
            ],
            "sizemode": "area",
            "sizeref": 9272450088.96,
            "symbol": "circle"
           },
           "mode": "markers",
           "name": "Czechia",
           "orientation": "v",
           "showlegend": true,
           "type": "scatter",
           "x": [
            5.372,
            5.372
           ],
           "xaxis": "x",
           "y": [
            10511065,
            10511065
           ],
           "yaxis": "y"
          },
          {
           "hovertemplate": "<b>%{hovertext}</b><br><br>country=Spain<br>year=2012<br>Renewables Share in Energy (%)=%{x}<br>Population (Millions)=%{y}<br>gdp=%{marker.size}<extra></extra>",
           "hovertext": [
            "Spain",
            "Spain"
           ],
           "legendgroup": "Spain",
           "marker": {
            "color": "#ab63fa",
            "size": [
             1433478627328,
             1433478627328
            ],
            "sizemode": "area",
            "sizeref": 9272450088.96,
            "symbol": "circle"
           },
           "mode": "markers",
           "name": "Spain",
           "orientation": "v",
           "showlegend": true,
           "type": "scatter",
           "x": [
            16.591,
            16.591
           ],
           "xaxis": "x",
           "y": [
            46756084,
            46756084
           ],
           "yaxis": "y"
          },
          {
           "hovertemplate": "<b>%{hovertext}</b><br><br>country=Bulgaria<br>year=2012<br>Renewables Share in Energy (%)=%{x}<br>Population (Millions)=%{y}<br>gdp=%{marker.size}<extra></extra>",
           "hovertext": [
            "Bulgaria",
            "Bulgaria"
           ],
           "legendgroup": "Bulgaria",
           "marker": {
            "color": "#FFA15A",
            "size": [
             110261510144,
             110261510144
            ],
            "sizemode": "area",
            "sizeref": 9272450088.96,
            "symbol": "circle"
           },
           "mode": "markers",
           "name": "Bulgaria",
           "orientation": "v",
           "showlegend": true,
           "type": "scatter",
           "x": [
            7.207,
            7.207
           ],
           "xaxis": "x",
           "y": [
            7488347,
            7488347
           ],
           "yaxis": "y"
          },
          {
           "hovertemplate": "<b>%{hovertext}</b><br><br>country=Hungary<br>year=2012<br>Renewables Share in Energy (%)=%{x}<br>Population (Millions)=%{y}<br>gdp=%{marker.size}<extra></extra>",
           "hovertext": [
            "Hungary",
            "Hungary"
           ],
           "legendgroup": "Hungary",
           "marker": {
            "color": "#19d3f3",
            "size": [
             205802045440,
             205802045440
            ],
            "sizemode": "area",
            "sizeref": 9272450088.96,
            "symbol": "circle"
           },
           "mode": "markers",
           "name": "Hungary",
           "orientation": "v",
           "showlegend": true,
           "type": "scatter",
           "x": [
            3.899,
            3.899
           ],
           "xaxis": "x",
           "y": [
            9922133,
            9922133
           ],
           "yaxis": "y"
          },
          {
           "hovertemplate": "<b>%{hovertext}</b><br><br>country=Romania<br>year=2012<br>Renewables Share in Energy (%)=%{x}<br>Population (Millions)=%{y}<br>gdp=%{marker.size}<extra></extra>",
           "hovertext": [
            "Romania",
            "Romania"
           ],
           "legendgroup": "Romania",
           "marker": {
            "color": "#FF6692",
            "size": [
             356825923584,
             356825923584
            ],
            "sizemode": "area",
            "sizeref": 9272450088.96,
            "symbol": "circle"
           },
           "mode": "markers",
           "name": "Romania",
           "orientation": "v",
           "showlegend": true,
           "type": "scatter",
           "x": [
            10.943,
            10.943
           ],
           "xaxis": "x",
           "y": [
            20137112,
            20137112
           ],
           "yaxis": "y"
          }
         ],
         "name": "2012"
        },
        {
         "data": [
          {
           "hovertemplate": "<b>%{hovertext}</b><br><br>country=Germany<br>year=2013<br>Renewables Share in Energy (%)=%{x}<br>Population (Millions)=%{y}<br>gdp=%{marker.size}<extra></extra>",
           "hovertext": [
            "Germany",
            "Germany"
           ],
           "legendgroup": "Germany",
           "marker": {
            "color": "#EF553B",
            "size": [
             3497463119872,
             3497463119872
            ],
            "sizemode": "area",
            "sizeref": 9272450088.96,
            "symbol": "circle"
           },
           "mode": "markers",
           "name": "Germany",
           "orientation": "v",
           "showlegend": true,
           "type": "scatter",
           "x": [
            12.063,
            12.063
           ],
           "xaxis": "x",
           "y": [
            81680592,
            81680592
           ],
           "yaxis": "y"
          },
          {
           "hovertemplate": "<b>%{hovertext}</b><br><br>country=Czechia<br>year=2013<br>Renewables Share in Energy (%)=%{x}<br>Population (Millions)=%{y}<br>gdp=%{marker.size}<extra></extra>",
           "hovertext": [
            "Czechia",
            "Czechia"
           ],
           "legendgroup": "Czechia",
           "marker": {
            "color": "#00cc96",
            "size": [
             276764852224,
             276764852224
            ],
            "sizemode": "area",
            "sizeref": 9272450088.96,
            "symbol": "circle"
           },
           "mode": "markers",
           "name": "Czechia",
           "orientation": "v",
           "showlegend": true,
           "type": "scatter",
           "x": [
            6.218,
            6.218
           ],
           "xaxis": "x",
           "y": [
            10514547,
            10514547
           ],
           "yaxis": "y"
          },
          {
           "hovertemplate": "<b>%{hovertext}</b><br><br>country=Spain<br>year=2013<br>Renewables Share in Energy (%)=%{x}<br>Population (Millions)=%{y}<br>gdp=%{marker.size}<extra></extra>",
           "hovertext": [
            "Spain",
            "Spain"
           ],
           "legendgroup": "Spain",
           "marker": {
            "color": "#ab63fa",
            "size": [
             1413362089984,
             1413362089984
            ],
            "sizemode": "area",
            "sizeref": 9272450088.96,
            "symbol": "circle"
           },
           "mode": "markers",
           "name": "Spain",
           "orientation": "v",
           "showlegend": true,
           "type": "scatter",
           "x": [
            20.175,
            20.175
           ],
           "xaxis": "x",
           "y": [
            46603460,
            46603460
           ],
           "yaxis": "y"
          },
          {
           "hovertemplate": "<b>%{hovertext}</b><br><br>country=Bulgaria<br>year=2013<br>Renewables Share in Energy (%)=%{x}<br>Population (Millions)=%{y}<br>gdp=%{marker.size}<extra></extra>",
           "hovertext": [
            "Bulgaria",
            "Bulgaria"
           ],
           "legendgroup": "Bulgaria",
           "marker": {
            "color": "#FFA15A",
            "size": [
             109643522048,
             109643522048
            ],
            "sizemode": "area",
            "sizeref": 9272450088.96,
            "symbol": "circle"
           },
           "mode": "markers",
           "name": "Bulgaria",
           "orientation": "v",
           "showlegend": true,
           "type": "scatter",
           "x": [
            10.177,
            10.177
           ],
           "xaxis": "x",
           "y": [
            7431169,
            7431169
           ],
           "yaxis": "y"
          },
          {
           "hovertemplate": "<b>%{hovertext}</b><br><br>country=Hungary<br>year=2013<br>Renewables Share in Energy (%)=%{x}<br>Population (Millions)=%{y}<br>gdp=%{marker.size}<extra></extra>",
           "hovertext": [
            "Hungary",
            "Hungary"
           ],
           "legendgroup": "Hungary",
           "marker": {
            "color": "#19d3f3",
            "size": [
             209511661568,
             209511661568
            ],
            "sizemode": "area",
            "sizeref": 9272450088.96,
            "symbol": "circle"
           },
           "mode": "markers",
           "name": "Hungary",
           "orientation": "v",
           "showlegend": true,
           "type": "scatter",
           "x": [
            4.214,
            4.214
           ],
           "xaxis": "x",
           "y": [
            9894637,
            9894637
           ],
           "yaxis": "y"
          },
          {
           "hovertemplate": "<b>%{hovertext}</b><br><br>country=Romania<br>year=2013<br>Renewables Share in Energy (%)=%{x}<br>Population (Millions)=%{y}<br>gdp=%{marker.size}<extra></extra>",
           "hovertext": [
            "Romania",
            "Romania"
           ],
           "legendgroup": "Romania",
           "marker": {
            "color": "#FF6692",
            "size": [
             357789270016,
             357789270016
            ],
            "sizemode": "area",
            "sizeref": 9272450088.96,
            "symbol": "circle"
           },
           "mode": "markers",
           "name": "Romania",
           "orientation": "v",
           "showlegend": true,
           "type": "scatter",
           "x": [
            15.251,
            15.251
           ],
           "xaxis": "x",
           "y": [
            20066550,
            20066550
           ],
           "yaxis": "y"
          }
         ],
         "name": "2013"
        },
        {
         "data": [
          {
           "hovertemplate": "<b>%{hovertext}</b><br><br>country=Germany<br>year=2014<br>Renewables Share in Energy (%)=%{x}<br>Population (Millions)=%{y}<br>gdp=%{marker.size}<extra></extra>",
           "hovertext": [
            "Germany",
            "Germany"
           ],
           "legendgroup": "Germany",
           "marker": {
            "color": "#EF553B",
            "size": [
             3574741336064,
             3574741336064
            ],
            "sizemode": "area",
            "sizeref": 9272450088.96,
            "symbol": "circle"
           },
           "mode": "markers",
           "name": "Germany",
           "orientation": "v",
           "showlegend": true,
           "type": "scatter",
           "x": [
            13.335,
            13.335
           ],
           "xaxis": "x",
           "y": [
            81858824,
            81858824
           ],
           "yaxis": "y"
          },
          {
           "hovertemplate": "<b>%{hovertext}</b><br><br>country=Czechia<br>year=2014<br>Renewables Share in Energy (%)=%{x}<br>Population (Millions)=%{y}<br>gdp=%{marker.size}<extra></extra>",
           "hovertext": [
            "Czechia",
            "Czechia"
           ],
           "legendgroup": "Czechia",
           "marker": {
            "color": "#00cc96",
            "size": [
             283025539072,
             283025539072
            ],
            "sizemode": "area",
            "sizeref": 9272450088.96,
            "symbol": "circle"
           },
           "mode": "markers",
           "name": "Czechia",
           "orientation": "v",
           "showlegend": true,
           "type": "scatter",
           "x": [
            6.416,
            6.416
           ],
           "xaxis": "x",
           "y": [
            10517178,
            10517178
           ],
           "yaxis": "y"
          },
          {
           "hovertemplate": "<b>%{hovertext}</b><br><br>country=Spain<br>year=2014<br>Renewables Share in Energy (%)=%{x}<br>Population (Millions)=%{y}<br>gdp=%{marker.size}<extra></extra>",
           "hovertext": [
            "Spain",
            "Spain"
           ],
           "legendgroup": "Spain",
           "marker": {
            "color": "#ab63fa",
            "size": [
             1433089474560,
             1433089474560
            ],
            "sizemode": "area",
            "sizeref": 9272450088.96,
            "symbol": "circle"
           },
           "mode": "markers",
           "name": "Spain",
           "orientation": "v",
           "showlegend": true,
           "type": "scatter",
           "x": [
            20.319,
            20.319
           ],
           "xaxis": "x",
           "y": [
            46464548,
            46464548
           ],
           "yaxis": "y"
          },
          {
           "hovertemplate": "<b>%{hovertext}</b><br><br>country=Bulgaria<br>year=2014<br>Renewables Share in Energy (%)=%{x}<br>Population (Millions)=%{y}<br>gdp=%{marker.size}<extra></extra>",
           "hovertext": [
            "Bulgaria",
            "Bulgaria"
           ],
           "legendgroup": "Bulgaria",
           "marker": {
            "color": "#FFA15A",
            "size": [
             110703534080,
             110703534080
            ],
            "sizemode": "area",
            "sizeref": 9272450088.96,
            "symbol": "circle"
           },
           "mode": "markers",
           "name": "Bulgaria",
           "orientation": "v",
           "showlegend": true,
           "type": "scatter",
           "x": [
            10.105,
            10.105
           ],
           "xaxis": "x",
           "y": [
            7372142,
            7372142
           ],
           "yaxis": "y"
          },
          {
           "hovertemplate": "<b>%{hovertext}</b><br><br>country=Hungary<br>year=2014<br>Renewables Share in Energy (%)=%{x}<br>Population (Millions)=%{y}<br>gdp=%{marker.size}<extra></extra>",
           "hovertext": [
            "Hungary",
            "Hungary"
           ],
           "legendgroup": "Hungary",
           "marker": {
            "color": "#19d3f3",
            "size": [
             218378633216,
             218378633216
            ],
            "sizemode": "area",
            "sizeref": 9272450088.96,
            "symbol": "circle"
           },
           "mode": "markers",
           "name": "Hungary",
           "orientation": "v",
           "showlegend": true,
           "type": "scatter",
           "x": [
            4.927,
            4.927
           ],
           "xaxis": "x",
           "y": [
            9867906,
            9867906
           ],
           "yaxis": "y"
          },
          {
           "hovertemplate": "<b>%{hovertext}</b><br><br>country=Romania<br>year=2014<br>Renewables Share in Energy (%)=%{x}<br>Population (Millions)=%{y}<br>gdp=%{marker.size}<extra></extra>",
           "hovertext": [
            "Romania",
            "Romania"
           ],
           "legendgroup": "Romania",
           "marker": {
            "color": "#FF6692",
            "size": [
             372532510720,
             372532510720
            ],
            "sizemode": "area",
            "sizeref": 9272450088.96,
            "symbol": "circle"
           },
           "mode": "markers",
           "name": "Romania",
           "orientation": "v",
           "showlegend": true,
           "type": "scatter",
           "x": [
            18.37,
            18.37
           ],
           "xaxis": "x",
           "y": [
            19995836,
            19995836
           ],
           "yaxis": "y"
          },
          {
           "hovertemplate": "<b>%{hovertext}</b><br><br>country=Slovenia<br>year=2014<br>Renewables Share in Energy (%)=%{x}<br>Population (Millions)=%{y}<br>gdp=%{marker.size}<extra></extra>",
           "hovertext": [
            "Slovenia",
            "Slovenia"
           ],
           "legendgroup": "Slovenia",
           "marker": {
            "color": "#B6E880",
            "size": [
             53237653504,
             53237653504
            ],
            "sizemode": "area",
            "sizeref": 9272450088.96,
            "symbol": "circle"
           },
           "mode": "markers",
           "name": "Slovenia",
           "orientation": "v",
           "showlegend": true,
           "type": "scatter",
           "x": [
            22.358,
            22.358
           ],
           "xaxis": "x",
           "y": [
            2074923,
            2074923
           ],
           "yaxis": "y"
          },
          {
           "hovertemplate": "<b>%{hovertext}</b><br><br>country=Ukraine<br>year=2014<br>Renewables Share in Energy (%)=%{x}<br>Population (Millions)=%{y}<br>gdp=%{marker.size}<extra></extra>",
           "hovertext": [
            "Ukraine",
            "Ukraine"
           ],
           "legendgroup": "Ukraine",
           "marker": {
            "color": "#FF97FF",
            "size": [
             441233309696,
             441233309696
            ],
            "sizemode": "area",
            "sizeref": 9272450088.96,
            "symbol": "circle"
           },
           "mode": "markers",
           "name": "Ukraine",
           "orientation": "v",
           "showlegend": true,
           "type": "scatter",
           "x": [
            2.324,
            2.324
           ],
           "xaxis": "x",
           "y": [
            45148072,
            45148072
           ],
           "yaxis": "y"
          }
         ],
         "name": "2014"
        },
        {
         "data": [
          {
           "hovertemplate": "<b>%{hovertext}</b><br><br>country=Germany<br>year=2015<br>Renewables Share in Energy (%)=%{x}<br>Population (Millions)=%{y}<br>gdp=%{marker.size}<extra></extra>",
           "hovertext": [
            "Germany",
            "Germany"
           ],
           "legendgroup": "Germany",
           "marker": {
            "color": "#EF553B",
            "size": [
             3628073746432,
             3628073746432
            ],
            "sizemode": "area",
            "sizeref": 9272450088.96,
            "symbol": "circle"
           },
           "mode": "markers",
           "name": "Germany",
           "orientation": "v",
           "showlegend": true,
           "type": "scatter",
           "x": [
            14.878,
            14.878
           ],
           "xaxis": "x",
           "y": [
            82073232,
            82073232
           ],
           "yaxis": "y"
          },
          {
           "hovertemplate": "<b>%{hovertext}</b><br><br>country=Czechia<br>year=2015<br>Renewables Share in Energy (%)=%{x}<br>Population (Millions)=%{y}<br>gdp=%{marker.size}<extra></extra>",
           "hovertext": [
            "Czechia",
            "Czechia"
           ],
           "legendgroup": "Czechia",
           "marker": {
            "color": "#00cc96",
            "size": [
             298276061184,
             298276061184
            ],
            "sizemode": "area",
            "sizeref": 9272450088.96,
            "symbol": "circle"
           },
           "mode": "markers",
           "name": "Czechia",
           "orientation": "v",
           "showlegend": true,
           "type": "scatter",
           "x": [
            6.633,
            6.633
           ],
           "xaxis": "x",
           "y": [
            10523801,
            10523801
           ],
           "yaxis": "y"
          },
          {
           "hovertemplate": "<b>%{hovertext}</b><br><br>country=Spain<br>year=2015<br>Renewables Share in Energy (%)=%{x}<br>Population (Millions)=%{y}<br>gdp=%{marker.size}<extra></extra>",
           "hovertext": [
            "Spain",
            "Spain"
           ],
           "legendgroup": "Spain",
           "marker": {
            "color": "#ab63fa",
            "size": [
             1488098820096,
             1488098820096
            ],
            "sizemode": "area",
            "sizeref": 9272450088.96,
            "symbol": "circle"
           },
           "mode": "markers",
           "name": "Spain",
           "orientation": "v",
           "showlegend": true,
           "type": "scatter",
           "x": [
            17.743,
            17.743
           ],
           "xaxis": "x",
           "y": [
            46431344,
            46431344
           ],
           "yaxis": "y"
          },
          {
           "hovertemplate": "<b>%{hovertext}</b><br><br>country=Bulgaria<br>year=2015<br>Renewables Share in Energy (%)=%{x}<br>Population (Millions)=%{y}<br>gdp=%{marker.size}<extra></extra>",
           "hovertext": [
            "Bulgaria",
            "Bulgaria"
           ],
           "legendgroup": "Bulgaria",
           "marker": {
            "color": "#FFA15A",
            "size": [
             114498609152,
             114498609152
            ],
            "sizemode": "area",
            "sizeref": 9272450088.96,
            "symbol": "circle"
           },
           "mode": "markers",
           "name": "Bulgaria",
           "orientation": "v",
           "showlegend": true,
           "type": "scatter",
           "x": [
            11.299,
            11.299
           ],
           "xaxis": "x",
           "y": [
            7309255,
            7309255
           ],
           "yaxis": "y"
          },
          {
           "hovertemplate": "<b>%{hovertext}</b><br><br>country=Hungary<br>year=2015<br>Renewables Share in Energy (%)=%{x}<br>Population (Millions)=%{y}<br>gdp=%{marker.size}<extra></extra>",
           "hovertext": [
            "Hungary",
            "Hungary"
           ],
           "legendgroup": "Hungary",
           "marker": {
            "color": "#19d3f3",
            "size": [
             226474622976,
             226474622976
            ],
            "sizemode": "area",
            "sizeref": 9272450088.96,
            "symbol": "circle"
           },
           "mode": "markers",
           "name": "Hungary",
           "orientation": "v",
           "showlegend": true,
           "type": "scatter",
           "x": [
            4.698,
            4.698
           ],
           "xaxis": "x",
           "y": [
            9844250,
            9844250
           ],
           "yaxis": "y"
          },
          {
           "hovertemplate": "<b>%{hovertext}</b><br><br>country=Romania<br>year=2015<br>Renewables Share in Energy (%)=%{x}<br>Population (Millions)=%{y}<br>gdp=%{marker.size}<extra></extra>",
           "hovertext": [
            "Romania",
            "Romania"
           ],
           "legendgroup": "Romania",
           "marker": {
            "color": "#FF6692",
            "size": [
             384306446336,
             384306446336
            ],
            "sizemode": "area",
            "sizeref": 9272450088.96,
            "symbol": "circle"
           },
           "mode": "markers",
           "name": "Romania",
           "orientation": "v",
           "showlegend": true,
           "type": "scatter",
           "x": [
            19.064,
            19.064
           ],
           "xaxis": "x",
           "y": [
            19906078,
            19906078
           ],
           "yaxis": "y"
          },
          {
           "hovertemplate": "<b>%{hovertext}</b><br><br>country=Slovenia<br>year=2015<br>Renewables Share in Energy (%)=%{x}<br>Population (Millions)=%{y}<br>gdp=%{marker.size}<extra></extra>",
           "hovertext": [
            "Slovenia",
            "Slovenia"
           ],
           "legendgroup": "Slovenia",
           "marker": {
            "color": "#B6E880",
            "size": [
             54414237696,
             54414237696
            ],
            "sizemode": "area",
            "sizeref": 9272450088.96,
            "symbol": "circle"
           },
           "mode": "markers",
           "name": "Slovenia",
           "orientation": "v",
           "showlegend": true,
           "type": "scatter",
           "x": [
            16.322,
            16.322
           ],
           "xaxis": "x",
           "y": [
            2080865,
            2080865
           ],
           "yaxis": "y"
          },
          {
           "hovertemplate": "<b>%{hovertext}</b><br><br>country=Ukraine<br>year=2015<br>Renewables Share in Energy (%)=%{x}<br>Population (Millions)=%{y}<br>gdp=%{marker.size}<extra></extra>",
           "hovertext": [
            "Ukraine",
            "Ukraine"
           ],
           "legendgroup": "Ukraine",
           "marker": {
            "color": "#FF97FF",
            "size": [
             398045413376,
             398045413376
            ],
            "sizemode": "area",
            "sizeref": 9272450088.96,
            "symbol": "circle"
           },
           "mode": "markers",
           "name": "Ukraine",
           "orientation": "v",
           "showlegend": true,
           "type": "scatter",
           "x": [
            1.953,
            1.953
           ],
           "xaxis": "x",
           "y": [
            44982568,
            44982568
           ],
           "yaxis": "y"
          }
         ],
         "name": "2015"
        },
        {
         "data": [
          {
           "hovertemplate": "<b>%{hovertext}</b><br><br>country=Germany<br>year=2016<br>Renewables Share in Energy (%)=%{x}<br>Population (Millions)=%{y}<br>gdp=%{marker.size}<extra></extra>",
           "hovertext": [
            "Germany",
            "Germany"
           ],
           "legendgroup": "Germany",
           "marker": {
            "color": "#EF553B",
            "size": [
             3708980035584,
             3708980035584
            ],
            "sizemode": "area",
            "sizeref": 9272450088.96,
            "symbol": "circle"
           },
           "mode": "markers",
           "name": "Germany",
           "orientation": "v",
           "showlegend": true,
           "type": "scatter",
           "x": [
            14.666,
            14.666
           ],
           "xaxis": "x",
           "y": [
            82331432,
            82331432
           ],
           "yaxis": "y"
          },
          {
           "hovertemplate": "<b>%{hovertext}</b><br><br>country=Czechia<br>year=2016<br>Renewables Share in Energy (%)=%{x}<br>Population (Millions)=%{y}<br>gdp=%{marker.size}<extra></extra>",
           "hovertext": [
            "Czechia",
            "Czechia"
           ],
           "legendgroup": "Czechia",
           "marker": {
            "color": "#00cc96",
            "size": [
             305844158464,
             305844158464
            ],
            "sizemode": "area",
            "sizeref": 9272450088.96,
            "symbol": "circle"
           },
           "mode": "markers",
           "name": "Czechia",
           "orientation": "v",
           "showlegend": true,
           "type": "scatter",
           "x": [
            6.701,
            6.701
           ],
           "xaxis": "x",
           "y": [
            10527584,
            10527584
           ],
           "yaxis": "y"
          },
          {
           "hovertemplate": "<b>%{hovertext}</b><br><br>country=Spain<br>year=2016<br>Renewables Share in Energy (%)=%{x}<br>Population (Millions)=%{y}<br>gdp=%{marker.size}<extra></extra>",
           "hovertext": [
            "Spain",
            "Spain"
           ],
           "legendgroup": "Spain",
           "marker": {
            "color": "#ab63fa",
            "size": [
             1533303980032,
             1533303980032
            ],
            "sizemode": "area",
            "sizeref": 9272450088.96,
            "symbol": "circle"
           },
           "mode": "markers",
           "name": "Spain",
           "orientation": "v",
           "showlegend": true,
           "type": "scatter",
           "x": [
            18.941,
            18.941
           ],
           "xaxis": "x",
           "y": [
            46473320,
            46473320
           ],
           "yaxis": "y"
          },
          {
           "hovertemplate": "<b>%{hovertext}</b><br><br>country=Bulgaria<br>year=2016<br>Renewables Share in Energy (%)=%{x}<br>Population (Millions)=%{y}<br>gdp=%{marker.size}<extra></extra>",
           "hovertext": [
            "Bulgaria",
            "Bulgaria"
           ],
           "legendgroup": "Bulgaria",
           "marker": {
            "color": "#FFA15A",
            "size": [
             117979078656,
             117979078656
            ],
            "sizemode": "area",
            "sizeref": 9272450088.96,
            "symbol": "circle"
           },
           "mode": "markers",
           "name": "Bulgaria",
           "orientation": "v",
           "showlegend": true,
           "type": "scatter",
           "x": [
            9.809,
            9.809
           ],
           "xaxis": "x",
           "y": [
            7245982,
            7245982
           ],
           "yaxis": "y"
          },
          {
           "hovertemplate": "<b>%{hovertext}</b><br><br>country=Hungary<br>year=2016<br>Renewables Share in Energy (%)=%{x}<br>Population (Millions)=%{y}<br>gdp=%{marker.size}<extra></extra>",
           "hovertext": [
            "Hungary",
            "Hungary"
           ],
           "legendgroup": "Hungary",
           "marker": {
            "color": "#19d3f3",
            "size": [
             231459340288,
             231459340288
            ],
            "sizemode": "area",
            "sizeref": 9272450088.96,
            "symbol": "circle"
           },
           "mode": "markers",
           "name": "Hungary",
           "orientation": "v",
           "showlegend": true,
           "type": "scatter",
           "x": [
            4.676,
            4.676
           ],
           "xaxis": "x",
           "y": [
            9815106,
            9815106
           ],
           "yaxis": "y"
          },
          {
           "hovertemplate": "<b>%{hovertext}</b><br><br>country=Romania<br>year=2016<br>Renewables Share in Energy (%)=%{x}<br>Population (Millions)=%{y}<br>gdp=%{marker.size}<extra></extra>",
           "hovertext": [
            "Romania",
            "Romania"
           ],
           "legendgroup": "Romania",
           "marker": {
            "color": "#FF6692",
            "size": [
             395288248320,
             395288248320
            ],
            "sizemode": "area",
            "sizeref": 9272450088.96,
            "symbol": "circle"
           },
           "mode": "markers",
           "name": "Romania",
           "orientation": "v",
           "showlegend": true,
           "type": "scatter",
           "x": [
            19.769,
            19.769
           ],
           "xaxis": "x",
           "y": [
            19797820,
            19797820
           ],
           "yaxis": "y"
          },
          {
           "hovertemplate": "<b>%{hovertext}</b><br><br>country=Slovenia<br>year=2016<br>Renewables Share in Energy (%)=%{x}<br>Population (Millions)=%{y}<br>gdp=%{marker.size}<extra></extra>",
           "hovertext": [
            "Slovenia",
            "Slovenia"
           ],
           "legendgroup": "Slovenia",
           "marker": {
            "color": "#B6E880",
            "size": [
             56151179264,
             56151179264
            ],
            "sizemode": "area",
            "sizeref": 9272450088.96,
            "symbol": "circle"
           },
           "mode": "markers",
           "name": "Slovenia",
           "orientation": "v",
           "showlegend": true,
           "type": "scatter",
           "x": [
            17.403,
            17.403
           ],
           "xaxis": "x",
           "y": [
            2090020,
            2090020
           ],
           "yaxis": "y"
          },
          {
           "hovertemplate": "<b>%{hovertext}</b><br><br>country=Ukraine<br>year=2016<br>Renewables Share in Energy (%)=%{x}<br>Population (Millions)=%{y}<br>gdp=%{marker.size}<extra></extra>",
           "hovertext": [
            "Ukraine",
            "Ukraine"
           ],
           "legendgroup": "Ukraine",
           "marker": {
            "color": "#FF97FF",
            "size": [
             407666196480,
             407666196480
            ],
            "sizemode": "area",
            "sizeref": 9272450088.96,
            "symbol": "circle"
           },
           "mode": "markers",
           "name": "Ukraine",
           "orientation": "v",
           "showlegend": true,
           "type": "scatter",
           "x": [
            2.408,
            2.408
           ],
           "xaxis": "x",
           "y": [
            44833568,
            44833568
           ],
           "yaxis": "y"
          }
         ],
         "name": "2016"
        },
        {
         "data": [
          {
           "hovertemplate": "<b>%{hovertext}</b><br><br>country=Romania<br>year=2017<br>Renewables Share in Energy (%)=%{x}<br>Population (Millions)=%{y}<br>gdp=%{marker.size}<extra></extra>",
           "hovertext": [
            "Romania",
            "Romania"
           ],
           "legendgroup": "Romania",
           "marker": {
            "color": "#FF6692",
            "size": [
             456012365824,
             456012365824
            ],
            "sizemode": "area",
            "sizeref": 9272450088.96,
            "symbol": "circle"
           },
           "mode": "markers",
           "name": "Romania",
           "orientation": "v",
           "showlegend": true,
           "type": "scatter",
           "x": [
            17.551,
            17.551
           ],
           "xaxis": "x",
           "y": [
            19698852,
            19698852
           ],
           "yaxis": "y"
          }
         ],
         "name": "2017"
        },
        {
         "data": [
          {
           "hovertemplate": "<b>%{hovertext}</b><br><br>country=Romania<br>year=2018<br>Renewables Share in Energy (%)=%{x}<br>Population (Millions)=%{y}<br>gdp=%{marker.size}<extra></extra>",
           "hovertext": [
            "Romania",
            "Romania"
           ],
           "legendgroup": "Romania",
           "marker": {
            "color": "#FF6692",
            "size": [
             473122635776,
             473122635776
            ],
            "sizemode": "area",
            "sizeref": 9272450088.96,
            "symbol": "circle"
           },
           "mode": "markers",
           "name": "Romania",
           "orientation": "v",
           "showlegend": true,
           "type": "scatter",
           "x": [
            18.608,
            18.608
           ],
           "xaxis": "x",
           "y": [
            19606778,
            19606778
           ],
           "yaxis": "y"
          }
         ],
         "name": "2018"
        },
        {
         "data": [
          {
           "hovertemplate": "<b>%{hovertext}</b><br><br>country=Romania<br>year=2019<br>Renewables Share in Energy (%)=%{x}<br>Population (Millions)=%{y}<br>gdp=%{marker.size}<extra></extra>",
           "hovertext": [
            "Romania",
            "Romania"
           ],
           "legendgroup": "Romania",
           "marker": {
            "color": "#FF6692",
            "size": [
             456564506624,
             456564506624
            ],
            "sizemode": "area",
            "sizeref": 9272450088.96,
            "symbol": "circle"
           },
           "mode": "markers",
           "name": "Romania",
           "orientation": "v",
           "showlegend": true,
           "type": "scatter",
           "x": [
            18.113,
            18.113
           ],
           "xaxis": "x",
           "y": [
            19524212,
            19524212
           ],
           "yaxis": "y"
          }
         ],
         "name": "2019"
        },
        {
         "data": [
          {
           "hovertemplate": "<b>%{hovertext}</b><br><br>country=Romania<br>year=2020<br>Renewables Share in Energy (%)=%{x}<br>Population (Millions)=%{y}<br>gdp=%{marker.size}<extra></extra>",
           "hovertext": [
            "Romania",
            "Romania"
           ],
           "legendgroup": "Romania",
           "marker": {
            "color": "#FF6692",
            "size": [
             483499376640,
             483499376640
            ],
            "sizemode": "area",
            "sizeref": 9272450088.96,
            "symbol": "circle"
           },
           "mode": "markers",
           "name": "Romania",
           "orientation": "v",
           "showlegend": true,
           "type": "scatter",
           "x": [
            18.934,
            18.934
           ],
           "xaxis": "x",
           "y": [
            19442040,
            19442040
           ],
           "yaxis": "y"
          }
         ],
         "name": "2020"
        },
        {
         "data": [
          {
           "hovertemplate": "<b>%{hovertext}</b><br><br>country=Romania<br>year=2021<br>Renewables Share in Energy (%)=%{x}<br>Population (Millions)=%{y}<br>gdp=%{marker.size}<extra></extra>",
           "hovertext": [
            "Romania",
            "Romania"
           ],
           "legendgroup": "Romania",
           "marker": {
            "color": "#FF6692",
            "size": [
             505119539200,
             505119539200
            ],
            "sizemode": "area",
            "sizeref": 9272450088.96,
            "symbol": "circle"
           },
           "mode": "markers",
           "name": "Romania",
           "orientation": "v",
           "showlegend": true,
           "type": "scatter",
           "x": [
            18.965,
            18.965
           ],
           "xaxis": "x",
           "y": [
            19328558,
            19328558
           ],
           "yaxis": "y"
          }
         ],
         "name": "2021"
        }
       ],
       "layout": {
        "legend": {
         "itemsizing": "constant",
         "title": {
          "text": "Country"
         },
         "tracegroupgap": 0
        },
        "sliders": [
         {
          "active": 0,
          "currentvalue": {
           "prefix": "year="
          },
          "len": 0.9,
          "pad": {
           "b": 10,
           "t": 60
          },
          "steps": [
           {
            "args": [
             [
              "2000"
             ],
             {
              "frame": {
               "duration": 0,
               "redraw": false
              },
              "fromcurrent": true,
              "mode": "immediate",
              "transition": {
               "duration": 0,
               "easing": "linear"
              }
             }
            ],
            "label": "2000",
            "method": "animate"
           },
           {
            "args": [
             [
              "2001"
             ],
             {
              "frame": {
               "duration": 0,
               "redraw": false
              },
              "fromcurrent": true,
              "mode": "immediate",
              "transition": {
               "duration": 0,
               "easing": "linear"
              }
             }
            ],
            "label": "2001",
            "method": "animate"
           },
           {
            "args": [
             [
              "2002"
             ],
             {
              "frame": {
               "duration": 0,
               "redraw": false
              },
              "fromcurrent": true,
              "mode": "immediate",
              "transition": {
               "duration": 0,
               "easing": "linear"
              }
             }
            ],
            "label": "2002",
            "method": "animate"
           },
           {
            "args": [
             [
              "2003"
             ],
             {
              "frame": {
               "duration": 0,
               "redraw": false
              },
              "fromcurrent": true,
              "mode": "immediate",
              "transition": {
               "duration": 0,
               "easing": "linear"
              }
             }
            ],
            "label": "2003",
            "method": "animate"
           },
           {
            "args": [
             [
              "2004"
             ],
             {
              "frame": {
               "duration": 0,
               "redraw": false
              },
              "fromcurrent": true,
              "mode": "immediate",
              "transition": {
               "duration": 0,
               "easing": "linear"
              }
             }
            ],
            "label": "2004",
            "method": "animate"
           },
           {
            "args": [
             [
              "2005"
             ],
             {
              "frame": {
               "duration": 0,
               "redraw": false
              },
              "fromcurrent": true,
              "mode": "immediate",
              "transition": {
               "duration": 0,
               "easing": "linear"
              }
             }
            ],
            "label": "2005",
            "method": "animate"
           },
           {
            "args": [
             [
              "2006"
             ],
             {
              "frame": {
               "duration": 0,
               "redraw": false
              },
              "fromcurrent": true,
              "mode": "immediate",
              "transition": {
               "duration": 0,
               "easing": "linear"
              }
             }
            ],
            "label": "2006",
            "method": "animate"
           },
           {
            "args": [
             [
              "2007"
             ],
             {
              "frame": {
               "duration": 0,
               "redraw": false
              },
              "fromcurrent": true,
              "mode": "immediate",
              "transition": {
               "duration": 0,
               "easing": "linear"
              }
             }
            ],
            "label": "2007",
            "method": "animate"
           },
           {
            "args": [
             [
              "2008"
             ],
             {
              "frame": {
               "duration": 0,
               "redraw": false
              },
              "fromcurrent": true,
              "mode": "immediate",
              "transition": {
               "duration": 0,
               "easing": "linear"
              }
             }
            ],
            "label": "2008",
            "method": "animate"
           },
           {
            "args": [
             [
              "2009"
             ],
             {
              "frame": {
               "duration": 0,
               "redraw": false
              },
              "fromcurrent": true,
              "mode": "immediate",
              "transition": {
               "duration": 0,
               "easing": "linear"
              }
             }
            ],
            "label": "2009",
            "method": "animate"
           },
           {
            "args": [
             [
              "2010"
             ],
             {
              "frame": {
               "duration": 0,
               "redraw": false
              },
              "fromcurrent": true,
              "mode": "immediate",
              "transition": {
               "duration": 0,
               "easing": "linear"
              }
             }
            ],
            "label": "2010",
            "method": "animate"
           },
           {
            "args": [
             [
              "2011"
             ],
             {
              "frame": {
               "duration": 0,
               "redraw": false
              },
              "fromcurrent": true,
              "mode": "immediate",
              "transition": {
               "duration": 0,
               "easing": "linear"
              }
             }
            ],
            "label": "2011",
            "method": "animate"
           },
           {
            "args": [
             [
              "2012"
             ],
             {
              "frame": {
               "duration": 0,
               "redraw": false
              },
              "fromcurrent": true,
              "mode": "immediate",
              "transition": {
               "duration": 0,
               "easing": "linear"
              }
             }
            ],
            "label": "2012",
            "method": "animate"
           },
           {
            "args": [
             [
              "2013"
             ],
             {
              "frame": {
               "duration": 0,
               "redraw": false
              },
              "fromcurrent": true,
              "mode": "immediate",
              "transition": {
               "duration": 0,
               "easing": "linear"
              }
             }
            ],
            "label": "2013",
            "method": "animate"
           },
           {
            "args": [
             [
              "2014"
             ],
             {
              "frame": {
               "duration": 0,
               "redraw": false
              },
              "fromcurrent": true,
              "mode": "immediate",
              "transition": {
               "duration": 0,
               "easing": "linear"
              }
             }
            ],
            "label": "2014",
            "method": "animate"
           },
           {
            "args": [
             [
              "2015"
             ],
             {
              "frame": {
               "duration": 0,
               "redraw": false
              },
              "fromcurrent": true,
              "mode": "immediate",
              "transition": {
               "duration": 0,
               "easing": "linear"
              }
             }
            ],
            "label": "2015",
            "method": "animate"
           },
           {
            "args": [
             [
              "2016"
             ],
             {
              "frame": {
               "duration": 0,
               "redraw": false
              },
              "fromcurrent": true,
              "mode": "immediate",
              "transition": {
               "duration": 0,
               "easing": "linear"
              }
             }
            ],
            "label": "2016",
            "method": "animate"
           },
           {
            "args": [
             [
              "2017"
             ],
             {
              "frame": {
               "duration": 0,
               "redraw": false
              },
              "fromcurrent": true,
              "mode": "immediate",
              "transition": {
               "duration": 0,
               "easing": "linear"
              }
             }
            ],
            "label": "2017",
            "method": "animate"
           },
           {
            "args": [
             [
              "2018"
             ],
             {
              "frame": {
               "duration": 0,
               "redraw": false
              },
              "fromcurrent": true,
              "mode": "immediate",
              "transition": {
               "duration": 0,
               "easing": "linear"
              }
             }
            ],
            "label": "2018",
            "method": "animate"
           },
           {
            "args": [
             [
              "2019"
             ],
             {
              "frame": {
               "duration": 0,
               "redraw": false
              },
              "fromcurrent": true,
              "mode": "immediate",
              "transition": {
               "duration": 0,
               "easing": "linear"
              }
             }
            ],
            "label": "2019",
            "method": "animate"
           },
           {
            "args": [
             [
              "2020"
             ],
             {
              "frame": {
               "duration": 0,
               "redraw": false
              },
              "fromcurrent": true,
              "mode": "immediate",
              "transition": {
               "duration": 0,
               "easing": "linear"
              }
             }
            ],
            "label": "2020",
            "method": "animate"
           },
           {
            "args": [
             [
              "2021"
             ],
             {
              "frame": {
               "duration": 0,
               "redraw": false
              },
              "fromcurrent": true,
              "mode": "immediate",
              "transition": {
               "duration": 0,
               "easing": "linear"
              }
             }
            ],
            "label": "2021",
            "method": "animate"
           }
          ],
          "x": 0.1,
          "xanchor": "left",
          "y": 0,
          "yanchor": "top"
         }
        ],
        "template": {
         "data": {
          "bar": [
           {
            "error_x": {
             "color": "#2a3f5f"
            },
            "error_y": {
             "color": "#2a3f5f"
            },
            "marker": {
             "line": {
              "color": "white",
              "width": 0.5
             },
             "pattern": {
              "fillmode": "overlay",
              "size": 10,
              "solidity": 0.2
             }
            },
            "type": "bar"
           }
          ],
          "barpolar": [
           {
            "marker": {
             "line": {
              "color": "white",
              "width": 0.5
             },
             "pattern": {
              "fillmode": "overlay",
              "size": 10,
              "solidity": 0.2
             }
            },
            "type": "barpolar"
           }
          ],
          "carpet": [
           {
            "aaxis": {
             "endlinecolor": "#2a3f5f",
             "gridcolor": "#C8D4E3",
             "linecolor": "#C8D4E3",
             "minorgridcolor": "#C8D4E3",
             "startlinecolor": "#2a3f5f"
            },
            "baxis": {
             "endlinecolor": "#2a3f5f",
             "gridcolor": "#C8D4E3",
             "linecolor": "#C8D4E3",
             "minorgridcolor": "#C8D4E3",
             "startlinecolor": "#2a3f5f"
            },
            "type": "carpet"
           }
          ],
          "choropleth": [
           {
            "colorbar": {
             "outlinewidth": 0,
             "ticks": ""
            },
            "type": "choropleth"
           }
          ],
          "contour": [
           {
            "colorbar": {
             "outlinewidth": 0,
             "ticks": ""
            },
            "colorscale": [
             [
              0,
              "#0d0887"
             ],
             [
              0.1111111111111111,
              "#46039f"
             ],
             [
              0.2222222222222222,
              "#7201a8"
             ],
             [
              0.3333333333333333,
              "#9c179e"
             ],
             [
              0.4444444444444444,
              "#bd3786"
             ],
             [
              0.5555555555555556,
              "#d8576b"
             ],
             [
              0.6666666666666666,
              "#ed7953"
             ],
             [
              0.7777777777777778,
              "#fb9f3a"
             ],
             [
              0.8888888888888888,
              "#fdca26"
             ],
             [
              1,
              "#f0f921"
             ]
            ],
            "type": "contour"
           }
          ],
          "contourcarpet": [
           {
            "colorbar": {
             "outlinewidth": 0,
             "ticks": ""
            },
            "type": "contourcarpet"
           }
          ],
          "heatmap": [
           {
            "colorbar": {
             "outlinewidth": 0,
             "ticks": ""
            },
            "colorscale": [
             [
              0,
              "#0d0887"
             ],
             [
              0.1111111111111111,
              "#46039f"
             ],
             [
              0.2222222222222222,
              "#7201a8"
             ],
             [
              0.3333333333333333,
              "#9c179e"
             ],
             [
              0.4444444444444444,
              "#bd3786"
             ],
             [
              0.5555555555555556,
              "#d8576b"
             ],
             [
              0.6666666666666666,
              "#ed7953"
             ],
             [
              0.7777777777777778,
              "#fb9f3a"
             ],
             [
              0.8888888888888888,
              "#fdca26"
             ],
             [
              1,
              "#f0f921"
             ]
            ],
            "type": "heatmap"
           }
          ],
          "heatmapgl": [
           {
            "colorbar": {
             "outlinewidth": 0,
             "ticks": ""
            },
            "colorscale": [
             [
              0,
              "#0d0887"
             ],
             [
              0.1111111111111111,
              "#46039f"
             ],
             [
              0.2222222222222222,
              "#7201a8"
             ],
             [
              0.3333333333333333,
              "#9c179e"
             ],
             [
              0.4444444444444444,
              "#bd3786"
             ],
             [
              0.5555555555555556,
              "#d8576b"
             ],
             [
              0.6666666666666666,
              "#ed7953"
             ],
             [
              0.7777777777777778,
              "#fb9f3a"
             ],
             [
              0.8888888888888888,
              "#fdca26"
             ],
             [
              1,
              "#f0f921"
             ]
            ],
            "type": "heatmapgl"
           }
          ],
          "histogram": [
           {
            "marker": {
             "pattern": {
              "fillmode": "overlay",
              "size": 10,
              "solidity": 0.2
             }
            },
            "type": "histogram"
           }
          ],
          "histogram2d": [
           {
            "colorbar": {
             "outlinewidth": 0,
             "ticks": ""
            },
            "colorscale": [
             [
              0,
              "#0d0887"
             ],
             [
              0.1111111111111111,
              "#46039f"
             ],
             [
              0.2222222222222222,
              "#7201a8"
             ],
             [
              0.3333333333333333,
              "#9c179e"
             ],
             [
              0.4444444444444444,
              "#bd3786"
             ],
             [
              0.5555555555555556,
              "#d8576b"
             ],
             [
              0.6666666666666666,
              "#ed7953"
             ],
             [
              0.7777777777777778,
              "#fb9f3a"
             ],
             [
              0.8888888888888888,
              "#fdca26"
             ],
             [
              1,
              "#f0f921"
             ]
            ],
            "type": "histogram2d"
           }
          ],
          "histogram2dcontour": [
           {
            "colorbar": {
             "outlinewidth": 0,
             "ticks": ""
            },
            "colorscale": [
             [
              0,
              "#0d0887"
             ],
             [
              0.1111111111111111,
              "#46039f"
             ],
             [
              0.2222222222222222,
              "#7201a8"
             ],
             [
              0.3333333333333333,
              "#9c179e"
             ],
             [
              0.4444444444444444,
              "#bd3786"
             ],
             [
              0.5555555555555556,
              "#d8576b"
             ],
             [
              0.6666666666666666,
              "#ed7953"
             ],
             [
              0.7777777777777778,
              "#fb9f3a"
             ],
             [
              0.8888888888888888,
              "#fdca26"
             ],
             [
              1,
              "#f0f921"
             ]
            ],
            "type": "histogram2dcontour"
           }
          ],
          "mesh3d": [
           {
            "colorbar": {
             "outlinewidth": 0,
             "ticks": ""
            },
            "type": "mesh3d"
           }
          ],
          "parcoords": [
           {
            "line": {
             "colorbar": {
              "outlinewidth": 0,
              "ticks": ""
             }
            },
            "type": "parcoords"
           }
          ],
          "pie": [
           {
            "automargin": true,
            "type": "pie"
           }
          ],
          "scatter": [
           {
            "fillpattern": {
             "fillmode": "overlay",
             "size": 10,
             "solidity": 0.2
            },
            "type": "scatter"
           }
          ],
          "scatter3d": [
           {
            "line": {
             "colorbar": {
              "outlinewidth": 0,
              "ticks": ""
             }
            },
            "marker": {
             "colorbar": {
              "outlinewidth": 0,
              "ticks": ""
             }
            },
            "type": "scatter3d"
           }
          ],
          "scattercarpet": [
           {
            "marker": {
             "colorbar": {
              "outlinewidth": 0,
              "ticks": ""
             }
            },
            "type": "scattercarpet"
           }
          ],
          "scattergeo": [
           {
            "marker": {
             "colorbar": {
              "outlinewidth": 0,
              "ticks": ""
             }
            },
            "type": "scattergeo"
           }
          ],
          "scattergl": [
           {
            "marker": {
             "colorbar": {
              "outlinewidth": 0,
              "ticks": ""
             }
            },
            "type": "scattergl"
           }
          ],
          "scattermapbox": [
           {
            "marker": {
             "colorbar": {
              "outlinewidth": 0,
              "ticks": ""
             }
            },
            "type": "scattermapbox"
           }
          ],
          "scatterpolar": [
           {
            "marker": {
             "colorbar": {
              "outlinewidth": 0,
              "ticks": ""
             }
            },
            "type": "scatterpolar"
           }
          ],
          "scatterpolargl": [
           {
            "marker": {
             "colorbar": {
              "outlinewidth": 0,
              "ticks": ""
             }
            },
            "type": "scatterpolargl"
           }
          ],
          "scatterternary": [
           {
            "marker": {
             "colorbar": {
              "outlinewidth": 0,
              "ticks": ""
             }
            },
            "type": "scatterternary"
           }
          ],
          "surface": [
           {
            "colorbar": {
             "outlinewidth": 0,
             "ticks": ""
            },
            "colorscale": [
             [
              0,
              "#0d0887"
             ],
             [
              0.1111111111111111,
              "#46039f"
             ],
             [
              0.2222222222222222,
              "#7201a8"
             ],
             [
              0.3333333333333333,
              "#9c179e"
             ],
             [
              0.4444444444444444,
              "#bd3786"
             ],
             [
              0.5555555555555556,
              "#d8576b"
             ],
             [
              0.6666666666666666,
              "#ed7953"
             ],
             [
              0.7777777777777778,
              "#fb9f3a"
             ],
             [
              0.8888888888888888,
              "#fdca26"
             ],
             [
              1,
              "#f0f921"
             ]
            ],
            "type": "surface"
           }
          ],
          "table": [
           {
            "cells": {
             "fill": {
              "color": "#EBF0F8"
             },
             "line": {
              "color": "white"
             }
            },
            "header": {
             "fill": {
              "color": "#C8D4E3"
             },
             "line": {
              "color": "white"
             }
            },
            "type": "table"
           }
          ]
         },
         "layout": {
          "annotationdefaults": {
           "arrowcolor": "#2a3f5f",
           "arrowhead": 0,
           "arrowwidth": 1
          },
          "autotypenumbers": "strict",
          "coloraxis": {
           "colorbar": {
            "outlinewidth": 0,
            "ticks": ""
           }
          },
          "colorscale": {
           "diverging": [
            [
             0,
             "#8e0152"
            ],
            [
             0.1,
             "#c51b7d"
            ],
            [
             0.2,
             "#de77ae"
            ],
            [
             0.3,
             "#f1b6da"
            ],
            [
             0.4,
             "#fde0ef"
            ],
            [
             0.5,
             "#f7f7f7"
            ],
            [
             0.6,
             "#e6f5d0"
            ],
            [
             0.7,
             "#b8e186"
            ],
            [
             0.8,
             "#7fbc41"
            ],
            [
             0.9,
             "#4d9221"
            ],
            [
             1,
             "#276419"
            ]
           ],
           "sequential": [
            [
             0,
             "#0d0887"
            ],
            [
             0.1111111111111111,
             "#46039f"
            ],
            [
             0.2222222222222222,
             "#7201a8"
            ],
            [
             0.3333333333333333,
             "#9c179e"
            ],
            [
             0.4444444444444444,
             "#bd3786"
            ],
            [
             0.5555555555555556,
             "#d8576b"
            ],
            [
             0.6666666666666666,
             "#ed7953"
            ],
            [
             0.7777777777777778,
             "#fb9f3a"
            ],
            [
             0.8888888888888888,
             "#fdca26"
            ],
            [
             1,
             "#f0f921"
            ]
           ],
           "sequentialminus": [
            [
             0,
             "#0d0887"
            ],
            [
             0.1111111111111111,
             "#46039f"
            ],
            [
             0.2222222222222222,
             "#7201a8"
            ],
            [
             0.3333333333333333,
             "#9c179e"
            ],
            [
             0.4444444444444444,
             "#bd3786"
            ],
            [
             0.5555555555555556,
             "#d8576b"
            ],
            [
             0.6666666666666666,
             "#ed7953"
            ],
            [
             0.7777777777777778,
             "#fb9f3a"
            ],
            [
             0.8888888888888888,
             "#fdca26"
            ],
            [
             1,
             "#f0f921"
            ]
           ]
          },
          "colorway": [
           "#636efa",
           "#EF553B",
           "#00cc96",
           "#ab63fa",
           "#FFA15A",
           "#19d3f3",
           "#FF6692",
           "#B6E880",
           "#FF97FF",
           "#FECB52"
          ],
          "font": {
           "color": "#2a3f5f"
          },
          "geo": {
           "bgcolor": "white",
           "lakecolor": "white",
           "landcolor": "white",
           "showlakes": true,
           "showland": true,
           "subunitcolor": "#C8D4E3"
          },
          "hoverlabel": {
           "align": "left"
          },
          "hovermode": "closest",
          "mapbox": {
           "style": "light"
          },
          "paper_bgcolor": "white",
          "plot_bgcolor": "white",
          "polar": {
           "angularaxis": {
            "gridcolor": "#EBF0F8",
            "linecolor": "#EBF0F8",
            "ticks": ""
           },
           "bgcolor": "white",
           "radialaxis": {
            "gridcolor": "#EBF0F8",
            "linecolor": "#EBF0F8",
            "ticks": ""
           }
          },
          "scene": {
           "xaxis": {
            "backgroundcolor": "white",
            "gridcolor": "#DFE8F3",
            "gridwidth": 2,
            "linecolor": "#EBF0F8",
            "showbackground": true,
            "ticks": "",
            "zerolinecolor": "#EBF0F8"
           },
           "yaxis": {
            "backgroundcolor": "white",
            "gridcolor": "#DFE8F3",
            "gridwidth": 2,
            "linecolor": "#EBF0F8",
            "showbackground": true,
            "ticks": "",
            "zerolinecolor": "#EBF0F8"
           },
           "zaxis": {
            "backgroundcolor": "white",
            "gridcolor": "#DFE8F3",
            "gridwidth": 2,
            "linecolor": "#EBF0F8",
            "showbackground": true,
            "ticks": "",
            "zerolinecolor": "#EBF0F8"
           }
          },
          "shapedefaults": {
           "line": {
            "color": "#2a3f5f"
           }
          },
          "ternary": {
           "aaxis": {
            "gridcolor": "#DFE8F3",
            "linecolor": "#A2B1C6",
            "ticks": ""
           },
           "baxis": {
            "gridcolor": "#DFE8F3",
            "linecolor": "#A2B1C6",
            "ticks": ""
           },
           "bgcolor": "white",
           "caxis": {
            "gridcolor": "#DFE8F3",
            "linecolor": "#A2B1C6",
            "ticks": ""
           }
          },
          "title": {
           "x": 0.05
          },
          "xaxis": {
           "automargin": true,
           "gridcolor": "#EBF0F8",
           "linecolor": "#EBF0F8",
           "ticks": "",
           "title": {
            "standoff": 15
           },
           "zerolinecolor": "#EBF0F8",
           "zerolinewidth": 2
          },
          "yaxis": {
           "automargin": true,
           "gridcolor": "#EBF0F8",
           "linecolor": "#EBF0F8",
           "ticks": "",
           "title": {
            "standoff": 15
           },
           "zerolinecolor": "#EBF0F8",
           "zerolinewidth": 2
          }
         }
        },
        "title": {
         "text": "Population vs Renewable Energy Share"
        },
        "updatemenus": [
         {
          "buttons": [
           {
            "args": [
             null,
             {
              "frame": {
               "duration": 500,
               "redraw": false
              },
              "fromcurrent": true,
              "mode": "immediate",
              "transition": {
               "duration": 500,
               "easing": "linear"
              }
             }
            ],
            "label": "&#9654;",
            "method": "animate"
           },
           {
            "args": [
             [
              null
             ],
             {
              "frame": {
               "duration": 0,
               "redraw": false
              },
              "fromcurrent": true,
              "mode": "immediate",
              "transition": {
               "duration": 0,
               "easing": "linear"
              }
             }
            ],
            "label": "&#9724;",
            "method": "animate"
           }
          ],
          "direction": "left",
          "pad": {
           "r": 10,
           "t": 70
          },
          "showactive": false,
          "type": "buttons",
          "x": 0.1,
          "xanchor": "right",
          "y": 0,
          "yanchor": "top"
         }
        ],
        "xaxis": {
         "anchor": "y",
         "domain": [
          0,
          1
         ],
         "title": {
          "text": "Renewables Share in Energy (%)"
         }
        },
        "yaxis": {
         "anchor": "x",
         "domain": [
          0,
          1
         ],
         "title": {
          "text": "Population (Millions)"
         }
        }
       }
      },
      "text/html": [
       "<div>                            <div id=\"d0b993de-964c-47ed-b078-248b856c9f6e\" class=\"plotly-graph-div\" style=\"height:525px; width:100%;\"></div>            <script type=\"text/javascript\">                require([\"plotly\"], function(Plotly) {                    window.PLOTLYENV=window.PLOTLYENV || {};                                    if (document.getElementById(\"d0b993de-964c-47ed-b078-248b856c9f6e\")) {                    Plotly.newPlot(                        \"d0b993de-964c-47ed-b078-248b856c9f6e\",                        [{\"hovertemplate\":\"<b>%{hovertext}</b><br><br>country=France<br>year=2000<br>Renewables Share in Energy (%)=%{x}<br>Population (Millions)=%{y}<br>gdp=%{marker.size}<extra></extra>\",\"hovertext\":[\"France\",\"France\"],\"legendgroup\":\"France\",\"marker\":{\"color\":\"#636efa\",\"size\":[2031676030976.0,2031676030976.0],\"sizemode\":\"area\",\"sizeref\":9272450088.96,\"symbol\":\"circle\"},\"mode\":\"markers\",\"name\":\"France\",\"orientation\":\"v\",\"showlegend\":true,\"x\":[6.722,6.722],\"xaxis\":\"x\",\"y\":[58665456.0,58665456.0],\"yaxis\":\"y\",\"type\":\"scatter\"},{\"hovertemplate\":\"<b>%{hovertext}</b><br><br>country=Germany<br>year=2000<br>Renewables Share in Energy (%)=%{x}<br>Population (Millions)=%{y}<br>gdp=%{marker.size}<extra></extra>\",\"hovertext\":[\"Germany\",\"Germany\"],\"legendgroup\":\"Germany\",\"marker\":{\"color\":\"#EF553B\",\"size\":[2718560681984.0,2718560681984.0],\"sizemode\":\"area\",\"sizeref\":9272450088.96,\"symbol\":\"circle\"},\"mode\":\"markers\",\"name\":\"Germany\",\"orientation\":\"v\",\"showlegend\":true,\"x\":[2.887,2.887],\"xaxis\":\"x\",\"y\":[81551680.0,81551680.0],\"yaxis\":\"y\",\"type\":\"scatter\"}],                        {\"template\":{\"data\":{\"barpolar\":[{\"marker\":{\"line\":{\"color\":\"white\",\"width\":0.5},\"pattern\":{\"fillmode\":\"overlay\",\"size\":10,\"solidity\":0.2}},\"type\":\"barpolar\"}],\"bar\":[{\"error_x\":{\"color\":\"#2a3f5f\"},\"error_y\":{\"color\":\"#2a3f5f\"},\"marker\":{\"line\":{\"color\":\"white\",\"width\":0.5},\"pattern\":{\"fillmode\":\"overlay\",\"size\":10,\"solidity\":0.2}},\"type\":\"bar\"}],\"carpet\":[{\"aaxis\":{\"endlinecolor\":\"#2a3f5f\",\"gridcolor\":\"#C8D4E3\",\"linecolor\":\"#C8D4E3\",\"minorgridcolor\":\"#C8D4E3\",\"startlinecolor\":\"#2a3f5f\"},\"baxis\":{\"endlinecolor\":\"#2a3f5f\",\"gridcolor\":\"#C8D4E3\",\"linecolor\":\"#C8D4E3\",\"minorgridcolor\":\"#C8D4E3\",\"startlinecolor\":\"#2a3f5f\"},\"type\":\"carpet\"}],\"choropleth\":[{\"colorbar\":{\"outlinewidth\":0,\"ticks\":\"\"},\"type\":\"choropleth\"}],\"contourcarpet\":[{\"colorbar\":{\"outlinewidth\":0,\"ticks\":\"\"},\"type\":\"contourcarpet\"}],\"contour\":[{\"colorbar\":{\"outlinewidth\":0,\"ticks\":\"\"},\"colorscale\":[[0.0,\"#0d0887\"],[0.1111111111111111,\"#46039f\"],[0.2222222222222222,\"#7201a8\"],[0.3333333333333333,\"#9c179e\"],[0.4444444444444444,\"#bd3786\"],[0.5555555555555556,\"#d8576b\"],[0.6666666666666666,\"#ed7953\"],[0.7777777777777778,\"#fb9f3a\"],[0.8888888888888888,\"#fdca26\"],[1.0,\"#f0f921\"]],\"type\":\"contour\"}],\"heatmapgl\":[{\"colorbar\":{\"outlinewidth\":0,\"ticks\":\"\"},\"colorscale\":[[0.0,\"#0d0887\"],[0.1111111111111111,\"#46039f\"],[0.2222222222222222,\"#7201a8\"],[0.3333333333333333,\"#9c179e\"],[0.4444444444444444,\"#bd3786\"],[0.5555555555555556,\"#d8576b\"],[0.6666666666666666,\"#ed7953\"],[0.7777777777777778,\"#fb9f3a\"],[0.8888888888888888,\"#fdca26\"],[1.0,\"#f0f921\"]],\"type\":\"heatmapgl\"}],\"heatmap\":[{\"colorbar\":{\"outlinewidth\":0,\"ticks\":\"\"},\"colorscale\":[[0.0,\"#0d0887\"],[0.1111111111111111,\"#46039f\"],[0.2222222222222222,\"#7201a8\"],[0.3333333333333333,\"#9c179e\"],[0.4444444444444444,\"#bd3786\"],[0.5555555555555556,\"#d8576b\"],[0.6666666666666666,\"#ed7953\"],[0.7777777777777778,\"#fb9f3a\"],[0.8888888888888888,\"#fdca26\"],[1.0,\"#f0f921\"]],\"type\":\"heatmap\"}],\"histogram2dcontour\":[{\"colorbar\":{\"outlinewidth\":0,\"ticks\":\"\"},\"colorscale\":[[0.0,\"#0d0887\"],[0.1111111111111111,\"#46039f\"],[0.2222222222222222,\"#7201a8\"],[0.3333333333333333,\"#9c179e\"],[0.4444444444444444,\"#bd3786\"],[0.5555555555555556,\"#d8576b\"],[0.6666666666666666,\"#ed7953\"],[0.7777777777777778,\"#fb9f3a\"],[0.8888888888888888,\"#fdca26\"],[1.0,\"#f0f921\"]],\"type\":\"histogram2dcontour\"}],\"histogram2d\":[{\"colorbar\":{\"outlinewidth\":0,\"ticks\":\"\"},\"colorscale\":[[0.0,\"#0d0887\"],[0.1111111111111111,\"#46039f\"],[0.2222222222222222,\"#7201a8\"],[0.3333333333333333,\"#9c179e\"],[0.4444444444444444,\"#bd3786\"],[0.5555555555555556,\"#d8576b\"],[0.6666666666666666,\"#ed7953\"],[0.7777777777777778,\"#fb9f3a\"],[0.8888888888888888,\"#fdca26\"],[1.0,\"#f0f921\"]],\"type\":\"histogram2d\"}],\"histogram\":[{\"marker\":{\"pattern\":{\"fillmode\":\"overlay\",\"size\":10,\"solidity\":0.2}},\"type\":\"histogram\"}],\"mesh3d\":[{\"colorbar\":{\"outlinewidth\":0,\"ticks\":\"\"},\"type\":\"mesh3d\"}],\"parcoords\":[{\"line\":{\"colorbar\":{\"outlinewidth\":0,\"ticks\":\"\"}},\"type\":\"parcoords\"}],\"pie\":[{\"automargin\":true,\"type\":\"pie\"}],\"scatter3d\":[{\"line\":{\"colorbar\":{\"outlinewidth\":0,\"ticks\":\"\"}},\"marker\":{\"colorbar\":{\"outlinewidth\":0,\"ticks\":\"\"}},\"type\":\"scatter3d\"}],\"scattercarpet\":[{\"marker\":{\"colorbar\":{\"outlinewidth\":0,\"ticks\":\"\"}},\"type\":\"scattercarpet\"}],\"scattergeo\":[{\"marker\":{\"colorbar\":{\"outlinewidth\":0,\"ticks\":\"\"}},\"type\":\"scattergeo\"}],\"scattergl\":[{\"marker\":{\"colorbar\":{\"outlinewidth\":0,\"ticks\":\"\"}},\"type\":\"scattergl\"}],\"scattermapbox\":[{\"marker\":{\"colorbar\":{\"outlinewidth\":0,\"ticks\":\"\"}},\"type\":\"scattermapbox\"}],\"scatterpolargl\":[{\"marker\":{\"colorbar\":{\"outlinewidth\":0,\"ticks\":\"\"}},\"type\":\"scatterpolargl\"}],\"scatterpolar\":[{\"marker\":{\"colorbar\":{\"outlinewidth\":0,\"ticks\":\"\"}},\"type\":\"scatterpolar\"}],\"scatter\":[{\"fillpattern\":{\"fillmode\":\"overlay\",\"size\":10,\"solidity\":0.2},\"type\":\"scatter\"}],\"scatterternary\":[{\"marker\":{\"colorbar\":{\"outlinewidth\":0,\"ticks\":\"\"}},\"type\":\"scatterternary\"}],\"surface\":[{\"colorbar\":{\"outlinewidth\":0,\"ticks\":\"\"},\"colorscale\":[[0.0,\"#0d0887\"],[0.1111111111111111,\"#46039f\"],[0.2222222222222222,\"#7201a8\"],[0.3333333333333333,\"#9c179e\"],[0.4444444444444444,\"#bd3786\"],[0.5555555555555556,\"#d8576b\"],[0.6666666666666666,\"#ed7953\"],[0.7777777777777778,\"#fb9f3a\"],[0.8888888888888888,\"#fdca26\"],[1.0,\"#f0f921\"]],\"type\":\"surface\"}],\"table\":[{\"cells\":{\"fill\":{\"color\":\"#EBF0F8\"},\"line\":{\"color\":\"white\"}},\"header\":{\"fill\":{\"color\":\"#C8D4E3\"},\"line\":{\"color\":\"white\"}},\"type\":\"table\"}]},\"layout\":{\"annotationdefaults\":{\"arrowcolor\":\"#2a3f5f\",\"arrowhead\":0,\"arrowwidth\":1},\"autotypenumbers\":\"strict\",\"coloraxis\":{\"colorbar\":{\"outlinewidth\":0,\"ticks\":\"\"}},\"colorscale\":{\"diverging\":[[0,\"#8e0152\"],[0.1,\"#c51b7d\"],[0.2,\"#de77ae\"],[0.3,\"#f1b6da\"],[0.4,\"#fde0ef\"],[0.5,\"#f7f7f7\"],[0.6,\"#e6f5d0\"],[0.7,\"#b8e186\"],[0.8,\"#7fbc41\"],[0.9,\"#4d9221\"],[1,\"#276419\"]],\"sequential\":[[0.0,\"#0d0887\"],[0.1111111111111111,\"#46039f\"],[0.2222222222222222,\"#7201a8\"],[0.3333333333333333,\"#9c179e\"],[0.4444444444444444,\"#bd3786\"],[0.5555555555555556,\"#d8576b\"],[0.6666666666666666,\"#ed7953\"],[0.7777777777777778,\"#fb9f3a\"],[0.8888888888888888,\"#fdca26\"],[1.0,\"#f0f921\"]],\"sequentialminus\":[[0.0,\"#0d0887\"],[0.1111111111111111,\"#46039f\"],[0.2222222222222222,\"#7201a8\"],[0.3333333333333333,\"#9c179e\"],[0.4444444444444444,\"#bd3786\"],[0.5555555555555556,\"#d8576b\"],[0.6666666666666666,\"#ed7953\"],[0.7777777777777778,\"#fb9f3a\"],[0.8888888888888888,\"#fdca26\"],[1.0,\"#f0f921\"]]},\"colorway\":[\"#636efa\",\"#EF553B\",\"#00cc96\",\"#ab63fa\",\"#FFA15A\",\"#19d3f3\",\"#FF6692\",\"#B6E880\",\"#FF97FF\",\"#FECB52\"],\"font\":{\"color\":\"#2a3f5f\"},\"geo\":{\"bgcolor\":\"white\",\"lakecolor\":\"white\",\"landcolor\":\"white\",\"showlakes\":true,\"showland\":true,\"subunitcolor\":\"#C8D4E3\"},\"hoverlabel\":{\"align\":\"left\"},\"hovermode\":\"closest\",\"mapbox\":{\"style\":\"light\"},\"paper_bgcolor\":\"white\",\"plot_bgcolor\":\"white\",\"polar\":{\"angularaxis\":{\"gridcolor\":\"#EBF0F8\",\"linecolor\":\"#EBF0F8\",\"ticks\":\"\"},\"bgcolor\":\"white\",\"radialaxis\":{\"gridcolor\":\"#EBF0F8\",\"linecolor\":\"#EBF0F8\",\"ticks\":\"\"}},\"scene\":{\"xaxis\":{\"backgroundcolor\":\"white\",\"gridcolor\":\"#DFE8F3\",\"gridwidth\":2,\"linecolor\":\"#EBF0F8\",\"showbackground\":true,\"ticks\":\"\",\"zerolinecolor\":\"#EBF0F8\"},\"yaxis\":{\"backgroundcolor\":\"white\",\"gridcolor\":\"#DFE8F3\",\"gridwidth\":2,\"linecolor\":\"#EBF0F8\",\"showbackground\":true,\"ticks\":\"\",\"zerolinecolor\":\"#EBF0F8\"},\"zaxis\":{\"backgroundcolor\":\"white\",\"gridcolor\":\"#DFE8F3\",\"gridwidth\":2,\"linecolor\":\"#EBF0F8\",\"showbackground\":true,\"ticks\":\"\",\"zerolinecolor\":\"#EBF0F8\"}},\"shapedefaults\":{\"line\":{\"color\":\"#2a3f5f\"}},\"ternary\":{\"aaxis\":{\"gridcolor\":\"#DFE8F3\",\"linecolor\":\"#A2B1C6\",\"ticks\":\"\"},\"baxis\":{\"gridcolor\":\"#DFE8F3\",\"linecolor\":\"#A2B1C6\",\"ticks\":\"\"},\"bgcolor\":\"white\",\"caxis\":{\"gridcolor\":\"#DFE8F3\",\"linecolor\":\"#A2B1C6\",\"ticks\":\"\"}},\"title\":{\"x\":0.05},\"xaxis\":{\"automargin\":true,\"gridcolor\":\"#EBF0F8\",\"linecolor\":\"#EBF0F8\",\"ticks\":\"\",\"title\":{\"standoff\":15},\"zerolinecolor\":\"#EBF0F8\",\"zerolinewidth\":2},\"yaxis\":{\"automargin\":true,\"gridcolor\":\"#EBF0F8\",\"linecolor\":\"#EBF0F8\",\"ticks\":\"\",\"title\":{\"standoff\":15},\"zerolinecolor\":\"#EBF0F8\",\"zerolinewidth\":2}}},\"xaxis\":{\"anchor\":\"y\",\"domain\":[0.0,1.0],\"title\":{\"text\":\"Renewables Share in Energy (%)\"}},\"yaxis\":{\"anchor\":\"x\",\"domain\":[0.0,1.0],\"title\":{\"text\":\"Population (Millions)\"}},\"legend\":{\"title\":{\"text\":\"Country\"},\"tracegroupgap\":0,\"itemsizing\":\"constant\"},\"title\":{\"text\":\"Population vs Renewable Energy Share\"},\"updatemenus\":[{\"buttons\":[{\"args\":[null,{\"frame\":{\"duration\":500,\"redraw\":false},\"mode\":\"immediate\",\"fromcurrent\":true,\"transition\":{\"duration\":500,\"easing\":\"linear\"}}],\"label\":\"&#9654;\",\"method\":\"animate\"},{\"args\":[[null],{\"frame\":{\"duration\":0,\"redraw\":false},\"mode\":\"immediate\",\"fromcurrent\":true,\"transition\":{\"duration\":0,\"easing\":\"linear\"}}],\"label\":\"&#9724;\",\"method\":\"animate\"}],\"direction\":\"left\",\"pad\":{\"r\":10,\"t\":70},\"showactive\":false,\"type\":\"buttons\",\"x\":0.1,\"xanchor\":\"right\",\"y\":0,\"yanchor\":\"top\"}],\"sliders\":[{\"active\":0,\"currentvalue\":{\"prefix\":\"year=\"},\"len\":0.9,\"pad\":{\"b\":10,\"t\":60},\"steps\":[{\"args\":[[\"2000\"],{\"frame\":{\"duration\":0,\"redraw\":false},\"mode\":\"immediate\",\"fromcurrent\":true,\"transition\":{\"duration\":0,\"easing\":\"linear\"}}],\"label\":\"2000\",\"method\":\"animate\"},{\"args\":[[\"2001\"],{\"frame\":{\"duration\":0,\"redraw\":false},\"mode\":\"immediate\",\"fromcurrent\":true,\"transition\":{\"duration\":0,\"easing\":\"linear\"}}],\"label\":\"2001\",\"method\":\"animate\"},{\"args\":[[\"2002\"],{\"frame\":{\"duration\":0,\"redraw\":false},\"mode\":\"immediate\",\"fromcurrent\":true,\"transition\":{\"duration\":0,\"easing\":\"linear\"}}],\"label\":\"2002\",\"method\":\"animate\"},{\"args\":[[\"2003\"],{\"frame\":{\"duration\":0,\"redraw\":false},\"mode\":\"immediate\",\"fromcurrent\":true,\"transition\":{\"duration\":0,\"easing\":\"linear\"}}],\"label\":\"2003\",\"method\":\"animate\"},{\"args\":[[\"2004\"],{\"frame\":{\"duration\":0,\"redraw\":false},\"mode\":\"immediate\",\"fromcurrent\":true,\"transition\":{\"duration\":0,\"easing\":\"linear\"}}],\"label\":\"2004\",\"method\":\"animate\"},{\"args\":[[\"2005\"],{\"frame\":{\"duration\":0,\"redraw\":false},\"mode\":\"immediate\",\"fromcurrent\":true,\"transition\":{\"duration\":0,\"easing\":\"linear\"}}],\"label\":\"2005\",\"method\":\"animate\"},{\"args\":[[\"2006\"],{\"frame\":{\"duration\":0,\"redraw\":false},\"mode\":\"immediate\",\"fromcurrent\":true,\"transition\":{\"duration\":0,\"easing\":\"linear\"}}],\"label\":\"2006\",\"method\":\"animate\"},{\"args\":[[\"2007\"],{\"frame\":{\"duration\":0,\"redraw\":false},\"mode\":\"immediate\",\"fromcurrent\":true,\"transition\":{\"duration\":0,\"easing\":\"linear\"}}],\"label\":\"2007\",\"method\":\"animate\"},{\"args\":[[\"2008\"],{\"frame\":{\"duration\":0,\"redraw\":false},\"mode\":\"immediate\",\"fromcurrent\":true,\"transition\":{\"duration\":0,\"easing\":\"linear\"}}],\"label\":\"2008\",\"method\":\"animate\"},{\"args\":[[\"2009\"],{\"frame\":{\"duration\":0,\"redraw\":false},\"mode\":\"immediate\",\"fromcurrent\":true,\"transition\":{\"duration\":0,\"easing\":\"linear\"}}],\"label\":\"2009\",\"method\":\"animate\"},{\"args\":[[\"2010\"],{\"frame\":{\"duration\":0,\"redraw\":false},\"mode\":\"immediate\",\"fromcurrent\":true,\"transition\":{\"duration\":0,\"easing\":\"linear\"}}],\"label\":\"2010\",\"method\":\"animate\"},{\"args\":[[\"2011\"],{\"frame\":{\"duration\":0,\"redraw\":false},\"mode\":\"immediate\",\"fromcurrent\":true,\"transition\":{\"duration\":0,\"easing\":\"linear\"}}],\"label\":\"2011\",\"method\":\"animate\"},{\"args\":[[\"2012\"],{\"frame\":{\"duration\":0,\"redraw\":false},\"mode\":\"immediate\",\"fromcurrent\":true,\"transition\":{\"duration\":0,\"easing\":\"linear\"}}],\"label\":\"2012\",\"method\":\"animate\"},{\"args\":[[\"2013\"],{\"frame\":{\"duration\":0,\"redraw\":false},\"mode\":\"immediate\",\"fromcurrent\":true,\"transition\":{\"duration\":0,\"easing\":\"linear\"}}],\"label\":\"2013\",\"method\":\"animate\"},{\"args\":[[\"2014\"],{\"frame\":{\"duration\":0,\"redraw\":false},\"mode\":\"immediate\",\"fromcurrent\":true,\"transition\":{\"duration\":0,\"easing\":\"linear\"}}],\"label\":\"2014\",\"method\":\"animate\"},{\"args\":[[\"2015\"],{\"frame\":{\"duration\":0,\"redraw\":false},\"mode\":\"immediate\",\"fromcurrent\":true,\"transition\":{\"duration\":0,\"easing\":\"linear\"}}],\"label\":\"2015\",\"method\":\"animate\"},{\"args\":[[\"2016\"],{\"frame\":{\"duration\":0,\"redraw\":false},\"mode\":\"immediate\",\"fromcurrent\":true,\"transition\":{\"duration\":0,\"easing\":\"linear\"}}],\"label\":\"2016\",\"method\":\"animate\"},{\"args\":[[\"2017\"],{\"frame\":{\"duration\":0,\"redraw\":false},\"mode\":\"immediate\",\"fromcurrent\":true,\"transition\":{\"duration\":0,\"easing\":\"linear\"}}],\"label\":\"2017\",\"method\":\"animate\"},{\"args\":[[\"2018\"],{\"frame\":{\"duration\":0,\"redraw\":false},\"mode\":\"immediate\",\"fromcurrent\":true,\"transition\":{\"duration\":0,\"easing\":\"linear\"}}],\"label\":\"2018\",\"method\":\"animate\"},{\"args\":[[\"2019\"],{\"frame\":{\"duration\":0,\"redraw\":false},\"mode\":\"immediate\",\"fromcurrent\":true,\"transition\":{\"duration\":0,\"easing\":\"linear\"}}],\"label\":\"2019\",\"method\":\"animate\"},{\"args\":[[\"2020\"],{\"frame\":{\"duration\":0,\"redraw\":false},\"mode\":\"immediate\",\"fromcurrent\":true,\"transition\":{\"duration\":0,\"easing\":\"linear\"}}],\"label\":\"2020\",\"method\":\"animate\"},{\"args\":[[\"2021\"],{\"frame\":{\"duration\":0,\"redraw\":false},\"mode\":\"immediate\",\"fromcurrent\":true,\"transition\":{\"duration\":0,\"easing\":\"linear\"}}],\"label\":\"2021\",\"method\":\"animate\"}],\"x\":0.1,\"xanchor\":\"left\",\"y\":0,\"yanchor\":\"top\"}]},                        {\"responsive\": true}                    ).then(function(){\n",
       "                            Plotly.addFrames('d0b993de-964c-47ed-b078-248b856c9f6e', [{\"data\":[{\"hovertemplate\":\"<b>%{hovertext}</b><br><br>country=France<br>year=2000<br>Renewables Share in Energy (%)=%{x}<br>Population (Millions)=%{y}<br>gdp=%{marker.size}<extra></extra>\",\"hovertext\":[\"France\",\"France\"],\"legendgroup\":\"France\",\"marker\":{\"color\":\"#636efa\",\"size\":[2031676030976.0,2031676030976.0],\"sizemode\":\"area\",\"sizeref\":9272450088.96,\"symbol\":\"circle\"},\"mode\":\"markers\",\"name\":\"France\",\"orientation\":\"v\",\"showlegend\":true,\"x\":[6.722,6.722],\"xaxis\":\"x\",\"y\":[58665456.0,58665456.0],\"yaxis\":\"y\",\"type\":\"scatter\"},{\"hovertemplate\":\"<b>%{hovertext}</b><br><br>country=Germany<br>year=2000<br>Renewables Share in Energy (%)=%{x}<br>Population (Millions)=%{y}<br>gdp=%{marker.size}<extra></extra>\",\"hovertext\":[\"Germany\",\"Germany\"],\"legendgroup\":\"Germany\",\"marker\":{\"color\":\"#EF553B\",\"size\":[2718560681984.0,2718560681984.0],\"sizemode\":\"area\",\"sizeref\":9272450088.96,\"symbol\":\"circle\"},\"mode\":\"markers\",\"name\":\"Germany\",\"orientation\":\"v\",\"showlegend\":true,\"x\":[2.887,2.887],\"xaxis\":\"x\",\"y\":[81551680.0,81551680.0],\"yaxis\":\"y\",\"type\":\"scatter\"}],\"name\":\"2000\"},{\"data\":[{\"hovertemplate\":\"<b>%{hovertext}</b><br><br>country=France<br>year=2001<br>Renewables Share in Energy (%)=%{x}<br>Population (Millions)=%{y}<br>gdp=%{marker.size}<extra></extra>\",\"hovertext\":[\"France\",\"France\"],\"legendgroup\":\"France\",\"marker\":{\"color\":\"#636efa\",\"size\":[2077786767360.0,2077786767360.0],\"sizemode\":\"area\",\"sizeref\":9272450088.96,\"symbol\":\"circle\"},\"mode\":\"markers\",\"name\":\"France\",\"orientation\":\"v\",\"showlegend\":true,\"x\":[7.411,7.411],\"xaxis\":\"x\",\"y\":[59014776.0,59014776.0],\"yaxis\":\"y\",\"type\":\"scatter\"}],\"name\":\"2001\"},{\"data\":[{\"hovertemplate\":\"<b>%{hovertext}</b><br><br>country=France<br>year=2002<br>Renewables Share in Energy (%)=%{x}<br>Population (Millions)=%{y}<br>gdp=%{marker.size}<extra></extra>\",\"hovertext\":[\"France\",\"France\"],\"legendgroup\":\"France\",\"marker\":{\"color\":\"#636efa\",\"size\":[2107316502528.0,2107316502528.0],\"sizemode\":\"area\",\"sizeref\":9272450088.96,\"symbol\":\"circle\"},\"mode\":\"markers\",\"name\":\"France\",\"orientation\":\"v\",\"showlegend\":true,\"x\":[6.164,6.164],\"xaxis\":\"x\",\"y\":[59372784.0,59372784.0],\"yaxis\":\"y\",\"type\":\"scatter\"},{\"hovertemplate\":\"<b>%{hovertext}</b><br><br>country=Germany<br>year=2002<br>Renewables Share in Energy (%)=%{x}<br>Population (Millions)=%{y}<br>gdp=%{marker.size}<extra></extra>\",\"hovertext\":[\"Germany\",\"Germany\"],\"legendgroup\":\"Germany\",\"marker\":{\"color\":\"#EF553B\",\"size\":[2822441533440.0,2822441533440.0],\"sizemode\":\"area\",\"sizeref\":9272450088.96,\"symbol\":\"circle\"},\"mode\":\"markers\",\"name\":\"Germany\",\"orientation\":\"v\",\"showlegend\":true,\"x\":[3.539,3.539],\"xaxis\":\"x\",\"y\":[81443424.0,81443424.0],\"yaxis\":\"y\",\"type\":\"scatter\"}],\"name\":\"2002\"},{\"data\":[{\"hovertemplate\":\"<b>%{hovertext}</b><br><br>country=France<br>year=2003<br>Renewables Share in Energy (%)=%{x}<br>Population (Millions)=%{y}<br>gdp=%{marker.size}<extra></extra>\",\"hovertext\":[\"France\",\"France\"],\"legendgroup\":\"France\",\"marker\":{\"color\":\"#636efa\",\"size\":[2130940657664.0,2130940657664.0],\"sizemode\":\"area\",\"sizeref\":9272450088.96,\"symbol\":\"circle\"},\"mode\":\"markers\",\"name\":\"France\",\"orientation\":\"v\",\"showlegend\":true,\"x\":[5.947,5.947],\"xaxis\":\"x\",\"y\":[59728260.0,59728260.0],\"yaxis\":\"y\",\"type\":\"scatter\"},{\"hovertemplate\":\"<b>%{hovertext}</b><br><br>country=Germany<br>year=2003<br>Renewables Share in Energy (%)=%{x}<br>Population (Millions)=%{y}<br>gdp=%{marker.size}<extra></extra>\",\"hovertext\":[\"Germany\",\"Germany\"],\"legendgroup\":\"Germany\",\"marker\":{\"color\":\"#EF553B\",\"size\":[2831676080128.0,2831676080128.0],\"sizemode\":\"area\",\"sizeref\":9272450088.96,\"symbol\":\"circle\"},\"mode\":\"markers\",\"name\":\"Germany\",\"orientation\":\"v\",\"showlegend\":true,\"x\":[3.642,3.642],\"xaxis\":\"x\",\"y\":[81346808.0,81346808.0],\"yaxis\":\"y\",\"type\":\"scatter\"}],\"name\":\"2003\"},{\"data\":[{\"hovertemplate\":\"<b>%{hovertext}</b><br><br>country=France<br>year=2004<br>Renewables Share in Energy (%)=%{x}<br>Population (Millions)=%{y}<br>gdp=%{marker.size}<extra></extra>\",\"hovertext\":[\"France\",\"France\"],\"legendgroup\":\"France\",\"marker\":{\"color\":\"#636efa\",\"size\":[2196883505152.0,2196883505152.0],\"sizemode\":\"area\",\"sizeref\":9272450088.96,\"symbol\":\"circle\"},\"mode\":\"markers\",\"name\":\"France\",\"orientation\":\"v\",\"showlegend\":true,\"x\":[5.953,5.953],\"xaxis\":\"x\",\"y\":[60108436.0,60108436.0],\"yaxis\":\"y\",\"type\":\"scatter\"},{\"hovertemplate\":\"<b>%{hovertext}</b><br><br>country=Germany<br>year=2004<br>Renewables Share in Energy (%)=%{x}<br>Population (Millions)=%{y}<br>gdp=%{marker.size}<extra></extra>\",\"hovertext\":[\"Germany\",\"Germany\"],\"legendgroup\":\"Germany\",\"marker\":{\"color\":\"#EF553B\",\"size\":[2894624980992.0,2894624980992.0],\"sizemode\":\"area\",\"sizeref\":9272450088.96,\"symbol\":\"circle\"},\"mode\":\"markers\",\"name\":\"Germany\",\"orientation\":\"v\",\"showlegend\":true,\"x\":[4.517,4.517],\"xaxis\":\"x\",\"y\":[81266672.0,81266672.0],\"yaxis\":\"y\",\"type\":\"scatter\"}],\"name\":\"2004\"},{\"data\":[{\"hovertemplate\":\"<b>%{hovertext}</b><br><br>country=France<br>year=2005<br>Renewables Share in Energy (%)=%{x}<br>Population (Millions)=%{y}<br>gdp=%{marker.size}<extra></extra>\",\"hovertext\":[\"France\",\"France\"],\"legendgroup\":\"France\",\"marker\":{\"color\":\"#636efa\",\"size\":[2238790500352.0,2238790500352.0],\"sizemode\":\"area\",\"sizeref\":9272450088.96,\"symbol\":\"circle\"},\"mode\":\"markers\",\"name\":\"France\",\"orientation\":\"v\",\"showlegend\":true,\"x\":[5.362,5.362],\"xaxis\":\"x\",\"y\":[60510080.0,60510080.0],\"yaxis\":\"y\",\"type\":\"scatter\"},{\"hovertemplate\":\"<b>%{hovertext}</b><br><br>country=Germany<br>year=2005<br>Renewables Share in Energy (%)=%{x}<br>Population (Millions)=%{y}<br>gdp=%{marker.size}<extra></extra>\",\"hovertext\":[\"Germany\",\"Germany\"],\"legendgroup\":\"Germany\",\"marker\":{\"color\":\"#EF553B\",\"size\":[2945460994048.0,2945460994048.0],\"sizemode\":\"area\",\"sizeref\":9272450088.96,\"symbol\":\"circle\"},\"mode\":\"markers\",\"name\":\"Germany\",\"orientation\":\"v\",\"showlegend\":true,\"x\":[5.209,5.209],\"xaxis\":\"x\",\"y\":[81212168.0,81212168.0],\"yaxis\":\"y\",\"type\":\"scatter\"},{\"hovertemplate\":\"<b>%{hovertext}</b><br><br>country=Czechia<br>year=2005<br>Renewables Share in Energy (%)=%{x}<br>Population (Millions)=%{y}<br>gdp=%{marker.size}<extra></extra>\",\"hovertext\":[\"Czechia\",\"Czechia\"],\"legendgroup\":\"Czechia\",\"marker\":{\"color\":\"#00cc96\",\"size\":[225302577152.0,225302577152.0],\"sizemode\":\"area\",\"sizeref\":9272450088.96,\"symbol\":\"circle\"},\"mode\":\"markers\",\"name\":\"Czechia\",\"orientation\":\"v\",\"showlegend\":true,\"x\":[1.779,1.779],\"xaxis\":\"x\",\"y\":[10280122.0,10280122.0],\"yaxis\":\"y\",\"type\":\"scatter\"}],\"name\":\"2005\"},{\"data\":[{\"hovertemplate\":\"<b>%{hovertext}</b><br><br>country=Germany<br>year=2006<br>Renewables Share in Energy (%)=%{x}<br>Population (Millions)=%{y}<br>gdp=%{marker.size}<extra></extra>\",\"hovertext\":[\"Germany\",\"Germany\"],\"legendgroup\":\"Germany\",\"marker\":{\"color\":\"#EF553B\",\"size\":[3086359199744.0,3086359199744.0],\"sizemode\":\"area\",\"sizeref\":9272450088.96,\"symbol\":\"circle\"},\"mode\":\"markers\",\"name\":\"Germany\",\"orientation\":\"v\",\"showlegend\":true,\"x\":[6.026,6.026],\"xaxis\":\"x\",\"y\":[81177816.0,81177816.0],\"yaxis\":\"y\",\"type\":\"scatter\"},{\"hovertemplate\":\"<b>%{hovertext}</b><br><br>country=Czechia<br>year=2006<br>Renewables Share in Energy (%)=%{x}<br>Population (Millions)=%{y}<br>gdp=%{marker.size}<extra></extra>\",\"hovertext\":[\"Czechia\",\"Czechia\"],\"legendgroup\":\"Czechia\",\"marker\":{\"color\":\"#00cc96\",\"size\":[243991789568.0,243991789568.0],\"sizemode\":\"area\",\"sizeref\":9272450088.96,\"symbol\":\"circle\"},\"mode\":\"markers\",\"name\":\"Czechia\",\"orientation\":\"v\",\"showlegend\":true,\"x\":[1.99,1.99],\"xaxis\":\"x\",\"y\":[10304822.0,10304822.0],\"yaxis\":\"y\",\"type\":\"scatter\"}],\"name\":\"2006\"},{\"data\":[{\"hovertemplate\":\"<b>%{hovertext}</b><br><br>country=Germany<br>year=2007<br>Renewables Share in Energy (%)=%{x}<br>Population (Millions)=%{y}<br>gdp=%{marker.size}<extra></extra>\",\"hovertext\":[\"Germany\",\"Germany\"],\"legendgroup\":\"Germany\",\"marker\":{\"color\":\"#EF553B\",\"size\":[3220275724288.0,3220275724288.0],\"sizemode\":\"area\",\"sizeref\":9272450088.96,\"symbol\":\"circle\"},\"mode\":\"markers\",\"name\":\"Germany\",\"orientation\":\"v\",\"showlegend\":true,\"x\":[7.654,7.654],\"xaxis\":\"x\",\"y\":[81183832.0,81183832.0],\"yaxis\":\"y\",\"type\":\"scatter\"},{\"hovertemplate\":\"<b>%{hovertext}</b><br><br>country=Czechia<br>year=2007<br>Renewables Share in Energy (%)=%{x}<br>Population (Millions)=%{y}<br>gdp=%{marker.size}<extra></extra>\",\"hovertext\":[\"Czechia\",\"Czechia\"],\"legendgroup\":\"Czechia\",\"marker\":{\"color\":\"#00cc96\",\"size\":[260673044480.0,260673044480.0],\"sizemode\":\"area\",\"sizeref\":9272450088.96,\"symbol\":\"circle\"},\"mode\":\"markers\",\"name\":\"Czechia\",\"orientation\":\"v\",\"showlegend\":true,\"x\":[1.966,1.966],\"xaxis\":\"x\",\"y\":[10337831.0,10337831.0],\"yaxis\":\"y\",\"type\":\"scatter\"}],\"name\":\"2007\"},{\"data\":[{\"hovertemplate\":\"<b>%{hovertext}</b><br><br>country=Germany<br>year=2008<br>Renewables Share in Energy (%)=%{x}<br>Population (Millions)=%{y}<br>gdp=%{marker.size}<extra></extra>\",\"hovertext\":[\"Germany\",\"Germany\"],\"legendgroup\":\"Germany\",\"marker\":{\"color\":\"#EF553B\",\"size\":[3289020366848.0,3289020366848.0],\"sizemode\":\"area\",\"sizeref\":9272450088.96,\"symbol\":\"circle\"},\"mode\":\"markers\",\"name\":\"Germany\",\"orientation\":\"v\",\"showlegend\":true,\"x\":[7.818,7.818],\"xaxis\":\"x\",\"y\":[81217488.0,81217488.0],\"yaxis\":\"y\",\"type\":\"scatter\"},{\"hovertemplate\":\"<b>%{hovertext}</b><br><br>country=Czechia<br>year=2008<br>Renewables Share in Energy (%)=%{x}<br>Population (Millions)=%{y}<br>gdp=%{marker.size}<extra></extra>\",\"hovertext\":[\"Czechia\",\"Czechia\"],\"legendgroup\":\"Czechia\",\"marker\":{\"color\":\"#00cc96\",\"size\":[271709536256.0,271709536256.0],\"sizemode\":\"area\",\"sizeref\":9272450088.96,\"symbol\":\"circle\"},\"mode\":\"markers\",\"name\":\"Czechia\",\"orientation\":\"v\",\"showlegend\":true,\"x\":[2.397,2.397],\"xaxis\":\"x\",\"y\":[10378586.0,10378586.0],\"yaxis\":\"y\",\"type\":\"scatter\"},{\"hovertemplate\":\"<b>%{hovertext}</b><br><br>country=Spain<br>year=2008<br>Renewables Share in Energy (%)=%{x}<br>Population (Millions)=%{y}<br>gdp=%{marker.size}<extra></extra>\",\"hovertext\":[\"Spain\",\"Spain\"],\"legendgroup\":\"Spain\",\"marker\":{\"color\":\"#ab63fa\",\"size\":[1510615285760.0,1510615285760.0],\"sizemode\":\"area\",\"sizeref\":9272450088.96,\"symbol\":\"circle\"},\"mode\":\"markers\",\"name\":\"Spain\",\"orientation\":\"v\",\"showlegend\":true,\"x\":[10.478,10.478],\"xaxis\":\"x\",\"y\":[45966544.0,45966544.0],\"yaxis\":\"y\",\"type\":\"scatter\"}],\"name\":\"2008\"},{\"data\":[{\"hovertemplate\":\"<b>%{hovertext}</b><br><br>country=Germany<br>year=2009<br>Renewables Share in Energy (%)=%{x}<br>Population (Millions)=%{y}<br>gdp=%{marker.size}<extra></extra>\",\"hovertext\":[\"Germany\",\"Germany\"],\"legendgroup\":\"Germany\",\"marker\":{\"color\":\"#EF553B\",\"size\":[3136502104064.0,3136502104064.0],\"sizemode\":\"area\",\"sizeref\":9272450088.96,\"symbol\":\"circle\"},\"mode\":\"markers\",\"name\":\"Germany\",\"orientation\":\"v\",\"showlegend\":true,\"x\":[8.454,8.454],\"xaxis\":\"x\",\"y\":[81260624.0,81260624.0],\"yaxis\":\"y\",\"type\":\"scatter\"},{\"hovertemplate\":\"<b>%{hovertext}</b><br><br>country=Czechia<br>year=2009<br>Renewables Share in Energy (%)=%{x}<br>Population (Millions)=%{y}<br>gdp=%{marker.size}<extra></extra>\",\"hovertext\":[\"Czechia\",\"Czechia\"],\"legendgroup\":\"Czechia\",\"marker\":{\"color\":\"#00cc96\",\"size\":[261919703040.0,261919703040.0],\"sizemode\":\"area\",\"sizeref\":9272450088.96,\"symbol\":\"circle\"},\"mode\":\"markers\",\"name\":\"Czechia\",\"orientation\":\"v\",\"showlegend\":true,\"x\":[3.248,3.248],\"xaxis\":\"x\",\"y\":[10421515.0,10421515.0],\"yaxis\":\"y\",\"type\":\"scatter\"},{\"hovertemplate\":\"<b>%{hovertext}</b><br><br>country=Spain<br>year=2009<br>Renewables Share in Energy (%)=%{x}<br>Population (Millions)=%{y}<br>gdp=%{marker.size}<extra></extra>\",\"hovertext\":[\"Spain\",\"Spain\"],\"legendgroup\":\"Spain\",\"marker\":{\"color\":\"#ab63fa\",\"size\":[1468765831168.0,1468765831168.0],\"sizemode\":\"area\",\"sizeref\":9272450088.96,\"symbol\":\"circle\"},\"mode\":\"markers\",\"name\":\"Spain\",\"orientation\":\"v\",\"showlegend\":true,\"x\":[13.525,13.525],\"xaxis\":\"x\",\"y\":[46367772.0,46367772.0],\"yaxis\":\"y\",\"type\":\"scatter\"},{\"hovertemplate\":\"<b>%{hovertext}</b><br><br>country=Bulgaria<br>year=2009<br>Renewables Share in Energy (%)=%{x}<br>Population (Millions)=%{y}<br>gdp=%{marker.size}<extra></extra>\",\"hovertext\":[\"Bulgaria\",\"Bulgaria\"],\"legendgroup\":\"Bulgaria\",\"marker\":{\"color\":\"#FFA15A\",\"size\":[107365072896.0,107365072896.0],\"sizemode\":\"area\",\"sizeref\":9272450088.96,\"symbol\":\"circle\"},\"mode\":\"markers\",\"name\":\"Bulgaria\",\"orientation\":\"v\",\"showlegend\":true,\"x\":[5.116,5.116],\"xaxis\":\"x\",\"y\":[7634737.0,7634737.0],\"yaxis\":\"y\",\"type\":\"scatter\"},{\"hovertemplate\":\"<b>%{hovertext}</b><br><br>country=Hungary<br>year=2009<br>Renewables Share in Energy (%)=%{x}<br>Population (Millions)=%{y}<br>gdp=%{marker.size}<extra></extra>\",\"hovertext\":[\"Hungary\",\"Hungary\"],\"legendgroup\":\"Hungary\",\"marker\":{\"color\":\"#19d3f3\",\"size\":[195180904448.0,195180904448.0],\"sizemode\":\"area\",\"sizeref\":9272450088.96,\"symbol\":\"circle\"},\"mode\":\"markers\",\"name\":\"Hungary\",\"orientation\":\"v\",\"showlegend\":true,\"x\":[4.023,4.023],\"xaxis\":\"x\",\"y\":[10008581.0,10008581.0],\"yaxis\":\"y\",\"type\":\"scatter\"}],\"name\":\"2009\"},{\"data\":[{\"hovertemplate\":\"<b>%{hovertext}</b><br><br>country=Germany<br>year=2010<br>Renewables Share in Energy (%)=%{x}<br>Population (Millions)=%{y}<br>gdp=%{marker.size}<extra></extra>\",\"hovertext\":[\"Germany\",\"Germany\"],\"legendgroup\":\"Germany\",\"marker\":{\"color\":\"#EF553B\",\"size\":[3301123031040.0,3301123031040.0],\"sizemode\":\"area\",\"sizeref\":9272450088.96,\"symbol\":\"circle\"},\"mode\":\"markers\",\"name\":\"Germany\",\"orientation\":\"v\",\"showlegend\":true,\"x\":[8.792,8.792],\"xaxis\":\"x\",\"y\":[81325088.0,81325088.0],\"yaxis\":\"y\",\"type\":\"scatter\"},{\"hovertemplate\":\"<b>%{hovertext}</b><br><br>country=Czechia<br>year=2010<br>Renewables Share in Energy (%)=%{x}<br>Population (Millions)=%{y}<br>gdp=%{marker.size}<extra></extra>\",\"hovertext\":[\"Czechia\",\"Czechia\"],\"legendgroup\":\"Czechia\",\"marker\":{\"color\":\"#00cc96\",\"size\":[271231975424.0,271231975424.0],\"sizemode\":\"area\",\"sizeref\":9272450088.96,\"symbol\":\"circle\"},\"mode\":\"markers\",\"name\":\"Czechia\",\"orientation\":\"v\",\"showlegend\":true,\"x\":[3.894,3.894],\"xaxis\":\"x\",\"y\":[10464750.0,10464750.0],\"yaxis\":\"y\",\"type\":\"scatter\"},{\"hovertemplate\":\"<b>%{hovertext}</b><br><br>country=Spain<br>year=2010<br>Renewables Share in Energy (%)=%{x}<br>Population (Millions)=%{y}<br>gdp=%{marker.size}<extra></extra>\",\"hovertext\":[\"Spain\",\"Spain\"],\"legendgroup\":\"Spain\",\"marker\":{\"color\":\"#ab63fa\",\"size\":[1480376320000.0,1480376320000.0],\"sizemode\":\"area\",\"sizeref\":9272450088.96,\"symbol\":\"circle\"},\"mode\":\"markers\",\"name\":\"Spain\",\"orientation\":\"v\",\"showlegend\":true,\"x\":[17.252,17.252],\"xaxis\":\"x\",\"y\":[46572776.0,46572776.0],\"yaxis\":\"y\",\"type\":\"scatter\"},{\"hovertemplate\":\"<b>%{hovertext}</b><br><br>country=Bulgaria<br>year=2010<br>Renewables Share in Energy (%)=%{x}<br>Population (Millions)=%{y}<br>gdp=%{marker.size}<extra></extra>\",\"hovertext\":[\"Bulgaria\",\"Bulgaria\"],\"legendgroup\":\"Bulgaria\",\"marker\":{\"color\":\"#FFA15A\",\"size\":[109045211136.0,109045211136.0],\"sizemode\":\"area\",\"sizeref\":9272450088.96,\"symbol\":\"circle\"},\"mode\":\"markers\",\"name\":\"Bulgaria\",\"orientation\":\"v\",\"showlegend\":true,\"x\":[7.658,7.658],\"xaxis\":\"x\",\"y\":[7592271.0,7592271.0],\"yaxis\":\"y\",\"type\":\"scatter\"},{\"hovertemplate\":\"<b>%{hovertext}</b><br><br>country=Hungary<br>year=2010<br>Renewables Share in Energy (%)=%{x}<br>Population (Millions)=%{y}<br>gdp=%{marker.size}<extra></extra>\",\"hovertext\":[\"Hungary\",\"Hungary\"],\"legendgroup\":\"Hungary\",\"marker\":{\"color\":\"#19d3f3\",\"size\":[200496578560.0,200496578560.0],\"sizemode\":\"area\",\"sizeref\":9272450088.96,\"symbol\":\"circle\"},\"mode\":\"markers\",\"name\":\"Hungary\",\"orientation\":\"v\",\"showlegend\":true,\"x\":[4.081,4.081],\"xaxis\":\"x\",\"y\":[9986832.0,9986832.0],\"yaxis\":\"y\",\"type\":\"scatter\"},{\"hovertemplate\":\"<b>%{hovertext}</b><br><br>country=Romania<br>year=2010<br>Renewables Share in Energy (%)=%{x}<br>Population (Millions)=%{y}<br>gdp=%{marker.size}<extra></extra>\",\"hovertext\":[\"Romania\",\"Romania\"],\"legendgroup\":\"Romania\",\"marker\":{\"color\":\"#FF6692\",\"size\":[335489564672.0,335489564672.0],\"sizemode\":\"area\",\"sizeref\":9272450088.96,\"symbol\":\"circle\"},\"mode\":\"markers\",\"name\":\"Romania\",\"orientation\":\"v\",\"showlegend\":true,\"x\":[14.56,14.56],\"xaxis\":\"x\",\"y\":[20335212.0,20335212.0],\"yaxis\":\"y\",\"type\":\"scatter\"}],\"name\":\"2010\"},{\"data\":[{\"hovertemplate\":\"<b>%{hovertext}</b><br><br>country=Germany<br>year=2011<br>Renewables Share in Energy (%)=%{x}<br>Population (Millions)=%{y}<br>gdp=%{marker.size}<extra></extra>\",\"hovertext\":[\"Germany\",\"Germany\"],\"legendgroup\":\"Germany\",\"marker\":{\"color\":\"#EF553B\",\"size\":[3467712921600.0,3467712921600.0],\"sizemode\":\"area\",\"sizeref\":9272450088.96,\"symbol\":\"circle\"},\"mode\":\"markers\",\"name\":\"Germany\",\"orientation\":\"v\",\"showlegend\":true,\"x\":[10.567,10.567],\"xaxis\":\"x\",\"y\":[81423384.0,81423384.0],\"yaxis\":\"y\",\"type\":\"scatter\"},{\"hovertemplate\":\"<b>%{hovertext}</b><br><br>country=Czechia<br>year=2011<br>Renewables Share in Energy (%)=%{x}<br>Population (Millions)=%{y}<br>gdp=%{marker.size}<extra></extra>\",\"hovertext\":[\"Czechia\",\"Czechia\"],\"legendgroup\":\"Czechia\",\"marker\":{\"color\":\"#00cc96\",\"size\":[279082762240.0,279082762240.0],\"sizemode\":\"area\",\"sizeref\":9272450088.96,\"symbol\":\"circle\"},\"mode\":\"markers\",\"name\":\"Czechia\",\"orientation\":\"v\",\"showlegend\":true,\"x\":[4.91,4.91],\"xaxis\":\"x\",\"y\":[10496379.0,10496379.0],\"yaxis\":\"y\",\"type\":\"scatter\"},{\"hovertemplate\":\"<b>%{hovertext}</b><br><br>country=Spain<br>year=2011<br>Renewables Share in Energy (%)=%{x}<br>Population (Millions)=%{y}<br>gdp=%{marker.size}<extra></extra>\",\"hovertext\":[\"Spain\",\"Spain\"],\"legendgroup\":\"Spain\",\"marker\":{\"color\":\"#ab63fa\",\"size\":[1477187469312.0,1477187469312.0],\"sizemode\":\"area\",\"sizeref\":9272450088.96,\"symbol\":\"circle\"},\"mode\":\"markers\",\"name\":\"Spain\",\"orientation\":\"v\",\"showlegend\":true,\"x\":[16.014,16.014],\"xaxis\":\"x\",\"y\":[46729232.0,46729232.0],\"yaxis\":\"y\",\"type\":\"scatter\"},{\"hovertemplate\":\"<b>%{hovertext}</b><br><br>country=Bulgaria<br>year=2011<br>Renewables Share in Energy (%)=%{x}<br>Population (Millions)=%{y}<br>gdp=%{marker.size}<extra></extra>\",\"hovertext\":[\"Bulgaria\",\"Bulgaria\"],\"legendgroup\":\"Bulgaria\",\"marker\":{\"color\":\"#FFA15A\",\"size\":[109435363328.0,109435363328.0],\"sizemode\":\"area\",\"sizeref\":9272450088.96,\"symbol\":\"circle\"},\"mode\":\"markers\",\"name\":\"Bulgaria\",\"orientation\":\"v\",\"showlegend\":true,\"x\":[4.875,4.875],\"xaxis\":\"x\",\"y\":[7543128.0,7543128.0],\"yaxis\":\"y\",\"type\":\"scatter\"},{\"hovertemplate\":\"<b>%{hovertext}</b><br><br>country=Hungary<br>year=2011<br>Renewables Share in Energy (%)=%{x}<br>Population (Millions)=%{y}<br>gdp=%{marker.size}<extra></extra>\",\"hovertext\":[\"Hungary\",\"Hungary\"],\"legendgroup\":\"Hungary\",\"marker\":{\"color\":\"#19d3f3\",\"size\":[208407609344.0,208407609344.0],\"sizemode\":\"area\",\"sizeref\":9272450088.96,\"symbol\":\"circle\"},\"mode\":\"markers\",\"name\":\"Hungary\",\"orientation\":\"v\",\"showlegend\":true,\"x\":[3.755,3.755],\"xaxis\":\"x\",\"y\":[9953247.0,9953247.0],\"yaxis\":\"y\",\"type\":\"scatter\"},{\"hovertemplate\":\"<b>%{hovertext}</b><br><br>country=Romania<br>year=2011<br>Renewables Share in Energy (%)=%{x}<br>Population (Millions)=%{y}<br>gdp=%{marker.size}<extra></extra>\",\"hovertext\":[\"Romania\",\"Romania\"],\"legendgroup\":\"Romania\",\"marker\":{\"color\":\"#FF6692\",\"size\":[350086823936.0,350086823936.0],\"sizemode\":\"area\",\"sizeref\":9272450088.96,\"symbol\":\"circle\"},\"mode\":\"markers\",\"name\":\"Romania\",\"orientation\":\"v\",\"showlegend\":true,\"x\":[11.572,11.572],\"xaxis\":\"x\",\"y\":[20220286.0,20220286.0],\"yaxis\":\"y\",\"type\":\"scatter\"}],\"name\":\"2011\"},{\"data\":[{\"hovertemplate\":\"<b>%{hovertext}</b><br><br>country=Germany<br>year=2012<br>Renewables Share in Energy (%)=%{x}<br>Population (Millions)=%{y}<br>gdp=%{marker.size}<extra></extra>\",\"hovertext\":[\"Germany\",\"Germany\"],\"legendgroup\":\"Germany\",\"marker\":{\"color\":\"#EF553B\",\"size\":[3482225475584.0,3482225475584.0],\"sizemode\":\"area\",\"sizeref\":9272450088.96,\"symbol\":\"circle\"},\"mode\":\"markers\",\"name\":\"Germany\",\"orientation\":\"v\",\"showlegend\":true,\"x\":[11.9,11.9],\"xaxis\":\"x\",\"y\":[81545568.0,81545568.0],\"yaxis\":\"y\",\"type\":\"scatter\"},{\"hovertemplate\":\"<b>%{hovertext}</b><br><br>country=Czechia<br>year=2012<br>Renewables Share in Energy (%)=%{x}<br>Population (Millions)=%{y}<br>gdp=%{marker.size}<extra></extra>\",\"hovertext\":[\"Czechia\",\"Czechia\"],\"legendgroup\":\"Czechia\",\"marker\":{\"color\":\"#00cc96\",\"size\":[276891959296.0,276891959296.0],\"sizemode\":\"area\",\"sizeref\":9272450088.96,\"symbol\":\"circle\"},\"mode\":\"markers\",\"name\":\"Czechia\",\"orientation\":\"v\",\"showlegend\":true,\"x\":[5.372,5.372],\"xaxis\":\"x\",\"y\":[10511065.0,10511065.0],\"yaxis\":\"y\",\"type\":\"scatter\"},{\"hovertemplate\":\"<b>%{hovertext}</b><br><br>country=Spain<br>year=2012<br>Renewables Share in Energy (%)=%{x}<br>Population (Millions)=%{y}<br>gdp=%{marker.size}<extra></extra>\",\"hovertext\":[\"Spain\",\"Spain\"],\"legendgroup\":\"Spain\",\"marker\":{\"color\":\"#ab63fa\",\"size\":[1433478627328.0,1433478627328.0],\"sizemode\":\"area\",\"sizeref\":9272450088.96,\"symbol\":\"circle\"},\"mode\":\"markers\",\"name\":\"Spain\",\"orientation\":\"v\",\"showlegend\":true,\"x\":[16.591,16.591],\"xaxis\":\"x\",\"y\":[46756084.0,46756084.0],\"yaxis\":\"y\",\"type\":\"scatter\"},{\"hovertemplate\":\"<b>%{hovertext}</b><br><br>country=Bulgaria<br>year=2012<br>Renewables Share in Energy (%)=%{x}<br>Population (Millions)=%{y}<br>gdp=%{marker.size}<extra></extra>\",\"hovertext\":[\"Bulgaria\",\"Bulgaria\"],\"legendgroup\":\"Bulgaria\",\"marker\":{\"color\":\"#FFA15A\",\"size\":[110261510144.0,110261510144.0],\"sizemode\":\"area\",\"sizeref\":9272450088.96,\"symbol\":\"circle\"},\"mode\":\"markers\",\"name\":\"Bulgaria\",\"orientation\":\"v\",\"showlegend\":true,\"x\":[7.207,7.207],\"xaxis\":\"x\",\"y\":[7488347.0,7488347.0],\"yaxis\":\"y\",\"type\":\"scatter\"},{\"hovertemplate\":\"<b>%{hovertext}</b><br><br>country=Hungary<br>year=2012<br>Renewables Share in Energy (%)=%{x}<br>Population (Millions)=%{y}<br>gdp=%{marker.size}<extra></extra>\",\"hovertext\":[\"Hungary\",\"Hungary\"],\"legendgroup\":\"Hungary\",\"marker\":{\"color\":\"#19d3f3\",\"size\":[205802045440.0,205802045440.0],\"sizemode\":\"area\",\"sizeref\":9272450088.96,\"symbol\":\"circle\"},\"mode\":\"markers\",\"name\":\"Hungary\",\"orientation\":\"v\",\"showlegend\":true,\"x\":[3.899,3.899],\"xaxis\":\"x\",\"y\":[9922133.0,9922133.0],\"yaxis\":\"y\",\"type\":\"scatter\"},{\"hovertemplate\":\"<b>%{hovertext}</b><br><br>country=Romania<br>year=2012<br>Renewables Share in Energy (%)=%{x}<br>Population (Millions)=%{y}<br>gdp=%{marker.size}<extra></extra>\",\"hovertext\":[\"Romania\",\"Romania\"],\"legendgroup\":\"Romania\",\"marker\":{\"color\":\"#FF6692\",\"size\":[356825923584.0,356825923584.0],\"sizemode\":\"area\",\"sizeref\":9272450088.96,\"symbol\":\"circle\"},\"mode\":\"markers\",\"name\":\"Romania\",\"orientation\":\"v\",\"showlegend\":true,\"x\":[10.943,10.943],\"xaxis\":\"x\",\"y\":[20137112.0,20137112.0],\"yaxis\":\"y\",\"type\":\"scatter\"}],\"name\":\"2012\"},{\"data\":[{\"hovertemplate\":\"<b>%{hovertext}</b><br><br>country=Germany<br>year=2013<br>Renewables Share in Energy (%)=%{x}<br>Population (Millions)=%{y}<br>gdp=%{marker.size}<extra></extra>\",\"hovertext\":[\"Germany\",\"Germany\"],\"legendgroup\":\"Germany\",\"marker\":{\"color\":\"#EF553B\",\"size\":[3497463119872.0,3497463119872.0],\"sizemode\":\"area\",\"sizeref\":9272450088.96,\"symbol\":\"circle\"},\"mode\":\"markers\",\"name\":\"Germany\",\"orientation\":\"v\",\"showlegend\":true,\"x\":[12.063,12.063],\"xaxis\":\"x\",\"y\":[81680592.0,81680592.0],\"yaxis\":\"y\",\"type\":\"scatter\"},{\"hovertemplate\":\"<b>%{hovertext}</b><br><br>country=Czechia<br>year=2013<br>Renewables Share in Energy (%)=%{x}<br>Population (Millions)=%{y}<br>gdp=%{marker.size}<extra></extra>\",\"hovertext\":[\"Czechia\",\"Czechia\"],\"legendgroup\":\"Czechia\",\"marker\":{\"color\":\"#00cc96\",\"size\":[276764852224.0,276764852224.0],\"sizemode\":\"area\",\"sizeref\":9272450088.96,\"symbol\":\"circle\"},\"mode\":\"markers\",\"name\":\"Czechia\",\"orientation\":\"v\",\"showlegend\":true,\"x\":[6.218,6.218],\"xaxis\":\"x\",\"y\":[10514547.0,10514547.0],\"yaxis\":\"y\",\"type\":\"scatter\"},{\"hovertemplate\":\"<b>%{hovertext}</b><br><br>country=Spain<br>year=2013<br>Renewables Share in Energy (%)=%{x}<br>Population (Millions)=%{y}<br>gdp=%{marker.size}<extra></extra>\",\"hovertext\":[\"Spain\",\"Spain\"],\"legendgroup\":\"Spain\",\"marker\":{\"color\":\"#ab63fa\",\"size\":[1413362089984.0,1413362089984.0],\"sizemode\":\"area\",\"sizeref\":9272450088.96,\"symbol\":\"circle\"},\"mode\":\"markers\",\"name\":\"Spain\",\"orientation\":\"v\",\"showlegend\":true,\"x\":[20.175,20.175],\"xaxis\":\"x\",\"y\":[46603460.0,46603460.0],\"yaxis\":\"y\",\"type\":\"scatter\"},{\"hovertemplate\":\"<b>%{hovertext}</b><br><br>country=Bulgaria<br>year=2013<br>Renewables Share in Energy (%)=%{x}<br>Population (Millions)=%{y}<br>gdp=%{marker.size}<extra></extra>\",\"hovertext\":[\"Bulgaria\",\"Bulgaria\"],\"legendgroup\":\"Bulgaria\",\"marker\":{\"color\":\"#FFA15A\",\"size\":[109643522048.0,109643522048.0],\"sizemode\":\"area\",\"sizeref\":9272450088.96,\"symbol\":\"circle\"},\"mode\":\"markers\",\"name\":\"Bulgaria\",\"orientation\":\"v\",\"showlegend\":true,\"x\":[10.177,10.177],\"xaxis\":\"x\",\"y\":[7431169.0,7431169.0],\"yaxis\":\"y\",\"type\":\"scatter\"},{\"hovertemplate\":\"<b>%{hovertext}</b><br><br>country=Hungary<br>year=2013<br>Renewables Share in Energy (%)=%{x}<br>Population (Millions)=%{y}<br>gdp=%{marker.size}<extra></extra>\",\"hovertext\":[\"Hungary\",\"Hungary\"],\"legendgroup\":\"Hungary\",\"marker\":{\"color\":\"#19d3f3\",\"size\":[209511661568.0,209511661568.0],\"sizemode\":\"area\",\"sizeref\":9272450088.96,\"symbol\":\"circle\"},\"mode\":\"markers\",\"name\":\"Hungary\",\"orientation\":\"v\",\"showlegend\":true,\"x\":[4.214,4.214],\"xaxis\":\"x\",\"y\":[9894637.0,9894637.0],\"yaxis\":\"y\",\"type\":\"scatter\"},{\"hovertemplate\":\"<b>%{hovertext}</b><br><br>country=Romania<br>year=2013<br>Renewables Share in Energy (%)=%{x}<br>Population (Millions)=%{y}<br>gdp=%{marker.size}<extra></extra>\",\"hovertext\":[\"Romania\",\"Romania\"],\"legendgroup\":\"Romania\",\"marker\":{\"color\":\"#FF6692\",\"size\":[357789270016.0,357789270016.0],\"sizemode\":\"area\",\"sizeref\":9272450088.96,\"symbol\":\"circle\"},\"mode\":\"markers\",\"name\":\"Romania\",\"orientation\":\"v\",\"showlegend\":true,\"x\":[15.251,15.251],\"xaxis\":\"x\",\"y\":[20066550.0,20066550.0],\"yaxis\":\"y\",\"type\":\"scatter\"}],\"name\":\"2013\"},{\"data\":[{\"hovertemplate\":\"<b>%{hovertext}</b><br><br>country=Germany<br>year=2014<br>Renewables Share in Energy (%)=%{x}<br>Population (Millions)=%{y}<br>gdp=%{marker.size}<extra></extra>\",\"hovertext\":[\"Germany\",\"Germany\"],\"legendgroup\":\"Germany\",\"marker\":{\"color\":\"#EF553B\",\"size\":[3574741336064.0,3574741336064.0],\"sizemode\":\"area\",\"sizeref\":9272450088.96,\"symbol\":\"circle\"},\"mode\":\"markers\",\"name\":\"Germany\",\"orientation\":\"v\",\"showlegend\":true,\"x\":[13.335,13.335],\"xaxis\":\"x\",\"y\":[81858824.0,81858824.0],\"yaxis\":\"y\",\"type\":\"scatter\"},{\"hovertemplate\":\"<b>%{hovertext}</b><br><br>country=Czechia<br>year=2014<br>Renewables Share in Energy (%)=%{x}<br>Population (Millions)=%{y}<br>gdp=%{marker.size}<extra></extra>\",\"hovertext\":[\"Czechia\",\"Czechia\"],\"legendgroup\":\"Czechia\",\"marker\":{\"color\":\"#00cc96\",\"size\":[283025539072.0,283025539072.0],\"sizemode\":\"area\",\"sizeref\":9272450088.96,\"symbol\":\"circle\"},\"mode\":\"markers\",\"name\":\"Czechia\",\"orientation\":\"v\",\"showlegend\":true,\"x\":[6.416,6.416],\"xaxis\":\"x\",\"y\":[10517178.0,10517178.0],\"yaxis\":\"y\",\"type\":\"scatter\"},{\"hovertemplate\":\"<b>%{hovertext}</b><br><br>country=Spain<br>year=2014<br>Renewables Share in Energy (%)=%{x}<br>Population (Millions)=%{y}<br>gdp=%{marker.size}<extra></extra>\",\"hovertext\":[\"Spain\",\"Spain\"],\"legendgroup\":\"Spain\",\"marker\":{\"color\":\"#ab63fa\",\"size\":[1433089474560.0,1433089474560.0],\"sizemode\":\"area\",\"sizeref\":9272450088.96,\"symbol\":\"circle\"},\"mode\":\"markers\",\"name\":\"Spain\",\"orientation\":\"v\",\"showlegend\":true,\"x\":[20.319,20.319],\"xaxis\":\"x\",\"y\":[46464548.0,46464548.0],\"yaxis\":\"y\",\"type\":\"scatter\"},{\"hovertemplate\":\"<b>%{hovertext}</b><br><br>country=Bulgaria<br>year=2014<br>Renewables Share in Energy (%)=%{x}<br>Population (Millions)=%{y}<br>gdp=%{marker.size}<extra></extra>\",\"hovertext\":[\"Bulgaria\",\"Bulgaria\"],\"legendgroup\":\"Bulgaria\",\"marker\":{\"color\":\"#FFA15A\",\"size\":[110703534080.0,110703534080.0],\"sizemode\":\"area\",\"sizeref\":9272450088.96,\"symbol\":\"circle\"},\"mode\":\"markers\",\"name\":\"Bulgaria\",\"orientation\":\"v\",\"showlegend\":true,\"x\":[10.105,10.105],\"xaxis\":\"x\",\"y\":[7372142.0,7372142.0],\"yaxis\":\"y\",\"type\":\"scatter\"},{\"hovertemplate\":\"<b>%{hovertext}</b><br><br>country=Hungary<br>year=2014<br>Renewables Share in Energy (%)=%{x}<br>Population (Millions)=%{y}<br>gdp=%{marker.size}<extra></extra>\",\"hovertext\":[\"Hungary\",\"Hungary\"],\"legendgroup\":\"Hungary\",\"marker\":{\"color\":\"#19d3f3\",\"size\":[218378633216.0,218378633216.0],\"sizemode\":\"area\",\"sizeref\":9272450088.96,\"symbol\":\"circle\"},\"mode\":\"markers\",\"name\":\"Hungary\",\"orientation\":\"v\",\"showlegend\":true,\"x\":[4.927,4.927],\"xaxis\":\"x\",\"y\":[9867906.0,9867906.0],\"yaxis\":\"y\",\"type\":\"scatter\"},{\"hovertemplate\":\"<b>%{hovertext}</b><br><br>country=Romania<br>year=2014<br>Renewables Share in Energy (%)=%{x}<br>Population (Millions)=%{y}<br>gdp=%{marker.size}<extra></extra>\",\"hovertext\":[\"Romania\",\"Romania\"],\"legendgroup\":\"Romania\",\"marker\":{\"color\":\"#FF6692\",\"size\":[372532510720.0,372532510720.0],\"sizemode\":\"area\",\"sizeref\":9272450088.96,\"symbol\":\"circle\"},\"mode\":\"markers\",\"name\":\"Romania\",\"orientation\":\"v\",\"showlegend\":true,\"x\":[18.37,18.37],\"xaxis\":\"x\",\"y\":[19995836.0,19995836.0],\"yaxis\":\"y\",\"type\":\"scatter\"},{\"hovertemplate\":\"<b>%{hovertext}</b><br><br>country=Slovenia<br>year=2014<br>Renewables Share in Energy (%)=%{x}<br>Population (Millions)=%{y}<br>gdp=%{marker.size}<extra></extra>\",\"hovertext\":[\"Slovenia\",\"Slovenia\"],\"legendgroup\":\"Slovenia\",\"marker\":{\"color\":\"#B6E880\",\"size\":[53237653504.0,53237653504.0],\"sizemode\":\"area\",\"sizeref\":9272450088.96,\"symbol\":\"circle\"},\"mode\":\"markers\",\"name\":\"Slovenia\",\"orientation\":\"v\",\"showlegend\":true,\"x\":[22.358,22.358],\"xaxis\":\"x\",\"y\":[2074923.0,2074923.0],\"yaxis\":\"y\",\"type\":\"scatter\"},{\"hovertemplate\":\"<b>%{hovertext}</b><br><br>country=Ukraine<br>year=2014<br>Renewables Share in Energy (%)=%{x}<br>Population (Millions)=%{y}<br>gdp=%{marker.size}<extra></extra>\",\"hovertext\":[\"Ukraine\",\"Ukraine\"],\"legendgroup\":\"Ukraine\",\"marker\":{\"color\":\"#FF97FF\",\"size\":[441233309696.0,441233309696.0],\"sizemode\":\"area\",\"sizeref\":9272450088.96,\"symbol\":\"circle\"},\"mode\":\"markers\",\"name\":\"Ukraine\",\"orientation\":\"v\",\"showlegend\":true,\"x\":[2.324,2.324],\"xaxis\":\"x\",\"y\":[45148072.0,45148072.0],\"yaxis\":\"y\",\"type\":\"scatter\"}],\"name\":\"2014\"},{\"data\":[{\"hovertemplate\":\"<b>%{hovertext}</b><br><br>country=Germany<br>year=2015<br>Renewables Share in Energy (%)=%{x}<br>Population (Millions)=%{y}<br>gdp=%{marker.size}<extra></extra>\",\"hovertext\":[\"Germany\",\"Germany\"],\"legendgroup\":\"Germany\",\"marker\":{\"color\":\"#EF553B\",\"size\":[3628073746432.0,3628073746432.0],\"sizemode\":\"area\",\"sizeref\":9272450088.96,\"symbol\":\"circle\"},\"mode\":\"markers\",\"name\":\"Germany\",\"orientation\":\"v\",\"showlegend\":true,\"x\":[14.878,14.878],\"xaxis\":\"x\",\"y\":[82073232.0,82073232.0],\"yaxis\":\"y\",\"type\":\"scatter\"},{\"hovertemplate\":\"<b>%{hovertext}</b><br><br>country=Czechia<br>year=2015<br>Renewables Share in Energy (%)=%{x}<br>Population (Millions)=%{y}<br>gdp=%{marker.size}<extra></extra>\",\"hovertext\":[\"Czechia\",\"Czechia\"],\"legendgroup\":\"Czechia\",\"marker\":{\"color\":\"#00cc96\",\"size\":[298276061184.0,298276061184.0],\"sizemode\":\"area\",\"sizeref\":9272450088.96,\"symbol\":\"circle\"},\"mode\":\"markers\",\"name\":\"Czechia\",\"orientation\":\"v\",\"showlegend\":true,\"x\":[6.633,6.633],\"xaxis\":\"x\",\"y\":[10523801.0,10523801.0],\"yaxis\":\"y\",\"type\":\"scatter\"},{\"hovertemplate\":\"<b>%{hovertext}</b><br><br>country=Spain<br>year=2015<br>Renewables Share in Energy (%)=%{x}<br>Population (Millions)=%{y}<br>gdp=%{marker.size}<extra></extra>\",\"hovertext\":[\"Spain\",\"Spain\"],\"legendgroup\":\"Spain\",\"marker\":{\"color\":\"#ab63fa\",\"size\":[1488098820096.0,1488098820096.0],\"sizemode\":\"area\",\"sizeref\":9272450088.96,\"symbol\":\"circle\"},\"mode\":\"markers\",\"name\":\"Spain\",\"orientation\":\"v\",\"showlegend\":true,\"x\":[17.743,17.743],\"xaxis\":\"x\",\"y\":[46431344.0,46431344.0],\"yaxis\":\"y\",\"type\":\"scatter\"},{\"hovertemplate\":\"<b>%{hovertext}</b><br><br>country=Bulgaria<br>year=2015<br>Renewables Share in Energy (%)=%{x}<br>Population (Millions)=%{y}<br>gdp=%{marker.size}<extra></extra>\",\"hovertext\":[\"Bulgaria\",\"Bulgaria\"],\"legendgroup\":\"Bulgaria\",\"marker\":{\"color\":\"#FFA15A\",\"size\":[114498609152.0,114498609152.0],\"sizemode\":\"area\",\"sizeref\":9272450088.96,\"symbol\":\"circle\"},\"mode\":\"markers\",\"name\":\"Bulgaria\",\"orientation\":\"v\",\"showlegend\":true,\"x\":[11.299,11.299],\"xaxis\":\"x\",\"y\":[7309255.0,7309255.0],\"yaxis\":\"y\",\"type\":\"scatter\"},{\"hovertemplate\":\"<b>%{hovertext}</b><br><br>country=Hungary<br>year=2015<br>Renewables Share in Energy (%)=%{x}<br>Population (Millions)=%{y}<br>gdp=%{marker.size}<extra></extra>\",\"hovertext\":[\"Hungary\",\"Hungary\"],\"legendgroup\":\"Hungary\",\"marker\":{\"color\":\"#19d3f3\",\"size\":[226474622976.0,226474622976.0],\"sizemode\":\"area\",\"sizeref\":9272450088.96,\"symbol\":\"circle\"},\"mode\":\"markers\",\"name\":\"Hungary\",\"orientation\":\"v\",\"showlegend\":true,\"x\":[4.698,4.698],\"xaxis\":\"x\",\"y\":[9844250.0,9844250.0],\"yaxis\":\"y\",\"type\":\"scatter\"},{\"hovertemplate\":\"<b>%{hovertext}</b><br><br>country=Romania<br>year=2015<br>Renewables Share in Energy (%)=%{x}<br>Population (Millions)=%{y}<br>gdp=%{marker.size}<extra></extra>\",\"hovertext\":[\"Romania\",\"Romania\"],\"legendgroup\":\"Romania\",\"marker\":{\"color\":\"#FF6692\",\"size\":[384306446336.0,384306446336.0],\"sizemode\":\"area\",\"sizeref\":9272450088.96,\"symbol\":\"circle\"},\"mode\":\"markers\",\"name\":\"Romania\",\"orientation\":\"v\",\"showlegend\":true,\"x\":[19.064,19.064],\"xaxis\":\"x\",\"y\":[19906078.0,19906078.0],\"yaxis\":\"y\",\"type\":\"scatter\"},{\"hovertemplate\":\"<b>%{hovertext}</b><br><br>country=Slovenia<br>year=2015<br>Renewables Share in Energy (%)=%{x}<br>Population (Millions)=%{y}<br>gdp=%{marker.size}<extra></extra>\",\"hovertext\":[\"Slovenia\",\"Slovenia\"],\"legendgroup\":\"Slovenia\",\"marker\":{\"color\":\"#B6E880\",\"size\":[54414237696.0,54414237696.0],\"sizemode\":\"area\",\"sizeref\":9272450088.96,\"symbol\":\"circle\"},\"mode\":\"markers\",\"name\":\"Slovenia\",\"orientation\":\"v\",\"showlegend\":true,\"x\":[16.322,16.322],\"xaxis\":\"x\",\"y\":[2080865.0,2080865.0],\"yaxis\":\"y\",\"type\":\"scatter\"},{\"hovertemplate\":\"<b>%{hovertext}</b><br><br>country=Ukraine<br>year=2015<br>Renewables Share in Energy (%)=%{x}<br>Population (Millions)=%{y}<br>gdp=%{marker.size}<extra></extra>\",\"hovertext\":[\"Ukraine\",\"Ukraine\"],\"legendgroup\":\"Ukraine\",\"marker\":{\"color\":\"#FF97FF\",\"size\":[398045413376.0,398045413376.0],\"sizemode\":\"area\",\"sizeref\":9272450088.96,\"symbol\":\"circle\"},\"mode\":\"markers\",\"name\":\"Ukraine\",\"orientation\":\"v\",\"showlegend\":true,\"x\":[1.953,1.953],\"xaxis\":\"x\",\"y\":[44982568.0,44982568.0],\"yaxis\":\"y\",\"type\":\"scatter\"}],\"name\":\"2015\"},{\"data\":[{\"hovertemplate\":\"<b>%{hovertext}</b><br><br>country=Germany<br>year=2016<br>Renewables Share in Energy (%)=%{x}<br>Population (Millions)=%{y}<br>gdp=%{marker.size}<extra></extra>\",\"hovertext\":[\"Germany\",\"Germany\"],\"legendgroup\":\"Germany\",\"marker\":{\"color\":\"#EF553B\",\"size\":[3708980035584.0,3708980035584.0],\"sizemode\":\"area\",\"sizeref\":9272450088.96,\"symbol\":\"circle\"},\"mode\":\"markers\",\"name\":\"Germany\",\"orientation\":\"v\",\"showlegend\":true,\"x\":[14.666,14.666],\"xaxis\":\"x\",\"y\":[82331432.0,82331432.0],\"yaxis\":\"y\",\"type\":\"scatter\"},{\"hovertemplate\":\"<b>%{hovertext}</b><br><br>country=Czechia<br>year=2016<br>Renewables Share in Energy (%)=%{x}<br>Population (Millions)=%{y}<br>gdp=%{marker.size}<extra></extra>\",\"hovertext\":[\"Czechia\",\"Czechia\"],\"legendgroup\":\"Czechia\",\"marker\":{\"color\":\"#00cc96\",\"size\":[305844158464.0,305844158464.0],\"sizemode\":\"area\",\"sizeref\":9272450088.96,\"symbol\":\"circle\"},\"mode\":\"markers\",\"name\":\"Czechia\",\"orientation\":\"v\",\"showlegend\":true,\"x\":[6.701,6.701],\"xaxis\":\"x\",\"y\":[10527584.0,10527584.0],\"yaxis\":\"y\",\"type\":\"scatter\"},{\"hovertemplate\":\"<b>%{hovertext}</b><br><br>country=Spain<br>year=2016<br>Renewables Share in Energy (%)=%{x}<br>Population (Millions)=%{y}<br>gdp=%{marker.size}<extra></extra>\",\"hovertext\":[\"Spain\",\"Spain\"],\"legendgroup\":\"Spain\",\"marker\":{\"color\":\"#ab63fa\",\"size\":[1533303980032.0,1533303980032.0],\"sizemode\":\"area\",\"sizeref\":9272450088.96,\"symbol\":\"circle\"},\"mode\":\"markers\",\"name\":\"Spain\",\"orientation\":\"v\",\"showlegend\":true,\"x\":[18.941,18.941],\"xaxis\":\"x\",\"y\":[46473320.0,46473320.0],\"yaxis\":\"y\",\"type\":\"scatter\"},{\"hovertemplate\":\"<b>%{hovertext}</b><br><br>country=Bulgaria<br>year=2016<br>Renewables Share in Energy (%)=%{x}<br>Population (Millions)=%{y}<br>gdp=%{marker.size}<extra></extra>\",\"hovertext\":[\"Bulgaria\",\"Bulgaria\"],\"legendgroup\":\"Bulgaria\",\"marker\":{\"color\":\"#FFA15A\",\"size\":[117979078656.0,117979078656.0],\"sizemode\":\"area\",\"sizeref\":9272450088.96,\"symbol\":\"circle\"},\"mode\":\"markers\",\"name\":\"Bulgaria\",\"orientation\":\"v\",\"showlegend\":true,\"x\":[9.809,9.809],\"xaxis\":\"x\",\"y\":[7245982.0,7245982.0],\"yaxis\":\"y\",\"type\":\"scatter\"},{\"hovertemplate\":\"<b>%{hovertext}</b><br><br>country=Hungary<br>year=2016<br>Renewables Share in Energy (%)=%{x}<br>Population (Millions)=%{y}<br>gdp=%{marker.size}<extra></extra>\",\"hovertext\":[\"Hungary\",\"Hungary\"],\"legendgroup\":\"Hungary\",\"marker\":{\"color\":\"#19d3f3\",\"size\":[231459340288.0,231459340288.0],\"sizemode\":\"area\",\"sizeref\":9272450088.96,\"symbol\":\"circle\"},\"mode\":\"markers\",\"name\":\"Hungary\",\"orientation\":\"v\",\"showlegend\":true,\"x\":[4.676,4.676],\"xaxis\":\"x\",\"y\":[9815106.0,9815106.0],\"yaxis\":\"y\",\"type\":\"scatter\"},{\"hovertemplate\":\"<b>%{hovertext}</b><br><br>country=Romania<br>year=2016<br>Renewables Share in Energy (%)=%{x}<br>Population (Millions)=%{y}<br>gdp=%{marker.size}<extra></extra>\",\"hovertext\":[\"Romania\",\"Romania\"],\"legendgroup\":\"Romania\",\"marker\":{\"color\":\"#FF6692\",\"size\":[395288248320.0,395288248320.0],\"sizemode\":\"area\",\"sizeref\":9272450088.96,\"symbol\":\"circle\"},\"mode\":\"markers\",\"name\":\"Romania\",\"orientation\":\"v\",\"showlegend\":true,\"x\":[19.769,19.769],\"xaxis\":\"x\",\"y\":[19797820.0,19797820.0],\"yaxis\":\"y\",\"type\":\"scatter\"},{\"hovertemplate\":\"<b>%{hovertext}</b><br><br>country=Slovenia<br>year=2016<br>Renewables Share in Energy (%)=%{x}<br>Population (Millions)=%{y}<br>gdp=%{marker.size}<extra></extra>\",\"hovertext\":[\"Slovenia\",\"Slovenia\"],\"legendgroup\":\"Slovenia\",\"marker\":{\"color\":\"#B6E880\",\"size\":[56151179264.0,56151179264.0],\"sizemode\":\"area\",\"sizeref\":9272450088.96,\"symbol\":\"circle\"},\"mode\":\"markers\",\"name\":\"Slovenia\",\"orientation\":\"v\",\"showlegend\":true,\"x\":[17.403,17.403],\"xaxis\":\"x\",\"y\":[2090020.0,2090020.0],\"yaxis\":\"y\",\"type\":\"scatter\"},{\"hovertemplate\":\"<b>%{hovertext}</b><br><br>country=Ukraine<br>year=2016<br>Renewables Share in Energy (%)=%{x}<br>Population (Millions)=%{y}<br>gdp=%{marker.size}<extra></extra>\",\"hovertext\":[\"Ukraine\",\"Ukraine\"],\"legendgroup\":\"Ukraine\",\"marker\":{\"color\":\"#FF97FF\",\"size\":[407666196480.0,407666196480.0],\"sizemode\":\"area\",\"sizeref\":9272450088.96,\"symbol\":\"circle\"},\"mode\":\"markers\",\"name\":\"Ukraine\",\"orientation\":\"v\",\"showlegend\":true,\"x\":[2.408,2.408],\"xaxis\":\"x\",\"y\":[44833568.0,44833568.0],\"yaxis\":\"y\",\"type\":\"scatter\"}],\"name\":\"2016\"},{\"data\":[{\"hovertemplate\":\"<b>%{hovertext}</b><br><br>country=Romania<br>year=2017<br>Renewables Share in Energy (%)=%{x}<br>Population (Millions)=%{y}<br>gdp=%{marker.size}<extra></extra>\",\"hovertext\":[\"Romania\",\"Romania\"],\"legendgroup\":\"Romania\",\"marker\":{\"color\":\"#FF6692\",\"size\":[456012365824.0,456012365824.0],\"sizemode\":\"area\",\"sizeref\":9272450088.96,\"symbol\":\"circle\"},\"mode\":\"markers\",\"name\":\"Romania\",\"orientation\":\"v\",\"showlegend\":true,\"x\":[17.551,17.551],\"xaxis\":\"x\",\"y\":[19698852.0,19698852.0],\"yaxis\":\"y\",\"type\":\"scatter\"}],\"name\":\"2017\"},{\"data\":[{\"hovertemplate\":\"<b>%{hovertext}</b><br><br>country=Romania<br>year=2018<br>Renewables Share in Energy (%)=%{x}<br>Population (Millions)=%{y}<br>gdp=%{marker.size}<extra></extra>\",\"hovertext\":[\"Romania\",\"Romania\"],\"legendgroup\":\"Romania\",\"marker\":{\"color\":\"#FF6692\",\"size\":[473122635776.0,473122635776.0],\"sizemode\":\"area\",\"sizeref\":9272450088.96,\"symbol\":\"circle\"},\"mode\":\"markers\",\"name\":\"Romania\",\"orientation\":\"v\",\"showlegend\":true,\"x\":[18.608,18.608],\"xaxis\":\"x\",\"y\":[19606778.0,19606778.0],\"yaxis\":\"y\",\"type\":\"scatter\"}],\"name\":\"2018\"},{\"data\":[{\"hovertemplate\":\"<b>%{hovertext}</b><br><br>country=Romania<br>year=2019<br>Renewables Share in Energy (%)=%{x}<br>Population (Millions)=%{y}<br>gdp=%{marker.size}<extra></extra>\",\"hovertext\":[\"Romania\",\"Romania\"],\"legendgroup\":\"Romania\",\"marker\":{\"color\":\"#FF6692\",\"size\":[456564506624.0,456564506624.0],\"sizemode\":\"area\",\"sizeref\":9272450088.96,\"symbol\":\"circle\"},\"mode\":\"markers\",\"name\":\"Romania\",\"orientation\":\"v\",\"showlegend\":true,\"x\":[18.113,18.113],\"xaxis\":\"x\",\"y\":[19524212.0,19524212.0],\"yaxis\":\"y\",\"type\":\"scatter\"}],\"name\":\"2019\"},{\"data\":[{\"hovertemplate\":\"<b>%{hovertext}</b><br><br>country=Romania<br>year=2020<br>Renewables Share in Energy (%)=%{x}<br>Population (Millions)=%{y}<br>gdp=%{marker.size}<extra></extra>\",\"hovertext\":[\"Romania\",\"Romania\"],\"legendgroup\":\"Romania\",\"marker\":{\"color\":\"#FF6692\",\"size\":[483499376640.0,483499376640.0],\"sizemode\":\"area\",\"sizeref\":9272450088.96,\"symbol\":\"circle\"},\"mode\":\"markers\",\"name\":\"Romania\",\"orientation\":\"v\",\"showlegend\":true,\"x\":[18.934,18.934],\"xaxis\":\"x\",\"y\":[19442040.0,19442040.0],\"yaxis\":\"y\",\"type\":\"scatter\"}],\"name\":\"2020\"},{\"data\":[{\"hovertemplate\":\"<b>%{hovertext}</b><br><br>country=Romania<br>year=2021<br>Renewables Share in Energy (%)=%{x}<br>Population (Millions)=%{y}<br>gdp=%{marker.size}<extra></extra>\",\"hovertext\":[\"Romania\",\"Romania\"],\"legendgroup\":\"Romania\",\"marker\":{\"color\":\"#FF6692\",\"size\":[505119539200.0,505119539200.0],\"sizemode\":\"area\",\"sizeref\":9272450088.96,\"symbol\":\"circle\"},\"mode\":\"markers\",\"name\":\"Romania\",\"orientation\":\"v\",\"showlegend\":true,\"x\":[18.965,18.965],\"xaxis\":\"x\",\"y\":[19328558.0,19328558.0],\"yaxis\":\"y\",\"type\":\"scatter\"}],\"name\":\"2021\"}]);\n",
       "                        }).then(function(){\n",
       "                            \n",
       "var gd = document.getElementById('d0b993de-964c-47ed-b078-248b856c9f6e');\n",
       "var x = new MutationObserver(function (mutations, observer) {{\n",
       "        var display = window.getComputedStyle(gd).display;\n",
       "        if (!display || display === 'none') {{\n",
       "            console.log([gd, 'removed!']);\n",
       "            Plotly.purge(gd);\n",
       "            observer.disconnect();\n",
       "        }}\n",
       "}});\n",
       "\n",
       "// Listen for the removal of the full notebook cells\n",
       "var notebookContainer = gd.closest('#notebook-container');\n",
       "if (notebookContainer) {{\n",
       "    x.observe(notebookContainer, {childList: true});\n",
       "}}\n",
       "\n",
       "// Listen for the clearing of the current output cell\n",
       "var outputEl = gd.closest('.output');\n",
       "if (outputEl) {{\n",
       "    x.observe(outputEl, {childList: true});\n",
       "}}\n",
       "\n",
       "                        })                };                });            </script>        </div>"
      ]
     },
     "metadata": {},
     "output_type": "display_data"
    }
   ],
   "source": [
    "# Bubble Chart: Population vs Renewable Energy Share\n",
    "\n",
    "fig = px.scatter(\n",
    "    df,\n",
    "    x='renewables_share_energy',  # Share of renewables in energy\n",
    "    y='population',  # Population\n",
    "    size='gdp',  # Bubble size based on GDP\n",
    "    color='country',  # Color bubbles by country\n",
    "    animation_frame='year',  # Animate over years\n",
    "    title='Population vs Renewable Energy Share',\n",
    "    labels={'renewables_share_energy': 'Renewables Share in Energy (%)', 'population': 'Population (Millions)'},\n",
    "    hover_name='country'\n",
    ")\n",
    "\n",
    "fig.update_layout(\n",
    "    template='plotly_white',\n",
    "    xaxis_title=\"Renewables Share in Energy (%)\",\n",
    "    yaxis_title=\"Population (Millions)\",\n",
    "    legend_title=\"Country\"\n",
    ")\n",
    "\n",
    "fig.show()\n"
   ]
  },
  {
   "cell_type": "code",
   "execution_count": 50,
   "id": "cfdaadf1",
   "metadata": {},
   "outputs": [
    {
     "data": {
      "application/vnd.plotly.v1+json": {
       "config": {
        "plotlyServerURL": "https://plot.ly"
       },
       "data": [
        {
         "coloraxis": "coloraxis",
         "hovertemplate": "year=2000<br>GDP (Billion USD)=%{x}<br>Energy Consumption (TWh)=%{y}<br>count=%{z}<extra></extra>",
         "name": "",
         "nbinsx": 20,
         "nbinsy": 20,
         "type": "histogram2d",
         "x": [
          2031676030976,
          2031676030976,
          2718560681984,
          2718560681984
         ],
         "xaxis": "x",
         "xbingroup": "x",
         "y": [
          3117.909,
          3117.909,
          3988.179,
          3988.179
         ],
         "yaxis": "y",
         "ybingroup": "y"
        }
       ],
       "frames": [
        {
         "data": [
          {
           "coloraxis": "coloraxis",
           "hovertemplate": "year=2000<br>GDP (Billion USD)=%{x}<br>Energy Consumption (TWh)=%{y}<br>count=%{z}<extra></extra>",
           "name": "",
           "nbinsx": 20,
           "nbinsy": 20,
           "type": "histogram2d",
           "x": [
            2031676030976,
            2031676030976,
            2718560681984,
            2718560681984
           ],
           "xaxis": "x",
           "xbingroup": "x",
           "y": [
            3117.909,
            3117.909,
            3988.179,
            3988.179
           ],
           "yaxis": "y",
           "ybingroup": "y"
          }
         ],
         "name": "2000"
        },
        {
         "data": [
          {
           "coloraxis": "coloraxis",
           "hovertemplate": "year=2001<br>GDP (Billion USD)=%{x}<br>Energy Consumption (TWh)=%{y}<br>count=%{z}<extra></extra>",
           "name": "",
           "nbinsx": 20,
           "nbinsy": 20,
           "type": "histogram2d",
           "x": [
            2077786767360,
            2077786767360
           ],
           "xaxis": "x",
           "xbingroup": "x",
           "y": [
            3143.046,
            3143.046
           ],
           "yaxis": "y",
           "ybingroup": "y"
          }
         ],
         "name": "2001"
        },
        {
         "data": [
          {
           "coloraxis": "coloraxis",
           "hovertemplate": "year=2002<br>GDP (Billion USD)=%{x}<br>Energy Consumption (TWh)=%{y}<br>count=%{z}<extra></extra>",
           "name": "",
           "nbinsx": 20,
           "nbinsy": 20,
           "type": "histogram2d",
           "x": [
            2107316502528,
            2107316502528,
            2822441533440,
            2822441533440
           ],
           "xaxis": "x",
           "xbingroup": "x",
           "y": [
            3118.919,
            3118.919,
            4011.723,
            4011.723
           ],
           "yaxis": "y",
           "ybingroup": "y"
          }
         ],
         "name": "2002"
        },
        {
         "data": [
          {
           "coloraxis": "coloraxis",
           "hovertemplate": "year=2003<br>GDP (Billion USD)=%{x}<br>Energy Consumption (TWh)=%{y}<br>count=%{z}<extra></extra>",
           "name": "",
           "nbinsx": 20,
           "nbinsy": 20,
           "type": "histogram2d",
           "x": [
            2130940657664,
            2130940657664,
            2831676080128,
            2831676080128
           ],
           "xaxis": "x",
           "xbingroup": "x",
           "y": [
            3153.042,
            3153.042,
            4010.471,
            4010.471
           ],
           "yaxis": "y",
           "ybingroup": "y"
          }
         ],
         "name": "2003"
        },
        {
         "data": [
          {
           "coloraxis": "coloraxis",
           "hovertemplate": "year=2004<br>GDP (Billion USD)=%{x}<br>Energy Consumption (TWh)=%{y}<br>count=%{z}<extra></extra>",
           "name": "",
           "nbinsx": 20,
           "nbinsy": 20,
           "type": "histogram2d",
           "x": [
            2196883505152,
            2196883505152,
            2894624980992,
            2894624980992
           ],
           "xaxis": "x",
           "xbingroup": "x",
           "y": [
            3180.13,
            3180.13,
            4009.893,
            4009.893
           ],
           "yaxis": "y",
           "ybingroup": "y"
          }
         ],
         "name": "2004"
        },
        {
         "data": [
          {
           "coloraxis": "coloraxis",
           "hovertemplate": "year=2005<br>GDP (Billion USD)=%{x}<br>Energy Consumption (TWh)=%{y}<br>count=%{z}<extra></extra>",
           "name": "",
           "nbinsx": 20,
           "nbinsy": 20,
           "type": "histogram2d",
           "x": [
            225302577152,
            225302577152,
            2238790500352,
            2238790500352,
            2945460994048,
            2945460994048
           ],
           "xaxis": "x",
           "xbingroup": "x",
           "y": [
            519.632,
            519.632,
            3154.079,
            3154.079,
            3962.635,
            3962.635
           ],
           "yaxis": "y",
           "ybingroup": "y"
          }
         ],
         "name": "2005"
        },
        {
         "data": [
          {
           "coloraxis": "coloraxis",
           "hovertemplate": "year=2006<br>GDP (Billion USD)=%{x}<br>Energy Consumption (TWh)=%{y}<br>count=%{z}<extra></extra>",
           "name": "",
           "nbinsx": 20,
           "nbinsy": 20,
           "type": "histogram2d",
           "x": [
            243991789568,
            243991789568,
            3086359199744,
            3086359199744
           ],
           "xaxis": "x",
           "xbingroup": "x",
           "y": [
            529.455,
            529.455,
            4062.387,
            4062.387
           ],
           "yaxis": "y",
           "ybingroup": "y"
          }
         ],
         "name": "2006"
        },
        {
         "data": [
          {
           "coloraxis": "coloraxis",
           "hovertemplate": "year=2007<br>GDP (Billion USD)=%{x}<br>Energy Consumption (TWh)=%{y}<br>count=%{z}<extra></extra>",
           "name": "",
           "nbinsx": 20,
           "nbinsy": 20,
           "type": "histogram2d",
           "x": [
            260673044480,
            260673044480,
            3220275724288,
            3220275724288
           ],
           "xaxis": "x",
           "xbingroup": "x",
           "y": [
            523.705,
            523.705,
            3893.423,
            3893.423
           ],
           "yaxis": "y",
           "ybingroup": "y"
          }
         ],
         "name": "2007"
        },
        {
         "data": [
          {
           "coloraxis": "coloraxis",
           "hovertemplate": "year=2008<br>GDP (Billion USD)=%{x}<br>Energy Consumption (TWh)=%{y}<br>count=%{z}<extra></extra>",
           "name": "",
           "nbinsx": 20,
           "nbinsy": 20,
           "type": "histogram2d",
           "x": [
            271709536256,
            271709536256,
            3289020366848,
            3289020366848,
            1510615285760,
            1510615285760
           ],
           "xaxis": "x",
           "xbingroup": "x",
           "y": [
            513.619,
            513.619,
            3934.666,
            3934.666,
            1774.594,
            1774.594
           ],
           "yaxis": "y",
           "ybingroup": "y"
          }
         ],
         "name": "2008"
        },
        {
         "data": [
          {
           "coloraxis": "coloraxis",
           "hovertemplate": "year=2009<br>GDP (Billion USD)=%{x}<br>Energy Consumption (TWh)=%{y}<br>count=%{z}<extra></extra>",
           "name": "",
           "nbinsx": 20,
           "nbinsy": 20,
           "type": "histogram2d",
           "x": [
            107365072896,
            107365072896,
            261919703040,
            261919703040,
            3136502104064,
            3136502104064,
            195180904448,
            195180904448,
            1468765831168,
            1468765831168
           ],
           "xaxis": "x",
           "xbingroup": "x",
           "y": [
            202.106,
            202.106,
            492.811,
            492.811,
            3692.178,
            3692.178,
            272.688,
            272.688,
            1652.099,
            1652.099
           ],
           "yaxis": "y",
           "ybingroup": "y"
          }
         ],
         "name": "2009"
        },
        {
         "data": [
          {
           "coloraxis": "coloraxis",
           "hovertemplate": "year=2010<br>GDP (Billion USD)=%{x}<br>Energy Consumption (TWh)=%{y}<br>count=%{z}<extra></extra>",
           "name": "",
           "nbinsx": 20,
           "nbinsy": 20,
           "type": "histogram2d",
           "x": [
            109045211136,
            109045211136,
            271231975424,
            271231975424,
            3301123031040,
            3301123031040,
            200496578560,
            200496578560,
            335489564672,
            335489564672,
            1480376320000,
            1480376320000
           ],
           "xaxis": "x",
           "xbingroup": "x",
           "y": [
            211.471,
            211.471,
            513.649,
            513.649,
            3847.151,
            3847.151,
            277.827,
            277.827,
            396.424,
            396.424,
            1692.348,
            1692.348
           ],
           "yaxis": "y",
           "ybingroup": "y"
          }
         ],
         "name": "2010"
        },
        {
         "data": [
          {
           "coloraxis": "coloraxis",
           "hovertemplate": "year=2011<br>GDP (Billion USD)=%{x}<br>Energy Consumption (TWh)=%{y}<br>count=%{z}<extra></extra>",
           "name": "",
           "nbinsx": 20,
           "nbinsy": 20,
           "type": "histogram2d",
           "x": [
            109435363328,
            109435363328,
            279082762240,
            279082762240,
            3467712921600,
            3467712921600,
            208407609344,
            208407609344,
            350086823936,
            350086823936,
            1477187469312,
            1477187469312
           ],
           "xaxis": "x",
           "xbingroup": "x",
           "y": [
            224.607,
            224.607,
            501.976,
            501.976,
            3710.584,
            3710.584,
            269.464,
            269.464,
            408.341,
            408.341,
            1661.356,
            1661.356
           ],
           "yaxis": "y",
           "ybingroup": "y"
          }
         ],
         "name": "2011"
        },
        {
         "data": [
          {
           "coloraxis": "coloraxis",
           "hovertemplate": "year=2012<br>GDP (Billion USD)=%{x}<br>Energy Consumption (TWh)=%{y}<br>count=%{z}<extra></extra>",
           "name": "",
           "nbinsx": 20,
           "nbinsy": 20,
           "type": "histogram2d",
           "x": [
            110261510144,
            110261510144,
            276891959296,
            276891959296,
            3482225475584,
            3482225475584,
            205802045440,
            205802045440,
            356825923584,
            356825923584,
            1433478627328,
            1433478627328
           ],
           "xaxis": "x",
           "xbingroup": "x",
           "y": [
            213.428,
            213.428,
            499.438,
            499.438,
            3761.916,
            3761.916,
            251.116,
            251.116,
            393.332,
            393.332,
            1647.511,
            1647.511
           ],
           "yaxis": "y",
           "ybingroup": "y"
          }
         ],
         "name": "2012"
        },
        {
         "data": [
          {
           "coloraxis": "coloraxis",
           "hovertemplate": "year=2013<br>GDP (Billion USD)=%{x}<br>Energy Consumption (TWh)=%{y}<br>count=%{z}<extra></extra>",
           "name": "",
           "nbinsx": 20,
           "nbinsy": 20,
           "type": "histogram2d",
           "x": [
            109643522048,
            109643522048,
            276764852224,
            276764852224,
            3497463119872,
            3497463119872,
            209511661568,
            209511661568,
            357789270016,
            357789270016,
            1413362089984,
            1413362089984
           ],
           "xaxis": "x",
           "xbingroup": "x",
           "y": [
            198.108,
            198.108,
            490.221,
            490.221,
            3868.517,
            3868.517,
            238.041,
            238.041,
            369.577,
            369.577,
            1578.531,
            1578.531
           ],
           "yaxis": "y",
           "ybingroup": "y"
          }
         ],
         "name": "2013"
        },
        {
         "data": [
          {
           "coloraxis": "coloraxis",
           "hovertemplate": "year=2014<br>GDP (Billion USD)=%{x}<br>Energy Consumption (TWh)=%{y}<br>count=%{z}<extra></extra>",
           "name": "",
           "nbinsx": 20,
           "nbinsy": 20,
           "type": "histogram2d",
           "x": [
            110703534080,
            110703534080,
            283025539072,
            283025539072,
            3574741336064,
            3574741336064,
            218378633216,
            218378633216,
            372532510720,
            372532510720,
            53237653504,
            53237653504,
            1433089474560,
            1433089474560,
            441233309696,
            441233309696
           ],
           "xaxis": "x",
           "xbingroup": "x",
           "y": [
            211.55,
            211.55,
            479.937,
            479.937,
            3710.465,
            3710.465,
            238.269,
            238.269,
            379.116,
            379.116,
            82.861,
            82.861,
            1554.219,
            1554.219,
            1208.371,
            1208.371
           ],
           "yaxis": "y",
           "ybingroup": "y"
          }
         ],
         "name": "2014"
        },
        {
         "data": [
          {
           "coloraxis": "coloraxis",
           "hovertemplate": "year=2015<br>GDP (Billion USD)=%{x}<br>Energy Consumption (TWh)=%{y}<br>count=%{z}<extra></extra>",
           "name": "",
           "nbinsx": 20,
           "nbinsy": 20,
           "type": "histogram2d",
           "x": [
            114498609152,
            114498609152,
            298276061184,
            298276061184,
            3628073746432,
            3628073746432,
            226474622976,
            226474622976,
            384306446336,
            384306446336,
            54414237696,
            54414237696,
            1488098820096,
            1488098820096,
            398045413376,
            398045413376
           ],
           "xaxis": "x",
           "xbingroup": "x",
           "y": [
            224.68,
            224.68,
            470.716,
            470.716,
            3780.86,
            3780.86,
            251.04,
            251.04,
            381.136,
            381.136,
            74.716,
            74.716,
            1573.144,
            1573.144,
            1003.408,
            1003.408
           ],
           "yaxis": "y",
           "ybingroup": "y"
          }
         ],
         "name": "2015"
        },
        {
         "data": [
          {
           "coloraxis": "coloraxis",
           "hovertemplate": "year=2016<br>GDP (Billion USD)=%{x}<br>Energy Consumption (TWh)=%{y}<br>count=%{z}<extra></extra>",
           "name": "",
           "nbinsx": 20,
           "nbinsy": 20,
           "type": "histogram2d",
           "x": [
            117979078656,
            117979078656,
            305844158464,
            305844158464,
            3708980035584,
            3708980035584,
            231459340288,
            231459340288,
            395288248320,
            395288248320,
            56151179264,
            56151179264,
            1533303980032,
            1533303980032,
            407666196480,
            407666196480
           ],
           "xaxis": "x",
           "xbingroup": "x",
           "y": [
            213.117,
            213.117,
            464.374,
            464.374,
            3841.451,
            3841.451,
            255.495,
            255.495,
            381.085,
            381.085,
            79.858,
            79.858,
            1582.913,
            1582.913,
            1049.995,
            1049.995
           ],
           "yaxis": "y",
           "ybingroup": "y"
          }
         ],
         "name": "2016"
        },
        {
         "data": [
          {
           "coloraxis": "coloraxis",
           "hovertemplate": "year=2017<br>GDP (Billion USD)=%{x}<br>Energy Consumption (TWh)=%{y}<br>count=%{z}<extra></extra>",
           "name": "",
           "nbinsx": 20,
           "nbinsy": 20,
           "type": "histogram2d",
           "x": [
            456012365824,
            456012365824
           ],
           "xaxis": "x",
           "xbingroup": "x",
           "y": [
            387.936,
            387.936
           ],
           "yaxis": "y",
           "ybingroup": "y"
          }
         ],
         "name": "2017"
        },
        {
         "data": [
          {
           "coloraxis": "coloraxis",
           "hovertemplate": "year=2018<br>GDP (Billion USD)=%{x}<br>Energy Consumption (TWh)=%{y}<br>count=%{z}<extra></extra>",
           "name": "",
           "nbinsx": 20,
           "nbinsy": 20,
           "type": "histogram2d",
           "x": [
            473122635776,
            473122635776
           ],
           "xaxis": "x",
           "xbingroup": "x",
           "y": [
            392.051,
            392.051
           ],
           "yaxis": "y",
           "ybingroup": "y"
          }
         ],
         "name": "2018"
        },
        {
         "data": [
          {
           "coloraxis": "coloraxis",
           "hovertemplate": "year=2019<br>GDP (Billion USD)=%{x}<br>Energy Consumption (TWh)=%{y}<br>count=%{z}<extra></extra>",
           "name": "",
           "nbinsx": 20,
           "nbinsy": 20,
           "type": "histogram2d",
           "x": [
            456564506624,
            456564506624
           ],
           "xaxis": "x",
           "xbingroup": "x",
           "y": [
            383.818,
            383.818
           ],
           "yaxis": "y",
           "ybingroup": "y"
          }
         ],
         "name": "2019"
        },
        {
         "data": [
          {
           "coloraxis": "coloraxis",
           "hovertemplate": "year=2020<br>GDP (Billion USD)=%{x}<br>Energy Consumption (TWh)=%{y}<br>count=%{z}<extra></extra>",
           "name": "",
           "nbinsx": 20,
           "nbinsy": 20,
           "type": "histogram2d",
           "x": [
            483499376640,
            483499376640
           ],
           "xaxis": "x",
           "xbingroup": "x",
           "y": [
            369.489,
            369.489
           ],
           "yaxis": "y",
           "ybingroup": "y"
          }
         ],
         "name": "2020"
        },
        {
         "data": [
          {
           "coloraxis": "coloraxis",
           "hovertemplate": "year=2021<br>GDP (Billion USD)=%{x}<br>Energy Consumption (TWh)=%{y}<br>count=%{z}<extra></extra>",
           "name": "",
           "nbinsx": 20,
           "nbinsy": 20,
           "type": "histogram2d",
           "x": [
            505119539200,
            505119539200
           ],
           "xaxis": "x",
           "xbingroup": "x",
           "y": [
            390.003,
            390.003
           ],
           "yaxis": "y",
           "ybingroup": "y"
          }
         ],
         "name": "2021"
        }
       ],
       "layout": {
        "coloraxis": {
         "colorbar": {
          "title": {
           "text": "count"
          }
         },
         "colorscale": [
          [
           0,
           "#440154"
          ],
          [
           0.1111111111111111,
           "#482878"
          ],
          [
           0.2222222222222222,
           "#3e4989"
          ],
          [
           0.3333333333333333,
           "#31688e"
          ],
          [
           0.4444444444444444,
           "#26828e"
          ],
          [
           0.5555555555555556,
           "#1f9e89"
          ],
          [
           0.6666666666666666,
           "#35b779"
          ],
          [
           0.7777777777777778,
           "#6ece58"
          ],
          [
           0.8888888888888888,
           "#b5de2b"
          ],
          [
           1,
           "#fde725"
          ]
         ]
        },
        "legend": {
         "tracegroupgap": 0
        },
        "sliders": [
         {
          "active": 0,
          "currentvalue": {
           "prefix": "year="
          },
          "len": 0.9,
          "pad": {
           "b": 10,
           "t": 60
          },
          "steps": [
           {
            "args": [
             [
              "2000"
             ],
             {
              "frame": {
               "duration": 0,
               "redraw": true
              },
              "fromcurrent": true,
              "mode": "immediate",
              "transition": {
               "duration": 0,
               "easing": "linear"
              }
             }
            ],
            "label": "2000",
            "method": "animate"
           },
           {
            "args": [
             [
              "2001"
             ],
             {
              "frame": {
               "duration": 0,
               "redraw": true
              },
              "fromcurrent": true,
              "mode": "immediate",
              "transition": {
               "duration": 0,
               "easing": "linear"
              }
             }
            ],
            "label": "2001",
            "method": "animate"
           },
           {
            "args": [
             [
              "2002"
             ],
             {
              "frame": {
               "duration": 0,
               "redraw": true
              },
              "fromcurrent": true,
              "mode": "immediate",
              "transition": {
               "duration": 0,
               "easing": "linear"
              }
             }
            ],
            "label": "2002",
            "method": "animate"
           },
           {
            "args": [
             [
              "2003"
             ],
             {
              "frame": {
               "duration": 0,
               "redraw": true
              },
              "fromcurrent": true,
              "mode": "immediate",
              "transition": {
               "duration": 0,
               "easing": "linear"
              }
             }
            ],
            "label": "2003",
            "method": "animate"
           },
           {
            "args": [
             [
              "2004"
             ],
             {
              "frame": {
               "duration": 0,
               "redraw": true
              },
              "fromcurrent": true,
              "mode": "immediate",
              "transition": {
               "duration": 0,
               "easing": "linear"
              }
             }
            ],
            "label": "2004",
            "method": "animate"
           },
           {
            "args": [
             [
              "2005"
             ],
             {
              "frame": {
               "duration": 0,
               "redraw": true
              },
              "fromcurrent": true,
              "mode": "immediate",
              "transition": {
               "duration": 0,
               "easing": "linear"
              }
             }
            ],
            "label": "2005",
            "method": "animate"
           },
           {
            "args": [
             [
              "2006"
             ],
             {
              "frame": {
               "duration": 0,
               "redraw": true
              },
              "fromcurrent": true,
              "mode": "immediate",
              "transition": {
               "duration": 0,
               "easing": "linear"
              }
             }
            ],
            "label": "2006",
            "method": "animate"
           },
           {
            "args": [
             [
              "2007"
             ],
             {
              "frame": {
               "duration": 0,
               "redraw": true
              },
              "fromcurrent": true,
              "mode": "immediate",
              "transition": {
               "duration": 0,
               "easing": "linear"
              }
             }
            ],
            "label": "2007",
            "method": "animate"
           },
           {
            "args": [
             [
              "2008"
             ],
             {
              "frame": {
               "duration": 0,
               "redraw": true
              },
              "fromcurrent": true,
              "mode": "immediate",
              "transition": {
               "duration": 0,
               "easing": "linear"
              }
             }
            ],
            "label": "2008",
            "method": "animate"
           },
           {
            "args": [
             [
              "2009"
             ],
             {
              "frame": {
               "duration": 0,
               "redraw": true
              },
              "fromcurrent": true,
              "mode": "immediate",
              "transition": {
               "duration": 0,
               "easing": "linear"
              }
             }
            ],
            "label": "2009",
            "method": "animate"
           },
           {
            "args": [
             [
              "2010"
             ],
             {
              "frame": {
               "duration": 0,
               "redraw": true
              },
              "fromcurrent": true,
              "mode": "immediate",
              "transition": {
               "duration": 0,
               "easing": "linear"
              }
             }
            ],
            "label": "2010",
            "method": "animate"
           },
           {
            "args": [
             [
              "2011"
             ],
             {
              "frame": {
               "duration": 0,
               "redraw": true
              },
              "fromcurrent": true,
              "mode": "immediate",
              "transition": {
               "duration": 0,
               "easing": "linear"
              }
             }
            ],
            "label": "2011",
            "method": "animate"
           },
           {
            "args": [
             [
              "2012"
             ],
             {
              "frame": {
               "duration": 0,
               "redraw": true
              },
              "fromcurrent": true,
              "mode": "immediate",
              "transition": {
               "duration": 0,
               "easing": "linear"
              }
             }
            ],
            "label": "2012",
            "method": "animate"
           },
           {
            "args": [
             [
              "2013"
             ],
             {
              "frame": {
               "duration": 0,
               "redraw": true
              },
              "fromcurrent": true,
              "mode": "immediate",
              "transition": {
               "duration": 0,
               "easing": "linear"
              }
             }
            ],
            "label": "2013",
            "method": "animate"
           },
           {
            "args": [
             [
              "2014"
             ],
             {
              "frame": {
               "duration": 0,
               "redraw": true
              },
              "fromcurrent": true,
              "mode": "immediate",
              "transition": {
               "duration": 0,
               "easing": "linear"
              }
             }
            ],
            "label": "2014",
            "method": "animate"
           },
           {
            "args": [
             [
              "2015"
             ],
             {
              "frame": {
               "duration": 0,
               "redraw": true
              },
              "fromcurrent": true,
              "mode": "immediate",
              "transition": {
               "duration": 0,
               "easing": "linear"
              }
             }
            ],
            "label": "2015",
            "method": "animate"
           },
           {
            "args": [
             [
              "2016"
             ],
             {
              "frame": {
               "duration": 0,
               "redraw": true
              },
              "fromcurrent": true,
              "mode": "immediate",
              "transition": {
               "duration": 0,
               "easing": "linear"
              }
             }
            ],
            "label": "2016",
            "method": "animate"
           },
           {
            "args": [
             [
              "2017"
             ],
             {
              "frame": {
               "duration": 0,
               "redraw": true
              },
              "fromcurrent": true,
              "mode": "immediate",
              "transition": {
               "duration": 0,
               "easing": "linear"
              }
             }
            ],
            "label": "2017",
            "method": "animate"
           },
           {
            "args": [
             [
              "2018"
             ],
             {
              "frame": {
               "duration": 0,
               "redraw": true
              },
              "fromcurrent": true,
              "mode": "immediate",
              "transition": {
               "duration": 0,
               "easing": "linear"
              }
             }
            ],
            "label": "2018",
            "method": "animate"
           },
           {
            "args": [
             [
              "2019"
             ],
             {
              "frame": {
               "duration": 0,
               "redraw": true
              },
              "fromcurrent": true,
              "mode": "immediate",
              "transition": {
               "duration": 0,
               "easing": "linear"
              }
             }
            ],
            "label": "2019",
            "method": "animate"
           },
           {
            "args": [
             [
              "2020"
             ],
             {
              "frame": {
               "duration": 0,
               "redraw": true
              },
              "fromcurrent": true,
              "mode": "immediate",
              "transition": {
               "duration": 0,
               "easing": "linear"
              }
             }
            ],
            "label": "2020",
            "method": "animate"
           },
           {
            "args": [
             [
              "2021"
             ],
             {
              "frame": {
               "duration": 0,
               "redraw": true
              },
              "fromcurrent": true,
              "mode": "immediate",
              "transition": {
               "duration": 0,
               "easing": "linear"
              }
             }
            ],
            "label": "2021",
            "method": "animate"
           }
          ],
          "x": 0.1,
          "xanchor": "left",
          "y": 0,
          "yanchor": "top"
         }
        ],
        "template": {
         "data": {
          "bar": [
           {
            "error_x": {
             "color": "#2a3f5f"
            },
            "error_y": {
             "color": "#2a3f5f"
            },
            "marker": {
             "line": {
              "color": "white",
              "width": 0.5
             },
             "pattern": {
              "fillmode": "overlay",
              "size": 10,
              "solidity": 0.2
             }
            },
            "type": "bar"
           }
          ],
          "barpolar": [
           {
            "marker": {
             "line": {
              "color": "white",
              "width": 0.5
             },
             "pattern": {
              "fillmode": "overlay",
              "size": 10,
              "solidity": 0.2
             }
            },
            "type": "barpolar"
           }
          ],
          "carpet": [
           {
            "aaxis": {
             "endlinecolor": "#2a3f5f",
             "gridcolor": "#C8D4E3",
             "linecolor": "#C8D4E3",
             "minorgridcolor": "#C8D4E3",
             "startlinecolor": "#2a3f5f"
            },
            "baxis": {
             "endlinecolor": "#2a3f5f",
             "gridcolor": "#C8D4E3",
             "linecolor": "#C8D4E3",
             "minorgridcolor": "#C8D4E3",
             "startlinecolor": "#2a3f5f"
            },
            "type": "carpet"
           }
          ],
          "choropleth": [
           {
            "colorbar": {
             "outlinewidth": 0,
             "ticks": ""
            },
            "type": "choropleth"
           }
          ],
          "contour": [
           {
            "colorbar": {
             "outlinewidth": 0,
             "ticks": ""
            },
            "colorscale": [
             [
              0,
              "#0d0887"
             ],
             [
              0.1111111111111111,
              "#46039f"
             ],
             [
              0.2222222222222222,
              "#7201a8"
             ],
             [
              0.3333333333333333,
              "#9c179e"
             ],
             [
              0.4444444444444444,
              "#bd3786"
             ],
             [
              0.5555555555555556,
              "#d8576b"
             ],
             [
              0.6666666666666666,
              "#ed7953"
             ],
             [
              0.7777777777777778,
              "#fb9f3a"
             ],
             [
              0.8888888888888888,
              "#fdca26"
             ],
             [
              1,
              "#f0f921"
             ]
            ],
            "type": "contour"
           }
          ],
          "contourcarpet": [
           {
            "colorbar": {
             "outlinewidth": 0,
             "ticks": ""
            },
            "type": "contourcarpet"
           }
          ],
          "heatmap": [
           {
            "colorbar": {
             "outlinewidth": 0,
             "ticks": ""
            },
            "colorscale": [
             [
              0,
              "#0d0887"
             ],
             [
              0.1111111111111111,
              "#46039f"
             ],
             [
              0.2222222222222222,
              "#7201a8"
             ],
             [
              0.3333333333333333,
              "#9c179e"
             ],
             [
              0.4444444444444444,
              "#bd3786"
             ],
             [
              0.5555555555555556,
              "#d8576b"
             ],
             [
              0.6666666666666666,
              "#ed7953"
             ],
             [
              0.7777777777777778,
              "#fb9f3a"
             ],
             [
              0.8888888888888888,
              "#fdca26"
             ],
             [
              1,
              "#f0f921"
             ]
            ],
            "type": "heatmap"
           }
          ],
          "heatmapgl": [
           {
            "colorbar": {
             "outlinewidth": 0,
             "ticks": ""
            },
            "colorscale": [
             [
              0,
              "#0d0887"
             ],
             [
              0.1111111111111111,
              "#46039f"
             ],
             [
              0.2222222222222222,
              "#7201a8"
             ],
             [
              0.3333333333333333,
              "#9c179e"
             ],
             [
              0.4444444444444444,
              "#bd3786"
             ],
             [
              0.5555555555555556,
              "#d8576b"
             ],
             [
              0.6666666666666666,
              "#ed7953"
             ],
             [
              0.7777777777777778,
              "#fb9f3a"
             ],
             [
              0.8888888888888888,
              "#fdca26"
             ],
             [
              1,
              "#f0f921"
             ]
            ],
            "type": "heatmapgl"
           }
          ],
          "histogram": [
           {
            "marker": {
             "pattern": {
              "fillmode": "overlay",
              "size": 10,
              "solidity": 0.2
             }
            },
            "type": "histogram"
           }
          ],
          "histogram2d": [
           {
            "colorbar": {
             "outlinewidth": 0,
             "ticks": ""
            },
            "colorscale": [
             [
              0,
              "#0d0887"
             ],
             [
              0.1111111111111111,
              "#46039f"
             ],
             [
              0.2222222222222222,
              "#7201a8"
             ],
             [
              0.3333333333333333,
              "#9c179e"
             ],
             [
              0.4444444444444444,
              "#bd3786"
             ],
             [
              0.5555555555555556,
              "#d8576b"
             ],
             [
              0.6666666666666666,
              "#ed7953"
             ],
             [
              0.7777777777777778,
              "#fb9f3a"
             ],
             [
              0.8888888888888888,
              "#fdca26"
             ],
             [
              1,
              "#f0f921"
             ]
            ],
            "type": "histogram2d"
           }
          ],
          "histogram2dcontour": [
           {
            "colorbar": {
             "outlinewidth": 0,
             "ticks": ""
            },
            "colorscale": [
             [
              0,
              "#0d0887"
             ],
             [
              0.1111111111111111,
              "#46039f"
             ],
             [
              0.2222222222222222,
              "#7201a8"
             ],
             [
              0.3333333333333333,
              "#9c179e"
             ],
             [
              0.4444444444444444,
              "#bd3786"
             ],
             [
              0.5555555555555556,
              "#d8576b"
             ],
             [
              0.6666666666666666,
              "#ed7953"
             ],
             [
              0.7777777777777778,
              "#fb9f3a"
             ],
             [
              0.8888888888888888,
              "#fdca26"
             ],
             [
              1,
              "#f0f921"
             ]
            ],
            "type": "histogram2dcontour"
           }
          ],
          "mesh3d": [
           {
            "colorbar": {
             "outlinewidth": 0,
             "ticks": ""
            },
            "type": "mesh3d"
           }
          ],
          "parcoords": [
           {
            "line": {
             "colorbar": {
              "outlinewidth": 0,
              "ticks": ""
             }
            },
            "type": "parcoords"
           }
          ],
          "pie": [
           {
            "automargin": true,
            "type": "pie"
           }
          ],
          "scatter": [
           {
            "fillpattern": {
             "fillmode": "overlay",
             "size": 10,
             "solidity": 0.2
            },
            "type": "scatter"
           }
          ],
          "scatter3d": [
           {
            "line": {
             "colorbar": {
              "outlinewidth": 0,
              "ticks": ""
             }
            },
            "marker": {
             "colorbar": {
              "outlinewidth": 0,
              "ticks": ""
             }
            },
            "type": "scatter3d"
           }
          ],
          "scattercarpet": [
           {
            "marker": {
             "colorbar": {
              "outlinewidth": 0,
              "ticks": ""
             }
            },
            "type": "scattercarpet"
           }
          ],
          "scattergeo": [
           {
            "marker": {
             "colorbar": {
              "outlinewidth": 0,
              "ticks": ""
             }
            },
            "type": "scattergeo"
           }
          ],
          "scattergl": [
           {
            "marker": {
             "colorbar": {
              "outlinewidth": 0,
              "ticks": ""
             }
            },
            "type": "scattergl"
           }
          ],
          "scattermapbox": [
           {
            "marker": {
             "colorbar": {
              "outlinewidth": 0,
              "ticks": ""
             }
            },
            "type": "scattermapbox"
           }
          ],
          "scatterpolar": [
           {
            "marker": {
             "colorbar": {
              "outlinewidth": 0,
              "ticks": ""
             }
            },
            "type": "scatterpolar"
           }
          ],
          "scatterpolargl": [
           {
            "marker": {
             "colorbar": {
              "outlinewidth": 0,
              "ticks": ""
             }
            },
            "type": "scatterpolargl"
           }
          ],
          "scatterternary": [
           {
            "marker": {
             "colorbar": {
              "outlinewidth": 0,
              "ticks": ""
             }
            },
            "type": "scatterternary"
           }
          ],
          "surface": [
           {
            "colorbar": {
             "outlinewidth": 0,
             "ticks": ""
            },
            "colorscale": [
             [
              0,
              "#0d0887"
             ],
             [
              0.1111111111111111,
              "#46039f"
             ],
             [
              0.2222222222222222,
              "#7201a8"
             ],
             [
              0.3333333333333333,
              "#9c179e"
             ],
             [
              0.4444444444444444,
              "#bd3786"
             ],
             [
              0.5555555555555556,
              "#d8576b"
             ],
             [
              0.6666666666666666,
              "#ed7953"
             ],
             [
              0.7777777777777778,
              "#fb9f3a"
             ],
             [
              0.8888888888888888,
              "#fdca26"
             ],
             [
              1,
              "#f0f921"
             ]
            ],
            "type": "surface"
           }
          ],
          "table": [
           {
            "cells": {
             "fill": {
              "color": "#EBF0F8"
             },
             "line": {
              "color": "white"
             }
            },
            "header": {
             "fill": {
              "color": "#C8D4E3"
             },
             "line": {
              "color": "white"
             }
            },
            "type": "table"
           }
          ]
         },
         "layout": {
          "annotationdefaults": {
           "arrowcolor": "#2a3f5f",
           "arrowhead": 0,
           "arrowwidth": 1
          },
          "autotypenumbers": "strict",
          "coloraxis": {
           "colorbar": {
            "outlinewidth": 0,
            "ticks": ""
           }
          },
          "colorscale": {
           "diverging": [
            [
             0,
             "#8e0152"
            ],
            [
             0.1,
             "#c51b7d"
            ],
            [
             0.2,
             "#de77ae"
            ],
            [
             0.3,
             "#f1b6da"
            ],
            [
             0.4,
             "#fde0ef"
            ],
            [
             0.5,
             "#f7f7f7"
            ],
            [
             0.6,
             "#e6f5d0"
            ],
            [
             0.7,
             "#b8e186"
            ],
            [
             0.8,
             "#7fbc41"
            ],
            [
             0.9,
             "#4d9221"
            ],
            [
             1,
             "#276419"
            ]
           ],
           "sequential": [
            [
             0,
             "#0d0887"
            ],
            [
             0.1111111111111111,
             "#46039f"
            ],
            [
             0.2222222222222222,
             "#7201a8"
            ],
            [
             0.3333333333333333,
             "#9c179e"
            ],
            [
             0.4444444444444444,
             "#bd3786"
            ],
            [
             0.5555555555555556,
             "#d8576b"
            ],
            [
             0.6666666666666666,
             "#ed7953"
            ],
            [
             0.7777777777777778,
             "#fb9f3a"
            ],
            [
             0.8888888888888888,
             "#fdca26"
            ],
            [
             1,
             "#f0f921"
            ]
           ],
           "sequentialminus": [
            [
             0,
             "#0d0887"
            ],
            [
             0.1111111111111111,
             "#46039f"
            ],
            [
             0.2222222222222222,
             "#7201a8"
            ],
            [
             0.3333333333333333,
             "#9c179e"
            ],
            [
             0.4444444444444444,
             "#bd3786"
            ],
            [
             0.5555555555555556,
             "#d8576b"
            ],
            [
             0.6666666666666666,
             "#ed7953"
            ],
            [
             0.7777777777777778,
             "#fb9f3a"
            ],
            [
             0.8888888888888888,
             "#fdca26"
            ],
            [
             1,
             "#f0f921"
            ]
           ]
          },
          "colorway": [
           "#636efa",
           "#EF553B",
           "#00cc96",
           "#ab63fa",
           "#FFA15A",
           "#19d3f3",
           "#FF6692",
           "#B6E880",
           "#FF97FF",
           "#FECB52"
          ],
          "font": {
           "color": "#2a3f5f"
          },
          "geo": {
           "bgcolor": "white",
           "lakecolor": "white",
           "landcolor": "white",
           "showlakes": true,
           "showland": true,
           "subunitcolor": "#C8D4E3"
          },
          "hoverlabel": {
           "align": "left"
          },
          "hovermode": "closest",
          "mapbox": {
           "style": "light"
          },
          "paper_bgcolor": "white",
          "plot_bgcolor": "white",
          "polar": {
           "angularaxis": {
            "gridcolor": "#EBF0F8",
            "linecolor": "#EBF0F8",
            "ticks": ""
           },
           "bgcolor": "white",
           "radialaxis": {
            "gridcolor": "#EBF0F8",
            "linecolor": "#EBF0F8",
            "ticks": ""
           }
          },
          "scene": {
           "xaxis": {
            "backgroundcolor": "white",
            "gridcolor": "#DFE8F3",
            "gridwidth": 2,
            "linecolor": "#EBF0F8",
            "showbackground": true,
            "ticks": "",
            "zerolinecolor": "#EBF0F8"
           },
           "yaxis": {
            "backgroundcolor": "white",
            "gridcolor": "#DFE8F3",
            "gridwidth": 2,
            "linecolor": "#EBF0F8",
            "showbackground": true,
            "ticks": "",
            "zerolinecolor": "#EBF0F8"
           },
           "zaxis": {
            "backgroundcolor": "white",
            "gridcolor": "#DFE8F3",
            "gridwidth": 2,
            "linecolor": "#EBF0F8",
            "showbackground": true,
            "ticks": "",
            "zerolinecolor": "#EBF0F8"
           }
          },
          "shapedefaults": {
           "line": {
            "color": "#2a3f5f"
           }
          },
          "ternary": {
           "aaxis": {
            "gridcolor": "#DFE8F3",
            "linecolor": "#A2B1C6",
            "ticks": ""
           },
           "baxis": {
            "gridcolor": "#DFE8F3",
            "linecolor": "#A2B1C6",
            "ticks": ""
           },
           "bgcolor": "white",
           "caxis": {
            "gridcolor": "#DFE8F3",
            "linecolor": "#A2B1C6",
            "ticks": ""
           }
          },
          "title": {
           "x": 0.05
          },
          "xaxis": {
           "automargin": true,
           "gridcolor": "#EBF0F8",
           "linecolor": "#EBF0F8",
           "ticks": "",
           "title": {
            "standoff": 15
           },
           "zerolinecolor": "#EBF0F8",
           "zerolinewidth": 2
          },
          "yaxis": {
           "automargin": true,
           "gridcolor": "#EBF0F8",
           "linecolor": "#EBF0F8",
           "ticks": "",
           "title": {
            "standoff": 15
           },
           "zerolinecolor": "#EBF0F8",
           "zerolinewidth": 2
          }
         }
        },
        "title": {
         "text": "Heatmap of GDP vs Energy Consumption"
        },
        "updatemenus": [
         {
          "buttons": [
           {
            "args": [
             null,
             {
              "frame": {
               "duration": 500,
               "redraw": true
              },
              "fromcurrent": true,
              "mode": "immediate",
              "transition": {
               "duration": 500,
               "easing": "linear"
              }
             }
            ],
            "label": "&#9654;",
            "method": "animate"
           },
           {
            "args": [
             [
              null
             ],
             {
              "frame": {
               "duration": 0,
               "redraw": true
              },
              "fromcurrent": true,
              "mode": "immediate",
              "transition": {
               "duration": 0,
               "easing": "linear"
              }
             }
            ],
            "label": "&#9724;",
            "method": "animate"
           }
          ],
          "direction": "left",
          "pad": {
           "r": 10,
           "t": 70
          },
          "showactive": false,
          "type": "buttons",
          "x": 0.1,
          "xanchor": "right",
          "y": 0,
          "yanchor": "top"
         }
        ],
        "xaxis": {
         "anchor": "y",
         "domain": [
          0,
          1
         ],
         "title": {
          "text": "GDP (Billion USD)"
         }
        },
        "yaxis": {
         "anchor": "x",
         "domain": [
          0,
          1
         ],
         "title": {
          "text": "Energy Consumption (TWh)"
         }
        }
       }
      },
      "text/html": [
       "<div>                            <div id=\"b5810a19-4084-4471-b6a0-e7bf23c9d3e6\" class=\"plotly-graph-div\" style=\"height:525px; width:100%;\"></div>            <script type=\"text/javascript\">                require([\"plotly\"], function(Plotly) {                    window.PLOTLYENV=window.PLOTLYENV || {};                                    if (document.getElementById(\"b5810a19-4084-4471-b6a0-e7bf23c9d3e6\")) {                    Plotly.newPlot(                        \"b5810a19-4084-4471-b6a0-e7bf23c9d3e6\",                        [{\"coloraxis\":\"coloraxis\",\"hovertemplate\":\"year=2000<br>GDP (Billion USD)=%{x}<br>Energy Consumption (TWh)=%{y}<br>count=%{z}<extra></extra>\",\"name\":\"\",\"nbinsx\":20,\"nbinsy\":20,\"x\":[2031676030976.0,2031676030976.0,2718560681984.0,2718560681984.0],\"xaxis\":\"x\",\"xbingroup\":\"x\",\"y\":[3117.909,3117.909,3988.179,3988.179],\"yaxis\":\"y\",\"ybingroup\":\"y\",\"type\":\"histogram2d\"}],                        {\"template\":{\"data\":{\"barpolar\":[{\"marker\":{\"line\":{\"color\":\"white\",\"width\":0.5},\"pattern\":{\"fillmode\":\"overlay\",\"size\":10,\"solidity\":0.2}},\"type\":\"barpolar\"}],\"bar\":[{\"error_x\":{\"color\":\"#2a3f5f\"},\"error_y\":{\"color\":\"#2a3f5f\"},\"marker\":{\"line\":{\"color\":\"white\",\"width\":0.5},\"pattern\":{\"fillmode\":\"overlay\",\"size\":10,\"solidity\":0.2}},\"type\":\"bar\"}],\"carpet\":[{\"aaxis\":{\"endlinecolor\":\"#2a3f5f\",\"gridcolor\":\"#C8D4E3\",\"linecolor\":\"#C8D4E3\",\"minorgridcolor\":\"#C8D4E3\",\"startlinecolor\":\"#2a3f5f\"},\"baxis\":{\"endlinecolor\":\"#2a3f5f\",\"gridcolor\":\"#C8D4E3\",\"linecolor\":\"#C8D4E3\",\"minorgridcolor\":\"#C8D4E3\",\"startlinecolor\":\"#2a3f5f\"},\"type\":\"carpet\"}],\"choropleth\":[{\"colorbar\":{\"outlinewidth\":0,\"ticks\":\"\"},\"type\":\"choropleth\"}],\"contourcarpet\":[{\"colorbar\":{\"outlinewidth\":0,\"ticks\":\"\"},\"type\":\"contourcarpet\"}],\"contour\":[{\"colorbar\":{\"outlinewidth\":0,\"ticks\":\"\"},\"colorscale\":[[0.0,\"#0d0887\"],[0.1111111111111111,\"#46039f\"],[0.2222222222222222,\"#7201a8\"],[0.3333333333333333,\"#9c179e\"],[0.4444444444444444,\"#bd3786\"],[0.5555555555555556,\"#d8576b\"],[0.6666666666666666,\"#ed7953\"],[0.7777777777777778,\"#fb9f3a\"],[0.8888888888888888,\"#fdca26\"],[1.0,\"#f0f921\"]],\"type\":\"contour\"}],\"heatmapgl\":[{\"colorbar\":{\"outlinewidth\":0,\"ticks\":\"\"},\"colorscale\":[[0.0,\"#0d0887\"],[0.1111111111111111,\"#46039f\"],[0.2222222222222222,\"#7201a8\"],[0.3333333333333333,\"#9c179e\"],[0.4444444444444444,\"#bd3786\"],[0.5555555555555556,\"#d8576b\"],[0.6666666666666666,\"#ed7953\"],[0.7777777777777778,\"#fb9f3a\"],[0.8888888888888888,\"#fdca26\"],[1.0,\"#f0f921\"]],\"type\":\"heatmapgl\"}],\"heatmap\":[{\"colorbar\":{\"outlinewidth\":0,\"ticks\":\"\"},\"colorscale\":[[0.0,\"#0d0887\"],[0.1111111111111111,\"#46039f\"],[0.2222222222222222,\"#7201a8\"],[0.3333333333333333,\"#9c179e\"],[0.4444444444444444,\"#bd3786\"],[0.5555555555555556,\"#d8576b\"],[0.6666666666666666,\"#ed7953\"],[0.7777777777777778,\"#fb9f3a\"],[0.8888888888888888,\"#fdca26\"],[1.0,\"#f0f921\"]],\"type\":\"heatmap\"}],\"histogram2dcontour\":[{\"colorbar\":{\"outlinewidth\":0,\"ticks\":\"\"},\"colorscale\":[[0.0,\"#0d0887\"],[0.1111111111111111,\"#46039f\"],[0.2222222222222222,\"#7201a8\"],[0.3333333333333333,\"#9c179e\"],[0.4444444444444444,\"#bd3786\"],[0.5555555555555556,\"#d8576b\"],[0.6666666666666666,\"#ed7953\"],[0.7777777777777778,\"#fb9f3a\"],[0.8888888888888888,\"#fdca26\"],[1.0,\"#f0f921\"]],\"type\":\"histogram2dcontour\"}],\"histogram2d\":[{\"colorbar\":{\"outlinewidth\":0,\"ticks\":\"\"},\"colorscale\":[[0.0,\"#0d0887\"],[0.1111111111111111,\"#46039f\"],[0.2222222222222222,\"#7201a8\"],[0.3333333333333333,\"#9c179e\"],[0.4444444444444444,\"#bd3786\"],[0.5555555555555556,\"#d8576b\"],[0.6666666666666666,\"#ed7953\"],[0.7777777777777778,\"#fb9f3a\"],[0.8888888888888888,\"#fdca26\"],[1.0,\"#f0f921\"]],\"type\":\"histogram2d\"}],\"histogram\":[{\"marker\":{\"pattern\":{\"fillmode\":\"overlay\",\"size\":10,\"solidity\":0.2}},\"type\":\"histogram\"}],\"mesh3d\":[{\"colorbar\":{\"outlinewidth\":0,\"ticks\":\"\"},\"type\":\"mesh3d\"}],\"parcoords\":[{\"line\":{\"colorbar\":{\"outlinewidth\":0,\"ticks\":\"\"}},\"type\":\"parcoords\"}],\"pie\":[{\"automargin\":true,\"type\":\"pie\"}],\"scatter3d\":[{\"line\":{\"colorbar\":{\"outlinewidth\":0,\"ticks\":\"\"}},\"marker\":{\"colorbar\":{\"outlinewidth\":0,\"ticks\":\"\"}},\"type\":\"scatter3d\"}],\"scattercarpet\":[{\"marker\":{\"colorbar\":{\"outlinewidth\":0,\"ticks\":\"\"}},\"type\":\"scattercarpet\"}],\"scattergeo\":[{\"marker\":{\"colorbar\":{\"outlinewidth\":0,\"ticks\":\"\"}},\"type\":\"scattergeo\"}],\"scattergl\":[{\"marker\":{\"colorbar\":{\"outlinewidth\":0,\"ticks\":\"\"}},\"type\":\"scattergl\"}],\"scattermapbox\":[{\"marker\":{\"colorbar\":{\"outlinewidth\":0,\"ticks\":\"\"}},\"type\":\"scattermapbox\"}],\"scatterpolargl\":[{\"marker\":{\"colorbar\":{\"outlinewidth\":0,\"ticks\":\"\"}},\"type\":\"scatterpolargl\"}],\"scatterpolar\":[{\"marker\":{\"colorbar\":{\"outlinewidth\":0,\"ticks\":\"\"}},\"type\":\"scatterpolar\"}],\"scatter\":[{\"fillpattern\":{\"fillmode\":\"overlay\",\"size\":10,\"solidity\":0.2},\"type\":\"scatter\"}],\"scatterternary\":[{\"marker\":{\"colorbar\":{\"outlinewidth\":0,\"ticks\":\"\"}},\"type\":\"scatterternary\"}],\"surface\":[{\"colorbar\":{\"outlinewidth\":0,\"ticks\":\"\"},\"colorscale\":[[0.0,\"#0d0887\"],[0.1111111111111111,\"#46039f\"],[0.2222222222222222,\"#7201a8\"],[0.3333333333333333,\"#9c179e\"],[0.4444444444444444,\"#bd3786\"],[0.5555555555555556,\"#d8576b\"],[0.6666666666666666,\"#ed7953\"],[0.7777777777777778,\"#fb9f3a\"],[0.8888888888888888,\"#fdca26\"],[1.0,\"#f0f921\"]],\"type\":\"surface\"}],\"table\":[{\"cells\":{\"fill\":{\"color\":\"#EBF0F8\"},\"line\":{\"color\":\"white\"}},\"header\":{\"fill\":{\"color\":\"#C8D4E3\"},\"line\":{\"color\":\"white\"}},\"type\":\"table\"}]},\"layout\":{\"annotationdefaults\":{\"arrowcolor\":\"#2a3f5f\",\"arrowhead\":0,\"arrowwidth\":1},\"autotypenumbers\":\"strict\",\"coloraxis\":{\"colorbar\":{\"outlinewidth\":0,\"ticks\":\"\"}},\"colorscale\":{\"diverging\":[[0,\"#8e0152\"],[0.1,\"#c51b7d\"],[0.2,\"#de77ae\"],[0.3,\"#f1b6da\"],[0.4,\"#fde0ef\"],[0.5,\"#f7f7f7\"],[0.6,\"#e6f5d0\"],[0.7,\"#b8e186\"],[0.8,\"#7fbc41\"],[0.9,\"#4d9221\"],[1,\"#276419\"]],\"sequential\":[[0.0,\"#0d0887\"],[0.1111111111111111,\"#46039f\"],[0.2222222222222222,\"#7201a8\"],[0.3333333333333333,\"#9c179e\"],[0.4444444444444444,\"#bd3786\"],[0.5555555555555556,\"#d8576b\"],[0.6666666666666666,\"#ed7953\"],[0.7777777777777778,\"#fb9f3a\"],[0.8888888888888888,\"#fdca26\"],[1.0,\"#f0f921\"]],\"sequentialminus\":[[0.0,\"#0d0887\"],[0.1111111111111111,\"#46039f\"],[0.2222222222222222,\"#7201a8\"],[0.3333333333333333,\"#9c179e\"],[0.4444444444444444,\"#bd3786\"],[0.5555555555555556,\"#d8576b\"],[0.6666666666666666,\"#ed7953\"],[0.7777777777777778,\"#fb9f3a\"],[0.8888888888888888,\"#fdca26\"],[1.0,\"#f0f921\"]]},\"colorway\":[\"#636efa\",\"#EF553B\",\"#00cc96\",\"#ab63fa\",\"#FFA15A\",\"#19d3f3\",\"#FF6692\",\"#B6E880\",\"#FF97FF\",\"#FECB52\"],\"font\":{\"color\":\"#2a3f5f\"},\"geo\":{\"bgcolor\":\"white\",\"lakecolor\":\"white\",\"landcolor\":\"white\",\"showlakes\":true,\"showland\":true,\"subunitcolor\":\"#C8D4E3\"},\"hoverlabel\":{\"align\":\"left\"},\"hovermode\":\"closest\",\"mapbox\":{\"style\":\"light\"},\"paper_bgcolor\":\"white\",\"plot_bgcolor\":\"white\",\"polar\":{\"angularaxis\":{\"gridcolor\":\"#EBF0F8\",\"linecolor\":\"#EBF0F8\",\"ticks\":\"\"},\"bgcolor\":\"white\",\"radialaxis\":{\"gridcolor\":\"#EBF0F8\",\"linecolor\":\"#EBF0F8\",\"ticks\":\"\"}},\"scene\":{\"xaxis\":{\"backgroundcolor\":\"white\",\"gridcolor\":\"#DFE8F3\",\"gridwidth\":2,\"linecolor\":\"#EBF0F8\",\"showbackground\":true,\"ticks\":\"\",\"zerolinecolor\":\"#EBF0F8\"},\"yaxis\":{\"backgroundcolor\":\"white\",\"gridcolor\":\"#DFE8F3\",\"gridwidth\":2,\"linecolor\":\"#EBF0F8\",\"showbackground\":true,\"ticks\":\"\",\"zerolinecolor\":\"#EBF0F8\"},\"zaxis\":{\"backgroundcolor\":\"white\",\"gridcolor\":\"#DFE8F3\",\"gridwidth\":2,\"linecolor\":\"#EBF0F8\",\"showbackground\":true,\"ticks\":\"\",\"zerolinecolor\":\"#EBF0F8\"}},\"shapedefaults\":{\"line\":{\"color\":\"#2a3f5f\"}},\"ternary\":{\"aaxis\":{\"gridcolor\":\"#DFE8F3\",\"linecolor\":\"#A2B1C6\",\"ticks\":\"\"},\"baxis\":{\"gridcolor\":\"#DFE8F3\",\"linecolor\":\"#A2B1C6\",\"ticks\":\"\"},\"bgcolor\":\"white\",\"caxis\":{\"gridcolor\":\"#DFE8F3\",\"linecolor\":\"#A2B1C6\",\"ticks\":\"\"}},\"title\":{\"x\":0.05},\"xaxis\":{\"automargin\":true,\"gridcolor\":\"#EBF0F8\",\"linecolor\":\"#EBF0F8\",\"ticks\":\"\",\"title\":{\"standoff\":15},\"zerolinecolor\":\"#EBF0F8\",\"zerolinewidth\":2},\"yaxis\":{\"automargin\":true,\"gridcolor\":\"#EBF0F8\",\"linecolor\":\"#EBF0F8\",\"ticks\":\"\",\"title\":{\"standoff\":15},\"zerolinecolor\":\"#EBF0F8\",\"zerolinewidth\":2}}},\"xaxis\":{\"anchor\":\"y\",\"domain\":[0.0,1.0],\"title\":{\"text\":\"GDP (Billion USD)\"}},\"yaxis\":{\"anchor\":\"x\",\"domain\":[0.0,1.0],\"title\":{\"text\":\"Energy Consumption (TWh)\"}},\"coloraxis\":{\"colorbar\":{\"title\":{\"text\":\"count\"}},\"colorscale\":[[0.0,\"#440154\"],[0.1111111111111111,\"#482878\"],[0.2222222222222222,\"#3e4989\"],[0.3333333333333333,\"#31688e\"],[0.4444444444444444,\"#26828e\"],[0.5555555555555556,\"#1f9e89\"],[0.6666666666666666,\"#35b779\"],[0.7777777777777778,\"#6ece58\"],[0.8888888888888888,\"#b5de2b\"],[1.0,\"#fde725\"]]},\"legend\":{\"tracegroupgap\":0},\"title\":{\"text\":\"Heatmap of GDP vs Energy Consumption\"},\"updatemenus\":[{\"buttons\":[{\"args\":[null,{\"frame\":{\"duration\":500,\"redraw\":true},\"mode\":\"immediate\",\"fromcurrent\":true,\"transition\":{\"duration\":500,\"easing\":\"linear\"}}],\"label\":\"&#9654;\",\"method\":\"animate\"},{\"args\":[[null],{\"frame\":{\"duration\":0,\"redraw\":true},\"mode\":\"immediate\",\"fromcurrent\":true,\"transition\":{\"duration\":0,\"easing\":\"linear\"}}],\"label\":\"&#9724;\",\"method\":\"animate\"}],\"direction\":\"left\",\"pad\":{\"r\":10,\"t\":70},\"showactive\":false,\"type\":\"buttons\",\"x\":0.1,\"xanchor\":\"right\",\"y\":0,\"yanchor\":\"top\"}],\"sliders\":[{\"active\":0,\"currentvalue\":{\"prefix\":\"year=\"},\"len\":0.9,\"pad\":{\"b\":10,\"t\":60},\"steps\":[{\"args\":[[\"2000\"],{\"frame\":{\"duration\":0,\"redraw\":true},\"mode\":\"immediate\",\"fromcurrent\":true,\"transition\":{\"duration\":0,\"easing\":\"linear\"}}],\"label\":\"2000\",\"method\":\"animate\"},{\"args\":[[\"2001\"],{\"frame\":{\"duration\":0,\"redraw\":true},\"mode\":\"immediate\",\"fromcurrent\":true,\"transition\":{\"duration\":0,\"easing\":\"linear\"}}],\"label\":\"2001\",\"method\":\"animate\"},{\"args\":[[\"2002\"],{\"frame\":{\"duration\":0,\"redraw\":true},\"mode\":\"immediate\",\"fromcurrent\":true,\"transition\":{\"duration\":0,\"easing\":\"linear\"}}],\"label\":\"2002\",\"method\":\"animate\"},{\"args\":[[\"2003\"],{\"frame\":{\"duration\":0,\"redraw\":true},\"mode\":\"immediate\",\"fromcurrent\":true,\"transition\":{\"duration\":0,\"easing\":\"linear\"}}],\"label\":\"2003\",\"method\":\"animate\"},{\"args\":[[\"2004\"],{\"frame\":{\"duration\":0,\"redraw\":true},\"mode\":\"immediate\",\"fromcurrent\":true,\"transition\":{\"duration\":0,\"easing\":\"linear\"}}],\"label\":\"2004\",\"method\":\"animate\"},{\"args\":[[\"2005\"],{\"frame\":{\"duration\":0,\"redraw\":true},\"mode\":\"immediate\",\"fromcurrent\":true,\"transition\":{\"duration\":0,\"easing\":\"linear\"}}],\"label\":\"2005\",\"method\":\"animate\"},{\"args\":[[\"2006\"],{\"frame\":{\"duration\":0,\"redraw\":true},\"mode\":\"immediate\",\"fromcurrent\":true,\"transition\":{\"duration\":0,\"easing\":\"linear\"}}],\"label\":\"2006\",\"method\":\"animate\"},{\"args\":[[\"2007\"],{\"frame\":{\"duration\":0,\"redraw\":true},\"mode\":\"immediate\",\"fromcurrent\":true,\"transition\":{\"duration\":0,\"easing\":\"linear\"}}],\"label\":\"2007\",\"method\":\"animate\"},{\"args\":[[\"2008\"],{\"frame\":{\"duration\":0,\"redraw\":true},\"mode\":\"immediate\",\"fromcurrent\":true,\"transition\":{\"duration\":0,\"easing\":\"linear\"}}],\"label\":\"2008\",\"method\":\"animate\"},{\"args\":[[\"2009\"],{\"frame\":{\"duration\":0,\"redraw\":true},\"mode\":\"immediate\",\"fromcurrent\":true,\"transition\":{\"duration\":0,\"easing\":\"linear\"}}],\"label\":\"2009\",\"method\":\"animate\"},{\"args\":[[\"2010\"],{\"frame\":{\"duration\":0,\"redraw\":true},\"mode\":\"immediate\",\"fromcurrent\":true,\"transition\":{\"duration\":0,\"easing\":\"linear\"}}],\"label\":\"2010\",\"method\":\"animate\"},{\"args\":[[\"2011\"],{\"frame\":{\"duration\":0,\"redraw\":true},\"mode\":\"immediate\",\"fromcurrent\":true,\"transition\":{\"duration\":0,\"easing\":\"linear\"}}],\"label\":\"2011\",\"method\":\"animate\"},{\"args\":[[\"2012\"],{\"frame\":{\"duration\":0,\"redraw\":true},\"mode\":\"immediate\",\"fromcurrent\":true,\"transition\":{\"duration\":0,\"easing\":\"linear\"}}],\"label\":\"2012\",\"method\":\"animate\"},{\"args\":[[\"2013\"],{\"frame\":{\"duration\":0,\"redraw\":true},\"mode\":\"immediate\",\"fromcurrent\":true,\"transition\":{\"duration\":0,\"easing\":\"linear\"}}],\"label\":\"2013\",\"method\":\"animate\"},{\"args\":[[\"2014\"],{\"frame\":{\"duration\":0,\"redraw\":true},\"mode\":\"immediate\",\"fromcurrent\":true,\"transition\":{\"duration\":0,\"easing\":\"linear\"}}],\"label\":\"2014\",\"method\":\"animate\"},{\"args\":[[\"2015\"],{\"frame\":{\"duration\":0,\"redraw\":true},\"mode\":\"immediate\",\"fromcurrent\":true,\"transition\":{\"duration\":0,\"easing\":\"linear\"}}],\"label\":\"2015\",\"method\":\"animate\"},{\"args\":[[\"2016\"],{\"frame\":{\"duration\":0,\"redraw\":true},\"mode\":\"immediate\",\"fromcurrent\":true,\"transition\":{\"duration\":0,\"easing\":\"linear\"}}],\"label\":\"2016\",\"method\":\"animate\"},{\"args\":[[\"2017\"],{\"frame\":{\"duration\":0,\"redraw\":true},\"mode\":\"immediate\",\"fromcurrent\":true,\"transition\":{\"duration\":0,\"easing\":\"linear\"}}],\"label\":\"2017\",\"method\":\"animate\"},{\"args\":[[\"2018\"],{\"frame\":{\"duration\":0,\"redraw\":true},\"mode\":\"immediate\",\"fromcurrent\":true,\"transition\":{\"duration\":0,\"easing\":\"linear\"}}],\"label\":\"2018\",\"method\":\"animate\"},{\"args\":[[\"2019\"],{\"frame\":{\"duration\":0,\"redraw\":true},\"mode\":\"immediate\",\"fromcurrent\":true,\"transition\":{\"duration\":0,\"easing\":\"linear\"}}],\"label\":\"2019\",\"method\":\"animate\"},{\"args\":[[\"2020\"],{\"frame\":{\"duration\":0,\"redraw\":true},\"mode\":\"immediate\",\"fromcurrent\":true,\"transition\":{\"duration\":0,\"easing\":\"linear\"}}],\"label\":\"2020\",\"method\":\"animate\"},{\"args\":[[\"2021\"],{\"frame\":{\"duration\":0,\"redraw\":true},\"mode\":\"immediate\",\"fromcurrent\":true,\"transition\":{\"duration\":0,\"easing\":\"linear\"}}],\"label\":\"2021\",\"method\":\"animate\"}],\"x\":0.1,\"xanchor\":\"left\",\"y\":0,\"yanchor\":\"top\"}]},                        {\"responsive\": true}                    ).then(function(){\n",
       "                            Plotly.addFrames('b5810a19-4084-4471-b6a0-e7bf23c9d3e6', [{\"data\":[{\"coloraxis\":\"coloraxis\",\"hovertemplate\":\"year=2000<br>GDP (Billion USD)=%{x}<br>Energy Consumption (TWh)=%{y}<br>count=%{z}<extra></extra>\",\"name\":\"\",\"nbinsx\":20,\"nbinsy\":20,\"x\":[2031676030976.0,2031676030976.0,2718560681984.0,2718560681984.0],\"xaxis\":\"x\",\"xbingroup\":\"x\",\"y\":[3117.909,3117.909,3988.179,3988.179],\"yaxis\":\"y\",\"ybingroup\":\"y\",\"type\":\"histogram2d\"}],\"name\":\"2000\"},{\"data\":[{\"coloraxis\":\"coloraxis\",\"hovertemplate\":\"year=2001<br>GDP (Billion USD)=%{x}<br>Energy Consumption (TWh)=%{y}<br>count=%{z}<extra></extra>\",\"name\":\"\",\"nbinsx\":20,\"nbinsy\":20,\"x\":[2077786767360.0,2077786767360.0],\"xaxis\":\"x\",\"xbingroup\":\"x\",\"y\":[3143.046,3143.046],\"yaxis\":\"y\",\"ybingroup\":\"y\",\"type\":\"histogram2d\"}],\"name\":\"2001\"},{\"data\":[{\"coloraxis\":\"coloraxis\",\"hovertemplate\":\"year=2002<br>GDP (Billion USD)=%{x}<br>Energy Consumption (TWh)=%{y}<br>count=%{z}<extra></extra>\",\"name\":\"\",\"nbinsx\":20,\"nbinsy\":20,\"x\":[2107316502528.0,2107316502528.0,2822441533440.0,2822441533440.0],\"xaxis\":\"x\",\"xbingroup\":\"x\",\"y\":[3118.919,3118.919,4011.723,4011.723],\"yaxis\":\"y\",\"ybingroup\":\"y\",\"type\":\"histogram2d\"}],\"name\":\"2002\"},{\"data\":[{\"coloraxis\":\"coloraxis\",\"hovertemplate\":\"year=2003<br>GDP (Billion USD)=%{x}<br>Energy Consumption (TWh)=%{y}<br>count=%{z}<extra></extra>\",\"name\":\"\",\"nbinsx\":20,\"nbinsy\":20,\"x\":[2130940657664.0,2130940657664.0,2831676080128.0,2831676080128.0],\"xaxis\":\"x\",\"xbingroup\":\"x\",\"y\":[3153.042,3153.042,4010.471,4010.471],\"yaxis\":\"y\",\"ybingroup\":\"y\",\"type\":\"histogram2d\"}],\"name\":\"2003\"},{\"data\":[{\"coloraxis\":\"coloraxis\",\"hovertemplate\":\"year=2004<br>GDP (Billion USD)=%{x}<br>Energy Consumption (TWh)=%{y}<br>count=%{z}<extra></extra>\",\"name\":\"\",\"nbinsx\":20,\"nbinsy\":20,\"x\":[2196883505152.0,2196883505152.0,2894624980992.0,2894624980992.0],\"xaxis\":\"x\",\"xbingroup\":\"x\",\"y\":[3180.13,3180.13,4009.893,4009.893],\"yaxis\":\"y\",\"ybingroup\":\"y\",\"type\":\"histogram2d\"}],\"name\":\"2004\"},{\"data\":[{\"coloraxis\":\"coloraxis\",\"hovertemplate\":\"year=2005<br>GDP (Billion USD)=%{x}<br>Energy Consumption (TWh)=%{y}<br>count=%{z}<extra></extra>\",\"name\":\"\",\"nbinsx\":20,\"nbinsy\":20,\"x\":[225302577152.0,225302577152.0,2238790500352.0,2238790500352.0,2945460994048.0,2945460994048.0],\"xaxis\":\"x\",\"xbingroup\":\"x\",\"y\":[519.632,519.632,3154.079,3154.079,3962.635,3962.635],\"yaxis\":\"y\",\"ybingroup\":\"y\",\"type\":\"histogram2d\"}],\"name\":\"2005\"},{\"data\":[{\"coloraxis\":\"coloraxis\",\"hovertemplate\":\"year=2006<br>GDP (Billion USD)=%{x}<br>Energy Consumption (TWh)=%{y}<br>count=%{z}<extra></extra>\",\"name\":\"\",\"nbinsx\":20,\"nbinsy\":20,\"x\":[243991789568.0,243991789568.0,3086359199744.0,3086359199744.0],\"xaxis\":\"x\",\"xbingroup\":\"x\",\"y\":[529.455,529.455,4062.387,4062.387],\"yaxis\":\"y\",\"ybingroup\":\"y\",\"type\":\"histogram2d\"}],\"name\":\"2006\"},{\"data\":[{\"coloraxis\":\"coloraxis\",\"hovertemplate\":\"year=2007<br>GDP (Billion USD)=%{x}<br>Energy Consumption (TWh)=%{y}<br>count=%{z}<extra></extra>\",\"name\":\"\",\"nbinsx\":20,\"nbinsy\":20,\"x\":[260673044480.0,260673044480.0,3220275724288.0,3220275724288.0],\"xaxis\":\"x\",\"xbingroup\":\"x\",\"y\":[523.705,523.705,3893.423,3893.423],\"yaxis\":\"y\",\"ybingroup\":\"y\",\"type\":\"histogram2d\"}],\"name\":\"2007\"},{\"data\":[{\"coloraxis\":\"coloraxis\",\"hovertemplate\":\"year=2008<br>GDP (Billion USD)=%{x}<br>Energy Consumption (TWh)=%{y}<br>count=%{z}<extra></extra>\",\"name\":\"\",\"nbinsx\":20,\"nbinsy\":20,\"x\":[271709536256.0,271709536256.0,3289020366848.0,3289020366848.0,1510615285760.0,1510615285760.0],\"xaxis\":\"x\",\"xbingroup\":\"x\",\"y\":[513.619,513.619,3934.666,3934.666,1774.594,1774.594],\"yaxis\":\"y\",\"ybingroup\":\"y\",\"type\":\"histogram2d\"}],\"name\":\"2008\"},{\"data\":[{\"coloraxis\":\"coloraxis\",\"hovertemplate\":\"year=2009<br>GDP (Billion USD)=%{x}<br>Energy Consumption (TWh)=%{y}<br>count=%{z}<extra></extra>\",\"name\":\"\",\"nbinsx\":20,\"nbinsy\":20,\"x\":[107365072896.0,107365072896.0,261919703040.0,261919703040.0,3136502104064.0,3136502104064.0,195180904448.0,195180904448.0,1468765831168.0,1468765831168.0],\"xaxis\":\"x\",\"xbingroup\":\"x\",\"y\":[202.106,202.106,492.811,492.811,3692.178,3692.178,272.688,272.688,1652.099,1652.099],\"yaxis\":\"y\",\"ybingroup\":\"y\",\"type\":\"histogram2d\"}],\"name\":\"2009\"},{\"data\":[{\"coloraxis\":\"coloraxis\",\"hovertemplate\":\"year=2010<br>GDP (Billion USD)=%{x}<br>Energy Consumption (TWh)=%{y}<br>count=%{z}<extra></extra>\",\"name\":\"\",\"nbinsx\":20,\"nbinsy\":20,\"x\":[109045211136.0,109045211136.0,271231975424.0,271231975424.0,3301123031040.0,3301123031040.0,200496578560.0,200496578560.0,335489564672.0,335489564672.0,1480376320000.0,1480376320000.0],\"xaxis\":\"x\",\"xbingroup\":\"x\",\"y\":[211.471,211.471,513.649,513.649,3847.151,3847.151,277.827,277.827,396.424,396.424,1692.348,1692.348],\"yaxis\":\"y\",\"ybingroup\":\"y\",\"type\":\"histogram2d\"}],\"name\":\"2010\"},{\"data\":[{\"coloraxis\":\"coloraxis\",\"hovertemplate\":\"year=2011<br>GDP (Billion USD)=%{x}<br>Energy Consumption (TWh)=%{y}<br>count=%{z}<extra></extra>\",\"name\":\"\",\"nbinsx\":20,\"nbinsy\":20,\"x\":[109435363328.0,109435363328.0,279082762240.0,279082762240.0,3467712921600.0,3467712921600.0,208407609344.0,208407609344.0,350086823936.0,350086823936.0,1477187469312.0,1477187469312.0],\"xaxis\":\"x\",\"xbingroup\":\"x\",\"y\":[224.607,224.607,501.976,501.976,3710.584,3710.584,269.464,269.464,408.341,408.341,1661.356,1661.356],\"yaxis\":\"y\",\"ybingroup\":\"y\",\"type\":\"histogram2d\"}],\"name\":\"2011\"},{\"data\":[{\"coloraxis\":\"coloraxis\",\"hovertemplate\":\"year=2012<br>GDP (Billion USD)=%{x}<br>Energy Consumption (TWh)=%{y}<br>count=%{z}<extra></extra>\",\"name\":\"\",\"nbinsx\":20,\"nbinsy\":20,\"x\":[110261510144.0,110261510144.0,276891959296.0,276891959296.0,3482225475584.0,3482225475584.0,205802045440.0,205802045440.0,356825923584.0,356825923584.0,1433478627328.0,1433478627328.0],\"xaxis\":\"x\",\"xbingroup\":\"x\",\"y\":[213.428,213.428,499.438,499.438,3761.916,3761.916,251.116,251.116,393.332,393.332,1647.511,1647.511],\"yaxis\":\"y\",\"ybingroup\":\"y\",\"type\":\"histogram2d\"}],\"name\":\"2012\"},{\"data\":[{\"coloraxis\":\"coloraxis\",\"hovertemplate\":\"year=2013<br>GDP (Billion USD)=%{x}<br>Energy Consumption (TWh)=%{y}<br>count=%{z}<extra></extra>\",\"name\":\"\",\"nbinsx\":20,\"nbinsy\":20,\"x\":[109643522048.0,109643522048.0,276764852224.0,276764852224.0,3497463119872.0,3497463119872.0,209511661568.0,209511661568.0,357789270016.0,357789270016.0,1413362089984.0,1413362089984.0],\"xaxis\":\"x\",\"xbingroup\":\"x\",\"y\":[198.108,198.108,490.221,490.221,3868.517,3868.517,238.041,238.041,369.577,369.577,1578.531,1578.531],\"yaxis\":\"y\",\"ybingroup\":\"y\",\"type\":\"histogram2d\"}],\"name\":\"2013\"},{\"data\":[{\"coloraxis\":\"coloraxis\",\"hovertemplate\":\"year=2014<br>GDP (Billion USD)=%{x}<br>Energy Consumption (TWh)=%{y}<br>count=%{z}<extra></extra>\",\"name\":\"\",\"nbinsx\":20,\"nbinsy\":20,\"x\":[110703534080.0,110703534080.0,283025539072.0,283025539072.0,3574741336064.0,3574741336064.0,218378633216.0,218378633216.0,372532510720.0,372532510720.0,53237653504.0,53237653504.0,1433089474560.0,1433089474560.0,441233309696.0,441233309696.0],\"xaxis\":\"x\",\"xbingroup\":\"x\",\"y\":[211.55,211.55,479.937,479.937,3710.465,3710.465,238.269,238.269,379.116,379.116,82.861,82.861,1554.219,1554.219,1208.371,1208.371],\"yaxis\":\"y\",\"ybingroup\":\"y\",\"type\":\"histogram2d\"}],\"name\":\"2014\"},{\"data\":[{\"coloraxis\":\"coloraxis\",\"hovertemplate\":\"year=2015<br>GDP (Billion USD)=%{x}<br>Energy Consumption (TWh)=%{y}<br>count=%{z}<extra></extra>\",\"name\":\"\",\"nbinsx\":20,\"nbinsy\":20,\"x\":[114498609152.0,114498609152.0,298276061184.0,298276061184.0,3628073746432.0,3628073746432.0,226474622976.0,226474622976.0,384306446336.0,384306446336.0,54414237696.0,54414237696.0,1488098820096.0,1488098820096.0,398045413376.0,398045413376.0],\"xaxis\":\"x\",\"xbingroup\":\"x\",\"y\":[224.68,224.68,470.716,470.716,3780.86,3780.86,251.04,251.04,381.136,381.136,74.716,74.716,1573.144,1573.144,1003.408,1003.408],\"yaxis\":\"y\",\"ybingroup\":\"y\",\"type\":\"histogram2d\"}],\"name\":\"2015\"},{\"data\":[{\"coloraxis\":\"coloraxis\",\"hovertemplate\":\"year=2016<br>GDP (Billion USD)=%{x}<br>Energy Consumption (TWh)=%{y}<br>count=%{z}<extra></extra>\",\"name\":\"\",\"nbinsx\":20,\"nbinsy\":20,\"x\":[117979078656.0,117979078656.0,305844158464.0,305844158464.0,3708980035584.0,3708980035584.0,231459340288.0,231459340288.0,395288248320.0,395288248320.0,56151179264.0,56151179264.0,1533303980032.0,1533303980032.0,407666196480.0,407666196480.0],\"xaxis\":\"x\",\"xbingroup\":\"x\",\"y\":[213.117,213.117,464.374,464.374,3841.451,3841.451,255.495,255.495,381.085,381.085,79.858,79.858,1582.913,1582.913,1049.995,1049.995],\"yaxis\":\"y\",\"ybingroup\":\"y\",\"type\":\"histogram2d\"}],\"name\":\"2016\"},{\"data\":[{\"coloraxis\":\"coloraxis\",\"hovertemplate\":\"year=2017<br>GDP (Billion USD)=%{x}<br>Energy Consumption (TWh)=%{y}<br>count=%{z}<extra></extra>\",\"name\":\"\",\"nbinsx\":20,\"nbinsy\":20,\"x\":[456012365824.0,456012365824.0],\"xaxis\":\"x\",\"xbingroup\":\"x\",\"y\":[387.936,387.936],\"yaxis\":\"y\",\"ybingroup\":\"y\",\"type\":\"histogram2d\"}],\"name\":\"2017\"},{\"data\":[{\"coloraxis\":\"coloraxis\",\"hovertemplate\":\"year=2018<br>GDP (Billion USD)=%{x}<br>Energy Consumption (TWh)=%{y}<br>count=%{z}<extra></extra>\",\"name\":\"\",\"nbinsx\":20,\"nbinsy\":20,\"x\":[473122635776.0,473122635776.0],\"xaxis\":\"x\",\"xbingroup\":\"x\",\"y\":[392.051,392.051],\"yaxis\":\"y\",\"ybingroup\":\"y\",\"type\":\"histogram2d\"}],\"name\":\"2018\"},{\"data\":[{\"coloraxis\":\"coloraxis\",\"hovertemplate\":\"year=2019<br>GDP (Billion USD)=%{x}<br>Energy Consumption (TWh)=%{y}<br>count=%{z}<extra></extra>\",\"name\":\"\",\"nbinsx\":20,\"nbinsy\":20,\"x\":[456564506624.0,456564506624.0],\"xaxis\":\"x\",\"xbingroup\":\"x\",\"y\":[383.818,383.818],\"yaxis\":\"y\",\"ybingroup\":\"y\",\"type\":\"histogram2d\"}],\"name\":\"2019\"},{\"data\":[{\"coloraxis\":\"coloraxis\",\"hovertemplate\":\"year=2020<br>GDP (Billion USD)=%{x}<br>Energy Consumption (TWh)=%{y}<br>count=%{z}<extra></extra>\",\"name\":\"\",\"nbinsx\":20,\"nbinsy\":20,\"x\":[483499376640.0,483499376640.0],\"xaxis\":\"x\",\"xbingroup\":\"x\",\"y\":[369.489,369.489],\"yaxis\":\"y\",\"ybingroup\":\"y\",\"type\":\"histogram2d\"}],\"name\":\"2020\"},{\"data\":[{\"coloraxis\":\"coloraxis\",\"hovertemplate\":\"year=2021<br>GDP (Billion USD)=%{x}<br>Energy Consumption (TWh)=%{y}<br>count=%{z}<extra></extra>\",\"name\":\"\",\"nbinsx\":20,\"nbinsy\":20,\"x\":[505119539200.0,505119539200.0],\"xaxis\":\"x\",\"xbingroup\":\"x\",\"y\":[390.003,390.003],\"yaxis\":\"y\",\"ybingroup\":\"y\",\"type\":\"histogram2d\"}],\"name\":\"2021\"}]);\n",
       "                        }).then(function(){\n",
       "                            \n",
       "var gd = document.getElementById('b5810a19-4084-4471-b6a0-e7bf23c9d3e6');\n",
       "var x = new MutationObserver(function (mutations, observer) {{\n",
       "        var display = window.getComputedStyle(gd).display;\n",
       "        if (!display || display === 'none') {{\n",
       "            console.log([gd, 'removed!']);\n",
       "            Plotly.purge(gd);\n",
       "            observer.disconnect();\n",
       "        }}\n",
       "}});\n",
       "\n",
       "// Listen for the removal of the full notebook cells\n",
       "var notebookContainer = gd.closest('#notebook-container');\n",
       "if (notebookContainer) {{\n",
       "    x.observe(notebookContainer, {childList: true});\n",
       "}}\n",
       "\n",
       "// Listen for the clearing of the current output cell\n",
       "var outputEl = gd.closest('.output');\n",
       "if (outputEl) {{\n",
       "    x.observe(outputEl, {childList: true});\n",
       "}}\n",
       "\n",
       "                        })                };                });            </script>        </div>"
      ]
     },
     "metadata": {},
     "output_type": "display_data"
    }
   ],
   "source": [
    "# Heatmap Animation: GDP vs Energy Consumption by Year\n",
    "\n",
    "fig = px.density_heatmap(\n",
    "    df,\n",
    "    x='gdp',  # GDP on X-axis\n",
    "    y='primary_energy_consumption',  # Primary energy consumption on Y-axis\n",
    "    animation_frame='year',  # Animation over years\n",
    "    title='Heatmap of GDP vs Energy Consumption',\n",
    "    labels={'gdp': 'GDP (Billion USD)', 'primary_energy_consumption': 'Energy Consumption (TWh)'},\n",
    "    nbinsx=20,\n",
    "    nbinsy=20,\n",
    "    color_continuous_scale='Viridis'\n",
    ")\n",
    "\n",
    "fig.update_layout(\n",
    "    template='plotly_white',\n",
    "    xaxis_title=\"GDP (Billion USD)\",\n",
    "    yaxis_title=\"Energy Consumption (TWh)\"\n",
    ")\n",
    "\n",
    "fig.show()\n"
   ]
  },
  {
   "cell_type": "code",
   "execution_count": 52,
   "id": "e167287e",
   "metadata": {},
   "outputs": [
    {
     "data": {
      "application/vnd.plotly.v1+json": {
       "config": {
        "plotlyServerURL": "https://plot.ly"
       },
       "data": [
        {
         "geo": "geo",
         "hovertemplate": "Country=France<br>year=2000<br>Energy Consumption (TWh)=%{marker.size}<br>iso_code=%{location}<extra></extra>",
         "legendgroup": "France",
         "locations": [
          "FRA",
          "FRA"
         ],
         "marker": {
          "color": "#636efa",
          "size": [
           3117.909,
           3117.909
          ],
          "sizemode": "area",
          "sizeref": 10.155967500000001,
          "symbol": "circle"
         },
         "mode": "markers",
         "name": "France",
         "showlegend": true,
         "type": "scattergeo"
        },
        {
         "geo": "geo",
         "hovertemplate": "Country=Germany<br>year=2000<br>Energy Consumption (TWh)=%{marker.size}<br>iso_code=%{location}<extra></extra>",
         "legendgroup": "Germany",
         "locations": [
          "DEU",
          "DEU"
         ],
         "marker": {
          "color": "#EF553B",
          "size": [
           3988.179,
           3988.179
          ],
          "sizemode": "area",
          "sizeref": 10.155967500000001,
          "symbol": "circle"
         },
         "mode": "markers",
         "name": "Germany",
         "showlegend": true,
         "type": "scattergeo"
        }
       ],
       "frames": [
        {
         "data": [
          {
           "geo": "geo",
           "hovertemplate": "Country=France<br>year=2000<br>Energy Consumption (TWh)=%{marker.size}<br>iso_code=%{location}<extra></extra>",
           "legendgroup": "France",
           "locations": [
            "FRA",
            "FRA"
           ],
           "marker": {
            "color": "#636efa",
            "size": [
             3117.909,
             3117.909
            ],
            "sizemode": "area",
            "sizeref": 10.155967500000001,
            "symbol": "circle"
           },
           "mode": "markers",
           "name": "France",
           "showlegend": true,
           "type": "scattergeo"
          },
          {
           "geo": "geo",
           "hovertemplate": "Country=Germany<br>year=2000<br>Energy Consumption (TWh)=%{marker.size}<br>iso_code=%{location}<extra></extra>",
           "legendgroup": "Germany",
           "locations": [
            "DEU",
            "DEU"
           ],
           "marker": {
            "color": "#EF553B",
            "size": [
             3988.179,
             3988.179
            ],
            "sizemode": "area",
            "sizeref": 10.155967500000001,
            "symbol": "circle"
           },
           "mode": "markers",
           "name": "Germany",
           "showlegend": true,
           "type": "scattergeo"
          }
         ],
         "name": "2000"
        },
        {
         "data": [
          {
           "geo": "geo",
           "hovertemplate": "Country=France<br>year=2001<br>Energy Consumption (TWh)=%{marker.size}<br>iso_code=%{location}<extra></extra>",
           "legendgroup": "France",
           "locations": [
            "FRA",
            "FRA"
           ],
           "marker": {
            "color": "#636efa",
            "size": [
             3143.046,
             3143.046
            ],
            "sizemode": "area",
            "sizeref": 10.155967500000001,
            "symbol": "circle"
           },
           "mode": "markers",
           "name": "France",
           "showlegend": true,
           "type": "scattergeo"
          }
         ],
         "name": "2001"
        },
        {
         "data": [
          {
           "geo": "geo",
           "hovertemplate": "Country=France<br>year=2002<br>Energy Consumption (TWh)=%{marker.size}<br>iso_code=%{location}<extra></extra>",
           "legendgroup": "France",
           "locations": [
            "FRA",
            "FRA"
           ],
           "marker": {
            "color": "#636efa",
            "size": [
             3118.919,
             3118.919
            ],
            "sizemode": "area",
            "sizeref": 10.155967500000001,
            "symbol": "circle"
           },
           "mode": "markers",
           "name": "France",
           "showlegend": true,
           "type": "scattergeo"
          },
          {
           "geo": "geo",
           "hovertemplate": "Country=Germany<br>year=2002<br>Energy Consumption (TWh)=%{marker.size}<br>iso_code=%{location}<extra></extra>",
           "legendgroup": "Germany",
           "locations": [
            "DEU",
            "DEU"
           ],
           "marker": {
            "color": "#EF553B",
            "size": [
             4011.723,
             4011.723
            ],
            "sizemode": "area",
            "sizeref": 10.155967500000001,
            "symbol": "circle"
           },
           "mode": "markers",
           "name": "Germany",
           "showlegend": true,
           "type": "scattergeo"
          }
         ],
         "name": "2002"
        },
        {
         "data": [
          {
           "geo": "geo",
           "hovertemplate": "Country=France<br>year=2003<br>Energy Consumption (TWh)=%{marker.size}<br>iso_code=%{location}<extra></extra>",
           "legendgroup": "France",
           "locations": [
            "FRA",
            "FRA"
           ],
           "marker": {
            "color": "#636efa",
            "size": [
             3153.042,
             3153.042
            ],
            "sizemode": "area",
            "sizeref": 10.155967500000001,
            "symbol": "circle"
           },
           "mode": "markers",
           "name": "France",
           "showlegend": true,
           "type": "scattergeo"
          },
          {
           "geo": "geo",
           "hovertemplate": "Country=Germany<br>year=2003<br>Energy Consumption (TWh)=%{marker.size}<br>iso_code=%{location}<extra></extra>",
           "legendgroup": "Germany",
           "locations": [
            "DEU",
            "DEU"
           ],
           "marker": {
            "color": "#EF553B",
            "size": [
             4010.471,
             4010.471
            ],
            "sizemode": "area",
            "sizeref": 10.155967500000001,
            "symbol": "circle"
           },
           "mode": "markers",
           "name": "Germany",
           "showlegend": true,
           "type": "scattergeo"
          }
         ],
         "name": "2003"
        },
        {
         "data": [
          {
           "geo": "geo",
           "hovertemplate": "Country=France<br>year=2004<br>Energy Consumption (TWh)=%{marker.size}<br>iso_code=%{location}<extra></extra>",
           "legendgroup": "France",
           "locations": [
            "FRA",
            "FRA"
           ],
           "marker": {
            "color": "#636efa",
            "size": [
             3180.13,
             3180.13
            ],
            "sizemode": "area",
            "sizeref": 10.155967500000001,
            "symbol": "circle"
           },
           "mode": "markers",
           "name": "France",
           "showlegend": true,
           "type": "scattergeo"
          },
          {
           "geo": "geo",
           "hovertemplate": "Country=Germany<br>year=2004<br>Energy Consumption (TWh)=%{marker.size}<br>iso_code=%{location}<extra></extra>",
           "legendgroup": "Germany",
           "locations": [
            "DEU",
            "DEU"
           ],
           "marker": {
            "color": "#EF553B",
            "size": [
             4009.893,
             4009.893
            ],
            "sizemode": "area",
            "sizeref": 10.155967500000001,
            "symbol": "circle"
           },
           "mode": "markers",
           "name": "Germany",
           "showlegend": true,
           "type": "scattergeo"
          }
         ],
         "name": "2004"
        },
        {
         "data": [
          {
           "geo": "geo",
           "hovertemplate": "Country=France<br>year=2005<br>Energy Consumption (TWh)=%{marker.size}<br>iso_code=%{location}<extra></extra>",
           "legendgroup": "France",
           "locations": [
            "FRA",
            "FRA"
           ],
           "marker": {
            "color": "#636efa",
            "size": [
             3154.079,
             3154.079
            ],
            "sizemode": "area",
            "sizeref": 10.155967500000001,
            "symbol": "circle"
           },
           "mode": "markers",
           "name": "France",
           "showlegend": true,
           "type": "scattergeo"
          },
          {
           "geo": "geo",
           "hovertemplate": "Country=Germany<br>year=2005<br>Energy Consumption (TWh)=%{marker.size}<br>iso_code=%{location}<extra></extra>",
           "legendgroup": "Germany",
           "locations": [
            "DEU",
            "DEU"
           ],
           "marker": {
            "color": "#EF553B",
            "size": [
             3962.635,
             3962.635
            ],
            "sizemode": "area",
            "sizeref": 10.155967500000001,
            "symbol": "circle"
           },
           "mode": "markers",
           "name": "Germany",
           "showlegend": true,
           "type": "scattergeo"
          },
          {
           "geo": "geo",
           "hovertemplate": "Country=Czechia<br>year=2005<br>Energy Consumption (TWh)=%{marker.size}<br>iso_code=%{location}<extra></extra>",
           "legendgroup": "Czechia",
           "locations": [
            "CZE",
            "CZE"
           ],
           "marker": {
            "color": "#00cc96",
            "size": [
             519.632,
             519.632
            ],
            "sizemode": "area",
            "sizeref": 10.155967500000001,
            "symbol": "circle"
           },
           "mode": "markers",
           "name": "Czechia",
           "showlegend": true,
           "type": "scattergeo"
          }
         ],
         "name": "2005"
        },
        {
         "data": [
          {
           "geo": "geo",
           "hovertemplate": "Country=Germany<br>year=2006<br>Energy Consumption (TWh)=%{marker.size}<br>iso_code=%{location}<extra></extra>",
           "legendgroup": "Germany",
           "locations": [
            "DEU",
            "DEU"
           ],
           "marker": {
            "color": "#EF553B",
            "size": [
             4062.387,
             4062.387
            ],
            "sizemode": "area",
            "sizeref": 10.155967500000001,
            "symbol": "circle"
           },
           "mode": "markers",
           "name": "Germany",
           "showlegend": true,
           "type": "scattergeo"
          },
          {
           "geo": "geo",
           "hovertemplate": "Country=Czechia<br>year=2006<br>Energy Consumption (TWh)=%{marker.size}<br>iso_code=%{location}<extra></extra>",
           "legendgroup": "Czechia",
           "locations": [
            "CZE",
            "CZE"
           ],
           "marker": {
            "color": "#00cc96",
            "size": [
             529.455,
             529.455
            ],
            "sizemode": "area",
            "sizeref": 10.155967500000001,
            "symbol": "circle"
           },
           "mode": "markers",
           "name": "Czechia",
           "showlegend": true,
           "type": "scattergeo"
          }
         ],
         "name": "2006"
        },
        {
         "data": [
          {
           "geo": "geo",
           "hovertemplate": "Country=Germany<br>year=2007<br>Energy Consumption (TWh)=%{marker.size}<br>iso_code=%{location}<extra></extra>",
           "legendgroup": "Germany",
           "locations": [
            "DEU",
            "DEU"
           ],
           "marker": {
            "color": "#EF553B",
            "size": [
             3893.423,
             3893.423
            ],
            "sizemode": "area",
            "sizeref": 10.155967500000001,
            "symbol": "circle"
           },
           "mode": "markers",
           "name": "Germany",
           "showlegend": true,
           "type": "scattergeo"
          },
          {
           "geo": "geo",
           "hovertemplate": "Country=Czechia<br>year=2007<br>Energy Consumption (TWh)=%{marker.size}<br>iso_code=%{location}<extra></extra>",
           "legendgroup": "Czechia",
           "locations": [
            "CZE",
            "CZE"
           ],
           "marker": {
            "color": "#00cc96",
            "size": [
             523.705,
             523.705
            ],
            "sizemode": "area",
            "sizeref": 10.155967500000001,
            "symbol": "circle"
           },
           "mode": "markers",
           "name": "Czechia",
           "showlegend": true,
           "type": "scattergeo"
          }
         ],
         "name": "2007"
        },
        {
         "data": [
          {
           "geo": "geo",
           "hovertemplate": "Country=Germany<br>year=2008<br>Energy Consumption (TWh)=%{marker.size}<br>iso_code=%{location}<extra></extra>",
           "legendgroup": "Germany",
           "locations": [
            "DEU",
            "DEU"
           ],
           "marker": {
            "color": "#EF553B",
            "size": [
             3934.666,
             3934.666
            ],
            "sizemode": "area",
            "sizeref": 10.155967500000001,
            "symbol": "circle"
           },
           "mode": "markers",
           "name": "Germany",
           "showlegend": true,
           "type": "scattergeo"
          },
          {
           "geo": "geo",
           "hovertemplate": "Country=Czechia<br>year=2008<br>Energy Consumption (TWh)=%{marker.size}<br>iso_code=%{location}<extra></extra>",
           "legendgroup": "Czechia",
           "locations": [
            "CZE",
            "CZE"
           ],
           "marker": {
            "color": "#00cc96",
            "size": [
             513.619,
             513.619
            ],
            "sizemode": "area",
            "sizeref": 10.155967500000001,
            "symbol": "circle"
           },
           "mode": "markers",
           "name": "Czechia",
           "showlegend": true,
           "type": "scattergeo"
          },
          {
           "geo": "geo",
           "hovertemplate": "Country=Spain<br>year=2008<br>Energy Consumption (TWh)=%{marker.size}<br>iso_code=%{location}<extra></extra>",
           "legendgroup": "Spain",
           "locations": [
            "ESP",
            "ESP"
           ],
           "marker": {
            "color": "#ab63fa",
            "size": [
             1774.594,
             1774.594
            ],
            "sizemode": "area",
            "sizeref": 10.155967500000001,
            "symbol": "circle"
           },
           "mode": "markers",
           "name": "Spain",
           "showlegend": true,
           "type": "scattergeo"
          }
         ],
         "name": "2008"
        },
        {
         "data": [
          {
           "geo": "geo",
           "hovertemplate": "Country=Germany<br>year=2009<br>Energy Consumption (TWh)=%{marker.size}<br>iso_code=%{location}<extra></extra>",
           "legendgroup": "Germany",
           "locations": [
            "DEU",
            "DEU"
           ],
           "marker": {
            "color": "#EF553B",
            "size": [
             3692.178,
             3692.178
            ],
            "sizemode": "area",
            "sizeref": 10.155967500000001,
            "symbol": "circle"
           },
           "mode": "markers",
           "name": "Germany",
           "showlegend": true,
           "type": "scattergeo"
          },
          {
           "geo": "geo",
           "hovertemplate": "Country=Czechia<br>year=2009<br>Energy Consumption (TWh)=%{marker.size}<br>iso_code=%{location}<extra></extra>",
           "legendgroup": "Czechia",
           "locations": [
            "CZE",
            "CZE"
           ],
           "marker": {
            "color": "#00cc96",
            "size": [
             492.811,
             492.811
            ],
            "sizemode": "area",
            "sizeref": 10.155967500000001,
            "symbol": "circle"
           },
           "mode": "markers",
           "name": "Czechia",
           "showlegend": true,
           "type": "scattergeo"
          },
          {
           "geo": "geo",
           "hovertemplate": "Country=Spain<br>year=2009<br>Energy Consumption (TWh)=%{marker.size}<br>iso_code=%{location}<extra></extra>",
           "legendgroup": "Spain",
           "locations": [
            "ESP",
            "ESP"
           ],
           "marker": {
            "color": "#ab63fa",
            "size": [
             1652.099,
             1652.099
            ],
            "sizemode": "area",
            "sizeref": 10.155967500000001,
            "symbol": "circle"
           },
           "mode": "markers",
           "name": "Spain",
           "showlegend": true,
           "type": "scattergeo"
          },
          {
           "geo": "geo",
           "hovertemplate": "Country=Bulgaria<br>year=2009<br>Energy Consumption (TWh)=%{marker.size}<br>iso_code=%{location}<extra></extra>",
           "legendgroup": "Bulgaria",
           "locations": [
            "BGR",
            "BGR"
           ],
           "marker": {
            "color": "#FFA15A",
            "size": [
             202.106,
             202.106
            ],
            "sizemode": "area",
            "sizeref": 10.155967500000001,
            "symbol": "circle"
           },
           "mode": "markers",
           "name": "Bulgaria",
           "showlegend": true,
           "type": "scattergeo"
          },
          {
           "geo": "geo",
           "hovertemplate": "Country=Hungary<br>year=2009<br>Energy Consumption (TWh)=%{marker.size}<br>iso_code=%{location}<extra></extra>",
           "legendgroup": "Hungary",
           "locations": [
            "HUN",
            "HUN"
           ],
           "marker": {
            "color": "#19d3f3",
            "size": [
             272.688,
             272.688
            ],
            "sizemode": "area",
            "sizeref": 10.155967500000001,
            "symbol": "circle"
           },
           "mode": "markers",
           "name": "Hungary",
           "showlegend": true,
           "type": "scattergeo"
          }
         ],
         "name": "2009"
        },
        {
         "data": [
          {
           "geo": "geo",
           "hovertemplate": "Country=Germany<br>year=2010<br>Energy Consumption (TWh)=%{marker.size}<br>iso_code=%{location}<extra></extra>",
           "legendgroup": "Germany",
           "locations": [
            "DEU",
            "DEU"
           ],
           "marker": {
            "color": "#EF553B",
            "size": [
             3847.151,
             3847.151
            ],
            "sizemode": "area",
            "sizeref": 10.155967500000001,
            "symbol": "circle"
           },
           "mode": "markers",
           "name": "Germany",
           "showlegend": true,
           "type": "scattergeo"
          },
          {
           "geo": "geo",
           "hovertemplate": "Country=Czechia<br>year=2010<br>Energy Consumption (TWh)=%{marker.size}<br>iso_code=%{location}<extra></extra>",
           "legendgroup": "Czechia",
           "locations": [
            "CZE",
            "CZE"
           ],
           "marker": {
            "color": "#00cc96",
            "size": [
             513.649,
             513.649
            ],
            "sizemode": "area",
            "sizeref": 10.155967500000001,
            "symbol": "circle"
           },
           "mode": "markers",
           "name": "Czechia",
           "showlegend": true,
           "type": "scattergeo"
          },
          {
           "geo": "geo",
           "hovertemplate": "Country=Spain<br>year=2010<br>Energy Consumption (TWh)=%{marker.size}<br>iso_code=%{location}<extra></extra>",
           "legendgroup": "Spain",
           "locations": [
            "ESP",
            "ESP"
           ],
           "marker": {
            "color": "#ab63fa",
            "size": [
             1692.348,
             1692.348
            ],
            "sizemode": "area",
            "sizeref": 10.155967500000001,
            "symbol": "circle"
           },
           "mode": "markers",
           "name": "Spain",
           "showlegend": true,
           "type": "scattergeo"
          },
          {
           "geo": "geo",
           "hovertemplate": "Country=Bulgaria<br>year=2010<br>Energy Consumption (TWh)=%{marker.size}<br>iso_code=%{location}<extra></extra>",
           "legendgroup": "Bulgaria",
           "locations": [
            "BGR",
            "BGR"
           ],
           "marker": {
            "color": "#FFA15A",
            "size": [
             211.471,
             211.471
            ],
            "sizemode": "area",
            "sizeref": 10.155967500000001,
            "symbol": "circle"
           },
           "mode": "markers",
           "name": "Bulgaria",
           "showlegend": true,
           "type": "scattergeo"
          },
          {
           "geo": "geo",
           "hovertemplate": "Country=Hungary<br>year=2010<br>Energy Consumption (TWh)=%{marker.size}<br>iso_code=%{location}<extra></extra>",
           "legendgroup": "Hungary",
           "locations": [
            "HUN",
            "HUN"
           ],
           "marker": {
            "color": "#19d3f3",
            "size": [
             277.827,
             277.827
            ],
            "sizemode": "area",
            "sizeref": 10.155967500000001,
            "symbol": "circle"
           },
           "mode": "markers",
           "name": "Hungary",
           "showlegend": true,
           "type": "scattergeo"
          },
          {
           "geo": "geo",
           "hovertemplate": "Country=Romania<br>year=2010<br>Energy Consumption (TWh)=%{marker.size}<br>iso_code=%{location}<extra></extra>",
           "legendgroup": "Romania",
           "locations": [
            "ROU",
            "ROU"
           ],
           "marker": {
            "color": "#FF6692",
            "size": [
             396.424,
             396.424
            ],
            "sizemode": "area",
            "sizeref": 10.155967500000001,
            "symbol": "circle"
           },
           "mode": "markers",
           "name": "Romania",
           "showlegend": true,
           "type": "scattergeo"
          }
         ],
         "name": "2010"
        },
        {
         "data": [
          {
           "geo": "geo",
           "hovertemplate": "Country=Germany<br>year=2011<br>Energy Consumption (TWh)=%{marker.size}<br>iso_code=%{location}<extra></extra>",
           "legendgroup": "Germany",
           "locations": [
            "DEU",
            "DEU"
           ],
           "marker": {
            "color": "#EF553B",
            "size": [
             3710.584,
             3710.584
            ],
            "sizemode": "area",
            "sizeref": 10.155967500000001,
            "symbol": "circle"
           },
           "mode": "markers",
           "name": "Germany",
           "showlegend": true,
           "type": "scattergeo"
          },
          {
           "geo": "geo",
           "hovertemplate": "Country=Czechia<br>year=2011<br>Energy Consumption (TWh)=%{marker.size}<br>iso_code=%{location}<extra></extra>",
           "legendgroup": "Czechia",
           "locations": [
            "CZE",
            "CZE"
           ],
           "marker": {
            "color": "#00cc96",
            "size": [
             501.976,
             501.976
            ],
            "sizemode": "area",
            "sizeref": 10.155967500000001,
            "symbol": "circle"
           },
           "mode": "markers",
           "name": "Czechia",
           "showlegend": true,
           "type": "scattergeo"
          },
          {
           "geo": "geo",
           "hovertemplate": "Country=Spain<br>year=2011<br>Energy Consumption (TWh)=%{marker.size}<br>iso_code=%{location}<extra></extra>",
           "legendgroup": "Spain",
           "locations": [
            "ESP",
            "ESP"
           ],
           "marker": {
            "color": "#ab63fa",
            "size": [
             1661.356,
             1661.356
            ],
            "sizemode": "area",
            "sizeref": 10.155967500000001,
            "symbol": "circle"
           },
           "mode": "markers",
           "name": "Spain",
           "showlegend": true,
           "type": "scattergeo"
          },
          {
           "geo": "geo",
           "hovertemplate": "Country=Bulgaria<br>year=2011<br>Energy Consumption (TWh)=%{marker.size}<br>iso_code=%{location}<extra></extra>",
           "legendgroup": "Bulgaria",
           "locations": [
            "BGR",
            "BGR"
           ],
           "marker": {
            "color": "#FFA15A",
            "size": [
             224.607,
             224.607
            ],
            "sizemode": "area",
            "sizeref": 10.155967500000001,
            "symbol": "circle"
           },
           "mode": "markers",
           "name": "Bulgaria",
           "showlegend": true,
           "type": "scattergeo"
          },
          {
           "geo": "geo",
           "hovertemplate": "Country=Hungary<br>year=2011<br>Energy Consumption (TWh)=%{marker.size}<br>iso_code=%{location}<extra></extra>",
           "legendgroup": "Hungary",
           "locations": [
            "HUN",
            "HUN"
           ],
           "marker": {
            "color": "#19d3f3",
            "size": [
             269.464,
             269.464
            ],
            "sizemode": "area",
            "sizeref": 10.155967500000001,
            "symbol": "circle"
           },
           "mode": "markers",
           "name": "Hungary",
           "showlegend": true,
           "type": "scattergeo"
          },
          {
           "geo": "geo",
           "hovertemplate": "Country=Romania<br>year=2011<br>Energy Consumption (TWh)=%{marker.size}<br>iso_code=%{location}<extra></extra>",
           "legendgroup": "Romania",
           "locations": [
            "ROU",
            "ROU"
           ],
           "marker": {
            "color": "#FF6692",
            "size": [
             408.341,
             408.341
            ],
            "sizemode": "area",
            "sizeref": 10.155967500000001,
            "symbol": "circle"
           },
           "mode": "markers",
           "name": "Romania",
           "showlegend": true,
           "type": "scattergeo"
          }
         ],
         "name": "2011"
        },
        {
         "data": [
          {
           "geo": "geo",
           "hovertemplate": "Country=Germany<br>year=2012<br>Energy Consumption (TWh)=%{marker.size}<br>iso_code=%{location}<extra></extra>",
           "legendgroup": "Germany",
           "locations": [
            "DEU",
            "DEU"
           ],
           "marker": {
            "color": "#EF553B",
            "size": [
             3761.916,
             3761.916
            ],
            "sizemode": "area",
            "sizeref": 10.155967500000001,
            "symbol": "circle"
           },
           "mode": "markers",
           "name": "Germany",
           "showlegend": true,
           "type": "scattergeo"
          },
          {
           "geo": "geo",
           "hovertemplate": "Country=Czechia<br>year=2012<br>Energy Consumption (TWh)=%{marker.size}<br>iso_code=%{location}<extra></extra>",
           "legendgroup": "Czechia",
           "locations": [
            "CZE",
            "CZE"
           ],
           "marker": {
            "color": "#00cc96",
            "size": [
             499.438,
             499.438
            ],
            "sizemode": "area",
            "sizeref": 10.155967500000001,
            "symbol": "circle"
           },
           "mode": "markers",
           "name": "Czechia",
           "showlegend": true,
           "type": "scattergeo"
          },
          {
           "geo": "geo",
           "hovertemplate": "Country=Spain<br>year=2012<br>Energy Consumption (TWh)=%{marker.size}<br>iso_code=%{location}<extra></extra>",
           "legendgroup": "Spain",
           "locations": [
            "ESP",
            "ESP"
           ],
           "marker": {
            "color": "#ab63fa",
            "size": [
             1647.511,
             1647.511
            ],
            "sizemode": "area",
            "sizeref": 10.155967500000001,
            "symbol": "circle"
           },
           "mode": "markers",
           "name": "Spain",
           "showlegend": true,
           "type": "scattergeo"
          },
          {
           "geo": "geo",
           "hovertemplate": "Country=Bulgaria<br>year=2012<br>Energy Consumption (TWh)=%{marker.size}<br>iso_code=%{location}<extra></extra>",
           "legendgroup": "Bulgaria",
           "locations": [
            "BGR",
            "BGR"
           ],
           "marker": {
            "color": "#FFA15A",
            "size": [
             213.428,
             213.428
            ],
            "sizemode": "area",
            "sizeref": 10.155967500000001,
            "symbol": "circle"
           },
           "mode": "markers",
           "name": "Bulgaria",
           "showlegend": true,
           "type": "scattergeo"
          },
          {
           "geo": "geo",
           "hovertemplate": "Country=Hungary<br>year=2012<br>Energy Consumption (TWh)=%{marker.size}<br>iso_code=%{location}<extra></extra>",
           "legendgroup": "Hungary",
           "locations": [
            "HUN",
            "HUN"
           ],
           "marker": {
            "color": "#19d3f3",
            "size": [
             251.116,
             251.116
            ],
            "sizemode": "area",
            "sizeref": 10.155967500000001,
            "symbol": "circle"
           },
           "mode": "markers",
           "name": "Hungary",
           "showlegend": true,
           "type": "scattergeo"
          },
          {
           "geo": "geo",
           "hovertemplate": "Country=Romania<br>year=2012<br>Energy Consumption (TWh)=%{marker.size}<br>iso_code=%{location}<extra></extra>",
           "legendgroup": "Romania",
           "locations": [
            "ROU",
            "ROU"
           ],
           "marker": {
            "color": "#FF6692",
            "size": [
             393.332,
             393.332
            ],
            "sizemode": "area",
            "sizeref": 10.155967500000001,
            "symbol": "circle"
           },
           "mode": "markers",
           "name": "Romania",
           "showlegend": true,
           "type": "scattergeo"
          }
         ],
         "name": "2012"
        },
        {
         "data": [
          {
           "geo": "geo",
           "hovertemplate": "Country=Germany<br>year=2013<br>Energy Consumption (TWh)=%{marker.size}<br>iso_code=%{location}<extra></extra>",
           "legendgroup": "Germany",
           "locations": [
            "DEU",
            "DEU"
           ],
           "marker": {
            "color": "#EF553B",
            "size": [
             3868.517,
             3868.517
            ],
            "sizemode": "area",
            "sizeref": 10.155967500000001,
            "symbol": "circle"
           },
           "mode": "markers",
           "name": "Germany",
           "showlegend": true,
           "type": "scattergeo"
          },
          {
           "geo": "geo",
           "hovertemplate": "Country=Czechia<br>year=2013<br>Energy Consumption (TWh)=%{marker.size}<br>iso_code=%{location}<extra></extra>",
           "legendgroup": "Czechia",
           "locations": [
            "CZE",
            "CZE"
           ],
           "marker": {
            "color": "#00cc96",
            "size": [
             490.221,
             490.221
            ],
            "sizemode": "area",
            "sizeref": 10.155967500000001,
            "symbol": "circle"
           },
           "mode": "markers",
           "name": "Czechia",
           "showlegend": true,
           "type": "scattergeo"
          },
          {
           "geo": "geo",
           "hovertemplate": "Country=Spain<br>year=2013<br>Energy Consumption (TWh)=%{marker.size}<br>iso_code=%{location}<extra></extra>",
           "legendgroup": "Spain",
           "locations": [
            "ESP",
            "ESP"
           ],
           "marker": {
            "color": "#ab63fa",
            "size": [
             1578.531,
             1578.531
            ],
            "sizemode": "area",
            "sizeref": 10.155967500000001,
            "symbol": "circle"
           },
           "mode": "markers",
           "name": "Spain",
           "showlegend": true,
           "type": "scattergeo"
          },
          {
           "geo": "geo",
           "hovertemplate": "Country=Bulgaria<br>year=2013<br>Energy Consumption (TWh)=%{marker.size}<br>iso_code=%{location}<extra></extra>",
           "legendgroup": "Bulgaria",
           "locations": [
            "BGR",
            "BGR"
           ],
           "marker": {
            "color": "#FFA15A",
            "size": [
             198.108,
             198.108
            ],
            "sizemode": "area",
            "sizeref": 10.155967500000001,
            "symbol": "circle"
           },
           "mode": "markers",
           "name": "Bulgaria",
           "showlegend": true,
           "type": "scattergeo"
          },
          {
           "geo": "geo",
           "hovertemplate": "Country=Hungary<br>year=2013<br>Energy Consumption (TWh)=%{marker.size}<br>iso_code=%{location}<extra></extra>",
           "legendgroup": "Hungary",
           "locations": [
            "HUN",
            "HUN"
           ],
           "marker": {
            "color": "#19d3f3",
            "size": [
             238.041,
             238.041
            ],
            "sizemode": "area",
            "sizeref": 10.155967500000001,
            "symbol": "circle"
           },
           "mode": "markers",
           "name": "Hungary",
           "showlegend": true,
           "type": "scattergeo"
          },
          {
           "geo": "geo",
           "hovertemplate": "Country=Romania<br>year=2013<br>Energy Consumption (TWh)=%{marker.size}<br>iso_code=%{location}<extra></extra>",
           "legendgroup": "Romania",
           "locations": [
            "ROU",
            "ROU"
           ],
           "marker": {
            "color": "#FF6692",
            "size": [
             369.577,
             369.577
            ],
            "sizemode": "area",
            "sizeref": 10.155967500000001,
            "symbol": "circle"
           },
           "mode": "markers",
           "name": "Romania",
           "showlegend": true,
           "type": "scattergeo"
          }
         ],
         "name": "2013"
        },
        {
         "data": [
          {
           "geo": "geo",
           "hovertemplate": "Country=Germany<br>year=2014<br>Energy Consumption (TWh)=%{marker.size}<br>iso_code=%{location}<extra></extra>",
           "legendgroup": "Germany",
           "locations": [
            "DEU",
            "DEU"
           ],
           "marker": {
            "color": "#EF553B",
            "size": [
             3710.465,
             3710.465
            ],
            "sizemode": "area",
            "sizeref": 10.155967500000001,
            "symbol": "circle"
           },
           "mode": "markers",
           "name": "Germany",
           "showlegend": true,
           "type": "scattergeo"
          },
          {
           "geo": "geo",
           "hovertemplate": "Country=Czechia<br>year=2014<br>Energy Consumption (TWh)=%{marker.size}<br>iso_code=%{location}<extra></extra>",
           "legendgroup": "Czechia",
           "locations": [
            "CZE",
            "CZE"
           ],
           "marker": {
            "color": "#00cc96",
            "size": [
             479.937,
             479.937
            ],
            "sizemode": "area",
            "sizeref": 10.155967500000001,
            "symbol": "circle"
           },
           "mode": "markers",
           "name": "Czechia",
           "showlegend": true,
           "type": "scattergeo"
          },
          {
           "geo": "geo",
           "hovertemplate": "Country=Spain<br>year=2014<br>Energy Consumption (TWh)=%{marker.size}<br>iso_code=%{location}<extra></extra>",
           "legendgroup": "Spain",
           "locations": [
            "ESP",
            "ESP"
           ],
           "marker": {
            "color": "#ab63fa",
            "size": [
             1554.219,
             1554.219
            ],
            "sizemode": "area",
            "sizeref": 10.155967500000001,
            "symbol": "circle"
           },
           "mode": "markers",
           "name": "Spain",
           "showlegend": true,
           "type": "scattergeo"
          },
          {
           "geo": "geo",
           "hovertemplate": "Country=Bulgaria<br>year=2014<br>Energy Consumption (TWh)=%{marker.size}<br>iso_code=%{location}<extra></extra>",
           "legendgroup": "Bulgaria",
           "locations": [
            "BGR",
            "BGR"
           ],
           "marker": {
            "color": "#FFA15A",
            "size": [
             211.55,
             211.55
            ],
            "sizemode": "area",
            "sizeref": 10.155967500000001,
            "symbol": "circle"
           },
           "mode": "markers",
           "name": "Bulgaria",
           "showlegend": true,
           "type": "scattergeo"
          },
          {
           "geo": "geo",
           "hovertemplate": "Country=Hungary<br>year=2014<br>Energy Consumption (TWh)=%{marker.size}<br>iso_code=%{location}<extra></extra>",
           "legendgroup": "Hungary",
           "locations": [
            "HUN",
            "HUN"
           ],
           "marker": {
            "color": "#19d3f3",
            "size": [
             238.269,
             238.269
            ],
            "sizemode": "area",
            "sizeref": 10.155967500000001,
            "symbol": "circle"
           },
           "mode": "markers",
           "name": "Hungary",
           "showlegend": true,
           "type": "scattergeo"
          },
          {
           "geo": "geo",
           "hovertemplate": "Country=Romania<br>year=2014<br>Energy Consumption (TWh)=%{marker.size}<br>iso_code=%{location}<extra></extra>",
           "legendgroup": "Romania",
           "locations": [
            "ROU",
            "ROU"
           ],
           "marker": {
            "color": "#FF6692",
            "size": [
             379.116,
             379.116
            ],
            "sizemode": "area",
            "sizeref": 10.155967500000001,
            "symbol": "circle"
           },
           "mode": "markers",
           "name": "Romania",
           "showlegend": true,
           "type": "scattergeo"
          },
          {
           "geo": "geo",
           "hovertemplate": "Country=Slovenia<br>year=2014<br>Energy Consumption (TWh)=%{marker.size}<br>iso_code=%{location}<extra></extra>",
           "legendgroup": "Slovenia",
           "locations": [
            "SVN",
            "SVN"
           ],
           "marker": {
            "color": "#B6E880",
            "size": [
             82.861,
             82.861
            ],
            "sizemode": "area",
            "sizeref": 10.155967500000001,
            "symbol": "circle"
           },
           "mode": "markers",
           "name": "Slovenia",
           "showlegend": true,
           "type": "scattergeo"
          },
          {
           "geo": "geo",
           "hovertemplate": "Country=Ukraine<br>year=2014<br>Energy Consumption (TWh)=%{marker.size}<br>iso_code=%{location}<extra></extra>",
           "legendgroup": "Ukraine",
           "locations": [
            "UKR",
            "UKR"
           ],
           "marker": {
            "color": "#FF97FF",
            "size": [
             1208.371,
             1208.371
            ],
            "sizemode": "area",
            "sizeref": 10.155967500000001,
            "symbol": "circle"
           },
           "mode": "markers",
           "name": "Ukraine",
           "showlegend": true,
           "type": "scattergeo"
          }
         ],
         "name": "2014"
        },
        {
         "data": [
          {
           "geo": "geo",
           "hovertemplate": "Country=Germany<br>year=2015<br>Energy Consumption (TWh)=%{marker.size}<br>iso_code=%{location}<extra></extra>",
           "legendgroup": "Germany",
           "locations": [
            "DEU",
            "DEU"
           ],
           "marker": {
            "color": "#EF553B",
            "size": [
             3780.86,
             3780.86
            ],
            "sizemode": "area",
            "sizeref": 10.155967500000001,
            "symbol": "circle"
           },
           "mode": "markers",
           "name": "Germany",
           "showlegend": true,
           "type": "scattergeo"
          },
          {
           "geo": "geo",
           "hovertemplate": "Country=Czechia<br>year=2015<br>Energy Consumption (TWh)=%{marker.size}<br>iso_code=%{location}<extra></extra>",
           "legendgroup": "Czechia",
           "locations": [
            "CZE",
            "CZE"
           ],
           "marker": {
            "color": "#00cc96",
            "size": [
             470.716,
             470.716
            ],
            "sizemode": "area",
            "sizeref": 10.155967500000001,
            "symbol": "circle"
           },
           "mode": "markers",
           "name": "Czechia",
           "showlegend": true,
           "type": "scattergeo"
          },
          {
           "geo": "geo",
           "hovertemplate": "Country=Spain<br>year=2015<br>Energy Consumption (TWh)=%{marker.size}<br>iso_code=%{location}<extra></extra>",
           "legendgroup": "Spain",
           "locations": [
            "ESP",
            "ESP"
           ],
           "marker": {
            "color": "#ab63fa",
            "size": [
             1573.144,
             1573.144
            ],
            "sizemode": "area",
            "sizeref": 10.155967500000001,
            "symbol": "circle"
           },
           "mode": "markers",
           "name": "Spain",
           "showlegend": true,
           "type": "scattergeo"
          },
          {
           "geo": "geo",
           "hovertemplate": "Country=Bulgaria<br>year=2015<br>Energy Consumption (TWh)=%{marker.size}<br>iso_code=%{location}<extra></extra>",
           "legendgroup": "Bulgaria",
           "locations": [
            "BGR",
            "BGR"
           ],
           "marker": {
            "color": "#FFA15A",
            "size": [
             224.68,
             224.68
            ],
            "sizemode": "area",
            "sizeref": 10.155967500000001,
            "symbol": "circle"
           },
           "mode": "markers",
           "name": "Bulgaria",
           "showlegend": true,
           "type": "scattergeo"
          },
          {
           "geo": "geo",
           "hovertemplate": "Country=Hungary<br>year=2015<br>Energy Consumption (TWh)=%{marker.size}<br>iso_code=%{location}<extra></extra>",
           "legendgroup": "Hungary",
           "locations": [
            "HUN",
            "HUN"
           ],
           "marker": {
            "color": "#19d3f3",
            "size": [
             251.04,
             251.04
            ],
            "sizemode": "area",
            "sizeref": 10.155967500000001,
            "symbol": "circle"
           },
           "mode": "markers",
           "name": "Hungary",
           "showlegend": true,
           "type": "scattergeo"
          },
          {
           "geo": "geo",
           "hovertemplate": "Country=Romania<br>year=2015<br>Energy Consumption (TWh)=%{marker.size}<br>iso_code=%{location}<extra></extra>",
           "legendgroup": "Romania",
           "locations": [
            "ROU",
            "ROU"
           ],
           "marker": {
            "color": "#FF6692",
            "size": [
             381.136,
             381.136
            ],
            "sizemode": "area",
            "sizeref": 10.155967500000001,
            "symbol": "circle"
           },
           "mode": "markers",
           "name": "Romania",
           "showlegend": true,
           "type": "scattergeo"
          },
          {
           "geo": "geo",
           "hovertemplate": "Country=Slovenia<br>year=2015<br>Energy Consumption (TWh)=%{marker.size}<br>iso_code=%{location}<extra></extra>",
           "legendgroup": "Slovenia",
           "locations": [
            "SVN",
            "SVN"
           ],
           "marker": {
            "color": "#B6E880",
            "size": [
             74.716,
             74.716
            ],
            "sizemode": "area",
            "sizeref": 10.155967500000001,
            "symbol": "circle"
           },
           "mode": "markers",
           "name": "Slovenia",
           "showlegend": true,
           "type": "scattergeo"
          },
          {
           "geo": "geo",
           "hovertemplate": "Country=Ukraine<br>year=2015<br>Energy Consumption (TWh)=%{marker.size}<br>iso_code=%{location}<extra></extra>",
           "legendgroup": "Ukraine",
           "locations": [
            "UKR",
            "UKR"
           ],
           "marker": {
            "color": "#FF97FF",
            "size": [
             1003.408,
             1003.408
            ],
            "sizemode": "area",
            "sizeref": 10.155967500000001,
            "symbol": "circle"
           },
           "mode": "markers",
           "name": "Ukraine",
           "showlegend": true,
           "type": "scattergeo"
          }
         ],
         "name": "2015"
        },
        {
         "data": [
          {
           "geo": "geo",
           "hovertemplate": "Country=Germany<br>year=2016<br>Energy Consumption (TWh)=%{marker.size}<br>iso_code=%{location}<extra></extra>",
           "legendgroup": "Germany",
           "locations": [
            "DEU",
            "DEU"
           ],
           "marker": {
            "color": "#EF553B",
            "size": [
             3841.451,
             3841.451
            ],
            "sizemode": "area",
            "sizeref": 10.155967500000001,
            "symbol": "circle"
           },
           "mode": "markers",
           "name": "Germany",
           "showlegend": true,
           "type": "scattergeo"
          },
          {
           "geo": "geo",
           "hovertemplate": "Country=Czechia<br>year=2016<br>Energy Consumption (TWh)=%{marker.size}<br>iso_code=%{location}<extra></extra>",
           "legendgroup": "Czechia",
           "locations": [
            "CZE",
            "CZE"
           ],
           "marker": {
            "color": "#00cc96",
            "size": [
             464.374,
             464.374
            ],
            "sizemode": "area",
            "sizeref": 10.155967500000001,
            "symbol": "circle"
           },
           "mode": "markers",
           "name": "Czechia",
           "showlegend": true,
           "type": "scattergeo"
          },
          {
           "geo": "geo",
           "hovertemplate": "Country=Spain<br>year=2016<br>Energy Consumption (TWh)=%{marker.size}<br>iso_code=%{location}<extra></extra>",
           "legendgroup": "Spain",
           "locations": [
            "ESP",
            "ESP"
           ],
           "marker": {
            "color": "#ab63fa",
            "size": [
             1582.913,
             1582.913
            ],
            "sizemode": "area",
            "sizeref": 10.155967500000001,
            "symbol": "circle"
           },
           "mode": "markers",
           "name": "Spain",
           "showlegend": true,
           "type": "scattergeo"
          },
          {
           "geo": "geo",
           "hovertemplate": "Country=Bulgaria<br>year=2016<br>Energy Consumption (TWh)=%{marker.size}<br>iso_code=%{location}<extra></extra>",
           "legendgroup": "Bulgaria",
           "locations": [
            "BGR",
            "BGR"
           ],
           "marker": {
            "color": "#FFA15A",
            "size": [
             213.117,
             213.117
            ],
            "sizemode": "area",
            "sizeref": 10.155967500000001,
            "symbol": "circle"
           },
           "mode": "markers",
           "name": "Bulgaria",
           "showlegend": true,
           "type": "scattergeo"
          },
          {
           "geo": "geo",
           "hovertemplate": "Country=Hungary<br>year=2016<br>Energy Consumption (TWh)=%{marker.size}<br>iso_code=%{location}<extra></extra>",
           "legendgroup": "Hungary",
           "locations": [
            "HUN",
            "HUN"
           ],
           "marker": {
            "color": "#19d3f3",
            "size": [
             255.495,
             255.495
            ],
            "sizemode": "area",
            "sizeref": 10.155967500000001,
            "symbol": "circle"
           },
           "mode": "markers",
           "name": "Hungary",
           "showlegend": true,
           "type": "scattergeo"
          },
          {
           "geo": "geo",
           "hovertemplate": "Country=Romania<br>year=2016<br>Energy Consumption (TWh)=%{marker.size}<br>iso_code=%{location}<extra></extra>",
           "legendgroup": "Romania",
           "locations": [
            "ROU",
            "ROU"
           ],
           "marker": {
            "color": "#FF6692",
            "size": [
             381.085,
             381.085
            ],
            "sizemode": "area",
            "sizeref": 10.155967500000001,
            "symbol": "circle"
           },
           "mode": "markers",
           "name": "Romania",
           "showlegend": true,
           "type": "scattergeo"
          },
          {
           "geo": "geo",
           "hovertemplate": "Country=Slovenia<br>year=2016<br>Energy Consumption (TWh)=%{marker.size}<br>iso_code=%{location}<extra></extra>",
           "legendgroup": "Slovenia",
           "locations": [
            "SVN",
            "SVN"
           ],
           "marker": {
            "color": "#B6E880",
            "size": [
             79.858,
             79.858
            ],
            "sizemode": "area",
            "sizeref": 10.155967500000001,
            "symbol": "circle"
           },
           "mode": "markers",
           "name": "Slovenia",
           "showlegend": true,
           "type": "scattergeo"
          },
          {
           "geo": "geo",
           "hovertemplate": "Country=Ukraine<br>year=2016<br>Energy Consumption (TWh)=%{marker.size}<br>iso_code=%{location}<extra></extra>",
           "legendgroup": "Ukraine",
           "locations": [
            "UKR",
            "UKR"
           ],
           "marker": {
            "color": "#FF97FF",
            "size": [
             1049.995,
             1049.995
            ],
            "sizemode": "area",
            "sizeref": 10.155967500000001,
            "symbol": "circle"
           },
           "mode": "markers",
           "name": "Ukraine",
           "showlegend": true,
           "type": "scattergeo"
          }
         ],
         "name": "2016"
        },
        {
         "data": [
          {
           "geo": "geo",
           "hovertemplate": "Country=Romania<br>year=2017<br>Energy Consumption (TWh)=%{marker.size}<br>iso_code=%{location}<extra></extra>",
           "legendgroup": "Romania",
           "locations": [
            "ROU",
            "ROU"
           ],
           "marker": {
            "color": "#FF6692",
            "size": [
             387.936,
             387.936
            ],
            "sizemode": "area",
            "sizeref": 10.155967500000001,
            "symbol": "circle"
           },
           "mode": "markers",
           "name": "Romania",
           "showlegend": true,
           "type": "scattergeo"
          }
         ],
         "name": "2017"
        },
        {
         "data": [
          {
           "geo": "geo",
           "hovertemplate": "Country=Romania<br>year=2018<br>Energy Consumption (TWh)=%{marker.size}<br>iso_code=%{location}<extra></extra>",
           "legendgroup": "Romania",
           "locations": [
            "ROU",
            "ROU"
           ],
           "marker": {
            "color": "#FF6692",
            "size": [
             392.051,
             392.051
            ],
            "sizemode": "area",
            "sizeref": 10.155967500000001,
            "symbol": "circle"
           },
           "mode": "markers",
           "name": "Romania",
           "showlegend": true,
           "type": "scattergeo"
          }
         ],
         "name": "2018"
        },
        {
         "data": [
          {
           "geo": "geo",
           "hovertemplate": "Country=Romania<br>year=2019<br>Energy Consumption (TWh)=%{marker.size}<br>iso_code=%{location}<extra></extra>",
           "legendgroup": "Romania",
           "locations": [
            "ROU",
            "ROU"
           ],
           "marker": {
            "color": "#FF6692",
            "size": [
             383.818,
             383.818
            ],
            "sizemode": "area",
            "sizeref": 10.155967500000001,
            "symbol": "circle"
           },
           "mode": "markers",
           "name": "Romania",
           "showlegend": true,
           "type": "scattergeo"
          }
         ],
         "name": "2019"
        },
        {
         "data": [
          {
           "geo": "geo",
           "hovertemplate": "Country=Romania<br>year=2020<br>Energy Consumption (TWh)=%{marker.size}<br>iso_code=%{location}<extra></extra>",
           "legendgroup": "Romania",
           "locations": [
            "ROU",
            "ROU"
           ],
           "marker": {
            "color": "#FF6692",
            "size": [
             369.489,
             369.489
            ],
            "sizemode": "area",
            "sizeref": 10.155967500000001,
            "symbol": "circle"
           },
           "mode": "markers",
           "name": "Romania",
           "showlegend": true,
           "type": "scattergeo"
          }
         ],
         "name": "2020"
        },
        {
         "data": [
          {
           "geo": "geo",
           "hovertemplate": "Country=Romania<br>year=2021<br>Energy Consumption (TWh)=%{marker.size}<br>iso_code=%{location}<extra></extra>",
           "legendgroup": "Romania",
           "locations": [
            "ROU",
            "ROU"
           ],
           "marker": {
            "color": "#FF6692",
            "size": [
             390.003,
             390.003
            ],
            "sizemode": "area",
            "sizeref": 10.155967500000001,
            "symbol": "circle"
           },
           "mode": "markers",
           "name": "Romania",
           "showlegend": true,
           "type": "scattergeo"
          }
         ],
         "name": "2021"
        }
       ],
       "layout": {
        "geo": {
         "center": {},
         "domain": {
          "x": [
           0,
           1
          ],
          "y": [
           0,
           1
          ]
         },
         "projection": {
          "type": "natural earth"
         }
        },
        "legend": {
         "itemsizing": "constant",
         "title": {
          "text": "Country"
         },
         "tracegroupgap": 0
        },
        "sliders": [
         {
          "active": 0,
          "currentvalue": {
           "prefix": "year="
          },
          "len": 0.9,
          "pad": {
           "b": 10,
           "t": 60
          },
          "steps": [
           {
            "args": [
             [
              "2000"
             ],
             {
              "frame": {
               "duration": 0,
               "redraw": true
              },
              "fromcurrent": true,
              "mode": "immediate",
              "transition": {
               "duration": 0,
               "easing": "linear"
              }
             }
            ],
            "label": "2000",
            "method": "animate"
           },
           {
            "args": [
             [
              "2001"
             ],
             {
              "frame": {
               "duration": 0,
               "redraw": true
              },
              "fromcurrent": true,
              "mode": "immediate",
              "transition": {
               "duration": 0,
               "easing": "linear"
              }
             }
            ],
            "label": "2001",
            "method": "animate"
           },
           {
            "args": [
             [
              "2002"
             ],
             {
              "frame": {
               "duration": 0,
               "redraw": true
              },
              "fromcurrent": true,
              "mode": "immediate",
              "transition": {
               "duration": 0,
               "easing": "linear"
              }
             }
            ],
            "label": "2002",
            "method": "animate"
           },
           {
            "args": [
             [
              "2003"
             ],
             {
              "frame": {
               "duration": 0,
               "redraw": true
              },
              "fromcurrent": true,
              "mode": "immediate",
              "transition": {
               "duration": 0,
               "easing": "linear"
              }
             }
            ],
            "label": "2003",
            "method": "animate"
           },
           {
            "args": [
             [
              "2004"
             ],
             {
              "frame": {
               "duration": 0,
               "redraw": true
              },
              "fromcurrent": true,
              "mode": "immediate",
              "transition": {
               "duration": 0,
               "easing": "linear"
              }
             }
            ],
            "label": "2004",
            "method": "animate"
           },
           {
            "args": [
             [
              "2005"
             ],
             {
              "frame": {
               "duration": 0,
               "redraw": true
              },
              "fromcurrent": true,
              "mode": "immediate",
              "transition": {
               "duration": 0,
               "easing": "linear"
              }
             }
            ],
            "label": "2005",
            "method": "animate"
           },
           {
            "args": [
             [
              "2006"
             ],
             {
              "frame": {
               "duration": 0,
               "redraw": true
              },
              "fromcurrent": true,
              "mode": "immediate",
              "transition": {
               "duration": 0,
               "easing": "linear"
              }
             }
            ],
            "label": "2006",
            "method": "animate"
           },
           {
            "args": [
             [
              "2007"
             ],
             {
              "frame": {
               "duration": 0,
               "redraw": true
              },
              "fromcurrent": true,
              "mode": "immediate",
              "transition": {
               "duration": 0,
               "easing": "linear"
              }
             }
            ],
            "label": "2007",
            "method": "animate"
           },
           {
            "args": [
             [
              "2008"
             ],
             {
              "frame": {
               "duration": 0,
               "redraw": true
              },
              "fromcurrent": true,
              "mode": "immediate",
              "transition": {
               "duration": 0,
               "easing": "linear"
              }
             }
            ],
            "label": "2008",
            "method": "animate"
           },
           {
            "args": [
             [
              "2009"
             ],
             {
              "frame": {
               "duration": 0,
               "redraw": true
              },
              "fromcurrent": true,
              "mode": "immediate",
              "transition": {
               "duration": 0,
               "easing": "linear"
              }
             }
            ],
            "label": "2009",
            "method": "animate"
           },
           {
            "args": [
             [
              "2010"
             ],
             {
              "frame": {
               "duration": 0,
               "redraw": true
              },
              "fromcurrent": true,
              "mode": "immediate",
              "transition": {
               "duration": 0,
               "easing": "linear"
              }
             }
            ],
            "label": "2010",
            "method": "animate"
           },
           {
            "args": [
             [
              "2011"
             ],
             {
              "frame": {
               "duration": 0,
               "redraw": true
              },
              "fromcurrent": true,
              "mode": "immediate",
              "transition": {
               "duration": 0,
               "easing": "linear"
              }
             }
            ],
            "label": "2011",
            "method": "animate"
           },
           {
            "args": [
             [
              "2012"
             ],
             {
              "frame": {
               "duration": 0,
               "redraw": true
              },
              "fromcurrent": true,
              "mode": "immediate",
              "transition": {
               "duration": 0,
               "easing": "linear"
              }
             }
            ],
            "label": "2012",
            "method": "animate"
           },
           {
            "args": [
             [
              "2013"
             ],
             {
              "frame": {
               "duration": 0,
               "redraw": true
              },
              "fromcurrent": true,
              "mode": "immediate",
              "transition": {
               "duration": 0,
               "easing": "linear"
              }
             }
            ],
            "label": "2013",
            "method": "animate"
           },
           {
            "args": [
             [
              "2014"
             ],
             {
              "frame": {
               "duration": 0,
               "redraw": true
              },
              "fromcurrent": true,
              "mode": "immediate",
              "transition": {
               "duration": 0,
               "easing": "linear"
              }
             }
            ],
            "label": "2014",
            "method": "animate"
           },
           {
            "args": [
             [
              "2015"
             ],
             {
              "frame": {
               "duration": 0,
               "redraw": true
              },
              "fromcurrent": true,
              "mode": "immediate",
              "transition": {
               "duration": 0,
               "easing": "linear"
              }
             }
            ],
            "label": "2015",
            "method": "animate"
           },
           {
            "args": [
             [
              "2016"
             ],
             {
              "frame": {
               "duration": 0,
               "redraw": true
              },
              "fromcurrent": true,
              "mode": "immediate",
              "transition": {
               "duration": 0,
               "easing": "linear"
              }
             }
            ],
            "label": "2016",
            "method": "animate"
           },
           {
            "args": [
             [
              "2017"
             ],
             {
              "frame": {
               "duration": 0,
               "redraw": true
              },
              "fromcurrent": true,
              "mode": "immediate",
              "transition": {
               "duration": 0,
               "easing": "linear"
              }
             }
            ],
            "label": "2017",
            "method": "animate"
           },
           {
            "args": [
             [
              "2018"
             ],
             {
              "frame": {
               "duration": 0,
               "redraw": true
              },
              "fromcurrent": true,
              "mode": "immediate",
              "transition": {
               "duration": 0,
               "easing": "linear"
              }
             }
            ],
            "label": "2018",
            "method": "animate"
           },
           {
            "args": [
             [
              "2019"
             ],
             {
              "frame": {
               "duration": 0,
               "redraw": true
              },
              "fromcurrent": true,
              "mode": "immediate",
              "transition": {
               "duration": 0,
               "easing": "linear"
              }
             }
            ],
            "label": "2019",
            "method": "animate"
           },
           {
            "args": [
             [
              "2020"
             ],
             {
              "frame": {
               "duration": 0,
               "redraw": true
              },
              "fromcurrent": true,
              "mode": "immediate",
              "transition": {
               "duration": 0,
               "easing": "linear"
              }
             }
            ],
            "label": "2020",
            "method": "animate"
           },
           {
            "args": [
             [
              "2021"
             ],
             {
              "frame": {
               "duration": 0,
               "redraw": true
              },
              "fromcurrent": true,
              "mode": "immediate",
              "transition": {
               "duration": 0,
               "easing": "linear"
              }
             }
            ],
            "label": "2021",
            "method": "animate"
           }
          ],
          "x": 0.1,
          "xanchor": "left",
          "y": 0,
          "yanchor": "top"
         }
        ],
        "template": {
         "data": {
          "bar": [
           {
            "error_x": {
             "color": "#2a3f5f"
            },
            "error_y": {
             "color": "#2a3f5f"
            },
            "marker": {
             "line": {
              "color": "white",
              "width": 0.5
             },
             "pattern": {
              "fillmode": "overlay",
              "size": 10,
              "solidity": 0.2
             }
            },
            "type": "bar"
           }
          ],
          "barpolar": [
           {
            "marker": {
             "line": {
              "color": "white",
              "width": 0.5
             },
             "pattern": {
              "fillmode": "overlay",
              "size": 10,
              "solidity": 0.2
             }
            },
            "type": "barpolar"
           }
          ],
          "carpet": [
           {
            "aaxis": {
             "endlinecolor": "#2a3f5f",
             "gridcolor": "#C8D4E3",
             "linecolor": "#C8D4E3",
             "minorgridcolor": "#C8D4E3",
             "startlinecolor": "#2a3f5f"
            },
            "baxis": {
             "endlinecolor": "#2a3f5f",
             "gridcolor": "#C8D4E3",
             "linecolor": "#C8D4E3",
             "minorgridcolor": "#C8D4E3",
             "startlinecolor": "#2a3f5f"
            },
            "type": "carpet"
           }
          ],
          "choropleth": [
           {
            "colorbar": {
             "outlinewidth": 0,
             "ticks": ""
            },
            "type": "choropleth"
           }
          ],
          "contour": [
           {
            "colorbar": {
             "outlinewidth": 0,
             "ticks": ""
            },
            "colorscale": [
             [
              0,
              "#0d0887"
             ],
             [
              0.1111111111111111,
              "#46039f"
             ],
             [
              0.2222222222222222,
              "#7201a8"
             ],
             [
              0.3333333333333333,
              "#9c179e"
             ],
             [
              0.4444444444444444,
              "#bd3786"
             ],
             [
              0.5555555555555556,
              "#d8576b"
             ],
             [
              0.6666666666666666,
              "#ed7953"
             ],
             [
              0.7777777777777778,
              "#fb9f3a"
             ],
             [
              0.8888888888888888,
              "#fdca26"
             ],
             [
              1,
              "#f0f921"
             ]
            ],
            "type": "contour"
           }
          ],
          "contourcarpet": [
           {
            "colorbar": {
             "outlinewidth": 0,
             "ticks": ""
            },
            "type": "contourcarpet"
           }
          ],
          "heatmap": [
           {
            "colorbar": {
             "outlinewidth": 0,
             "ticks": ""
            },
            "colorscale": [
             [
              0,
              "#0d0887"
             ],
             [
              0.1111111111111111,
              "#46039f"
             ],
             [
              0.2222222222222222,
              "#7201a8"
             ],
             [
              0.3333333333333333,
              "#9c179e"
             ],
             [
              0.4444444444444444,
              "#bd3786"
             ],
             [
              0.5555555555555556,
              "#d8576b"
             ],
             [
              0.6666666666666666,
              "#ed7953"
             ],
             [
              0.7777777777777778,
              "#fb9f3a"
             ],
             [
              0.8888888888888888,
              "#fdca26"
             ],
             [
              1,
              "#f0f921"
             ]
            ],
            "type": "heatmap"
           }
          ],
          "heatmapgl": [
           {
            "colorbar": {
             "outlinewidth": 0,
             "ticks": ""
            },
            "colorscale": [
             [
              0,
              "#0d0887"
             ],
             [
              0.1111111111111111,
              "#46039f"
             ],
             [
              0.2222222222222222,
              "#7201a8"
             ],
             [
              0.3333333333333333,
              "#9c179e"
             ],
             [
              0.4444444444444444,
              "#bd3786"
             ],
             [
              0.5555555555555556,
              "#d8576b"
             ],
             [
              0.6666666666666666,
              "#ed7953"
             ],
             [
              0.7777777777777778,
              "#fb9f3a"
             ],
             [
              0.8888888888888888,
              "#fdca26"
             ],
             [
              1,
              "#f0f921"
             ]
            ],
            "type": "heatmapgl"
           }
          ],
          "histogram": [
           {
            "marker": {
             "pattern": {
              "fillmode": "overlay",
              "size": 10,
              "solidity": 0.2
             }
            },
            "type": "histogram"
           }
          ],
          "histogram2d": [
           {
            "colorbar": {
             "outlinewidth": 0,
             "ticks": ""
            },
            "colorscale": [
             [
              0,
              "#0d0887"
             ],
             [
              0.1111111111111111,
              "#46039f"
             ],
             [
              0.2222222222222222,
              "#7201a8"
             ],
             [
              0.3333333333333333,
              "#9c179e"
             ],
             [
              0.4444444444444444,
              "#bd3786"
             ],
             [
              0.5555555555555556,
              "#d8576b"
             ],
             [
              0.6666666666666666,
              "#ed7953"
             ],
             [
              0.7777777777777778,
              "#fb9f3a"
             ],
             [
              0.8888888888888888,
              "#fdca26"
             ],
             [
              1,
              "#f0f921"
             ]
            ],
            "type": "histogram2d"
           }
          ],
          "histogram2dcontour": [
           {
            "colorbar": {
             "outlinewidth": 0,
             "ticks": ""
            },
            "colorscale": [
             [
              0,
              "#0d0887"
             ],
             [
              0.1111111111111111,
              "#46039f"
             ],
             [
              0.2222222222222222,
              "#7201a8"
             ],
             [
              0.3333333333333333,
              "#9c179e"
             ],
             [
              0.4444444444444444,
              "#bd3786"
             ],
             [
              0.5555555555555556,
              "#d8576b"
             ],
             [
              0.6666666666666666,
              "#ed7953"
             ],
             [
              0.7777777777777778,
              "#fb9f3a"
             ],
             [
              0.8888888888888888,
              "#fdca26"
             ],
             [
              1,
              "#f0f921"
             ]
            ],
            "type": "histogram2dcontour"
           }
          ],
          "mesh3d": [
           {
            "colorbar": {
             "outlinewidth": 0,
             "ticks": ""
            },
            "type": "mesh3d"
           }
          ],
          "parcoords": [
           {
            "line": {
             "colorbar": {
              "outlinewidth": 0,
              "ticks": ""
             }
            },
            "type": "parcoords"
           }
          ],
          "pie": [
           {
            "automargin": true,
            "type": "pie"
           }
          ],
          "scatter": [
           {
            "fillpattern": {
             "fillmode": "overlay",
             "size": 10,
             "solidity": 0.2
            },
            "type": "scatter"
           }
          ],
          "scatter3d": [
           {
            "line": {
             "colorbar": {
              "outlinewidth": 0,
              "ticks": ""
             }
            },
            "marker": {
             "colorbar": {
              "outlinewidth": 0,
              "ticks": ""
             }
            },
            "type": "scatter3d"
           }
          ],
          "scattercarpet": [
           {
            "marker": {
             "colorbar": {
              "outlinewidth": 0,
              "ticks": ""
             }
            },
            "type": "scattercarpet"
           }
          ],
          "scattergeo": [
           {
            "marker": {
             "colorbar": {
              "outlinewidth": 0,
              "ticks": ""
             }
            },
            "type": "scattergeo"
           }
          ],
          "scattergl": [
           {
            "marker": {
             "colorbar": {
              "outlinewidth": 0,
              "ticks": ""
             }
            },
            "type": "scattergl"
           }
          ],
          "scattermapbox": [
           {
            "marker": {
             "colorbar": {
              "outlinewidth": 0,
              "ticks": ""
             }
            },
            "type": "scattermapbox"
           }
          ],
          "scatterpolar": [
           {
            "marker": {
             "colorbar": {
              "outlinewidth": 0,
              "ticks": ""
             }
            },
            "type": "scatterpolar"
           }
          ],
          "scatterpolargl": [
           {
            "marker": {
             "colorbar": {
              "outlinewidth": 0,
              "ticks": ""
             }
            },
            "type": "scatterpolargl"
           }
          ],
          "scatterternary": [
           {
            "marker": {
             "colorbar": {
              "outlinewidth": 0,
              "ticks": ""
             }
            },
            "type": "scatterternary"
           }
          ],
          "surface": [
           {
            "colorbar": {
             "outlinewidth": 0,
             "ticks": ""
            },
            "colorscale": [
             [
              0,
              "#0d0887"
             ],
             [
              0.1111111111111111,
              "#46039f"
             ],
             [
              0.2222222222222222,
              "#7201a8"
             ],
             [
              0.3333333333333333,
              "#9c179e"
             ],
             [
              0.4444444444444444,
              "#bd3786"
             ],
             [
              0.5555555555555556,
              "#d8576b"
             ],
             [
              0.6666666666666666,
              "#ed7953"
             ],
             [
              0.7777777777777778,
              "#fb9f3a"
             ],
             [
              0.8888888888888888,
              "#fdca26"
             ],
             [
              1,
              "#f0f921"
             ]
            ],
            "type": "surface"
           }
          ],
          "table": [
           {
            "cells": {
             "fill": {
              "color": "#EBF0F8"
             },
             "line": {
              "color": "white"
             }
            },
            "header": {
             "fill": {
              "color": "#C8D4E3"
             },
             "line": {
              "color": "white"
             }
            },
            "type": "table"
           }
          ]
         },
         "layout": {
          "annotationdefaults": {
           "arrowcolor": "#2a3f5f",
           "arrowhead": 0,
           "arrowwidth": 1
          },
          "autotypenumbers": "strict",
          "coloraxis": {
           "colorbar": {
            "outlinewidth": 0,
            "ticks": ""
           }
          },
          "colorscale": {
           "diverging": [
            [
             0,
             "#8e0152"
            ],
            [
             0.1,
             "#c51b7d"
            ],
            [
             0.2,
             "#de77ae"
            ],
            [
             0.3,
             "#f1b6da"
            ],
            [
             0.4,
             "#fde0ef"
            ],
            [
             0.5,
             "#f7f7f7"
            ],
            [
             0.6,
             "#e6f5d0"
            ],
            [
             0.7,
             "#b8e186"
            ],
            [
             0.8,
             "#7fbc41"
            ],
            [
             0.9,
             "#4d9221"
            ],
            [
             1,
             "#276419"
            ]
           ],
           "sequential": [
            [
             0,
             "#0d0887"
            ],
            [
             0.1111111111111111,
             "#46039f"
            ],
            [
             0.2222222222222222,
             "#7201a8"
            ],
            [
             0.3333333333333333,
             "#9c179e"
            ],
            [
             0.4444444444444444,
             "#bd3786"
            ],
            [
             0.5555555555555556,
             "#d8576b"
            ],
            [
             0.6666666666666666,
             "#ed7953"
            ],
            [
             0.7777777777777778,
             "#fb9f3a"
            ],
            [
             0.8888888888888888,
             "#fdca26"
            ],
            [
             1,
             "#f0f921"
            ]
           ],
           "sequentialminus": [
            [
             0,
             "#0d0887"
            ],
            [
             0.1111111111111111,
             "#46039f"
            ],
            [
             0.2222222222222222,
             "#7201a8"
            ],
            [
             0.3333333333333333,
             "#9c179e"
            ],
            [
             0.4444444444444444,
             "#bd3786"
            ],
            [
             0.5555555555555556,
             "#d8576b"
            ],
            [
             0.6666666666666666,
             "#ed7953"
            ],
            [
             0.7777777777777778,
             "#fb9f3a"
            ],
            [
             0.8888888888888888,
             "#fdca26"
            ],
            [
             1,
             "#f0f921"
            ]
           ]
          },
          "colorway": [
           "#636efa",
           "#EF553B",
           "#00cc96",
           "#ab63fa",
           "#FFA15A",
           "#19d3f3",
           "#FF6692",
           "#B6E880",
           "#FF97FF",
           "#FECB52"
          ],
          "font": {
           "color": "#2a3f5f"
          },
          "geo": {
           "bgcolor": "white",
           "lakecolor": "white",
           "landcolor": "white",
           "showlakes": true,
           "showland": true,
           "subunitcolor": "#C8D4E3"
          },
          "hoverlabel": {
           "align": "left"
          },
          "hovermode": "closest",
          "mapbox": {
           "style": "light"
          },
          "paper_bgcolor": "white",
          "plot_bgcolor": "white",
          "polar": {
           "angularaxis": {
            "gridcolor": "#EBF0F8",
            "linecolor": "#EBF0F8",
            "ticks": ""
           },
           "bgcolor": "white",
           "radialaxis": {
            "gridcolor": "#EBF0F8",
            "linecolor": "#EBF0F8",
            "ticks": ""
           }
          },
          "scene": {
           "xaxis": {
            "backgroundcolor": "white",
            "gridcolor": "#DFE8F3",
            "gridwidth": 2,
            "linecolor": "#EBF0F8",
            "showbackground": true,
            "ticks": "",
            "zerolinecolor": "#EBF0F8"
           },
           "yaxis": {
            "backgroundcolor": "white",
            "gridcolor": "#DFE8F3",
            "gridwidth": 2,
            "linecolor": "#EBF0F8",
            "showbackground": true,
            "ticks": "",
            "zerolinecolor": "#EBF0F8"
           },
           "zaxis": {
            "backgroundcolor": "white",
            "gridcolor": "#DFE8F3",
            "gridwidth": 2,
            "linecolor": "#EBF0F8",
            "showbackground": true,
            "ticks": "",
            "zerolinecolor": "#EBF0F8"
           }
          },
          "shapedefaults": {
           "line": {
            "color": "#2a3f5f"
           }
          },
          "ternary": {
           "aaxis": {
            "gridcolor": "#DFE8F3",
            "linecolor": "#A2B1C6",
            "ticks": ""
           },
           "baxis": {
            "gridcolor": "#DFE8F3",
            "linecolor": "#A2B1C6",
            "ticks": ""
           },
           "bgcolor": "white",
           "caxis": {
            "gridcolor": "#DFE8F3",
            "linecolor": "#A2B1C6",
            "ticks": ""
           }
          },
          "title": {
           "x": 0.05
          },
          "xaxis": {
           "automargin": true,
           "gridcolor": "#EBF0F8",
           "linecolor": "#EBF0F8",
           "ticks": "",
           "title": {
            "standoff": 15
           },
           "zerolinecolor": "#EBF0F8",
           "zerolinewidth": 2
          },
          "yaxis": {
           "automargin": true,
           "gridcolor": "#EBF0F8",
           "linecolor": "#EBF0F8",
           "ticks": "",
           "title": {
            "standoff": 15
           },
           "zerolinecolor": "#EBF0F8",
           "zerolinewidth": 2
          }
         }
        },
        "title": {
         "text": "Global Energy Consumption Over Time"
        },
        "updatemenus": [
         {
          "buttons": [
           {
            "args": [
             null,
             {
              "frame": {
               "duration": 500,
               "redraw": true
              },
              "fromcurrent": true,
              "mode": "immediate",
              "transition": {
               "duration": 500,
               "easing": "linear"
              }
             }
            ],
            "label": "&#9654;",
            "method": "animate"
           },
           {
            "args": [
             [
              null
             ],
             {
              "frame": {
               "duration": 0,
               "redraw": true
              },
              "fromcurrent": true,
              "mode": "immediate",
              "transition": {
               "duration": 0,
               "easing": "linear"
              }
             }
            ],
            "label": "&#9724;",
            "method": "animate"
           }
          ],
          "direction": "left",
          "pad": {
           "r": 10,
           "t": 70
          },
          "showactive": false,
          "type": "buttons",
          "x": 0.1,
          "xanchor": "right",
          "y": 0,
          "yanchor": "top"
         }
        ]
       }
      },
      "text/html": [
       "<div>                            <div id=\"c1bc3013-9386-4a96-b298-39e9520575d1\" class=\"plotly-graph-div\" style=\"height:525px; width:100%;\"></div>            <script type=\"text/javascript\">                require([\"plotly\"], function(Plotly) {                    window.PLOTLYENV=window.PLOTLYENV || {};                                    if (document.getElementById(\"c1bc3013-9386-4a96-b298-39e9520575d1\")) {                    Plotly.newPlot(                        \"c1bc3013-9386-4a96-b298-39e9520575d1\",                        [{\"geo\":\"geo\",\"hovertemplate\":\"Country=France<br>year=2000<br>Energy Consumption (TWh)=%{marker.size}<br>iso_code=%{location}<extra></extra>\",\"legendgroup\":\"France\",\"locations\":[\"FRA\",\"FRA\"],\"marker\":{\"color\":\"#636efa\",\"size\":[3117.909,3117.909],\"sizemode\":\"area\",\"sizeref\":10.155967500000001,\"symbol\":\"circle\"},\"mode\":\"markers\",\"name\":\"France\",\"showlegend\":true,\"type\":\"scattergeo\"},{\"geo\":\"geo\",\"hovertemplate\":\"Country=Germany<br>year=2000<br>Energy Consumption (TWh)=%{marker.size}<br>iso_code=%{location}<extra></extra>\",\"legendgroup\":\"Germany\",\"locations\":[\"DEU\",\"DEU\"],\"marker\":{\"color\":\"#EF553B\",\"size\":[3988.179,3988.179],\"sizemode\":\"area\",\"sizeref\":10.155967500000001,\"symbol\":\"circle\"},\"mode\":\"markers\",\"name\":\"Germany\",\"showlegend\":true,\"type\":\"scattergeo\"}],                        {\"template\":{\"data\":{\"barpolar\":[{\"marker\":{\"line\":{\"color\":\"white\",\"width\":0.5},\"pattern\":{\"fillmode\":\"overlay\",\"size\":10,\"solidity\":0.2}},\"type\":\"barpolar\"}],\"bar\":[{\"error_x\":{\"color\":\"#2a3f5f\"},\"error_y\":{\"color\":\"#2a3f5f\"},\"marker\":{\"line\":{\"color\":\"white\",\"width\":0.5},\"pattern\":{\"fillmode\":\"overlay\",\"size\":10,\"solidity\":0.2}},\"type\":\"bar\"}],\"carpet\":[{\"aaxis\":{\"endlinecolor\":\"#2a3f5f\",\"gridcolor\":\"#C8D4E3\",\"linecolor\":\"#C8D4E3\",\"minorgridcolor\":\"#C8D4E3\",\"startlinecolor\":\"#2a3f5f\"},\"baxis\":{\"endlinecolor\":\"#2a3f5f\",\"gridcolor\":\"#C8D4E3\",\"linecolor\":\"#C8D4E3\",\"minorgridcolor\":\"#C8D4E3\",\"startlinecolor\":\"#2a3f5f\"},\"type\":\"carpet\"}],\"choropleth\":[{\"colorbar\":{\"outlinewidth\":0,\"ticks\":\"\"},\"type\":\"choropleth\"}],\"contourcarpet\":[{\"colorbar\":{\"outlinewidth\":0,\"ticks\":\"\"},\"type\":\"contourcarpet\"}],\"contour\":[{\"colorbar\":{\"outlinewidth\":0,\"ticks\":\"\"},\"colorscale\":[[0.0,\"#0d0887\"],[0.1111111111111111,\"#46039f\"],[0.2222222222222222,\"#7201a8\"],[0.3333333333333333,\"#9c179e\"],[0.4444444444444444,\"#bd3786\"],[0.5555555555555556,\"#d8576b\"],[0.6666666666666666,\"#ed7953\"],[0.7777777777777778,\"#fb9f3a\"],[0.8888888888888888,\"#fdca26\"],[1.0,\"#f0f921\"]],\"type\":\"contour\"}],\"heatmapgl\":[{\"colorbar\":{\"outlinewidth\":0,\"ticks\":\"\"},\"colorscale\":[[0.0,\"#0d0887\"],[0.1111111111111111,\"#46039f\"],[0.2222222222222222,\"#7201a8\"],[0.3333333333333333,\"#9c179e\"],[0.4444444444444444,\"#bd3786\"],[0.5555555555555556,\"#d8576b\"],[0.6666666666666666,\"#ed7953\"],[0.7777777777777778,\"#fb9f3a\"],[0.8888888888888888,\"#fdca26\"],[1.0,\"#f0f921\"]],\"type\":\"heatmapgl\"}],\"heatmap\":[{\"colorbar\":{\"outlinewidth\":0,\"ticks\":\"\"},\"colorscale\":[[0.0,\"#0d0887\"],[0.1111111111111111,\"#46039f\"],[0.2222222222222222,\"#7201a8\"],[0.3333333333333333,\"#9c179e\"],[0.4444444444444444,\"#bd3786\"],[0.5555555555555556,\"#d8576b\"],[0.6666666666666666,\"#ed7953\"],[0.7777777777777778,\"#fb9f3a\"],[0.8888888888888888,\"#fdca26\"],[1.0,\"#f0f921\"]],\"type\":\"heatmap\"}],\"histogram2dcontour\":[{\"colorbar\":{\"outlinewidth\":0,\"ticks\":\"\"},\"colorscale\":[[0.0,\"#0d0887\"],[0.1111111111111111,\"#46039f\"],[0.2222222222222222,\"#7201a8\"],[0.3333333333333333,\"#9c179e\"],[0.4444444444444444,\"#bd3786\"],[0.5555555555555556,\"#d8576b\"],[0.6666666666666666,\"#ed7953\"],[0.7777777777777778,\"#fb9f3a\"],[0.8888888888888888,\"#fdca26\"],[1.0,\"#f0f921\"]],\"type\":\"histogram2dcontour\"}],\"histogram2d\":[{\"colorbar\":{\"outlinewidth\":0,\"ticks\":\"\"},\"colorscale\":[[0.0,\"#0d0887\"],[0.1111111111111111,\"#46039f\"],[0.2222222222222222,\"#7201a8\"],[0.3333333333333333,\"#9c179e\"],[0.4444444444444444,\"#bd3786\"],[0.5555555555555556,\"#d8576b\"],[0.6666666666666666,\"#ed7953\"],[0.7777777777777778,\"#fb9f3a\"],[0.8888888888888888,\"#fdca26\"],[1.0,\"#f0f921\"]],\"type\":\"histogram2d\"}],\"histogram\":[{\"marker\":{\"pattern\":{\"fillmode\":\"overlay\",\"size\":10,\"solidity\":0.2}},\"type\":\"histogram\"}],\"mesh3d\":[{\"colorbar\":{\"outlinewidth\":0,\"ticks\":\"\"},\"type\":\"mesh3d\"}],\"parcoords\":[{\"line\":{\"colorbar\":{\"outlinewidth\":0,\"ticks\":\"\"}},\"type\":\"parcoords\"}],\"pie\":[{\"automargin\":true,\"type\":\"pie\"}],\"scatter3d\":[{\"line\":{\"colorbar\":{\"outlinewidth\":0,\"ticks\":\"\"}},\"marker\":{\"colorbar\":{\"outlinewidth\":0,\"ticks\":\"\"}},\"type\":\"scatter3d\"}],\"scattercarpet\":[{\"marker\":{\"colorbar\":{\"outlinewidth\":0,\"ticks\":\"\"}},\"type\":\"scattercarpet\"}],\"scattergeo\":[{\"marker\":{\"colorbar\":{\"outlinewidth\":0,\"ticks\":\"\"}},\"type\":\"scattergeo\"}],\"scattergl\":[{\"marker\":{\"colorbar\":{\"outlinewidth\":0,\"ticks\":\"\"}},\"type\":\"scattergl\"}],\"scattermapbox\":[{\"marker\":{\"colorbar\":{\"outlinewidth\":0,\"ticks\":\"\"}},\"type\":\"scattermapbox\"}],\"scatterpolargl\":[{\"marker\":{\"colorbar\":{\"outlinewidth\":0,\"ticks\":\"\"}},\"type\":\"scatterpolargl\"}],\"scatterpolar\":[{\"marker\":{\"colorbar\":{\"outlinewidth\":0,\"ticks\":\"\"}},\"type\":\"scatterpolar\"}],\"scatter\":[{\"fillpattern\":{\"fillmode\":\"overlay\",\"size\":10,\"solidity\":0.2},\"type\":\"scatter\"}],\"scatterternary\":[{\"marker\":{\"colorbar\":{\"outlinewidth\":0,\"ticks\":\"\"}},\"type\":\"scatterternary\"}],\"surface\":[{\"colorbar\":{\"outlinewidth\":0,\"ticks\":\"\"},\"colorscale\":[[0.0,\"#0d0887\"],[0.1111111111111111,\"#46039f\"],[0.2222222222222222,\"#7201a8\"],[0.3333333333333333,\"#9c179e\"],[0.4444444444444444,\"#bd3786\"],[0.5555555555555556,\"#d8576b\"],[0.6666666666666666,\"#ed7953\"],[0.7777777777777778,\"#fb9f3a\"],[0.8888888888888888,\"#fdca26\"],[1.0,\"#f0f921\"]],\"type\":\"surface\"}],\"table\":[{\"cells\":{\"fill\":{\"color\":\"#EBF0F8\"},\"line\":{\"color\":\"white\"}},\"header\":{\"fill\":{\"color\":\"#C8D4E3\"},\"line\":{\"color\":\"white\"}},\"type\":\"table\"}]},\"layout\":{\"annotationdefaults\":{\"arrowcolor\":\"#2a3f5f\",\"arrowhead\":0,\"arrowwidth\":1},\"autotypenumbers\":\"strict\",\"coloraxis\":{\"colorbar\":{\"outlinewidth\":0,\"ticks\":\"\"}},\"colorscale\":{\"diverging\":[[0,\"#8e0152\"],[0.1,\"#c51b7d\"],[0.2,\"#de77ae\"],[0.3,\"#f1b6da\"],[0.4,\"#fde0ef\"],[0.5,\"#f7f7f7\"],[0.6,\"#e6f5d0\"],[0.7,\"#b8e186\"],[0.8,\"#7fbc41\"],[0.9,\"#4d9221\"],[1,\"#276419\"]],\"sequential\":[[0.0,\"#0d0887\"],[0.1111111111111111,\"#46039f\"],[0.2222222222222222,\"#7201a8\"],[0.3333333333333333,\"#9c179e\"],[0.4444444444444444,\"#bd3786\"],[0.5555555555555556,\"#d8576b\"],[0.6666666666666666,\"#ed7953\"],[0.7777777777777778,\"#fb9f3a\"],[0.8888888888888888,\"#fdca26\"],[1.0,\"#f0f921\"]],\"sequentialminus\":[[0.0,\"#0d0887\"],[0.1111111111111111,\"#46039f\"],[0.2222222222222222,\"#7201a8\"],[0.3333333333333333,\"#9c179e\"],[0.4444444444444444,\"#bd3786\"],[0.5555555555555556,\"#d8576b\"],[0.6666666666666666,\"#ed7953\"],[0.7777777777777778,\"#fb9f3a\"],[0.8888888888888888,\"#fdca26\"],[1.0,\"#f0f921\"]]},\"colorway\":[\"#636efa\",\"#EF553B\",\"#00cc96\",\"#ab63fa\",\"#FFA15A\",\"#19d3f3\",\"#FF6692\",\"#B6E880\",\"#FF97FF\",\"#FECB52\"],\"font\":{\"color\":\"#2a3f5f\"},\"geo\":{\"bgcolor\":\"white\",\"lakecolor\":\"white\",\"landcolor\":\"white\",\"showlakes\":true,\"showland\":true,\"subunitcolor\":\"#C8D4E3\"},\"hoverlabel\":{\"align\":\"left\"},\"hovermode\":\"closest\",\"mapbox\":{\"style\":\"light\"},\"paper_bgcolor\":\"white\",\"plot_bgcolor\":\"white\",\"polar\":{\"angularaxis\":{\"gridcolor\":\"#EBF0F8\",\"linecolor\":\"#EBF0F8\",\"ticks\":\"\"},\"bgcolor\":\"white\",\"radialaxis\":{\"gridcolor\":\"#EBF0F8\",\"linecolor\":\"#EBF0F8\",\"ticks\":\"\"}},\"scene\":{\"xaxis\":{\"backgroundcolor\":\"white\",\"gridcolor\":\"#DFE8F3\",\"gridwidth\":2,\"linecolor\":\"#EBF0F8\",\"showbackground\":true,\"ticks\":\"\",\"zerolinecolor\":\"#EBF0F8\"},\"yaxis\":{\"backgroundcolor\":\"white\",\"gridcolor\":\"#DFE8F3\",\"gridwidth\":2,\"linecolor\":\"#EBF0F8\",\"showbackground\":true,\"ticks\":\"\",\"zerolinecolor\":\"#EBF0F8\"},\"zaxis\":{\"backgroundcolor\":\"white\",\"gridcolor\":\"#DFE8F3\",\"gridwidth\":2,\"linecolor\":\"#EBF0F8\",\"showbackground\":true,\"ticks\":\"\",\"zerolinecolor\":\"#EBF0F8\"}},\"shapedefaults\":{\"line\":{\"color\":\"#2a3f5f\"}},\"ternary\":{\"aaxis\":{\"gridcolor\":\"#DFE8F3\",\"linecolor\":\"#A2B1C6\",\"ticks\":\"\"},\"baxis\":{\"gridcolor\":\"#DFE8F3\",\"linecolor\":\"#A2B1C6\",\"ticks\":\"\"},\"bgcolor\":\"white\",\"caxis\":{\"gridcolor\":\"#DFE8F3\",\"linecolor\":\"#A2B1C6\",\"ticks\":\"\"}},\"title\":{\"x\":0.05},\"xaxis\":{\"automargin\":true,\"gridcolor\":\"#EBF0F8\",\"linecolor\":\"#EBF0F8\",\"ticks\":\"\",\"title\":{\"standoff\":15},\"zerolinecolor\":\"#EBF0F8\",\"zerolinewidth\":2},\"yaxis\":{\"automargin\":true,\"gridcolor\":\"#EBF0F8\",\"linecolor\":\"#EBF0F8\",\"ticks\":\"\",\"title\":{\"standoff\":15},\"zerolinecolor\":\"#EBF0F8\",\"zerolinewidth\":2}}},\"geo\":{\"domain\":{\"x\":[0.0,1.0],\"y\":[0.0,1.0]},\"projection\":{\"type\":\"natural earth\"},\"center\":{}},\"legend\":{\"title\":{\"text\":\"Country\"},\"tracegroupgap\":0,\"itemsizing\":\"constant\"},\"title\":{\"text\":\"Global Energy Consumption Over Time\"},\"updatemenus\":[{\"buttons\":[{\"args\":[null,{\"frame\":{\"duration\":500,\"redraw\":true},\"mode\":\"immediate\",\"fromcurrent\":true,\"transition\":{\"duration\":500,\"easing\":\"linear\"}}],\"label\":\"&#9654;\",\"method\":\"animate\"},{\"args\":[[null],{\"frame\":{\"duration\":0,\"redraw\":true},\"mode\":\"immediate\",\"fromcurrent\":true,\"transition\":{\"duration\":0,\"easing\":\"linear\"}}],\"label\":\"&#9724;\",\"method\":\"animate\"}],\"direction\":\"left\",\"pad\":{\"r\":10,\"t\":70},\"showactive\":false,\"type\":\"buttons\",\"x\":0.1,\"xanchor\":\"right\",\"y\":0,\"yanchor\":\"top\"}],\"sliders\":[{\"active\":0,\"currentvalue\":{\"prefix\":\"year=\"},\"len\":0.9,\"pad\":{\"b\":10,\"t\":60},\"steps\":[{\"args\":[[\"2000\"],{\"frame\":{\"duration\":0,\"redraw\":true},\"mode\":\"immediate\",\"fromcurrent\":true,\"transition\":{\"duration\":0,\"easing\":\"linear\"}}],\"label\":\"2000\",\"method\":\"animate\"},{\"args\":[[\"2001\"],{\"frame\":{\"duration\":0,\"redraw\":true},\"mode\":\"immediate\",\"fromcurrent\":true,\"transition\":{\"duration\":0,\"easing\":\"linear\"}}],\"label\":\"2001\",\"method\":\"animate\"},{\"args\":[[\"2002\"],{\"frame\":{\"duration\":0,\"redraw\":true},\"mode\":\"immediate\",\"fromcurrent\":true,\"transition\":{\"duration\":0,\"easing\":\"linear\"}}],\"label\":\"2002\",\"method\":\"animate\"},{\"args\":[[\"2003\"],{\"frame\":{\"duration\":0,\"redraw\":true},\"mode\":\"immediate\",\"fromcurrent\":true,\"transition\":{\"duration\":0,\"easing\":\"linear\"}}],\"label\":\"2003\",\"method\":\"animate\"},{\"args\":[[\"2004\"],{\"frame\":{\"duration\":0,\"redraw\":true},\"mode\":\"immediate\",\"fromcurrent\":true,\"transition\":{\"duration\":0,\"easing\":\"linear\"}}],\"label\":\"2004\",\"method\":\"animate\"},{\"args\":[[\"2005\"],{\"frame\":{\"duration\":0,\"redraw\":true},\"mode\":\"immediate\",\"fromcurrent\":true,\"transition\":{\"duration\":0,\"easing\":\"linear\"}}],\"label\":\"2005\",\"method\":\"animate\"},{\"args\":[[\"2006\"],{\"frame\":{\"duration\":0,\"redraw\":true},\"mode\":\"immediate\",\"fromcurrent\":true,\"transition\":{\"duration\":0,\"easing\":\"linear\"}}],\"label\":\"2006\",\"method\":\"animate\"},{\"args\":[[\"2007\"],{\"frame\":{\"duration\":0,\"redraw\":true},\"mode\":\"immediate\",\"fromcurrent\":true,\"transition\":{\"duration\":0,\"easing\":\"linear\"}}],\"label\":\"2007\",\"method\":\"animate\"},{\"args\":[[\"2008\"],{\"frame\":{\"duration\":0,\"redraw\":true},\"mode\":\"immediate\",\"fromcurrent\":true,\"transition\":{\"duration\":0,\"easing\":\"linear\"}}],\"label\":\"2008\",\"method\":\"animate\"},{\"args\":[[\"2009\"],{\"frame\":{\"duration\":0,\"redraw\":true},\"mode\":\"immediate\",\"fromcurrent\":true,\"transition\":{\"duration\":0,\"easing\":\"linear\"}}],\"label\":\"2009\",\"method\":\"animate\"},{\"args\":[[\"2010\"],{\"frame\":{\"duration\":0,\"redraw\":true},\"mode\":\"immediate\",\"fromcurrent\":true,\"transition\":{\"duration\":0,\"easing\":\"linear\"}}],\"label\":\"2010\",\"method\":\"animate\"},{\"args\":[[\"2011\"],{\"frame\":{\"duration\":0,\"redraw\":true},\"mode\":\"immediate\",\"fromcurrent\":true,\"transition\":{\"duration\":0,\"easing\":\"linear\"}}],\"label\":\"2011\",\"method\":\"animate\"},{\"args\":[[\"2012\"],{\"frame\":{\"duration\":0,\"redraw\":true},\"mode\":\"immediate\",\"fromcurrent\":true,\"transition\":{\"duration\":0,\"easing\":\"linear\"}}],\"label\":\"2012\",\"method\":\"animate\"},{\"args\":[[\"2013\"],{\"frame\":{\"duration\":0,\"redraw\":true},\"mode\":\"immediate\",\"fromcurrent\":true,\"transition\":{\"duration\":0,\"easing\":\"linear\"}}],\"label\":\"2013\",\"method\":\"animate\"},{\"args\":[[\"2014\"],{\"frame\":{\"duration\":0,\"redraw\":true},\"mode\":\"immediate\",\"fromcurrent\":true,\"transition\":{\"duration\":0,\"easing\":\"linear\"}}],\"label\":\"2014\",\"method\":\"animate\"},{\"args\":[[\"2015\"],{\"frame\":{\"duration\":0,\"redraw\":true},\"mode\":\"immediate\",\"fromcurrent\":true,\"transition\":{\"duration\":0,\"easing\":\"linear\"}}],\"label\":\"2015\",\"method\":\"animate\"},{\"args\":[[\"2016\"],{\"frame\":{\"duration\":0,\"redraw\":true},\"mode\":\"immediate\",\"fromcurrent\":true,\"transition\":{\"duration\":0,\"easing\":\"linear\"}}],\"label\":\"2016\",\"method\":\"animate\"},{\"args\":[[\"2017\"],{\"frame\":{\"duration\":0,\"redraw\":true},\"mode\":\"immediate\",\"fromcurrent\":true,\"transition\":{\"duration\":0,\"easing\":\"linear\"}}],\"label\":\"2017\",\"method\":\"animate\"},{\"args\":[[\"2018\"],{\"frame\":{\"duration\":0,\"redraw\":true},\"mode\":\"immediate\",\"fromcurrent\":true,\"transition\":{\"duration\":0,\"easing\":\"linear\"}}],\"label\":\"2018\",\"method\":\"animate\"},{\"args\":[[\"2019\"],{\"frame\":{\"duration\":0,\"redraw\":true},\"mode\":\"immediate\",\"fromcurrent\":true,\"transition\":{\"duration\":0,\"easing\":\"linear\"}}],\"label\":\"2019\",\"method\":\"animate\"},{\"args\":[[\"2020\"],{\"frame\":{\"duration\":0,\"redraw\":true},\"mode\":\"immediate\",\"fromcurrent\":true,\"transition\":{\"duration\":0,\"easing\":\"linear\"}}],\"label\":\"2020\",\"method\":\"animate\"},{\"args\":[[\"2021\"],{\"frame\":{\"duration\":0,\"redraw\":true},\"mode\":\"immediate\",\"fromcurrent\":true,\"transition\":{\"duration\":0,\"easing\":\"linear\"}}],\"label\":\"2021\",\"method\":\"animate\"}],\"x\":0.1,\"xanchor\":\"left\",\"y\":0,\"yanchor\":\"top\"}]},                        {\"responsive\": true}                    ).then(function(){\n",
       "                            Plotly.addFrames('c1bc3013-9386-4a96-b298-39e9520575d1', [{\"data\":[{\"geo\":\"geo\",\"hovertemplate\":\"Country=France<br>year=2000<br>Energy Consumption (TWh)=%{marker.size}<br>iso_code=%{location}<extra></extra>\",\"legendgroup\":\"France\",\"locations\":[\"FRA\",\"FRA\"],\"marker\":{\"color\":\"#636efa\",\"size\":[3117.909,3117.909],\"sizemode\":\"area\",\"sizeref\":10.155967500000001,\"symbol\":\"circle\"},\"mode\":\"markers\",\"name\":\"France\",\"showlegend\":true,\"type\":\"scattergeo\"},{\"geo\":\"geo\",\"hovertemplate\":\"Country=Germany<br>year=2000<br>Energy Consumption (TWh)=%{marker.size}<br>iso_code=%{location}<extra></extra>\",\"legendgroup\":\"Germany\",\"locations\":[\"DEU\",\"DEU\"],\"marker\":{\"color\":\"#EF553B\",\"size\":[3988.179,3988.179],\"sizemode\":\"area\",\"sizeref\":10.155967500000001,\"symbol\":\"circle\"},\"mode\":\"markers\",\"name\":\"Germany\",\"showlegend\":true,\"type\":\"scattergeo\"}],\"name\":\"2000\"},{\"data\":[{\"geo\":\"geo\",\"hovertemplate\":\"Country=France<br>year=2001<br>Energy Consumption (TWh)=%{marker.size}<br>iso_code=%{location}<extra></extra>\",\"legendgroup\":\"France\",\"locations\":[\"FRA\",\"FRA\"],\"marker\":{\"color\":\"#636efa\",\"size\":[3143.046,3143.046],\"sizemode\":\"area\",\"sizeref\":10.155967500000001,\"symbol\":\"circle\"},\"mode\":\"markers\",\"name\":\"France\",\"showlegend\":true,\"type\":\"scattergeo\"}],\"name\":\"2001\"},{\"data\":[{\"geo\":\"geo\",\"hovertemplate\":\"Country=France<br>year=2002<br>Energy Consumption (TWh)=%{marker.size}<br>iso_code=%{location}<extra></extra>\",\"legendgroup\":\"France\",\"locations\":[\"FRA\",\"FRA\"],\"marker\":{\"color\":\"#636efa\",\"size\":[3118.919,3118.919],\"sizemode\":\"area\",\"sizeref\":10.155967500000001,\"symbol\":\"circle\"},\"mode\":\"markers\",\"name\":\"France\",\"showlegend\":true,\"type\":\"scattergeo\"},{\"geo\":\"geo\",\"hovertemplate\":\"Country=Germany<br>year=2002<br>Energy Consumption (TWh)=%{marker.size}<br>iso_code=%{location}<extra></extra>\",\"legendgroup\":\"Germany\",\"locations\":[\"DEU\",\"DEU\"],\"marker\":{\"color\":\"#EF553B\",\"size\":[4011.723,4011.723],\"sizemode\":\"area\",\"sizeref\":10.155967500000001,\"symbol\":\"circle\"},\"mode\":\"markers\",\"name\":\"Germany\",\"showlegend\":true,\"type\":\"scattergeo\"}],\"name\":\"2002\"},{\"data\":[{\"geo\":\"geo\",\"hovertemplate\":\"Country=France<br>year=2003<br>Energy Consumption (TWh)=%{marker.size}<br>iso_code=%{location}<extra></extra>\",\"legendgroup\":\"France\",\"locations\":[\"FRA\",\"FRA\"],\"marker\":{\"color\":\"#636efa\",\"size\":[3153.042,3153.042],\"sizemode\":\"area\",\"sizeref\":10.155967500000001,\"symbol\":\"circle\"},\"mode\":\"markers\",\"name\":\"France\",\"showlegend\":true,\"type\":\"scattergeo\"},{\"geo\":\"geo\",\"hovertemplate\":\"Country=Germany<br>year=2003<br>Energy Consumption (TWh)=%{marker.size}<br>iso_code=%{location}<extra></extra>\",\"legendgroup\":\"Germany\",\"locations\":[\"DEU\",\"DEU\"],\"marker\":{\"color\":\"#EF553B\",\"size\":[4010.471,4010.471],\"sizemode\":\"area\",\"sizeref\":10.155967500000001,\"symbol\":\"circle\"},\"mode\":\"markers\",\"name\":\"Germany\",\"showlegend\":true,\"type\":\"scattergeo\"}],\"name\":\"2003\"},{\"data\":[{\"geo\":\"geo\",\"hovertemplate\":\"Country=France<br>year=2004<br>Energy Consumption (TWh)=%{marker.size}<br>iso_code=%{location}<extra></extra>\",\"legendgroup\":\"France\",\"locations\":[\"FRA\",\"FRA\"],\"marker\":{\"color\":\"#636efa\",\"size\":[3180.13,3180.13],\"sizemode\":\"area\",\"sizeref\":10.155967500000001,\"symbol\":\"circle\"},\"mode\":\"markers\",\"name\":\"France\",\"showlegend\":true,\"type\":\"scattergeo\"},{\"geo\":\"geo\",\"hovertemplate\":\"Country=Germany<br>year=2004<br>Energy Consumption (TWh)=%{marker.size}<br>iso_code=%{location}<extra></extra>\",\"legendgroup\":\"Germany\",\"locations\":[\"DEU\",\"DEU\"],\"marker\":{\"color\":\"#EF553B\",\"size\":[4009.893,4009.893],\"sizemode\":\"area\",\"sizeref\":10.155967500000001,\"symbol\":\"circle\"},\"mode\":\"markers\",\"name\":\"Germany\",\"showlegend\":true,\"type\":\"scattergeo\"}],\"name\":\"2004\"},{\"data\":[{\"geo\":\"geo\",\"hovertemplate\":\"Country=France<br>year=2005<br>Energy Consumption (TWh)=%{marker.size}<br>iso_code=%{location}<extra></extra>\",\"legendgroup\":\"France\",\"locations\":[\"FRA\",\"FRA\"],\"marker\":{\"color\":\"#636efa\",\"size\":[3154.079,3154.079],\"sizemode\":\"area\",\"sizeref\":10.155967500000001,\"symbol\":\"circle\"},\"mode\":\"markers\",\"name\":\"France\",\"showlegend\":true,\"type\":\"scattergeo\"},{\"geo\":\"geo\",\"hovertemplate\":\"Country=Germany<br>year=2005<br>Energy Consumption (TWh)=%{marker.size}<br>iso_code=%{location}<extra></extra>\",\"legendgroup\":\"Germany\",\"locations\":[\"DEU\",\"DEU\"],\"marker\":{\"color\":\"#EF553B\",\"size\":[3962.635,3962.635],\"sizemode\":\"area\",\"sizeref\":10.155967500000001,\"symbol\":\"circle\"},\"mode\":\"markers\",\"name\":\"Germany\",\"showlegend\":true,\"type\":\"scattergeo\"},{\"geo\":\"geo\",\"hovertemplate\":\"Country=Czechia<br>year=2005<br>Energy Consumption (TWh)=%{marker.size}<br>iso_code=%{location}<extra></extra>\",\"legendgroup\":\"Czechia\",\"locations\":[\"CZE\",\"CZE\"],\"marker\":{\"color\":\"#00cc96\",\"size\":[519.632,519.632],\"sizemode\":\"area\",\"sizeref\":10.155967500000001,\"symbol\":\"circle\"},\"mode\":\"markers\",\"name\":\"Czechia\",\"showlegend\":true,\"type\":\"scattergeo\"}],\"name\":\"2005\"},{\"data\":[{\"geo\":\"geo\",\"hovertemplate\":\"Country=Germany<br>year=2006<br>Energy Consumption (TWh)=%{marker.size}<br>iso_code=%{location}<extra></extra>\",\"legendgroup\":\"Germany\",\"locations\":[\"DEU\",\"DEU\"],\"marker\":{\"color\":\"#EF553B\",\"size\":[4062.387,4062.387],\"sizemode\":\"area\",\"sizeref\":10.155967500000001,\"symbol\":\"circle\"},\"mode\":\"markers\",\"name\":\"Germany\",\"showlegend\":true,\"type\":\"scattergeo\"},{\"geo\":\"geo\",\"hovertemplate\":\"Country=Czechia<br>year=2006<br>Energy Consumption (TWh)=%{marker.size}<br>iso_code=%{location}<extra></extra>\",\"legendgroup\":\"Czechia\",\"locations\":[\"CZE\",\"CZE\"],\"marker\":{\"color\":\"#00cc96\",\"size\":[529.455,529.455],\"sizemode\":\"area\",\"sizeref\":10.155967500000001,\"symbol\":\"circle\"},\"mode\":\"markers\",\"name\":\"Czechia\",\"showlegend\":true,\"type\":\"scattergeo\"}],\"name\":\"2006\"},{\"data\":[{\"geo\":\"geo\",\"hovertemplate\":\"Country=Germany<br>year=2007<br>Energy Consumption (TWh)=%{marker.size}<br>iso_code=%{location}<extra></extra>\",\"legendgroup\":\"Germany\",\"locations\":[\"DEU\",\"DEU\"],\"marker\":{\"color\":\"#EF553B\",\"size\":[3893.423,3893.423],\"sizemode\":\"area\",\"sizeref\":10.155967500000001,\"symbol\":\"circle\"},\"mode\":\"markers\",\"name\":\"Germany\",\"showlegend\":true,\"type\":\"scattergeo\"},{\"geo\":\"geo\",\"hovertemplate\":\"Country=Czechia<br>year=2007<br>Energy Consumption (TWh)=%{marker.size}<br>iso_code=%{location}<extra></extra>\",\"legendgroup\":\"Czechia\",\"locations\":[\"CZE\",\"CZE\"],\"marker\":{\"color\":\"#00cc96\",\"size\":[523.705,523.705],\"sizemode\":\"area\",\"sizeref\":10.155967500000001,\"symbol\":\"circle\"},\"mode\":\"markers\",\"name\":\"Czechia\",\"showlegend\":true,\"type\":\"scattergeo\"}],\"name\":\"2007\"},{\"data\":[{\"geo\":\"geo\",\"hovertemplate\":\"Country=Germany<br>year=2008<br>Energy Consumption (TWh)=%{marker.size}<br>iso_code=%{location}<extra></extra>\",\"legendgroup\":\"Germany\",\"locations\":[\"DEU\",\"DEU\"],\"marker\":{\"color\":\"#EF553B\",\"size\":[3934.666,3934.666],\"sizemode\":\"area\",\"sizeref\":10.155967500000001,\"symbol\":\"circle\"},\"mode\":\"markers\",\"name\":\"Germany\",\"showlegend\":true,\"type\":\"scattergeo\"},{\"geo\":\"geo\",\"hovertemplate\":\"Country=Czechia<br>year=2008<br>Energy Consumption (TWh)=%{marker.size}<br>iso_code=%{location}<extra></extra>\",\"legendgroup\":\"Czechia\",\"locations\":[\"CZE\",\"CZE\"],\"marker\":{\"color\":\"#00cc96\",\"size\":[513.619,513.619],\"sizemode\":\"area\",\"sizeref\":10.155967500000001,\"symbol\":\"circle\"},\"mode\":\"markers\",\"name\":\"Czechia\",\"showlegend\":true,\"type\":\"scattergeo\"},{\"geo\":\"geo\",\"hovertemplate\":\"Country=Spain<br>year=2008<br>Energy Consumption (TWh)=%{marker.size}<br>iso_code=%{location}<extra></extra>\",\"legendgroup\":\"Spain\",\"locations\":[\"ESP\",\"ESP\"],\"marker\":{\"color\":\"#ab63fa\",\"size\":[1774.594,1774.594],\"sizemode\":\"area\",\"sizeref\":10.155967500000001,\"symbol\":\"circle\"},\"mode\":\"markers\",\"name\":\"Spain\",\"showlegend\":true,\"type\":\"scattergeo\"}],\"name\":\"2008\"},{\"data\":[{\"geo\":\"geo\",\"hovertemplate\":\"Country=Germany<br>year=2009<br>Energy Consumption (TWh)=%{marker.size}<br>iso_code=%{location}<extra></extra>\",\"legendgroup\":\"Germany\",\"locations\":[\"DEU\",\"DEU\"],\"marker\":{\"color\":\"#EF553B\",\"size\":[3692.178,3692.178],\"sizemode\":\"area\",\"sizeref\":10.155967500000001,\"symbol\":\"circle\"},\"mode\":\"markers\",\"name\":\"Germany\",\"showlegend\":true,\"type\":\"scattergeo\"},{\"geo\":\"geo\",\"hovertemplate\":\"Country=Czechia<br>year=2009<br>Energy Consumption (TWh)=%{marker.size}<br>iso_code=%{location}<extra></extra>\",\"legendgroup\":\"Czechia\",\"locations\":[\"CZE\",\"CZE\"],\"marker\":{\"color\":\"#00cc96\",\"size\":[492.811,492.811],\"sizemode\":\"area\",\"sizeref\":10.155967500000001,\"symbol\":\"circle\"},\"mode\":\"markers\",\"name\":\"Czechia\",\"showlegend\":true,\"type\":\"scattergeo\"},{\"geo\":\"geo\",\"hovertemplate\":\"Country=Spain<br>year=2009<br>Energy Consumption (TWh)=%{marker.size}<br>iso_code=%{location}<extra></extra>\",\"legendgroup\":\"Spain\",\"locations\":[\"ESP\",\"ESP\"],\"marker\":{\"color\":\"#ab63fa\",\"size\":[1652.099,1652.099],\"sizemode\":\"area\",\"sizeref\":10.155967500000001,\"symbol\":\"circle\"},\"mode\":\"markers\",\"name\":\"Spain\",\"showlegend\":true,\"type\":\"scattergeo\"},{\"geo\":\"geo\",\"hovertemplate\":\"Country=Bulgaria<br>year=2009<br>Energy Consumption (TWh)=%{marker.size}<br>iso_code=%{location}<extra></extra>\",\"legendgroup\":\"Bulgaria\",\"locations\":[\"BGR\",\"BGR\"],\"marker\":{\"color\":\"#FFA15A\",\"size\":[202.106,202.106],\"sizemode\":\"area\",\"sizeref\":10.155967500000001,\"symbol\":\"circle\"},\"mode\":\"markers\",\"name\":\"Bulgaria\",\"showlegend\":true,\"type\":\"scattergeo\"},{\"geo\":\"geo\",\"hovertemplate\":\"Country=Hungary<br>year=2009<br>Energy Consumption (TWh)=%{marker.size}<br>iso_code=%{location}<extra></extra>\",\"legendgroup\":\"Hungary\",\"locations\":[\"HUN\",\"HUN\"],\"marker\":{\"color\":\"#19d3f3\",\"size\":[272.688,272.688],\"sizemode\":\"area\",\"sizeref\":10.155967500000001,\"symbol\":\"circle\"},\"mode\":\"markers\",\"name\":\"Hungary\",\"showlegend\":true,\"type\":\"scattergeo\"}],\"name\":\"2009\"},{\"data\":[{\"geo\":\"geo\",\"hovertemplate\":\"Country=Germany<br>year=2010<br>Energy Consumption (TWh)=%{marker.size}<br>iso_code=%{location}<extra></extra>\",\"legendgroup\":\"Germany\",\"locations\":[\"DEU\",\"DEU\"],\"marker\":{\"color\":\"#EF553B\",\"size\":[3847.151,3847.151],\"sizemode\":\"area\",\"sizeref\":10.155967500000001,\"symbol\":\"circle\"},\"mode\":\"markers\",\"name\":\"Germany\",\"showlegend\":true,\"type\":\"scattergeo\"},{\"geo\":\"geo\",\"hovertemplate\":\"Country=Czechia<br>year=2010<br>Energy Consumption (TWh)=%{marker.size}<br>iso_code=%{location}<extra></extra>\",\"legendgroup\":\"Czechia\",\"locations\":[\"CZE\",\"CZE\"],\"marker\":{\"color\":\"#00cc96\",\"size\":[513.649,513.649],\"sizemode\":\"area\",\"sizeref\":10.155967500000001,\"symbol\":\"circle\"},\"mode\":\"markers\",\"name\":\"Czechia\",\"showlegend\":true,\"type\":\"scattergeo\"},{\"geo\":\"geo\",\"hovertemplate\":\"Country=Spain<br>year=2010<br>Energy Consumption (TWh)=%{marker.size}<br>iso_code=%{location}<extra></extra>\",\"legendgroup\":\"Spain\",\"locations\":[\"ESP\",\"ESP\"],\"marker\":{\"color\":\"#ab63fa\",\"size\":[1692.348,1692.348],\"sizemode\":\"area\",\"sizeref\":10.155967500000001,\"symbol\":\"circle\"},\"mode\":\"markers\",\"name\":\"Spain\",\"showlegend\":true,\"type\":\"scattergeo\"},{\"geo\":\"geo\",\"hovertemplate\":\"Country=Bulgaria<br>year=2010<br>Energy Consumption (TWh)=%{marker.size}<br>iso_code=%{location}<extra></extra>\",\"legendgroup\":\"Bulgaria\",\"locations\":[\"BGR\",\"BGR\"],\"marker\":{\"color\":\"#FFA15A\",\"size\":[211.471,211.471],\"sizemode\":\"area\",\"sizeref\":10.155967500000001,\"symbol\":\"circle\"},\"mode\":\"markers\",\"name\":\"Bulgaria\",\"showlegend\":true,\"type\":\"scattergeo\"},{\"geo\":\"geo\",\"hovertemplate\":\"Country=Hungary<br>year=2010<br>Energy Consumption (TWh)=%{marker.size}<br>iso_code=%{location}<extra></extra>\",\"legendgroup\":\"Hungary\",\"locations\":[\"HUN\",\"HUN\"],\"marker\":{\"color\":\"#19d3f3\",\"size\":[277.827,277.827],\"sizemode\":\"area\",\"sizeref\":10.155967500000001,\"symbol\":\"circle\"},\"mode\":\"markers\",\"name\":\"Hungary\",\"showlegend\":true,\"type\":\"scattergeo\"},{\"geo\":\"geo\",\"hovertemplate\":\"Country=Romania<br>year=2010<br>Energy Consumption (TWh)=%{marker.size}<br>iso_code=%{location}<extra></extra>\",\"legendgroup\":\"Romania\",\"locations\":[\"ROU\",\"ROU\"],\"marker\":{\"color\":\"#FF6692\",\"size\":[396.424,396.424],\"sizemode\":\"area\",\"sizeref\":10.155967500000001,\"symbol\":\"circle\"},\"mode\":\"markers\",\"name\":\"Romania\",\"showlegend\":true,\"type\":\"scattergeo\"}],\"name\":\"2010\"},{\"data\":[{\"geo\":\"geo\",\"hovertemplate\":\"Country=Germany<br>year=2011<br>Energy Consumption (TWh)=%{marker.size}<br>iso_code=%{location}<extra></extra>\",\"legendgroup\":\"Germany\",\"locations\":[\"DEU\",\"DEU\"],\"marker\":{\"color\":\"#EF553B\",\"size\":[3710.584,3710.584],\"sizemode\":\"area\",\"sizeref\":10.155967500000001,\"symbol\":\"circle\"},\"mode\":\"markers\",\"name\":\"Germany\",\"showlegend\":true,\"type\":\"scattergeo\"},{\"geo\":\"geo\",\"hovertemplate\":\"Country=Czechia<br>year=2011<br>Energy Consumption (TWh)=%{marker.size}<br>iso_code=%{location}<extra></extra>\",\"legendgroup\":\"Czechia\",\"locations\":[\"CZE\",\"CZE\"],\"marker\":{\"color\":\"#00cc96\",\"size\":[501.976,501.976],\"sizemode\":\"area\",\"sizeref\":10.155967500000001,\"symbol\":\"circle\"},\"mode\":\"markers\",\"name\":\"Czechia\",\"showlegend\":true,\"type\":\"scattergeo\"},{\"geo\":\"geo\",\"hovertemplate\":\"Country=Spain<br>year=2011<br>Energy Consumption (TWh)=%{marker.size}<br>iso_code=%{location}<extra></extra>\",\"legendgroup\":\"Spain\",\"locations\":[\"ESP\",\"ESP\"],\"marker\":{\"color\":\"#ab63fa\",\"size\":[1661.356,1661.356],\"sizemode\":\"area\",\"sizeref\":10.155967500000001,\"symbol\":\"circle\"},\"mode\":\"markers\",\"name\":\"Spain\",\"showlegend\":true,\"type\":\"scattergeo\"},{\"geo\":\"geo\",\"hovertemplate\":\"Country=Bulgaria<br>year=2011<br>Energy Consumption (TWh)=%{marker.size}<br>iso_code=%{location}<extra></extra>\",\"legendgroup\":\"Bulgaria\",\"locations\":[\"BGR\",\"BGR\"],\"marker\":{\"color\":\"#FFA15A\",\"size\":[224.607,224.607],\"sizemode\":\"area\",\"sizeref\":10.155967500000001,\"symbol\":\"circle\"},\"mode\":\"markers\",\"name\":\"Bulgaria\",\"showlegend\":true,\"type\":\"scattergeo\"},{\"geo\":\"geo\",\"hovertemplate\":\"Country=Hungary<br>year=2011<br>Energy Consumption (TWh)=%{marker.size}<br>iso_code=%{location}<extra></extra>\",\"legendgroup\":\"Hungary\",\"locations\":[\"HUN\",\"HUN\"],\"marker\":{\"color\":\"#19d3f3\",\"size\":[269.464,269.464],\"sizemode\":\"area\",\"sizeref\":10.155967500000001,\"symbol\":\"circle\"},\"mode\":\"markers\",\"name\":\"Hungary\",\"showlegend\":true,\"type\":\"scattergeo\"},{\"geo\":\"geo\",\"hovertemplate\":\"Country=Romania<br>year=2011<br>Energy Consumption (TWh)=%{marker.size}<br>iso_code=%{location}<extra></extra>\",\"legendgroup\":\"Romania\",\"locations\":[\"ROU\",\"ROU\"],\"marker\":{\"color\":\"#FF6692\",\"size\":[408.341,408.341],\"sizemode\":\"area\",\"sizeref\":10.155967500000001,\"symbol\":\"circle\"},\"mode\":\"markers\",\"name\":\"Romania\",\"showlegend\":true,\"type\":\"scattergeo\"}],\"name\":\"2011\"},{\"data\":[{\"geo\":\"geo\",\"hovertemplate\":\"Country=Germany<br>year=2012<br>Energy Consumption (TWh)=%{marker.size}<br>iso_code=%{location}<extra></extra>\",\"legendgroup\":\"Germany\",\"locations\":[\"DEU\",\"DEU\"],\"marker\":{\"color\":\"#EF553B\",\"size\":[3761.916,3761.916],\"sizemode\":\"area\",\"sizeref\":10.155967500000001,\"symbol\":\"circle\"},\"mode\":\"markers\",\"name\":\"Germany\",\"showlegend\":true,\"type\":\"scattergeo\"},{\"geo\":\"geo\",\"hovertemplate\":\"Country=Czechia<br>year=2012<br>Energy Consumption (TWh)=%{marker.size}<br>iso_code=%{location}<extra></extra>\",\"legendgroup\":\"Czechia\",\"locations\":[\"CZE\",\"CZE\"],\"marker\":{\"color\":\"#00cc96\",\"size\":[499.438,499.438],\"sizemode\":\"area\",\"sizeref\":10.155967500000001,\"symbol\":\"circle\"},\"mode\":\"markers\",\"name\":\"Czechia\",\"showlegend\":true,\"type\":\"scattergeo\"},{\"geo\":\"geo\",\"hovertemplate\":\"Country=Spain<br>year=2012<br>Energy Consumption (TWh)=%{marker.size}<br>iso_code=%{location}<extra></extra>\",\"legendgroup\":\"Spain\",\"locations\":[\"ESP\",\"ESP\"],\"marker\":{\"color\":\"#ab63fa\",\"size\":[1647.511,1647.511],\"sizemode\":\"area\",\"sizeref\":10.155967500000001,\"symbol\":\"circle\"},\"mode\":\"markers\",\"name\":\"Spain\",\"showlegend\":true,\"type\":\"scattergeo\"},{\"geo\":\"geo\",\"hovertemplate\":\"Country=Bulgaria<br>year=2012<br>Energy Consumption (TWh)=%{marker.size}<br>iso_code=%{location}<extra></extra>\",\"legendgroup\":\"Bulgaria\",\"locations\":[\"BGR\",\"BGR\"],\"marker\":{\"color\":\"#FFA15A\",\"size\":[213.428,213.428],\"sizemode\":\"area\",\"sizeref\":10.155967500000001,\"symbol\":\"circle\"},\"mode\":\"markers\",\"name\":\"Bulgaria\",\"showlegend\":true,\"type\":\"scattergeo\"},{\"geo\":\"geo\",\"hovertemplate\":\"Country=Hungary<br>year=2012<br>Energy Consumption (TWh)=%{marker.size}<br>iso_code=%{location}<extra></extra>\",\"legendgroup\":\"Hungary\",\"locations\":[\"HUN\",\"HUN\"],\"marker\":{\"color\":\"#19d3f3\",\"size\":[251.116,251.116],\"sizemode\":\"area\",\"sizeref\":10.155967500000001,\"symbol\":\"circle\"},\"mode\":\"markers\",\"name\":\"Hungary\",\"showlegend\":true,\"type\":\"scattergeo\"},{\"geo\":\"geo\",\"hovertemplate\":\"Country=Romania<br>year=2012<br>Energy Consumption (TWh)=%{marker.size}<br>iso_code=%{location}<extra></extra>\",\"legendgroup\":\"Romania\",\"locations\":[\"ROU\",\"ROU\"],\"marker\":{\"color\":\"#FF6692\",\"size\":[393.332,393.332],\"sizemode\":\"area\",\"sizeref\":10.155967500000001,\"symbol\":\"circle\"},\"mode\":\"markers\",\"name\":\"Romania\",\"showlegend\":true,\"type\":\"scattergeo\"}],\"name\":\"2012\"},{\"data\":[{\"geo\":\"geo\",\"hovertemplate\":\"Country=Germany<br>year=2013<br>Energy Consumption (TWh)=%{marker.size}<br>iso_code=%{location}<extra></extra>\",\"legendgroup\":\"Germany\",\"locations\":[\"DEU\",\"DEU\"],\"marker\":{\"color\":\"#EF553B\",\"size\":[3868.517,3868.517],\"sizemode\":\"area\",\"sizeref\":10.155967500000001,\"symbol\":\"circle\"},\"mode\":\"markers\",\"name\":\"Germany\",\"showlegend\":true,\"type\":\"scattergeo\"},{\"geo\":\"geo\",\"hovertemplate\":\"Country=Czechia<br>year=2013<br>Energy Consumption (TWh)=%{marker.size}<br>iso_code=%{location}<extra></extra>\",\"legendgroup\":\"Czechia\",\"locations\":[\"CZE\",\"CZE\"],\"marker\":{\"color\":\"#00cc96\",\"size\":[490.221,490.221],\"sizemode\":\"area\",\"sizeref\":10.155967500000001,\"symbol\":\"circle\"},\"mode\":\"markers\",\"name\":\"Czechia\",\"showlegend\":true,\"type\":\"scattergeo\"},{\"geo\":\"geo\",\"hovertemplate\":\"Country=Spain<br>year=2013<br>Energy Consumption (TWh)=%{marker.size}<br>iso_code=%{location}<extra></extra>\",\"legendgroup\":\"Spain\",\"locations\":[\"ESP\",\"ESP\"],\"marker\":{\"color\":\"#ab63fa\",\"size\":[1578.531,1578.531],\"sizemode\":\"area\",\"sizeref\":10.155967500000001,\"symbol\":\"circle\"},\"mode\":\"markers\",\"name\":\"Spain\",\"showlegend\":true,\"type\":\"scattergeo\"},{\"geo\":\"geo\",\"hovertemplate\":\"Country=Bulgaria<br>year=2013<br>Energy Consumption (TWh)=%{marker.size}<br>iso_code=%{location}<extra></extra>\",\"legendgroup\":\"Bulgaria\",\"locations\":[\"BGR\",\"BGR\"],\"marker\":{\"color\":\"#FFA15A\",\"size\":[198.108,198.108],\"sizemode\":\"area\",\"sizeref\":10.155967500000001,\"symbol\":\"circle\"},\"mode\":\"markers\",\"name\":\"Bulgaria\",\"showlegend\":true,\"type\":\"scattergeo\"},{\"geo\":\"geo\",\"hovertemplate\":\"Country=Hungary<br>year=2013<br>Energy Consumption (TWh)=%{marker.size}<br>iso_code=%{location}<extra></extra>\",\"legendgroup\":\"Hungary\",\"locations\":[\"HUN\",\"HUN\"],\"marker\":{\"color\":\"#19d3f3\",\"size\":[238.041,238.041],\"sizemode\":\"area\",\"sizeref\":10.155967500000001,\"symbol\":\"circle\"},\"mode\":\"markers\",\"name\":\"Hungary\",\"showlegend\":true,\"type\":\"scattergeo\"},{\"geo\":\"geo\",\"hovertemplate\":\"Country=Romania<br>year=2013<br>Energy Consumption (TWh)=%{marker.size}<br>iso_code=%{location}<extra></extra>\",\"legendgroup\":\"Romania\",\"locations\":[\"ROU\",\"ROU\"],\"marker\":{\"color\":\"#FF6692\",\"size\":[369.577,369.577],\"sizemode\":\"area\",\"sizeref\":10.155967500000001,\"symbol\":\"circle\"},\"mode\":\"markers\",\"name\":\"Romania\",\"showlegend\":true,\"type\":\"scattergeo\"}],\"name\":\"2013\"},{\"data\":[{\"geo\":\"geo\",\"hovertemplate\":\"Country=Germany<br>year=2014<br>Energy Consumption (TWh)=%{marker.size}<br>iso_code=%{location}<extra></extra>\",\"legendgroup\":\"Germany\",\"locations\":[\"DEU\",\"DEU\"],\"marker\":{\"color\":\"#EF553B\",\"size\":[3710.465,3710.465],\"sizemode\":\"area\",\"sizeref\":10.155967500000001,\"symbol\":\"circle\"},\"mode\":\"markers\",\"name\":\"Germany\",\"showlegend\":true,\"type\":\"scattergeo\"},{\"geo\":\"geo\",\"hovertemplate\":\"Country=Czechia<br>year=2014<br>Energy Consumption (TWh)=%{marker.size}<br>iso_code=%{location}<extra></extra>\",\"legendgroup\":\"Czechia\",\"locations\":[\"CZE\",\"CZE\"],\"marker\":{\"color\":\"#00cc96\",\"size\":[479.937,479.937],\"sizemode\":\"area\",\"sizeref\":10.155967500000001,\"symbol\":\"circle\"},\"mode\":\"markers\",\"name\":\"Czechia\",\"showlegend\":true,\"type\":\"scattergeo\"},{\"geo\":\"geo\",\"hovertemplate\":\"Country=Spain<br>year=2014<br>Energy Consumption (TWh)=%{marker.size}<br>iso_code=%{location}<extra></extra>\",\"legendgroup\":\"Spain\",\"locations\":[\"ESP\",\"ESP\"],\"marker\":{\"color\":\"#ab63fa\",\"size\":[1554.219,1554.219],\"sizemode\":\"area\",\"sizeref\":10.155967500000001,\"symbol\":\"circle\"},\"mode\":\"markers\",\"name\":\"Spain\",\"showlegend\":true,\"type\":\"scattergeo\"},{\"geo\":\"geo\",\"hovertemplate\":\"Country=Bulgaria<br>year=2014<br>Energy Consumption (TWh)=%{marker.size}<br>iso_code=%{location}<extra></extra>\",\"legendgroup\":\"Bulgaria\",\"locations\":[\"BGR\",\"BGR\"],\"marker\":{\"color\":\"#FFA15A\",\"size\":[211.55,211.55],\"sizemode\":\"area\",\"sizeref\":10.155967500000001,\"symbol\":\"circle\"},\"mode\":\"markers\",\"name\":\"Bulgaria\",\"showlegend\":true,\"type\":\"scattergeo\"},{\"geo\":\"geo\",\"hovertemplate\":\"Country=Hungary<br>year=2014<br>Energy Consumption (TWh)=%{marker.size}<br>iso_code=%{location}<extra></extra>\",\"legendgroup\":\"Hungary\",\"locations\":[\"HUN\",\"HUN\"],\"marker\":{\"color\":\"#19d3f3\",\"size\":[238.269,238.269],\"sizemode\":\"area\",\"sizeref\":10.155967500000001,\"symbol\":\"circle\"},\"mode\":\"markers\",\"name\":\"Hungary\",\"showlegend\":true,\"type\":\"scattergeo\"},{\"geo\":\"geo\",\"hovertemplate\":\"Country=Romania<br>year=2014<br>Energy Consumption (TWh)=%{marker.size}<br>iso_code=%{location}<extra></extra>\",\"legendgroup\":\"Romania\",\"locations\":[\"ROU\",\"ROU\"],\"marker\":{\"color\":\"#FF6692\",\"size\":[379.116,379.116],\"sizemode\":\"area\",\"sizeref\":10.155967500000001,\"symbol\":\"circle\"},\"mode\":\"markers\",\"name\":\"Romania\",\"showlegend\":true,\"type\":\"scattergeo\"},{\"geo\":\"geo\",\"hovertemplate\":\"Country=Slovenia<br>year=2014<br>Energy Consumption (TWh)=%{marker.size}<br>iso_code=%{location}<extra></extra>\",\"legendgroup\":\"Slovenia\",\"locations\":[\"SVN\",\"SVN\"],\"marker\":{\"color\":\"#B6E880\",\"size\":[82.861,82.861],\"sizemode\":\"area\",\"sizeref\":10.155967500000001,\"symbol\":\"circle\"},\"mode\":\"markers\",\"name\":\"Slovenia\",\"showlegend\":true,\"type\":\"scattergeo\"},{\"geo\":\"geo\",\"hovertemplate\":\"Country=Ukraine<br>year=2014<br>Energy Consumption (TWh)=%{marker.size}<br>iso_code=%{location}<extra></extra>\",\"legendgroup\":\"Ukraine\",\"locations\":[\"UKR\",\"UKR\"],\"marker\":{\"color\":\"#FF97FF\",\"size\":[1208.371,1208.371],\"sizemode\":\"area\",\"sizeref\":10.155967500000001,\"symbol\":\"circle\"},\"mode\":\"markers\",\"name\":\"Ukraine\",\"showlegend\":true,\"type\":\"scattergeo\"}],\"name\":\"2014\"},{\"data\":[{\"geo\":\"geo\",\"hovertemplate\":\"Country=Germany<br>year=2015<br>Energy Consumption (TWh)=%{marker.size}<br>iso_code=%{location}<extra></extra>\",\"legendgroup\":\"Germany\",\"locations\":[\"DEU\",\"DEU\"],\"marker\":{\"color\":\"#EF553B\",\"size\":[3780.86,3780.86],\"sizemode\":\"area\",\"sizeref\":10.155967500000001,\"symbol\":\"circle\"},\"mode\":\"markers\",\"name\":\"Germany\",\"showlegend\":true,\"type\":\"scattergeo\"},{\"geo\":\"geo\",\"hovertemplate\":\"Country=Czechia<br>year=2015<br>Energy Consumption (TWh)=%{marker.size}<br>iso_code=%{location}<extra></extra>\",\"legendgroup\":\"Czechia\",\"locations\":[\"CZE\",\"CZE\"],\"marker\":{\"color\":\"#00cc96\",\"size\":[470.716,470.716],\"sizemode\":\"area\",\"sizeref\":10.155967500000001,\"symbol\":\"circle\"},\"mode\":\"markers\",\"name\":\"Czechia\",\"showlegend\":true,\"type\":\"scattergeo\"},{\"geo\":\"geo\",\"hovertemplate\":\"Country=Spain<br>year=2015<br>Energy Consumption (TWh)=%{marker.size}<br>iso_code=%{location}<extra></extra>\",\"legendgroup\":\"Spain\",\"locations\":[\"ESP\",\"ESP\"],\"marker\":{\"color\":\"#ab63fa\",\"size\":[1573.144,1573.144],\"sizemode\":\"area\",\"sizeref\":10.155967500000001,\"symbol\":\"circle\"},\"mode\":\"markers\",\"name\":\"Spain\",\"showlegend\":true,\"type\":\"scattergeo\"},{\"geo\":\"geo\",\"hovertemplate\":\"Country=Bulgaria<br>year=2015<br>Energy Consumption (TWh)=%{marker.size}<br>iso_code=%{location}<extra></extra>\",\"legendgroup\":\"Bulgaria\",\"locations\":[\"BGR\",\"BGR\"],\"marker\":{\"color\":\"#FFA15A\",\"size\":[224.68,224.68],\"sizemode\":\"area\",\"sizeref\":10.155967500000001,\"symbol\":\"circle\"},\"mode\":\"markers\",\"name\":\"Bulgaria\",\"showlegend\":true,\"type\":\"scattergeo\"},{\"geo\":\"geo\",\"hovertemplate\":\"Country=Hungary<br>year=2015<br>Energy Consumption (TWh)=%{marker.size}<br>iso_code=%{location}<extra></extra>\",\"legendgroup\":\"Hungary\",\"locations\":[\"HUN\",\"HUN\"],\"marker\":{\"color\":\"#19d3f3\",\"size\":[251.04,251.04],\"sizemode\":\"area\",\"sizeref\":10.155967500000001,\"symbol\":\"circle\"},\"mode\":\"markers\",\"name\":\"Hungary\",\"showlegend\":true,\"type\":\"scattergeo\"},{\"geo\":\"geo\",\"hovertemplate\":\"Country=Romania<br>year=2015<br>Energy Consumption (TWh)=%{marker.size}<br>iso_code=%{location}<extra></extra>\",\"legendgroup\":\"Romania\",\"locations\":[\"ROU\",\"ROU\"],\"marker\":{\"color\":\"#FF6692\",\"size\":[381.136,381.136],\"sizemode\":\"area\",\"sizeref\":10.155967500000001,\"symbol\":\"circle\"},\"mode\":\"markers\",\"name\":\"Romania\",\"showlegend\":true,\"type\":\"scattergeo\"},{\"geo\":\"geo\",\"hovertemplate\":\"Country=Slovenia<br>year=2015<br>Energy Consumption (TWh)=%{marker.size}<br>iso_code=%{location}<extra></extra>\",\"legendgroup\":\"Slovenia\",\"locations\":[\"SVN\",\"SVN\"],\"marker\":{\"color\":\"#B6E880\",\"size\":[74.716,74.716],\"sizemode\":\"area\",\"sizeref\":10.155967500000001,\"symbol\":\"circle\"},\"mode\":\"markers\",\"name\":\"Slovenia\",\"showlegend\":true,\"type\":\"scattergeo\"},{\"geo\":\"geo\",\"hovertemplate\":\"Country=Ukraine<br>year=2015<br>Energy Consumption (TWh)=%{marker.size}<br>iso_code=%{location}<extra></extra>\",\"legendgroup\":\"Ukraine\",\"locations\":[\"UKR\",\"UKR\"],\"marker\":{\"color\":\"#FF97FF\",\"size\":[1003.408,1003.408],\"sizemode\":\"area\",\"sizeref\":10.155967500000001,\"symbol\":\"circle\"},\"mode\":\"markers\",\"name\":\"Ukraine\",\"showlegend\":true,\"type\":\"scattergeo\"}],\"name\":\"2015\"},{\"data\":[{\"geo\":\"geo\",\"hovertemplate\":\"Country=Germany<br>year=2016<br>Energy Consumption (TWh)=%{marker.size}<br>iso_code=%{location}<extra></extra>\",\"legendgroup\":\"Germany\",\"locations\":[\"DEU\",\"DEU\"],\"marker\":{\"color\":\"#EF553B\",\"size\":[3841.451,3841.451],\"sizemode\":\"area\",\"sizeref\":10.155967500000001,\"symbol\":\"circle\"},\"mode\":\"markers\",\"name\":\"Germany\",\"showlegend\":true,\"type\":\"scattergeo\"},{\"geo\":\"geo\",\"hovertemplate\":\"Country=Czechia<br>year=2016<br>Energy Consumption (TWh)=%{marker.size}<br>iso_code=%{location}<extra></extra>\",\"legendgroup\":\"Czechia\",\"locations\":[\"CZE\",\"CZE\"],\"marker\":{\"color\":\"#00cc96\",\"size\":[464.374,464.374],\"sizemode\":\"area\",\"sizeref\":10.155967500000001,\"symbol\":\"circle\"},\"mode\":\"markers\",\"name\":\"Czechia\",\"showlegend\":true,\"type\":\"scattergeo\"},{\"geo\":\"geo\",\"hovertemplate\":\"Country=Spain<br>year=2016<br>Energy Consumption (TWh)=%{marker.size}<br>iso_code=%{location}<extra></extra>\",\"legendgroup\":\"Spain\",\"locations\":[\"ESP\",\"ESP\"],\"marker\":{\"color\":\"#ab63fa\",\"size\":[1582.913,1582.913],\"sizemode\":\"area\",\"sizeref\":10.155967500000001,\"symbol\":\"circle\"},\"mode\":\"markers\",\"name\":\"Spain\",\"showlegend\":true,\"type\":\"scattergeo\"},{\"geo\":\"geo\",\"hovertemplate\":\"Country=Bulgaria<br>year=2016<br>Energy Consumption (TWh)=%{marker.size}<br>iso_code=%{location}<extra></extra>\",\"legendgroup\":\"Bulgaria\",\"locations\":[\"BGR\",\"BGR\"],\"marker\":{\"color\":\"#FFA15A\",\"size\":[213.117,213.117],\"sizemode\":\"area\",\"sizeref\":10.155967500000001,\"symbol\":\"circle\"},\"mode\":\"markers\",\"name\":\"Bulgaria\",\"showlegend\":true,\"type\":\"scattergeo\"},{\"geo\":\"geo\",\"hovertemplate\":\"Country=Hungary<br>year=2016<br>Energy Consumption (TWh)=%{marker.size}<br>iso_code=%{location}<extra></extra>\",\"legendgroup\":\"Hungary\",\"locations\":[\"HUN\",\"HUN\"],\"marker\":{\"color\":\"#19d3f3\",\"size\":[255.495,255.495],\"sizemode\":\"area\",\"sizeref\":10.155967500000001,\"symbol\":\"circle\"},\"mode\":\"markers\",\"name\":\"Hungary\",\"showlegend\":true,\"type\":\"scattergeo\"},{\"geo\":\"geo\",\"hovertemplate\":\"Country=Romania<br>year=2016<br>Energy Consumption (TWh)=%{marker.size}<br>iso_code=%{location}<extra></extra>\",\"legendgroup\":\"Romania\",\"locations\":[\"ROU\",\"ROU\"],\"marker\":{\"color\":\"#FF6692\",\"size\":[381.085,381.085],\"sizemode\":\"area\",\"sizeref\":10.155967500000001,\"symbol\":\"circle\"},\"mode\":\"markers\",\"name\":\"Romania\",\"showlegend\":true,\"type\":\"scattergeo\"},{\"geo\":\"geo\",\"hovertemplate\":\"Country=Slovenia<br>year=2016<br>Energy Consumption (TWh)=%{marker.size}<br>iso_code=%{location}<extra></extra>\",\"legendgroup\":\"Slovenia\",\"locations\":[\"SVN\",\"SVN\"],\"marker\":{\"color\":\"#B6E880\",\"size\":[79.858,79.858],\"sizemode\":\"area\",\"sizeref\":10.155967500000001,\"symbol\":\"circle\"},\"mode\":\"markers\",\"name\":\"Slovenia\",\"showlegend\":true,\"type\":\"scattergeo\"},{\"geo\":\"geo\",\"hovertemplate\":\"Country=Ukraine<br>year=2016<br>Energy Consumption (TWh)=%{marker.size}<br>iso_code=%{location}<extra></extra>\",\"legendgroup\":\"Ukraine\",\"locations\":[\"UKR\",\"UKR\"],\"marker\":{\"color\":\"#FF97FF\",\"size\":[1049.995,1049.995],\"sizemode\":\"area\",\"sizeref\":10.155967500000001,\"symbol\":\"circle\"},\"mode\":\"markers\",\"name\":\"Ukraine\",\"showlegend\":true,\"type\":\"scattergeo\"}],\"name\":\"2016\"},{\"data\":[{\"geo\":\"geo\",\"hovertemplate\":\"Country=Romania<br>year=2017<br>Energy Consumption (TWh)=%{marker.size}<br>iso_code=%{location}<extra></extra>\",\"legendgroup\":\"Romania\",\"locations\":[\"ROU\",\"ROU\"],\"marker\":{\"color\":\"#FF6692\",\"size\":[387.936,387.936],\"sizemode\":\"area\",\"sizeref\":10.155967500000001,\"symbol\":\"circle\"},\"mode\":\"markers\",\"name\":\"Romania\",\"showlegend\":true,\"type\":\"scattergeo\"}],\"name\":\"2017\"},{\"data\":[{\"geo\":\"geo\",\"hovertemplate\":\"Country=Romania<br>year=2018<br>Energy Consumption (TWh)=%{marker.size}<br>iso_code=%{location}<extra></extra>\",\"legendgroup\":\"Romania\",\"locations\":[\"ROU\",\"ROU\"],\"marker\":{\"color\":\"#FF6692\",\"size\":[392.051,392.051],\"sizemode\":\"area\",\"sizeref\":10.155967500000001,\"symbol\":\"circle\"},\"mode\":\"markers\",\"name\":\"Romania\",\"showlegend\":true,\"type\":\"scattergeo\"}],\"name\":\"2018\"},{\"data\":[{\"geo\":\"geo\",\"hovertemplate\":\"Country=Romania<br>year=2019<br>Energy Consumption (TWh)=%{marker.size}<br>iso_code=%{location}<extra></extra>\",\"legendgroup\":\"Romania\",\"locations\":[\"ROU\",\"ROU\"],\"marker\":{\"color\":\"#FF6692\",\"size\":[383.818,383.818],\"sizemode\":\"area\",\"sizeref\":10.155967500000001,\"symbol\":\"circle\"},\"mode\":\"markers\",\"name\":\"Romania\",\"showlegend\":true,\"type\":\"scattergeo\"}],\"name\":\"2019\"},{\"data\":[{\"geo\":\"geo\",\"hovertemplate\":\"Country=Romania<br>year=2020<br>Energy Consumption (TWh)=%{marker.size}<br>iso_code=%{location}<extra></extra>\",\"legendgroup\":\"Romania\",\"locations\":[\"ROU\",\"ROU\"],\"marker\":{\"color\":\"#FF6692\",\"size\":[369.489,369.489],\"sizemode\":\"area\",\"sizeref\":10.155967500000001,\"symbol\":\"circle\"},\"mode\":\"markers\",\"name\":\"Romania\",\"showlegend\":true,\"type\":\"scattergeo\"}],\"name\":\"2020\"},{\"data\":[{\"geo\":\"geo\",\"hovertemplate\":\"Country=Romania<br>year=2021<br>Energy Consumption (TWh)=%{marker.size}<br>iso_code=%{location}<extra></extra>\",\"legendgroup\":\"Romania\",\"locations\":[\"ROU\",\"ROU\"],\"marker\":{\"color\":\"#FF6692\",\"size\":[390.003,390.003],\"sizemode\":\"area\",\"sizeref\":10.155967500000001,\"symbol\":\"circle\"},\"mode\":\"markers\",\"name\":\"Romania\",\"showlegend\":true,\"type\":\"scattergeo\"}],\"name\":\"2021\"}]);\n",
       "                        }).then(function(){\n",
       "                            \n",
       "var gd = document.getElementById('c1bc3013-9386-4a96-b298-39e9520575d1');\n",
       "var x = new MutationObserver(function (mutations, observer) {{\n",
       "        var display = window.getComputedStyle(gd).display;\n",
       "        if (!display || display === 'none') {{\n",
       "            console.log([gd, 'removed!']);\n",
       "            Plotly.purge(gd);\n",
       "            observer.disconnect();\n",
       "        }}\n",
       "}});\n",
       "\n",
       "// Listen for the removal of the full notebook cells\n",
       "var notebookContainer = gd.closest('#notebook-container');\n",
       "if (notebookContainer) {{\n",
       "    x.observe(notebookContainer, {childList: true});\n",
       "}}\n",
       "\n",
       "// Listen for the clearing of the current output cell\n",
       "var outputEl = gd.closest('.output');\n",
       "if (outputEl) {{\n",
       "    x.observe(outputEl, {childList: true});\n",
       "}}\n",
       "\n",
       "                        })                };                });            </script>        </div>"
      ]
     },
     "metadata": {},
     "output_type": "display_data"
    }
   ],
   "source": [
    "# Geo Bubble Animation: Global Energy Consumption\n",
    "\n",
    "fig = px.scatter_geo(\n",
    "    df,\n",
    "    locations='iso_code',  # Country ISO codes\n",
    "    color='country',  # Color by country\n",
    "    size='primary_energy_consumption',  # Bubble size for energy consumption\n",
    "    animation_frame='year',  # Animation over years\n",
    "    title='Global Energy Consumption Over Time',\n",
    "    labels={'primary_energy_consumption': 'Energy Consumption (TWh)', 'country': 'Country'},\n",
    "    projection='natural earth'  # World map projection\n",
    ")\n",
    "\n",
    "fig.update_layout(\n",
    "    template='plotly_white',\n",
    "    legend_title=\"Country\"\n",
    ")\n",
    "\n",
    "fig.show()\n"
   ]
  },
  {
   "cell_type": "code",
   "execution_count": null,
   "id": "cc412621",
   "metadata": {},
   "outputs": [],
   "source": []
  }
 ],
 "metadata": {
  "kernelspec": {
   "display_name": "Python 3 (ipykernel)",
   "language": "python",
   "name": "python3"
  },
  "language_info": {
   "codemirror_mode": {
    "name": "ipython",
    "version": 3
   },
   "file_extension": ".py",
   "mimetype": "text/x-python",
   "name": "python",
   "nbconvert_exporter": "python",
   "pygments_lexer": "ipython3",
   "version": "3.9.13"
  }
 },
 "nbformat": 4,
 "nbformat_minor": 5
}
